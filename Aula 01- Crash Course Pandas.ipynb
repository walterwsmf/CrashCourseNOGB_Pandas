{
 "cells": [
  {
   "cell_type": "markdown",
   "metadata": {},
   "source": [
    "# Aula 01 Crash Course Pandas\n",
    "\n",
    "## Objetivo:\n",
    "\n",
    "Objetivo desta aula é apresentação do Jupyter Notebook/Lab como ferramenta de análise, Pandas, página do pacote e da documentação, além de breve apresentação do Markdown.\n",
    "\n",
    "## Roteiro da aula:\n",
    "\n",
    "- Introdução ao Jupyter\n",
    "\n",
    "    - Anaconda-Navigator e como acessar Jupyter de forma gráfica\n",
    "    \n",
    "    - Jupyter Notebook ou Lab: diferenças\n",
    "    \n",
    "    - O que é um Notebook Jupyter\n",
    "    \n",
    "    - Markdown e Anotações Textuais em um notebook\n",
    "    \n",
    "- Nivelamento:\n",
    "    \n",
    "    - Tipos de Variáveis\n",
    "        \n",
    "    - Numpy: biblioteca numérica para álgebra linear\n",
    "        \n",
    "    - Funções em Python\n",
    "        \n",
    "- Relação entre Numpy e Pandas\n",
    "    \n",
    "- Importação dos Dados\n",
    "    \n",
    "    - DataFrame: Estrutura de tabela\n",
    "    \n",
    "    - Numpy e Dicionários para dentro de um DataFrame\n",
    "        \n",
    "    - Tipos de Arquivos:\n",
    "        \n",
    "        - CSV, EXCEL, HDF5, PICKLE, etc\n",
    "        \n",
    "    - Exportação de DataFrames\n",
    "\n",
    "## Referências\n",
    "\n",
    "- [Extensões do Jupyter: artigo no Medium](https://medium.com/@seymatas/5-jupyter-notebook-extensions-for-a-fully-organized-data-science-project-d764195f91be)\n",
    "\n",
    "- [Instalando extensões do jupyter e possíveis erros - slackoverflow](https://stackoverflow.com/questions/37718907/variable-explorer-in-jupyter-notebook)\n",
    "\n",
    "- [Pandas](https://pandas.pydata.org/)\n",
    "\n",
    "- [Introdução em 10 minutos do Pandas](https://pandas.pydata.org/pandas-docs/stable/user_guide/10min.html)\n",
    "\n",
    "- [Documentação Pandas: Guia do usuário](https://pandas.pydata.org/docs/user_guide/index.html#user-guide)\n",
    "\n",
    "- [GitHub Cheat Sheet Markdown](https://github.com/adam-p/markdown-here/wiki/Markdown-Here-Cheatsheet)\n",
    "\n",
    "- [Numpy](https://numpy.org/)\n",
    "\n",
    "- [Kaggle Titanic Data](https://www.kaggle.com/c/titanic/data)\n",
    "\n",
    "## Contato:\n",
    "\n",
    "- E-mails:\n",
    "\n",
    "    - walter@on.br\n",
    " \n",
    "    - walter@neuralmed.ai\n",
    " \n",
    "    - walterwsmf@outlook.com\n",
    " \n",
    "- Redes Sociais:\n",
    "\n",
    "    - [LinkedIn](https://www.linkedin.com/in/walterwsmf/)\n",
    "\n",
    "    - [Twitter](https://twitter.com/walterwsmf)"
   ]
  },
  {
   "cell_type": "markdown",
   "metadata": {},
   "source": [
    "# Introdução ao Jupyter\n",
    "\n",
    "- Anaconda Navigator é um aplicativo gráfico que permite iniciar Jupyter Notebook ou Lab, o Spyter ou outra ferramenta que o Anaconda se integra totalmente.\n",
    "\n",
    "- Em si, Notebook ou Lab apresentam a mesma interface para código e markdown, contudo, a duferença esta na interação com usuário. Neste caso, lab possui mais opções e tende a ser preferência atual.\n",
    "\n",
    "- O Jupyter Lab acho interessante quando se trabalha com servidor remoto (serviço de nuvem) ou servidor privado (como por exemplo servidor do instituto acadêmico, caso o tenha)\n",
    "\n",
    "    - Uma vantagem direta é a trasnferência de arquivos entre computador local e o servidor.\n",
    "\n",
    "- Jupyter possui diversas abas:\n",
    "\n",
    "    - Files: Importação de notebooks, duplicar o notebook atual, exportar (py, ipynb, pdf, html, tex, md, e etc), reverter o código em ponto salvo do código anteriormente.\n",
    "    \n",
    "    - Edit: edição das células que compõem o Jupyter, como duplicar, cortar, copiar, mover, dividir etc.\n",
    "    \n",
    "    - View: inclução de funcionalidade de visualização do código, como número das linhas \n",
    "    \n",
    "    - Insert: incluir célula acima ou abaixo da atual\n",
    "    \n",
    "    - Cell: gerenciamento da ação da célula (rodar, rodar tudo acima, rodar tudo abaixo, etc) e tipo (código, markdown e raw nb convert)\n",
    "    \n",
    "    - Kernel: o ambiente Python que você está usando. Se simplesmente instalou uma versão anaconda, o ambiente é **base(root)**. Você pode parar de processar Python, ou reiniciar o interpretador novamente. \n",
    "    \n",
    "    - Widgets: Funcionalidades adicionais customizadas.\n",
    "    \n",
    "    - Help: aqui você pode encontrar links para documentação, incluindo a de pandas, a lista de atalhos para funcionalidades do Jupyter e a descrição **Sobre** relativa ao Jupyter.\n",
    "    \n",
    "    \n",
    "- Extensões podem ser inclusas, e comandos de terminal (bash/windows power shell) podem ser executadas usando o símbolo de exclamação antes do comando na célula do notebook:"
   ]
  },
  {
   "cell_type": "code",
   "execution_count": 1,
   "metadata": {},
   "outputs": [],
   "source": [
    "#! pip install jupyter_contrib_nbextensions"
   ]
  },
  {
   "cell_type": "code",
   "execution_count": 2,
   "metadata": {},
   "outputs": [
    {
     "name": "stdout",
     "output_type": "stream",
     "text": [
      "total 1720\n",
      "   0 drwxr-xr-x  10 walter  staff   320B Sep 28 10:38 \u001b[34m.\u001b[m\u001b[m/\n",
      "   0 drwx------@ 33 walter  staff   1.0K Sep 27 22:38 \u001b[34m..\u001b[m\u001b[m/\n",
      "  16 -rw-r--r--@  1 walter  staff   6.0K Sep 27 23:03 .DS_Store\n",
      "   0 drwxr-xr-x   4 walter  staff   128B Sep 28 10:21 \u001b[34m.ipynb_checkpoints\u001b[m\u001b[m/\n",
      " 440 -rw-r--r--@  1 walter  staff   217K Sep 27 18:31 2020-Anaconda-Updated-AE-Datasheet_June2020.pdf\n",
      "1056 -rw-r--r--@  1 walter  staff   526K Sep 28 10:38 Aula 01- Crash Course Pandas.ipynb\n",
      "   8 -rw-r--r--   1 walter  staff   1.6K Sep 28 10:29 Untitled.ipynb\n",
      "   0 drwxr-xr-x@  5 walter  staff   160B Sep 27 22:39 \u001b[34mtitanic\u001b[m\u001b[m/\n",
      " 128 -rw-r--r--@  1 walter  staff    64K Sep 28 00:14 titanic.csv\n",
      "  72 -rw-r--r--@  1 walter  staff    34K Sep 27 22:38 titanic.zip\n"
     ]
    }
   ],
   "source": [
    "ls -hlas"
   ]
  },
  {
   "cell_type": "markdown",
   "metadata": {},
   "source": [
    "# Nivelamento\n",
    "\n",
    "## Importação de pacotes\n",
    "\n",
    "A importação de pacotes em python funciona de forma simples, conhecendo-se o nome do pacote e usando o comando \n",
    "\n",
    "```python\n",
    "import nome_do_pacote\n",
    "import script_na_mesma_pasta\n",
    "```\n",
    "\n",
    "\n",
    "O uso de funções previamente criadas e salvas em script python (*.py*) pode ser trazida a um novo script ou a um jupyter notebook de forma semelhante a importação de pacote convencional."
   ]
  },
  {
   "cell_type": "code",
   "execution_count": 3,
   "metadata": {},
   "outputs": [
    {
     "name": "stdout",
     "output_type": "stream",
     "text": [
      "CPU times: user 718 ms, sys: 259 ms, total: 977 ms\n",
      "Wall time: 2.97 s\n"
     ]
    }
   ],
   "source": [
    "%%time \n",
    "\n",
    "import matplotlib.pyplot as plt\n",
    "import numpy as np\n",
    "import pandas as pd"
   ]
  },
  {
   "cell_type": "markdown",
   "metadata": {},
   "source": [
    "Itens de código com *%* são denominados **magic**. Eles permitem ativar algumas funcionalidades como calcular tempo de processamento dentro de uma célula:\n",
    "\n",
    "```python\n",
    "%%time\n",
    "```\n"
   ]
  },
  {
   "cell_type": "markdown",
   "metadata": {},
   "source": [
    "### Lembrando variáveis"
   ]
  },
  {
   "cell_type": "code",
   "execution_count": 4,
   "metadata": {},
   "outputs": [
    {
     "name": "stdout",
     "output_type": "stream",
     "text": [
      "1 <class 'int'>\n"
     ]
    }
   ],
   "source": [
    "x = 1\n",
    "print(x,type(x))"
   ]
  },
  {
   "cell_type": "code",
   "execution_count": 5,
   "metadata": {},
   "outputs": [
    {
     "data": {
      "text/plain": [
       "(1, int)"
      ]
     },
     "execution_count": 5,
     "metadata": {},
     "output_type": "execute_result"
    }
   ],
   "source": [
    "x = 1\n",
    "\n",
    "x,type(x)"
   ]
  },
  {
   "cell_type": "markdown",
   "metadata": {},
   "source": [
    "Podemos perceber que a saída em ambos os casos é diferente. No primeiro, o print é formalmente executado, enquanto no segundo, nós usamos como se fossemos visualizar no terminal diretamente com IPython. No segundo caso, a saída é combinada como tuple e possui a resposta **Out[n]** da célula.\n",
    "\n",
    "Números podem ser float, int, list, bool, etc. Isso é bom conhecer porque o pandas, como uma biblioteca a analisar dados as vezes precisar ser informada do tipo de variável que se esta trabalhando.\n",
    "\n",
    "Listas e Dicionarios são outras estrturas de dados:"
   ]
  },
  {
   "cell_type": "code",
   "execution_count": 7,
   "metadata": {},
   "outputs": [
    {
     "data": {
      "text/plain": [
       "(['Rio de Janeiro', 'São Paulo', 'Minas Gerais', 'Espírito Santo'], list)"
      ]
     },
     "execution_count": 7,
     "metadata": {},
     "output_type": "execute_result"
    }
   ],
   "source": [
    "sudeste = [\"Rio de Janeiro\", \"São Paulo\", \"Minas Gerais\", \"Espírito Santo\"]\n",
    "\n",
    "sudeste, type(sudeste)"
   ]
  },
  {
   "cell_type": "code",
   "execution_count": 10,
   "metadata": {},
   "outputs": [
    {
     "name": "stdout",
     "output_type": "stream",
     "text": [
      "Yes\n"
     ]
    }
   ],
   "source": [
    "if isinstance(sudeste,list):\n",
    "    print('Yes')"
   ]
  },
  {
   "cell_type": "code",
   "execution_count": 6,
   "metadata": {},
   "outputs": [
    {
     "data": {
      "text/plain": [
       "{0, 1, 2}"
      ]
     },
     "execution_count": 6,
     "metadata": {},
     "output_type": "execute_result"
    }
   ],
   "source": [
    "set([0,1,2,1]) #conjuntos"
   ]
  },
  {
   "cell_type": "code",
   "execution_count": 11,
   "metadata": {},
   "outputs": [
    {
     "data": {
      "text/plain": [
       "({'estados': ['Rio de Janeiro', 'São Paulo', 'Minas Gerais', 'Espírito Santo'],\n",
       "  'siglas': ['RJ', 'SP', 'MG', 'ES']},\n",
       " dict)"
      ]
     },
     "execution_count": 11,
     "metadata": {},
     "output_type": "execute_result"
    }
   ],
   "source": [
    "sudeste = {\n",
    "    \"estados\": [\"Rio de Janeiro\", \"São Paulo\", \"Minas Gerais\", \"Espírito Santo\"],\n",
    "    \"siglas\": [\"RJ\", \"SP\",\"MG\",\"ES\"],\n",
    "}\n",
    "sudeste, type(sudeste)"
   ]
  },
  {
   "cell_type": "code",
   "execution_count": 12,
   "metadata": {},
   "outputs": [
    {
     "data": {
      "text/plain": [
       "dict_keys(['estados', 'siglas'])"
      ]
     },
     "execution_count": 12,
     "metadata": {},
     "output_type": "execute_result"
    }
   ],
   "source": [
    "sudeste.keys()"
   ]
  },
  {
   "cell_type": "code",
   "execution_count": 13,
   "metadata": {},
   "outputs": [
    {
     "data": {
      "text/plain": [
       "['Rio de Janeiro', 'São Paulo', 'Minas Gerais', 'Espírito Santo']"
      ]
     },
     "execution_count": 13,
     "metadata": {},
     "output_type": "execute_result"
    }
   ],
   "source": [
    "sudeste['estados']"
   ]
  },
  {
   "cell_type": "markdown",
   "metadata": {},
   "source": [
    "Dicionários em si são grupos de dados organizadas que não necessariamente possuem a mesma quantidade de elementos ou tipos:"
   ]
  },
  {
   "cell_type": "code",
   "execution_count": 14,
   "metadata": {},
   "outputs": [
    {
     "data": {
      "text/plain": [
       "({'estados': ['Rio de Janeiro', 'São Paulo', 'Minas Gerais', 'Espírito Santo'],\n",
       "  'siglas': ['RJ', 'SP', 'MG', 'ES'],\n",
       "  'pais': 'Brasil',\n",
       "  'quantidade': 4},\n",
       " dict)"
      ]
     },
     "execution_count": 14,
     "metadata": {},
     "output_type": "execute_result"
    }
   ],
   "source": [
    "sudeste = {\n",
    "    \"estados\": [\"Rio de Janeiro\", \"São Paulo\", \"Minas Gerais\", \"Espírito Santo\"],\n",
    "    \"siglas\": [\"RJ\", \"SP\",\"MG\",\"ES\"],\n",
    "    \"pais\": \"Brasil\",\n",
    "    \"quantidade\": 4,\n",
    "}\n",
    "sudeste, type(sudeste)"
   ]
  },
  {
   "cell_type": "markdown",
   "metadata": {},
   "source": [
    "Podemos visualizar o **HELP** de funções e pacotes dentro da própria célular:"
   ]
  },
  {
   "cell_type": "code",
   "execution_count": 15,
   "metadata": {
    "scrolled": true
   },
   "outputs": [
    {
     "name": "stdout",
     "output_type": "stream",
     "text": [
      "Help on built-in function array in module numpy:\n",
      "\n",
      "array(...)\n",
      "    array(object, dtype=None, copy=True, order='K', subok=False, ndmin=0)\n",
      "    \n",
      "    Create an array.\n",
      "    \n",
      "    Parameters\n",
      "    ----------\n",
      "    object : array_like\n",
      "        An array, any object exposing the array interface, an object whose\n",
      "        __array__ method returns an array, or any (nested) sequence.\n",
      "    dtype : data-type, optional\n",
      "        The desired data-type for the array.  If not given, then the type will\n",
      "        be determined as the minimum type required to hold the objects in the\n",
      "        sequence.\n",
      "    copy : bool, optional\n",
      "        If true (default), then the object is copied.  Otherwise, a copy will\n",
      "        only be made if __array__ returns a copy, if obj is a nested sequence,\n",
      "        or if a copy is needed to satisfy any of the other requirements\n",
      "        (`dtype`, `order`, etc.).\n",
      "    order : {'K', 'A', 'C', 'F'}, optional\n",
      "        Specify the memory layout of the array. If object is not an array, the\n",
      "        newly created array will be in C order (row major) unless 'F' is\n",
      "        specified, in which case it will be in Fortran order (column major).\n",
      "        If object is an array the following holds.\n",
      "    \n",
      "        ===== ========= ===================================================\n",
      "        order  no copy                     copy=True\n",
      "        ===== ========= ===================================================\n",
      "        'K'   unchanged F & C order preserved, otherwise most similar order\n",
      "        'A'   unchanged F order if input is F and not C, otherwise C order\n",
      "        'C'   C order   C order\n",
      "        'F'   F order   F order\n",
      "        ===== ========= ===================================================\n",
      "    \n",
      "        When ``copy=False`` and a copy is made for other reasons, the result is\n",
      "        the same as if ``copy=True``, with some exceptions for `A`, see the\n",
      "        Notes section. The default order is 'K'.\n",
      "    subok : bool, optional\n",
      "        If True, then sub-classes will be passed-through, otherwise\n",
      "        the returned array will be forced to be a base-class array (default).\n",
      "    ndmin : int, optional\n",
      "        Specifies the minimum number of dimensions that the resulting\n",
      "        array should have.  Ones will be pre-pended to the shape as\n",
      "        needed to meet this requirement.\n",
      "    \n",
      "    Returns\n",
      "    -------\n",
      "    out : ndarray\n",
      "        An array object satisfying the specified requirements.\n",
      "    \n",
      "    See Also\n",
      "    --------\n",
      "    empty_like : Return an empty array with shape and type of input.\n",
      "    ones_like : Return an array of ones with shape and type of input.\n",
      "    zeros_like : Return an array of zeros with shape and type of input.\n",
      "    full_like : Return a new array with shape of input filled with value.\n",
      "    empty : Return a new uninitialized array.\n",
      "    ones : Return a new array setting values to one.\n",
      "    zeros : Return a new array setting values to zero.\n",
      "    full : Return a new array of given shape filled with value.\n",
      "    \n",
      "    \n",
      "    Notes\n",
      "    -----\n",
      "    When order is 'A' and `object` is an array in neither 'C' nor 'F' order,\n",
      "    and a copy is forced by a change in dtype, then the order of the result is\n",
      "    not necessarily 'C' as expected. This is likely a bug.\n",
      "    \n",
      "    Examples\n",
      "    --------\n",
      "    >>> np.array([1, 2, 3])\n",
      "    array([1, 2, 3])\n",
      "    \n",
      "    Upcasting:\n",
      "    \n",
      "    >>> np.array([1, 2, 3.0])\n",
      "    array([ 1.,  2.,  3.])\n",
      "    \n",
      "    More than one dimension:\n",
      "    \n",
      "    >>> np.array([[1, 2], [3, 4]])\n",
      "    array([[1, 2],\n",
      "           [3, 4]])\n",
      "    \n",
      "    Minimum dimensions 2:\n",
      "    \n",
      "    >>> np.array([1, 2, 3], ndmin=2)\n",
      "    array([[1, 2, 3]])\n",
      "    \n",
      "    Type provided:\n",
      "    \n",
      "    >>> np.array([1, 2, 3], dtype=complex)\n",
      "    array([ 1.+0.j,  2.+0.j,  3.+0.j])\n",
      "    \n",
      "    Data-type consisting of more than one element:\n",
      "    \n",
      "    >>> x = np.array([(1,2),(3,4)],dtype=[('a','<i4'),('b','<i4')])\n",
      "    >>> x['a']\n",
      "    array([1, 3])\n",
      "    \n",
      "    Creating an array from sub-classes:\n",
      "    \n",
      "    >>> np.array(np.mat('1 2; 3 4'))\n",
      "    array([[1, 2],\n",
      "           [3, 4]])\n",
      "    \n",
      "    >>> np.array(np.mat('1 2; 3 4'), subok=True)\n",
      "    matrix([[1, 2],\n",
      "            [3, 4]])\n",
      "\n"
     ]
    }
   ],
   "source": [
    "help(np.array)"
   ]
  },
  {
   "cell_type": "markdown",
   "metadata": {},
   "source": [
    "**array** é outro tipo de dado, e a base da biblioteca Numpy. Na prática, podemos criar novas estrturas de dados deste que se defina uma classe que o descreva. "
   ]
  },
  {
   "cell_type": "code",
   "execution_count": 17,
   "metadata": {},
   "outputs": [],
   "source": [
    "x = [0.0, 0.2, 0.4, 0.6, 0.8, 1.0, 1.2, 1.4, 1.6, 1.8, 2.0]"
   ]
  },
  {
   "cell_type": "code",
   "execution_count": 18,
   "metadata": {},
   "outputs": [
    {
     "data": {
      "text/plain": [
       "[0.0, 0.4, 0.8, 1.2, 1.6, 2.0, 2.4, 2.8, 3.2, 3.6, 4.0]"
      ]
     },
     "execution_count": 18,
     "metadata": {},
     "output_type": "execute_result"
    }
   ],
   "source": [
    "[2*item for item in x]"
   ]
  },
  {
   "cell_type": "code",
   "execution_count": 19,
   "metadata": {},
   "outputs": [
    {
     "data": {
      "text/plain": [
       "(array([0. , 0.2, 0.4, 0.6, 0.8, 1. , 1.2, 1.4, 1.6, 1.8, 2. ]), numpy.ndarray)"
      ]
     },
     "execution_count": 19,
     "metadata": {},
     "output_type": "execute_result"
    }
   ],
   "source": [
    "x = np.array([0.0, 0.2, 0.4, 0.6, 0.8, 1.0, 1.2, 1.4, 1.6, 1.8, 2.0])\n",
    "x, type(x)"
   ]
  },
  {
   "cell_type": "code",
   "execution_count": 20,
   "metadata": {},
   "outputs": [
    {
     "data": {
      "text/plain": [
       "dtype('float64')"
      ]
     },
     "execution_count": 20,
     "metadata": {},
     "output_type": "execute_result"
    }
   ],
   "source": [
    "x.dtype"
   ]
  },
  {
   "cell_type": "code",
   "execution_count": 21,
   "metadata": {},
   "outputs": [
    {
     "data": {
      "text/plain": [
       "array([[   2. ,    3. ,    1. ],\n",
       "       [   5.6,    7. ,    8.1],\n",
       "       [   9. , 1000. ,    1. ]])"
      ]
     },
     "execution_count": 21,
     "metadata": {},
     "output_type": "execute_result"
    }
   ],
   "source": [
    "# podemos montar matrizes\n",
    "x = np.array([[2,3,1],[5.6,7,8.1],[9,1000,1]])\n",
    "x"
   ]
  },
  {
   "cell_type": "code",
   "execution_count": 25,
   "metadata": {},
   "outputs": [
    {
     "data": {
      "text/plain": [
       "(3, 3)"
      ]
     },
     "execution_count": 25,
     "metadata": {},
     "output_type": "execute_result"
    }
   ],
   "source": [
    "# e visualizar suas dimensões\n",
    "x.shape"
   ]
  },
  {
   "cell_type": "code",
   "execution_count": 26,
   "metadata": {},
   "outputs": [
    {
     "data": {
      "text/plain": [
       "array([[   2. ,    5.6,    9. ],\n",
       "       [   3. ,    7. , 1000. ],\n",
       "       [   1. ,    8.1,    1. ]])"
      ]
     },
     "execution_count": 26,
     "metadata": {},
     "output_type": "execute_result"
    }
   ],
   "source": [
    "# por ser baseda em álgebra linear, podemos aplicar relações como trasposição\n",
    "x.T"
   ]
  },
  {
   "cell_type": "code",
   "execution_count": 27,
   "metadata": {},
   "outputs": [
    {
     "data": {
      "text/plain": [
       "array([[   4. ,    5. ,    3. ],\n",
       "       [   7.6,    9. ,   10.1],\n",
       "       [  11. , 1002. ,    3. ]])"
      ]
     },
     "execution_count": 27,
     "metadata": {},
     "output_type": "execute_result"
    }
   ],
   "source": [
    "x+2"
   ]
  },
  {
   "cell_type": "code",
   "execution_count": 28,
   "metadata": {},
   "outputs": [
    {
     "data": {
      "text/plain": [
       "array([[   4. ,    6. ,    2. ],\n",
       "       [  11.2,   14. ,   16.2],\n",
       "       [  18. , 2000. ,    2. ]])"
      ]
     },
     "execution_count": 28,
     "metadata": {},
     "output_type": "execute_result"
    }
   ],
   "source": [
    "2*x"
   ]
  },
  {
   "cell_type": "code",
   "execution_count": 29,
   "metadata": {},
   "outputs": [
    {
     "data": {
      "text/plain": [
       "array([[  1.  ,   1.5 ,   0.5 ],\n",
       "       [  2.8 ,   3.5 ,   4.05],\n",
       "       [  4.5 , 500.  ,   0.5 ]])"
      ]
     },
     "execution_count": 29,
     "metadata": {},
     "output_type": "execute_result"
    }
   ],
   "source": [
    "x/2"
   ]
  },
  {
   "cell_type": "markdown",
   "metadata": {},
   "source": [
    "### Com Numpy podemos aplicar relações como produto interno ou escalar e produto externo ou vetorial:\n",
    "\n",
    "- Produto Interno:\n",
    "\n",
    "\\begin{equation*}\n",
    "v * w = v^{T} w = \\sum_{i}^{N} v_{i}w_{i}\n",
    "\\end{equation*}\n",
    "\n",
    "- Produto externo ou vetorial\n",
    "\n",
    "\\begin{equation*}\n",
    "\\mathbf{V}_1 \\times \\mathbf{V}_2 =  \\begin{vmatrix}\n",
    "\\mathbf{i} & \\mathbf{j} & \\mathbf{k} \\\\\n",
    "V_{1,x} &  V_{1,x} & V_{1,z} \\\\\n",
    "V_{2,x} &  V_{2,y} & V_{2,z}\n",
    "\\end{vmatrix}\n",
    "\\end{equation*}\n",
    "\n",
    "\n",
    "Neste caso, para vetores com 3 dimensões."
   ]
  },
  {
   "cell_type": "code",
   "execution_count": 30,
   "metadata": {},
   "outputs": [],
   "source": [
    "x = np.array([[1,2],[3,4]])\n",
    "y = np.array([[5,6],[7,8]])\n",
    "v = np.array([9,10])\n",
    "w = np.array([11, 12])"
   ]
  },
  {
   "cell_type": "code",
   "execution_count": 31,
   "metadata": {},
   "outputs": [
    {
     "name": "stdout",
     "output_type": "stream",
     "text": [
      "219\n",
      "219\n"
     ]
    }
   ],
   "source": [
    "print(v.dot(w)) #produto interno entre v . w\n",
    "print(np.dot(v, w)) #produto interno entre v . w"
   ]
  },
  {
   "cell_type": "code",
   "execution_count": 32,
   "metadata": {},
   "outputs": [
    {
     "data": {
      "text/plain": [
       "array([-3,  6, -3])"
      ]
     },
     "execution_count": 32,
     "metadata": {},
     "output_type": "execute_result"
    }
   ],
   "source": [
    "x = [1, 2, 3]\n",
    "y = [4, 5, 6]\n",
    "z = np.cross(x,y)\n",
    "z"
   ]
  },
  {
   "cell_type": "code",
   "execution_count": 34,
   "metadata": {},
   "outputs": [
    {
     "name": "stdout",
     "output_type": "stream",
     "text": [
      "CPU times: user 132 µs, sys: 0 ns, total: 132 µs\n",
      "Wall time: 136 µs\n"
     ]
    },
    {
     "data": {
      "text/plain": [
       "array([-3,  6, -3])"
      ]
     },
     "execution_count": 34,
     "metadata": {},
     "output_type": "execute_result"
    }
   ],
   "source": [
    "%%time\n",
    "np.cross(x,y)"
   ]
  },
  {
   "cell_type": "code",
   "execution_count": 39,
   "metadata": {},
   "outputs": [
    {
     "name": "stdout",
     "output_type": "stream",
     "text": [
      "CPU times: user 6 µs, sys: 0 ns, total: 6 µs\n",
      "Wall time: 8.82 µs\n"
     ]
    },
    {
     "data": {
      "text/plain": [
       "(-3, 6, -3)"
      ]
     },
     "execution_count": 39,
     "metadata": {},
     "output_type": "execute_result"
    }
   ],
   "source": [
    "%%time\n",
    "x[1]*y[2]-x[2]*y[1], x[2]*y[0]-x[0]*y[2], x[0]*y[1]-x[1]*y[0]"
   ]
  },
  {
   "cell_type": "markdown",
   "metadata": {},
   "source": [
    "### Podemos encontrar inversa também:"
   ]
  },
  {
   "cell_type": "code",
   "execution_count": 40,
   "metadata": {},
   "outputs": [
    {
     "data": {
      "text/plain": [
       "array([[   2. ,    3. ,    1. ],\n",
       "       [   5.6,    7. ,    8.1],\n",
       "       [   9. , 1000. ,    1. ]])"
      ]
     },
     "execution_count": 40,
     "metadata": {},
     "output_type": "execute_result"
    }
   ],
   "source": [
    "x = np.array([[2,3,1],[5.6,7,8.1],[9,1000,1]],)\n",
    "x"
   ]
  },
  {
   "cell_type": "code",
   "execution_count": 41,
   "metadata": {},
   "outputs": [
    {
     "data": {
      "text/plain": [
       "array([[ 7.74664739e-01, -9.54331824e-02, -1.65596194e-03],\n",
       "       [-6.44197911e-03,  6.70042404e-04,  1.01463564e-03],\n",
       "       [-5.30003542e-01,  1.88856238e-01,  2.68016962e-04]])"
      ]
     },
     "execution_count": 41,
     "metadata": {},
     "output_type": "execute_result"
    }
   ],
   "source": [
    "xinv = np.linalg.inv(x)\n",
    "xinv"
   ]
  },
  {
   "cell_type": "markdown",
   "metadata": {},
   "source": [
    "Multiplicação pela matriz por sua inversa, gera matriz identidade:\n",
    "\\begin{equation*}\n",
    "XX^{-1} = I\n",
    "\\end{equation*}"
   ]
  },
  {
   "cell_type": "code",
   "execution_count": 42,
   "metadata": {},
   "outputs": [
    {
     "data": {
      "text/plain": [
       "array([[ 1.00000000e+00,  0.00000000e+00, -2.87855677e-17],\n",
       "       [ 7.10099905e-16,  1.00000000e+00,  2.80344066e-17],\n",
       "       [-1.11022302e-16,  2.77555756e-17,  1.00000000e+00]])"
      ]
     },
     "execution_count": 42,
     "metadata": {},
     "output_type": "execute_result"
    }
   ],
   "source": [
    "x.dot(xinv)"
   ]
  },
  {
   "cell_type": "markdown",
   "metadata": {},
   "source": [
    "- Pergunta: Por que elementos acima e abaixo da diagonal não são exatamente zeros?\n",
    "\n",
    "Criar vetores ou matrizes também é rotina usual no Numpy:"
   ]
  },
  {
   "cell_type": "code",
   "execution_count": 43,
   "metadata": {},
   "outputs": [
    {
     "data": {
      "text/plain": [
       "array([0., 0., 0., 0., 0., 0., 0., 0., 0., 0.])"
      ]
     },
     "execution_count": 43,
     "metadata": {},
     "output_type": "execute_result"
    }
   ],
   "source": [
    "x = np.zeros(10)\n",
    "x"
   ]
  },
  {
   "cell_type": "code",
   "execution_count": 44,
   "metadata": {},
   "outputs": [
    {
     "data": {
      "text/plain": [
       "array([1., 1., 1., 1., 1., 1., 1., 1., 1., 1.])"
      ]
     },
     "execution_count": 44,
     "metadata": {},
     "output_type": "execute_result"
    }
   ],
   "source": [
    "x = np.ones(10)\n",
    "x"
   ]
  },
  {
   "cell_type": "code",
   "execution_count": 45,
   "metadata": {},
   "outputs": [
    {
     "data": {
      "text/plain": [
       "array([[1., 1., 1., 1., 1., 1., 1., 1., 1., 1.],\n",
       "       [1., 1., 1., 1., 1., 1., 1., 1., 1., 1.],\n",
       "       [1., 1., 1., 1., 1., 1., 1., 1., 1., 1.],\n",
       "       [1., 1., 1., 1., 1., 1., 1., 1., 1., 1.],\n",
       "       [1., 1., 1., 1., 1., 1., 1., 1., 1., 1.],\n",
       "       [1., 1., 1., 1., 1., 1., 1., 1., 1., 1.],\n",
       "       [1., 1., 1., 1., 1., 1., 1., 1., 1., 1.],\n",
       "       [1., 1., 1., 1., 1., 1., 1., 1., 1., 1.],\n",
       "       [1., 1., 1., 1., 1., 1., 1., 1., 1., 1.],\n",
       "       [1., 1., 1., 1., 1., 1., 1., 1., 1., 1.]])"
      ]
     },
     "execution_count": 45,
     "metadata": {},
     "output_type": "execute_result"
    }
   ],
   "source": [
    "x = np.ones((10,10))\n",
    "x"
   ]
  },
  {
   "cell_type": "code",
   "execution_count": 46,
   "metadata": {},
   "outputs": [
    {
     "data": {
      "text/plain": [
       "array([[5., 5., 5., 5., 5., 5., 5., 5., 5., 5.],\n",
       "       [5., 5., 5., 5., 5., 5., 5., 5., 5., 5.],\n",
       "       [5., 5., 5., 5., 5., 5., 5., 5., 5., 5.],\n",
       "       [5., 5., 5., 5., 5., 5., 5., 5., 5., 5.],\n",
       "       [5., 5., 5., 5., 5., 5., 5., 5., 5., 5.],\n",
       "       [5., 5., 5., 5., 5., 5., 5., 5., 5., 5.],\n",
       "       [5., 5., 5., 5., 5., 5., 5., 5., 5., 5.],\n",
       "       [5., 5., 5., 5., 5., 5., 5., 5., 5., 5.],\n",
       "       [5., 5., 5., 5., 5., 5., 5., 5., 5., 5.],\n",
       "       [5., 5., 5., 5., 5., 5., 5., 5., 5., 5.]])"
      ]
     },
     "execution_count": 46,
     "metadata": {},
     "output_type": "execute_result"
    }
   ],
   "source": [
    "x = 5 * np.ones((10,10))\n",
    "x"
   ]
  },
  {
   "cell_type": "code",
   "execution_count": 47,
   "metadata": {},
   "outputs": [
    {
     "name": "stdout",
     "output_type": "stream",
     "text": [
      "[0.         0.04166667 0.08333333 0.125      0.16666667 0.20833333\n",
      " 0.25       0.29166667 0.33333333 0.375      0.41666667 0.45833333\n",
      " 0.5        0.54166667 0.58333333 0.625      0.66666667 0.70833333\n",
      " 0.75       0.79166667 0.83333333 0.875      0.91666667 0.95833333\n",
      " 1.        ]\n"
     ]
    }
   ],
   "source": [
    "x = np.linspace(0,1,25)\n",
    "print(x)"
   ]
  },
  {
   "cell_type": "code",
   "execution_count": 48,
   "metadata": {},
   "outputs": [
    {
     "name": "stdout",
     "output_type": "stream",
     "text": [
      "[ 0.   0.2  0.4  0.6  0.8  1.   1.2  1.4  1.6  1.8  2.   2.2  2.4  2.6\n",
      "  2.8  3.   3.2  3.4  3.6  3.8  4.   4.2  4.4  4.6  4.8  5.   5.2  5.4\n",
      "  5.6  5.8  6.   6.2  6.4  6.6  6.8  7.   7.2  7.4  7.6  7.8  8.   8.2\n",
      "  8.4  8.6  8.8  9.   9.2  9.4  9.6  9.8 10.  10.2 10.4 10.6 10.8 11.\n",
      " 11.2 11.4 11.6 11.8 12.  12.2 12.4 12.6 12.8 13.  13.2 13.4 13.6 13.8\n",
      " 14.  14.2 14.4 14.6 14.8 15.  15.2 15.4 15.6 15.8 16.  16.2 16.4 16.6\n",
      " 16.8 17.  17.2 17.4 17.6 17.8 18.  18.2 18.4 18.6 18.8 19.  19.2 19.4\n",
      " 19.6 19.8]\n"
     ]
    }
   ],
   "source": [
    "x = np.arange(0,20,0.2)\n",
    "print(x)"
   ]
  },
  {
   "cell_type": "code",
   "execution_count": 49,
   "metadata": {},
   "outputs": [
    {
     "name": "stdout",
     "output_type": "stream",
     "text": [
      "0.0\n",
      "19.8\n",
      "100 (100,)\n"
     ]
    }
   ],
   "source": [
    "print(x[0]) #indice 0 é o primeiro elemento\n",
    "print(x[-1]) #último elemento\n",
    "print(len(x),x.shape) #tamanho do array"
   ]
  },
  {
   "cell_type": "code",
   "execution_count": 50,
   "metadata": {},
   "outputs": [
    {
     "data": {
      "text/plain": [
       "0.0"
      ]
     },
     "execution_count": 50,
     "metadata": {},
     "output_type": "execute_result"
    }
   ],
   "source": [
    "x.min()"
   ]
  },
  {
   "cell_type": "code",
   "execution_count": 51,
   "metadata": {},
   "outputs": [
    {
     "data": {
      "text/plain": [
       "19.8"
      ]
     },
     "execution_count": 51,
     "metadata": {},
     "output_type": "execute_result"
    }
   ],
   "source": [
    "x.max()"
   ]
  },
  {
   "cell_type": "code",
   "execution_count": 52,
   "metadata": {},
   "outputs": [
    {
     "data": {
      "text/plain": [
       "9.9"
      ]
     },
     "execution_count": 52,
     "metadata": {},
     "output_type": "execute_result"
    }
   ],
   "source": [
    "x.mean()"
   ]
  },
  {
   "cell_type": "code",
   "execution_count": 53,
   "metadata": {},
   "outputs": [
    {
     "data": {
      "text/plain": [
       "5.773214009544424"
      ]
     },
     "execution_count": 53,
     "metadata": {},
     "output_type": "execute_result"
    }
   ],
   "source": [
    "x.std()"
   ]
  },
  {
   "cell_type": "markdown",
   "metadata": {},
   "source": [
    "### Com numpy podemos simular distribuições estatísticas:"
   ]
  },
  {
   "cell_type": "code",
   "execution_count": 54,
   "metadata": {},
   "outputs": [
    {
     "data": {
      "text/plain": [
       "array([ 0.77876751,  1.8778025 , -0.78786089,  0.44583693, -1.45689806,\n",
       "        0.77971064, -1.87387713,  1.1216388 ,  0.52681997,  0.96656533,\n",
       "       -0.37507994,  1.16122975, -1.04798562, -0.89260023, -0.01178663,\n",
       "        0.21358318,  0.01816414,  0.21966677, -0.17539721,  1.10429722,\n",
       "       -0.01904807,  0.17291491, -0.36978603, -2.97429323, -0.65393241,\n",
       "       -0.92353093,  0.74521084, -0.04181692, -0.95826278,  0.83240185,\n",
       "        1.15911746,  0.85778322, -1.29598195, -0.85875988,  0.24751929,\n",
       "       -1.21239569,  1.71375621, -0.39991049,  0.38239441,  0.75845068,\n",
       "        0.96174759, -0.88137982,  0.11597857, -0.39464464, -0.59138752,\n",
       "       -0.9508114 , -0.72390038, -0.46479089, -0.17127152,  0.7742856 ,\n",
       "        2.0088794 , -0.79771451, -0.80927992,  0.89467836,  0.83069798,\n",
       "        0.11162158,  1.34956319, -0.10927579,  2.13175867, -0.35486113,\n",
       "        2.55079229, -1.24912721,  1.99126717,  0.02404655, -0.00825462,\n",
       "        1.64801913,  0.69969942, -0.69912852,  0.70188742, -0.10842891,\n",
       "       -0.07540153, -0.58679097, -0.69126164,  1.86146634, -0.13034964,\n",
       "        1.36516866, -0.30774766,  0.33070067,  0.67168046, -0.44921131,\n",
       "       -0.12600592,  0.22863055,  0.5165202 ,  0.63157715,  0.11873227,\n",
       "        1.37532989, -0.7881186 , -0.80462565, -1.23887258,  1.94901324,\n",
       "       -1.23852491,  1.27504261,  0.24757628,  0.56411195, -0.1024074 ,\n",
       "        0.98404934,  0.8341615 ,  0.08687518,  0.34482226, -0.44992934])"
      ]
     },
     "execution_count": 54,
     "metadata": {},
     "output_type": "execute_result"
    }
   ],
   "source": [
    "# sorteando 100 elementos dentro de uma distribuição normal com média zero, desvio-padrão 1\n",
    "x = np.random.normal(0,1,100)\n",
    "x"
   ]
  },
  {
   "cell_type": "code",
   "execution_count": 55,
   "metadata": {},
   "outputs": [
    {
     "data": {
      "text/plain": [
       "(array([ 1.,  1.,  1., 17., 15., 25., 19., 12.,  6.,  3.]),\n",
       " array([-2.97429323, -2.42178468, -1.86927613, -1.31676758, -0.76425903,\n",
       "        -0.21175047,  0.34075808,  0.89326663,  1.44577518,  1.99828373,\n",
       "         2.55079229]),\n",
       " <a list of 10 Patch objects>)"
      ]
     },
     "execution_count": 55,
     "metadata": {},
     "output_type": "execute_result"
    },
    {
     "data": {
      "image/png": "[encoded data removed]",
      "text/plain": [
       "<Figure size 432x288 with 1 Axes>"
      ]
     },
     "metadata": {
      "needs_background": "light"
     },
     "output_type": "display_data"
    }
   ],
   "source": [
    "plt.hist(x,bins='sqrt')"
   ]
  },
  {
   "cell_type": "code",
   "execution_count": 56,
   "metadata": {},
   "outputs": [
    {
     "data": {
      "text/plain": [
       "(array([ 9.,  9., 11., 17., 14.,  6.,  6., 10., 10.,  8.]),\n",
       " array([0.01389013, 0.11057831, 0.20726648, 0.30395465, 0.40064282,\n",
       "        0.49733099, 0.59401916, 0.69070733, 0.7873955 , 0.88408367,\n",
       "        0.98077184]),\n",
       " <a list of 10 Patch objects>)"
      ]
     },
     "execution_count": 56,
     "metadata": {},
     "output_type": "execute_result"
    },
    {
     "data": {
      "image/png": "[encoded data removed]",
      "text/plain": [
       "<Figure size 432x288 with 1 Axes>"
      ]
     },
     "metadata": {
      "needs_background": "light"
     },
     "output_type": "display_data"
    }
   ],
   "source": [
    "# sorteando 100 elementos dentro de uma distribuição uniforme dentro do inttervalo [0,1]\n",
    "x = np.random.uniform(0,1,100)\n",
    "plt.hist(x,bins='sqrt')"
   ]
  },
  {
   "cell_type": "code",
   "execution_count": 57,
   "metadata": {},
   "outputs": [
    {
     "data": {
      "text/plain": [
       "(array([  1.,   0.,   0.,   0.,   0.,   2.,   3.,   9.,  18.,   9.,  25.,\n",
       "         35.,  49.,  68.,  71.,  65.,  90., 118.,  83.,  82.,  66.,  52.,\n",
       "         49.,  43.,  26.,  13.,   8.,   6.,   3.,   3.,   2.,   1.]),\n",
       " array([-3.96287121, -3.73659958, -3.51032795, -3.28405631, -3.05778468,\n",
       "        -2.83151305, -2.60524141, -2.37896978, -2.15269815, -1.92642651,\n",
       "        -1.70015488, -1.47388325, -1.24761161, -1.02133998, -0.79506835,\n",
       "        -0.56879671, -0.34252508, -0.11625345,  0.11001819,  0.33628982,\n",
       "         0.56256146,  0.78883309,  1.01510472,  1.24137636,  1.46764799,\n",
       "         1.69391962,  1.92019126,  2.14646289,  2.37273452,  2.59900616,\n",
       "         2.82527779,  3.05154942,  3.27782106]),\n",
       " <a list of 32 Patch objects>)"
      ]
     },
     "execution_count": 57,
     "metadata": {},
     "output_type": "execute_result"
    },
    {
     "data": {
      "image/png": "[encoded data removed]",
      "text/plain": [
       "<Figure size 432x288 with 1 Axes>"
      ]
     },
     "metadata": {
      "needs_background": "light"
     },
     "output_type": "display_data"
    }
   ],
   "source": [
    "x = np.random.normal(0,1,1000) \n",
    "plt.hist(x,bins='sqrt')"
   ]
  },
  {
   "cell_type": "code",
   "execution_count": 58,
   "metadata": {},
   "outputs": [
    {
     "data": {
      "text/plain": [
       "(array([30., 32., 35., 44., 26., 31., 32., 28., 31., 25., 20., 35., 36.,\n",
       "        32., 30., 25., 36., 31., 38., 21., 36., 27., 26., 31., 38., 44.,\n",
       "        24., 34., 39., 23., 35., 25.]),\n",
       " array([6.66597368e-04, 3.18788347e-02, 6.30910721e-02, 9.43033094e-02,\n",
       "        1.25515547e-01, 1.56727784e-01, 1.87940021e-01, 2.19152259e-01,\n",
       "        2.50364496e-01, 2.81576733e-01, 3.12788971e-01, 3.44001208e-01,\n",
       "        3.75213446e-01, 4.06425683e-01, 4.37637920e-01, 4.68850158e-01,\n",
       "        5.00062395e-01, 5.31274632e-01, 5.62486870e-01, 5.93699107e-01,\n",
       "        6.24911344e-01, 6.56123582e-01, 6.87335819e-01, 7.18548056e-01,\n",
       "        7.49760294e-01, 7.80972531e-01, 8.12184768e-01, 8.43397006e-01,\n",
       "        8.74609243e-01, 9.05821480e-01, 9.37033718e-01, 9.68245955e-01,\n",
       "        9.99458192e-01]),\n",
       " <a list of 32 Patch objects>)"
      ]
     },
     "execution_count": 58,
     "metadata": {},
     "output_type": "execute_result"
    },
    {
     "data": {
      "image/png": "[encoded data removed]",
      "text/plain": [
       "<Figure size 432x288 with 1 Axes>"
      ]
     },
     "metadata": {
      "needs_background": "light"
     },
     "output_type": "display_data"
    }
   ],
   "source": [
    "x = np.random.uniform(0,1,1000)\n",
    "plt.hist(x,bins='sqrt')"
   ]
  },
  {
   "cell_type": "code",
   "execution_count": 59,
   "metadata": {},
   "outputs": [
    {
     "data": {
      "text/plain": [
       "6.283185307179586"
      ]
     },
     "execution_count": 59,
     "metadata": {},
     "output_type": "execute_result"
    }
   ],
   "source": [
    "# Numpy possui algumas constantes\n",
    "x = 2 * np.pi\n",
    "x"
   ]
  },
  {
   "cell_type": "code",
   "execution_count": 60,
   "metadata": {},
   "outputs": [
    {
     "data": {
      "text/plain": [
       "360.0"
      ]
     },
     "execution_count": 60,
     "metadata": {},
     "output_type": "execute_result"
    }
   ],
   "source": [
    "np.rad2deg(x)"
   ]
  },
  {
   "cell_type": "code",
   "execution_count": 61,
   "metadata": {},
   "outputs": [
    {
     "data": {
      "text/plain": [
       "array([0.        , 0.06346652, 0.12693304, 0.19039955, 0.25386607,\n",
       "       0.31733259, 0.38079911, 0.44426563, 0.50773215, 0.57119866,\n",
       "       0.63466518, 0.6981317 , 0.76159822, 0.82506474, 0.88853126,\n",
       "       0.95199777, 1.01546429, 1.07893081, 1.14239733, 1.20586385,\n",
       "       1.26933037, 1.33279688, 1.3962634 , 1.45972992, 1.52319644,\n",
       "       1.58666296, 1.65012947, 1.71359599, 1.77706251, 1.84052903,\n",
       "       1.90399555, 1.96746207, 2.03092858, 2.0943951 , 2.15786162,\n",
       "       2.22132814, 2.28479466, 2.34826118, 2.41172769, 2.47519421,\n",
       "       2.53866073, 2.60212725, 2.66559377, 2.72906028, 2.7925268 ,\n",
       "       2.85599332, 2.91945984, 2.98292636, 3.04639288, 3.10985939,\n",
       "       3.17332591, 3.23679243, 3.30025895, 3.36372547, 3.42719199,\n",
       "       3.4906585 , 3.55412502, 3.61759154, 3.68105806, 3.74452458,\n",
       "       3.8079911 , 3.87145761, 3.93492413, 3.99839065, 4.06185717,\n",
       "       4.12532369, 4.1887902 , 4.25225672, 4.31572324, 4.37918976,\n",
       "       4.44265628, 4.5061228 , 4.56958931, 4.63305583, 4.69652235,\n",
       "       4.75998887, 4.82345539, 4.88692191, 4.95038842, 5.01385494,\n",
       "       5.07732146, 5.14078798, 5.2042545 , 5.26772102, 5.33118753,\n",
       "       5.39465405, 5.45812057, 5.52158709, 5.58505361, 5.64852012,\n",
       "       5.71198664, 5.77545316, 5.83891968, 5.9023862 , 5.96585272,\n",
       "       6.02931923, 6.09278575, 6.15625227, 6.21971879, 6.28318531])"
      ]
     },
     "execution_count": 61,
     "metadata": {},
     "output_type": "execute_result"
    }
   ],
   "source": [
    "x = np.linspace(0,2*np.pi,100) #em radianos\n",
    "x"
   ]
  },
  {
   "cell_type": "code",
   "execution_count": 62,
   "metadata": {},
   "outputs": [
    {
     "data": {
      "text/plain": [
       "array([  0.        ,   3.63636364,   7.27272727,  10.90909091,\n",
       "        14.54545455,  18.18181818,  21.81818182,  25.45454545,\n",
       "        29.09090909,  32.72727273,  36.36363636,  40.        ,\n",
       "        43.63636364,  47.27272727,  50.90909091,  54.54545455,\n",
       "        58.18181818,  61.81818182,  65.45454545,  69.09090909,\n",
       "        72.72727273,  76.36363636,  80.        ,  83.63636364,\n",
       "        87.27272727,  90.90909091,  94.54545455,  98.18181818,\n",
       "       101.81818182, 105.45454545, 109.09090909, 112.72727273,\n",
       "       116.36363636, 120.        , 123.63636364, 127.27272727,\n",
       "       130.90909091, 134.54545455, 138.18181818, 141.81818182,\n",
       "       145.45454545, 149.09090909, 152.72727273, 156.36363636,\n",
       "       160.        , 163.63636364, 167.27272727, 170.90909091,\n",
       "       174.54545455, 178.18181818, 181.81818182, 185.45454545,\n",
       "       189.09090909, 192.72727273, 196.36363636, 200.        ,\n",
       "       203.63636364, 207.27272727, 210.90909091, 214.54545455,\n",
       "       218.18181818, 221.81818182, 225.45454545, 229.09090909,\n",
       "       232.72727273, 236.36363636, 240.        , 243.63636364,\n",
       "       247.27272727, 250.90909091, 254.54545455, 258.18181818,\n",
       "       261.81818182, 265.45454545, 269.09090909, 272.72727273,\n",
       "       276.36363636, 280.        , 283.63636364, 287.27272727,\n",
       "       290.90909091, 294.54545455, 298.18181818, 301.81818182,\n",
       "       305.45454545, 309.09090909, 312.72727273, 316.36363636,\n",
       "       320.        , 323.63636364, 327.27272727, 330.90909091,\n",
       "       334.54545455, 338.18181818, 341.81818182, 345.45454545,\n",
       "       349.09090909, 352.72727273, 356.36363636, 360.        ])"
      ]
     },
     "execution_count": 62,
     "metadata": {},
     "output_type": "execute_result"
    }
   ],
   "source": [
    "x = np.rad2deg(x) #em graus\n",
    "x"
   ]
  },
  {
   "cell_type": "markdown",
   "metadata": {},
   "source": [
    "## Relação entre Numpy e Pandas\n",
    "\n",
    "Toda matriz de numpy por ser inclusa dentro do pandas e todo pandas pode exportar seus valores em numpy. Na prática, Pandas DataFrame é uma estrutura de dados que compõe as funcionalidades do pandas. \n",
    "\n",
    "O uso direto seria a concepção de pd.Series"
   ]
  },
  {
   "cell_type": "code",
   "execution_count": 63,
   "metadata": {},
   "outputs": [],
   "source": [
    "import pandas as pd"
   ]
  },
  {
   "cell_type": "code",
   "execution_count": 64,
   "metadata": {},
   "outputs": [
    {
     "data": {
      "text/plain": [
       "0       0.000000\n",
       "1       3.636364\n",
       "2       7.272727\n",
       "3      10.909091\n",
       "4      14.545455\n",
       "         ...    \n",
       "95    345.454545\n",
       "96    349.090909\n",
       "97    352.727273\n",
       "98    356.363636\n",
       "99    360.000000\n",
       "Length: 100, dtype: float64"
      ]
     },
     "execution_count": 64,
     "metadata": {},
     "output_type": "execute_result"
    }
   ],
   "source": [
    "x = pd.Series(x)\n",
    "x"
   ]
  },
  {
   "cell_type": "code",
   "execution_count": 65,
   "metadata": {},
   "outputs": [
    {
     "data": {
      "text/plain": [
       "count    100.000000\n",
       "mean     180.000000\n",
       "std      105.496334\n",
       "min        0.000000\n",
       "25%       90.000000\n",
       "50%      180.000000\n",
       "75%      270.000000\n",
       "max      360.000000\n",
       "dtype: float64"
      ]
     },
     "execution_count": 65,
     "metadata": {},
     "output_type": "execute_result"
    }
   ],
   "source": [
    "x.describe() #estatisticas basicas"
   ]
  },
  {
   "cell_type": "markdown",
   "metadata": {},
   "source": [
    "Uma serie é estrutura basica por coluna na concepção de uma tabela."
   ]
  },
  {
   "cell_type": "code",
   "execution_count": 66,
   "metadata": {},
   "outputs": [
    {
     "data": {
      "text/plain": [
       "<matplotlib.axes._subplots.AxesSubplot at 0x7f9b19c48b80>"
      ]
     },
     "execution_count": 66,
     "metadata": {},
     "output_type": "execute_result"
    },
    {
     "data": {
      "image/png": "[encoded data removed]",
      "text/plain": [
       "<Figure size 432x288 with 1 Axes>"
      ]
     },
     "metadata": {
      "needs_background": "light"
     },
     "output_type": "display_data"
    }
   ],
   "source": [
    "x.plot()"
   ]
  },
  {
   "cell_type": "markdown",
   "metadata": {},
   "source": [
    "Vamos mudar para função seno (por poder fazer gráficos mais interessantes):"
   ]
  },
  {
   "cell_type": "code",
   "execution_count": 67,
   "metadata": {},
   "outputs": [
    {
     "data": {
      "text/plain": [
       "0     0.000000\n",
       "1    -0.474830\n",
       "2     0.835775\n",
       "3    -0.996263\n",
       "4     0.917802\n",
       "        ...   \n",
       "95   -0.120354\n",
       "96   -0.365458\n",
       "97    0.763616\n",
       "98   -0.978625\n",
       "99    0.958916\n",
       "Length: 100, dtype: float64"
      ]
     },
     "execution_count": 67,
     "metadata": {},
     "output_type": "execute_result"
    }
   ],
   "source": [
    "xsin = np.sin(x)\n",
    "xsin"
   ]
  },
  {
   "cell_type": "code",
   "execution_count": 68,
   "metadata": {},
   "outputs": [
    {
     "data": {
      "text/plain": [
       "<matplotlib.axes._subplots.AxesSubplot at 0x7f9b19d05e50>"
      ]
     },
     "execution_count": 68,
     "metadata": {},
     "output_type": "execute_result"
    },
    {
     "data": {
      "image/png": "[encoded data removed]",
      "text/plain": [
       "<Figure size 432x288 with 1 Axes>"
      ]
     },
     "metadata": {
      "needs_background": "light"
     },
     "output_type": "display_data"
    }
   ],
   "source": [
    "xsin.plot()"
   ]
  },
  {
   "cell_type": "markdown",
   "metadata": {},
   "source": [
    "A aplicação de uma função em numpy numa serie do pandas retorna uma nova série pandas, com as mesmas funcionalidades. Existe outra forma de aplicar a função:"
   ]
  },
  {
   "cell_type": "code",
   "execution_count": 69,
   "metadata": {},
   "outputs": [
    {
     "data": {
      "text/plain": [
       "0     0.000000\n",
       "1    -0.474830\n",
       "2     0.835775\n",
       "3    -0.996263\n",
       "4     0.917802\n",
       "        ...   \n",
       "95   -0.120354\n",
       "96   -0.365458\n",
       "97    0.763616\n",
       "98   -0.978625\n",
       "99    0.958916\n",
       "Length: 100, dtype: float64"
      ]
     },
     "execution_count": 69,
     "metadata": {},
     "output_type": "execute_result"
    }
   ],
   "source": [
    "xsin = x.apply(np.sin)\n",
    "xsin"
   ]
  },
  {
   "cell_type": "code",
   "execution_count": 70,
   "metadata": {},
   "outputs": [
    {
     "data": {
      "text/plain": [
       "0     0.000000\n",
       "1    -0.474830\n",
       "2     0.835775\n",
       "3    -0.996263\n",
       "4     0.917802\n",
       "        ...   \n",
       "95   -0.120354\n",
       "96   -0.365458\n",
       "97    0.763616\n",
       "98   -0.978625\n",
       "99    0.958916\n",
       "Length: 100, dtype: float64"
      ]
     },
     "execution_count": 70,
     "metadata": {},
     "output_type": "execute_result"
    }
   ],
   "source": [
    "def seno(x):\n",
    "    return np.sin(x)\n",
    "\n",
    "xsin = x.apply(lambda k: seno(k))\n",
    "xsin"
   ]
  },
  {
   "cell_type": "markdown",
   "metadata": {},
   "source": [
    "A biblioteca **tqdm** permite incluir barra de progresso no apply:"
   ]
  },
  {
   "cell_type": "code",
   "execution_count": 71,
   "metadata": {},
   "outputs": [
    {
     "name": "stderr",
     "output_type": "stream",
     "text": [
      "/Users/walter/opt/anaconda3/lib/python3.8/site-packages/tqdm/std.py:668: FutureWarning: The Panel class is removed from pandas. Accessing it from the top-level namespace will also be removed in the next version\n",
      "  from pandas import Panel\n"
     ]
    }
   ],
   "source": [
    "from tqdm import tqdm\n",
    "\n",
    "tqdm.pandas()"
   ]
  },
  {
   "cell_type": "code",
   "execution_count": 72,
   "metadata": {},
   "outputs": [
    {
     "name": "stderr",
     "output_type": "stream",
     "text": [
      "100%|██████████| 100/100 [00:00<00:00, 16892.08it/s]\n"
     ]
    },
    {
     "data": {
      "text/plain": [
       "0     0.000000\n",
       "1    -0.474830\n",
       "2     0.835775\n",
       "3    -0.996263\n",
       "4     0.917802\n",
       "        ...   \n",
       "95   -0.120354\n",
       "96   -0.365458\n",
       "97    0.763616\n",
       "98   -0.978625\n",
       "99    0.958916\n",
       "Length: 100, dtype: float64"
      ]
     },
     "execution_count": 72,
     "metadata": {},
     "output_type": "execute_result"
    }
   ],
   "source": [
    "xsin = x.progress_apply(np.sin)\n",
    "xsin"
   ]
  },
  {
   "cell_type": "markdown",
   "metadata": {},
   "source": [
    "Tqdm já está incluso no anaconda. É ótima para ansiosos, assim como eu, quando a função que você aplicaé demora(processamento, muitos passos, alta complexidade) e você quer conhecer tempo de duração, em que ponto está ou uma estimativa para término."
   ]
  },
  {
   "cell_type": "markdown",
   "metadata": {},
   "source": [
    "### Podemos também criar pd.Series de tempo\n",
    "\n",
    "\n",
    "Pandas compreende o objeto datetime ou timedelta, que são estruturas temporais de dados dentro do Python"
   ]
  },
  {
   "cell_type": "code",
   "execution_count": 73,
   "metadata": {},
   "outputs": [
    {
     "data": {
      "text/plain": [
       "DatetimeIndex(['2020-09-28', '2020-09-29', '2020-09-30', '2020-10-01',\n",
       "               '2020-10-02', '2020-10-03', '2020-10-04'],\n",
       "              dtype='datetime64[ns]', freq='D')"
      ]
     },
     "execution_count": 73,
     "metadata": {},
     "output_type": "execute_result"
    }
   ],
   "source": [
    "pd.date_range('20200928', periods=7) #dias"
   ]
  },
  {
   "cell_type": "code",
   "execution_count": 74,
   "metadata": {
    "scrolled": true
   },
   "outputs": [
    {
     "name": "stdout",
     "output_type": "stream",
     "text": [
      "Help on function date_range in module pandas.core.indexes.datetimes:\n",
      "\n",
      "date_range(start=None, end=None, periods=None, freq=None, tz=None, normalize=False, name=None, closed=None, **kwargs) -> pandas.core.indexes.datetimes.DatetimeIndex\n",
      "    Return a fixed frequency DatetimeIndex.\n",
      "    \n",
      "    Parameters\n",
      "    ----------\n",
      "    start : str or datetime-like, optional\n",
      "        Left bound for generating dates.\n",
      "    end : str or datetime-like, optional\n",
      "        Right bound for generating dates.\n",
      "    periods : int, optional\n",
      "        Number of periods to generate.\n",
      "    freq : str or DateOffset, default 'D'\n",
      "        Frequency strings can have multiples, e.g. '5H'. See\n",
      "        :ref:`here <timeseries.offset_aliases>` for a list of\n",
      "        frequency aliases.\n",
      "    tz : str or tzinfo, optional\n",
      "        Time zone name for returning localized DatetimeIndex, for example\n",
      "        'Asia/Hong_Kong'. By default, the resulting DatetimeIndex is\n",
      "        timezone-naive.\n",
      "    normalize : bool, default False\n",
      "        Normalize start/end dates to midnight before generating date range.\n",
      "    name : str, default None\n",
      "        Name of the resulting DatetimeIndex.\n",
      "    closed : {None, 'left', 'right'}, optional\n",
      "        Make the interval closed with respect to the given frequency to\n",
      "        the 'left', 'right', or both sides (None, the default).\n",
      "    **kwargs\n",
      "        For compatibility. Has no effect on the result.\n",
      "    \n",
      "    Returns\n",
      "    -------\n",
      "    rng : DatetimeIndex\n",
      "    \n",
      "    See Also\n",
      "    --------\n",
      "    DatetimeIndex : An immutable container for datetimes.\n",
      "    timedelta_range : Return a fixed frequency TimedeltaIndex.\n",
      "    period_range : Return a fixed frequency PeriodIndex.\n",
      "    interval_range : Return a fixed frequency IntervalIndex.\n",
      "    \n",
      "    Notes\n",
      "    -----\n",
      "    Of the four parameters ``start``, ``end``, ``periods``, and ``freq``,\n",
      "    exactly three must be specified. If ``freq`` is omitted, the resulting\n",
      "    ``DatetimeIndex`` will have ``periods`` linearly spaced elements between\n",
      "    ``start`` and ``end`` (closed on both sides).\n",
      "    \n",
      "    To learn more about the frequency strings, please see `this link\n",
      "    <https://pandas.pydata.org/pandas-docs/stable/user_guide/timeseries.html#offset-aliases>`__.\n",
      "    \n",
      "    Examples\n",
      "    --------\n",
      "    **Specifying the values**\n",
      "    \n",
      "    The next four examples generate the same `DatetimeIndex`, but vary\n",
      "    the combination of `start`, `end` and `periods`.\n",
      "    \n",
      "    Specify `start` and `end`, with the default daily frequency.\n",
      "    \n",
      "    >>> pd.date_range(start='1/1/2018', end='1/08/2018')\n",
      "    DatetimeIndex(['2018-01-01', '2018-01-02', '2018-01-03', '2018-01-04',\n",
      "                   '2018-01-05', '2018-01-06', '2018-01-07', '2018-01-08'],\n",
      "                  dtype='datetime64[ns]', freq='D')\n",
      "    \n",
      "    Specify `start` and `periods`, the number of periods (days).\n",
      "    \n",
      "    >>> pd.date_range(start='1/1/2018', periods=8)\n",
      "    DatetimeIndex(['2018-01-01', '2018-01-02', '2018-01-03', '2018-01-04',\n",
      "                   '2018-01-05', '2018-01-06', '2018-01-07', '2018-01-08'],\n",
      "                  dtype='datetime64[ns]', freq='D')\n",
      "    \n",
      "    Specify `end` and `periods`, the number of periods (days).\n",
      "    \n",
      "    >>> pd.date_range(end='1/1/2018', periods=8)\n",
      "    DatetimeIndex(['2017-12-25', '2017-12-26', '2017-12-27', '2017-12-28',\n",
      "                   '2017-12-29', '2017-12-30', '2017-12-31', '2018-01-01'],\n",
      "                  dtype='datetime64[ns]', freq='D')\n",
      "    \n",
      "    Specify `start`, `end`, and `periods`; the frequency is generated\n",
      "    automatically (linearly spaced).\n",
      "    \n",
      "    >>> pd.date_range(start='2018-04-24', end='2018-04-27', periods=3)\n",
      "    DatetimeIndex(['2018-04-24 00:00:00', '2018-04-25 12:00:00',\n",
      "                   '2018-04-27 00:00:00'],\n",
      "                  dtype='datetime64[ns]', freq=None)\n",
      "    \n",
      "    **Other Parameters**\n",
      "    \n",
      "    Changed the `freq` (frequency) to ``'M'`` (month end frequency).\n",
      "    \n",
      "    >>> pd.date_range(start='1/1/2018', periods=5, freq='M')\n",
      "    DatetimeIndex(['2018-01-31', '2018-02-28', '2018-03-31', '2018-04-30',\n",
      "                   '2018-05-31'],\n",
      "                  dtype='datetime64[ns]', freq='M')\n",
      "    \n",
      "    Multiples are allowed\n",
      "    \n",
      "    >>> pd.date_range(start='1/1/2018', periods=5, freq='3M')\n",
      "    DatetimeIndex(['2018-01-31', '2018-04-30', '2018-07-31', '2018-10-31',\n",
      "                   '2019-01-31'],\n",
      "                  dtype='datetime64[ns]', freq='3M')\n",
      "    \n",
      "    `freq` can also be specified as an Offset object.\n",
      "    \n",
      "    >>> pd.date_range(start='1/1/2018', periods=5, freq=pd.offsets.MonthEnd(3))\n",
      "    DatetimeIndex(['2018-01-31', '2018-04-30', '2018-07-31', '2018-10-31',\n",
      "                   '2019-01-31'],\n",
      "                  dtype='datetime64[ns]', freq='3M')\n",
      "    \n",
      "    Specify `tz` to set the timezone.\n",
      "    \n",
      "    >>> pd.date_range(start='1/1/2018', periods=5, tz='Asia/Tokyo')\n",
      "    DatetimeIndex(['2018-01-01 00:00:00+09:00', '2018-01-02 00:00:00+09:00',\n",
      "                   '2018-01-03 00:00:00+09:00', '2018-01-04 00:00:00+09:00',\n",
      "                   '2018-01-05 00:00:00+09:00'],\n",
      "                  dtype='datetime64[ns, Asia/Tokyo]', freq='D')\n",
      "    \n",
      "    `closed` controls whether to include `start` and `end` that are on the\n",
      "    boundary. The default includes boundary points on either end.\n",
      "    \n",
      "    >>> pd.date_range(start='2017-01-01', end='2017-01-04', closed=None)\n",
      "    DatetimeIndex(['2017-01-01', '2017-01-02', '2017-01-03', '2017-01-04'],\n",
      "                  dtype='datetime64[ns]', freq='D')\n",
      "    \n",
      "    Use ``closed='left'`` to exclude `end` if it falls on the boundary.\n",
      "    \n",
      "    >>> pd.date_range(start='2017-01-01', end='2017-01-04', closed='left')\n",
      "    DatetimeIndex(['2017-01-01', '2017-01-02', '2017-01-03'],\n",
      "                  dtype='datetime64[ns]', freq='D')\n",
      "    \n",
      "    Use ``closed='right'`` to exclude `start` if it falls on the boundary.\n",
      "    \n",
      "    >>> pd.date_range(start='2017-01-01', end='2017-01-04', closed='right')\n",
      "    DatetimeIndex(['2017-01-02', '2017-01-03', '2017-01-04'],\n",
      "                  dtype='datetime64[ns]', freq='D')\n",
      "\n"
     ]
    }
   ],
   "source": [
    "help(pd.date_range)"
   ]
  },
  {
   "cell_type": "markdown",
   "metadata": {},
   "source": [
    "### E se incluimos uma matriz?\n",
    "\n",
    "- No caso de matrizes, o pd.Series não é a estrutura correta, por se tratar de um elemento bidimensional\n",
    "\n",
    "- Desta forma, expandimos a noção de series, para tabela: **pd.DataFrame**"
   ]
  },
  {
   "cell_type": "code",
   "execution_count": 75,
   "metadata": {},
   "outputs": [
    {
     "data": {
      "text/plain": [
       "array([[ 0.73869719,  0.65019944, -1.91127305, -0.53641091],\n",
       "       [-2.12801572, -0.53524572, -1.2739287 , -1.92873533],\n",
       "       [ 0.85359788, -0.51519816, -0.91961317, -0.00735311],\n",
       "       [ 1.64593607, -1.32971639, -2.47409539,  1.29001117],\n",
       "       [-1.36990897, -0.52794523, -0.32987982,  0.22009789],\n",
       "       [ 1.53331382, -0.89914449,  0.96448124, -0.72120449],\n",
       "       [ 0.37625504,  2.00419941,  1.25379417, -0.50909154],\n",
       "       [ 0.2787009 ,  1.37613634,  0.46047335, -0.38038758],\n",
       "       [ 0.31811602, -0.25846701, -1.01610553, -0.36189424],\n",
       "       [ 1.30804878,  0.65781803, -0.34629726, -0.83982676],\n",
       "       [ 0.05249989,  1.72557002, -0.27866085, -0.00998005],\n",
       "       [-0.71877944,  0.56781182, -0.35590297,  1.25367399],\n",
       "       [ 1.27659824, -0.77766031,  0.02939525,  0.24135866],\n",
       "       [ 2.39487086,  0.88835466,  0.11558606, -0.5137699 ],\n",
       "       [-1.56024575,  1.15436319,  0.30334006,  0.32499497],\n",
       "       [ 0.24171359,  1.7305589 ,  0.59267336, -1.79277295],\n",
       "       [ 1.84246553, -0.02572199,  0.08971298,  0.42219941],\n",
       "       [ 0.3988944 , -0.43836717,  0.07882789,  0.44684175],\n",
       "       [-0.00736741,  0.19272167, -0.08639792, -0.63374506],\n",
       "       [ 0.3458566 ,  1.64613968,  0.37259249, -1.72786862],\n",
       "       [-0.49187367,  1.11907592, -0.31354307,  1.80513597],\n",
       "       [ 0.02880556,  1.53691609,  0.36099357, -0.68627001],\n",
       "       [ 0.75263607,  0.49125348,  0.46807161, -0.71516225],\n",
       "       [ 1.48992446,  1.72502866, -0.15994551, -0.20428592],\n",
       "       [ 1.93489992,  0.26097311, -0.14970578, -0.02839886],\n",
       "       [-1.8835313 ,  1.15620752,  1.47570203,  1.09939711],\n",
       "       [ 2.90089582, -0.4759621 ,  0.86159708,  1.42818881],\n",
       "       [-0.16666862, -1.82310648,  0.53162967, -0.01989292],\n",
       "       [ 0.63956958,  0.29301664,  1.23465369, -0.94362772],\n",
       "       [-0.75381364,  2.14948564, -0.68215925, -1.43467056]])"
      ]
     },
     "execution_count": 75,
     "metadata": {},
     "output_type": "execute_result"
    }
   ],
   "source": [
    "np.random.randn(30,4)"
   ]
  },
  {
   "cell_type": "code",
   "execution_count": 94,
   "metadata": {
    "scrolled": true
   },
   "outputs": [
    {
     "data": {
      "text/html": [
       "<div>\n",
       "<style scoped>\n",
       "    .dataframe tbody tr th:only-of-type {\n",
       "        vertical-align: middle;\n",
       "    }\n",
       "\n",
       "    .dataframe tbody tr th {\n",
       "        vertical-align: top;\n",
       "    }\n",
       "\n",
       "    .dataframe thead th {\n",
       "        text-align: right;\n",
       "    }\n",
       "</style>\n",
       "<table border=\"1\" class=\"dataframe\">\n",
       "  <thead>\n",
       "    <tr style=\"text-align: right;\">\n",
       "      <th></th>\n",
       "      <th>0</th>\n",
       "      <th>1</th>\n",
       "      <th>2</th>\n",
       "      <th>3</th>\n",
       "    </tr>\n",
       "  </thead>\n",
       "  <tbody>\n",
       "    <tr>\n",
       "      <th>2020-09-28</th>\n",
       "      <td>0.457371</td>\n",
       "      <td>-0.879157</td>\n",
       "      <td>0.583330</td>\n",
       "      <td>-1.000114</td>\n",
       "    </tr>\n",
       "    <tr>\n",
       "      <th>2020-09-29</th>\n",
       "      <td>-0.206490</td>\n",
       "      <td>0.320839</td>\n",
       "      <td>-0.073662</td>\n",
       "      <td>-1.100085</td>\n",
       "    </tr>\n",
       "    <tr>\n",
       "      <th>2020-09-30</th>\n",
       "      <td>0.530208</td>\n",
       "      <td>-1.755606</td>\n",
       "      <td>-0.877988</td>\n",
       "      <td>1.489265</td>\n",
       "    </tr>\n",
       "    <tr>\n",
       "      <th>2020-10-01</th>\n",
       "      <td>0.770952</td>\n",
       "      <td>0.336822</td>\n",
       "      <td>0.357753</td>\n",
       "      <td>0.029414</td>\n",
       "    </tr>\n",
       "    <tr>\n",
       "      <th>2020-10-02</th>\n",
       "      <td>-0.143018</td>\n",
       "      <td>-0.930044</td>\n",
       "      <td>0.115112</td>\n",
       "      <td>1.469083</td>\n",
       "    </tr>\n",
       "    <tr>\n",
       "      <th>2020-10-03</th>\n",
       "      <td>1.533250</td>\n",
       "      <td>-1.223629</td>\n",
       "      <td>2.407742</td>\n",
       "      <td>-0.735663</td>\n",
       "    </tr>\n",
       "    <tr>\n",
       "      <th>2020-10-04</th>\n",
       "      <td>-0.499551</td>\n",
       "      <td>-0.680852</td>\n",
       "      <td>-1.150850</td>\n",
       "      <td>0.685833</td>\n",
       "    </tr>\n",
       "    <tr>\n",
       "      <th>2020-10-05</th>\n",
       "      <td>-0.200054</td>\n",
       "      <td>-1.258089</td>\n",
       "      <td>-0.210340</td>\n",
       "      <td>0.414604</td>\n",
       "    </tr>\n",
       "    <tr>\n",
       "      <th>2020-10-06</th>\n",
       "      <td>-2.417154</td>\n",
       "      <td>0.882970</td>\n",
       "      <td>-0.396638</td>\n",
       "      <td>0.174092</td>\n",
       "    </tr>\n",
       "    <tr>\n",
       "      <th>2020-10-07</th>\n",
       "      <td>1.439675</td>\n",
       "      <td>-1.130625</td>\n",
       "      <td>-1.329292</td>\n",
       "      <td>-0.268661</td>\n",
       "    </tr>\n",
       "    <tr>\n",
       "      <th>2020-10-08</th>\n",
       "      <td>-0.587003</td>\n",
       "      <td>-1.248360</td>\n",
       "      <td>0.040795</td>\n",
       "      <td>-0.618187</td>\n",
       "    </tr>\n",
       "    <tr>\n",
       "      <th>2020-10-09</th>\n",
       "      <td>-0.113577</td>\n",
       "      <td>0.119888</td>\n",
       "      <td>1.728034</td>\n",
       "      <td>-1.539508</td>\n",
       "    </tr>\n",
       "    <tr>\n",
       "      <th>2020-10-10</th>\n",
       "      <td>1.240064</td>\n",
       "      <td>-2.188801</td>\n",
       "      <td>0.920286</td>\n",
       "      <td>0.480053</td>\n",
       "    </tr>\n",
       "    <tr>\n",
       "      <th>2020-10-11</th>\n",
       "      <td>1.170962</td>\n",
       "      <td>-0.179637</td>\n",
       "      <td>0.290563</td>\n",
       "      <td>-1.480861</td>\n",
       "    </tr>\n",
       "    <tr>\n",
       "      <th>2020-10-12</th>\n",
       "      <td>0.205238</td>\n",
       "      <td>-1.595464</td>\n",
       "      <td>0.460546</td>\n",
       "      <td>-1.335749</td>\n",
       "    </tr>\n",
       "    <tr>\n",
       "      <th>2020-10-13</th>\n",
       "      <td>-0.777552</td>\n",
       "      <td>-1.171814</td>\n",
       "      <td>-1.587152</td>\n",
       "      <td>0.097523</td>\n",
       "    </tr>\n",
       "    <tr>\n",
       "      <th>2020-10-14</th>\n",
       "      <td>-0.365105</td>\n",
       "      <td>1.787392</td>\n",
       "      <td>1.386424</td>\n",
       "      <td>-0.470916</td>\n",
       "    </tr>\n",
       "    <tr>\n",
       "      <th>2020-10-15</th>\n",
       "      <td>0.950224</td>\n",
       "      <td>1.310818</td>\n",
       "      <td>-0.130362</td>\n",
       "      <td>-0.009626</td>\n",
       "    </tr>\n",
       "    <tr>\n",
       "      <th>2020-10-16</th>\n",
       "      <td>0.502305</td>\n",
       "      <td>-0.952283</td>\n",
       "      <td>-0.403228</td>\n",
       "      <td>0.645353</td>\n",
       "    </tr>\n",
       "    <tr>\n",
       "      <th>2020-10-17</th>\n",
       "      <td>-1.307474</td>\n",
       "      <td>0.217452</td>\n",
       "      <td>-1.057232</td>\n",
       "      <td>-0.543083</td>\n",
       "    </tr>\n",
       "    <tr>\n",
       "      <th>2020-10-18</th>\n",
       "      <td>0.474735</td>\n",
       "      <td>-0.168946</td>\n",
       "      <td>0.117801</td>\n",
       "      <td>-0.564799</td>\n",
       "    </tr>\n",
       "    <tr>\n",
       "      <th>2020-10-19</th>\n",
       "      <td>-1.109215</td>\n",
       "      <td>0.520826</td>\n",
       "      <td>-1.080987</td>\n",
       "      <td>-0.833276</td>\n",
       "    </tr>\n",
       "    <tr>\n",
       "      <th>2020-10-20</th>\n",
       "      <td>0.190254</td>\n",
       "      <td>0.005403</td>\n",
       "      <td>-0.559549</td>\n",
       "      <td>-0.485300</td>\n",
       "    </tr>\n",
       "    <tr>\n",
       "      <th>2020-10-21</th>\n",
       "      <td>0.543546</td>\n",
       "      <td>-1.489034</td>\n",
       "      <td>-0.382588</td>\n",
       "      <td>0.352776</td>\n",
       "    </tr>\n",
       "    <tr>\n",
       "      <th>2020-10-22</th>\n",
       "      <td>-2.205992</td>\n",
       "      <td>0.678270</td>\n",
       "      <td>0.314805</td>\n",
       "      <td>-1.526717</td>\n",
       "    </tr>\n",
       "    <tr>\n",
       "      <th>2020-10-23</th>\n",
       "      <td>0.071873</td>\n",
       "      <td>0.166561</td>\n",
       "      <td>0.462306</td>\n",
       "      <td>-0.763608</td>\n",
       "    </tr>\n",
       "    <tr>\n",
       "      <th>2020-10-24</th>\n",
       "      <td>-0.457708</td>\n",
       "      <td>-0.237056</td>\n",
       "      <td>2.067688</td>\n",
       "      <td>1.767471</td>\n",
       "    </tr>\n",
       "    <tr>\n",
       "      <th>2020-10-25</th>\n",
       "      <td>-0.990361</td>\n",
       "      <td>-0.915597</td>\n",
       "      <td>-0.461874</td>\n",
       "      <td>-1.453261</td>\n",
       "    </tr>\n",
       "    <tr>\n",
       "      <th>2020-10-26</th>\n",
       "      <td>3.294767</td>\n",
       "      <td>-1.033640</td>\n",
       "      <td>-0.773855</td>\n",
       "      <td>-0.929904</td>\n",
       "    </tr>\n",
       "    <tr>\n",
       "      <th>2020-10-27</th>\n",
       "      <td>-0.541109</td>\n",
       "      <td>0.435351</td>\n",
       "      <td>0.671731</td>\n",
       "      <td>0.343014</td>\n",
       "    </tr>\n",
       "  </tbody>\n",
       "</table>\n",
       "</div>"
      ],
      "text/plain": [
       "                   0         1         2         3\n",
       "2020-09-28  0.457371 -0.879157  0.583330 -1.000114\n",
       "2020-09-29 -0.206490  0.320839 -0.073662 -1.100085\n",
       "2020-09-30  0.530208 -1.755606 -0.877988  1.489265\n",
       "2020-10-01  0.770952  0.336822  0.357753  0.029414\n",
       "2020-10-02 -0.143018 -0.930044  0.115112  1.469083\n",
       "2020-10-03  1.533250 -1.223629  2.407742 -0.735663\n",
       "2020-10-04 -0.499551 -0.680852 -1.150850  0.685833\n",
       "2020-10-05 -0.200054 -1.258089 -0.210340  0.414604\n",
       "2020-10-06 -2.417154  0.882970 -0.396638  0.174092\n",
       "2020-10-07  1.439675 -1.130625 -1.329292 -0.268661\n",
       "2020-10-08 -0.587003 -1.248360  0.040795 -0.618187\n",
       "2020-10-09 -0.113577  0.119888  1.728034 -1.539508\n",
       "2020-10-10  1.240064 -2.188801  0.920286  0.480053\n",
       "2020-10-11  1.170962 -0.179637  0.290563 -1.480861\n",
       "2020-10-12  0.205238 -1.595464  0.460546 -1.335749\n",
       "2020-10-13 -0.777552 -1.171814 -1.587152  0.097523\n",
       "2020-10-14 -0.365105  1.787392  1.386424 -0.470916\n",
       "2020-10-15  0.950224  1.310818 -0.130362 -0.009626\n",
       "2020-10-16  0.502305 -0.952283 -0.403228  0.645353\n",
       "2020-10-17 -1.307474  0.217452 -1.057232 -0.543083\n",
       "2020-10-18  0.474735 -0.168946  0.117801 -0.564799\n",
       "2020-10-19 -1.109215  0.520826 -1.080987 -0.833276\n",
       "2020-10-20  0.190254  0.005403 -0.559549 -0.485300\n",
       "2020-10-21  0.543546 -1.489034 -0.382588  0.352776\n",
       "2020-10-22 -2.205992  0.678270  0.314805 -1.526717\n",
       "2020-10-23  0.071873  0.166561  0.462306 -0.763608\n",
       "2020-10-24 -0.457708 -0.237056  2.067688  1.767471\n",
       "2020-10-25 -0.990361 -0.915597 -0.461874 -1.453261\n",
       "2020-10-26  3.294767 -1.033640 -0.773855 -0.929904\n",
       "2020-10-27 -0.541109  0.435351  0.671731  0.343014"
      ]
     },
     "execution_count": 94,
     "metadata": {},
     "output_type": "execute_result"
    }
   ],
   "source": [
    "dates = pd.date_range('20200928', periods=30)\n",
    "\n",
    "df = pd.DataFrame(np.random.randn(30,4),index=dates,)\n",
    "# df = pd.DataFrame(np.random.randn(30,4), index=dates,columns=['A','B','C','D'])\n",
    "df"
   ]
  },
  {
   "cell_type": "code",
   "execution_count": 95,
   "metadata": {},
   "outputs": [
    {
     "data": {
      "text/plain": [
       "(30, 4)"
      ]
     },
     "execution_count": 95,
     "metadata": {},
     "output_type": "execute_result"
    }
   ],
   "source": [
    "df.shape"
   ]
  },
  {
   "cell_type": "code",
   "execution_count": 96,
   "metadata": {},
   "outputs": [
    {
     "data": {
      "text/plain": [
       "RangeIndex(start=0, stop=4, step=1)"
      ]
     },
     "execution_count": 96,
     "metadata": {},
     "output_type": "execute_result"
    }
   ],
   "source": [
    "df.columns"
   ]
  },
  {
   "cell_type": "code",
   "execution_count": 97,
   "metadata": {},
   "outputs": [
    {
     "data": {
      "text/plain": [
       "DatetimeIndex(['2020-09-28', '2020-09-29', '2020-09-30', '2020-10-01',\n",
       "               '2020-10-02', '2020-10-03', '2020-10-04', '2020-10-05',\n",
       "               '2020-10-06', '2020-10-07', '2020-10-08', '2020-10-09',\n",
       "               '2020-10-10', '2020-10-11', '2020-10-12', '2020-10-13',\n",
       "               '2020-10-14', '2020-10-15', '2020-10-16', '2020-10-17',\n",
       "               '2020-10-18', '2020-10-19', '2020-10-20', '2020-10-21',\n",
       "               '2020-10-22', '2020-10-23', '2020-10-24', '2020-10-25',\n",
       "               '2020-10-26', '2020-10-27'],\n",
       "              dtype='datetime64[ns]', freq='D')"
      ]
     },
     "execution_count": 97,
     "metadata": {},
     "output_type": "execute_result"
    }
   ],
   "source": [
    "df.index"
   ]
  },
  {
   "cell_type": "code",
   "execution_count": 98,
   "metadata": {},
   "outputs": [
    {
     "data": {
      "text/plain": [
       "0    float64\n",
       "1    float64\n",
       "2    float64\n",
       "3    float64\n",
       "dtype: object"
      ]
     },
     "execution_count": 98,
     "metadata": {},
     "output_type": "execute_result"
    }
   ],
   "source": [
    "df.dtypes"
   ]
  },
  {
   "cell_type": "code",
   "execution_count": 99,
   "metadata": {},
   "outputs": [],
   "source": [
    "#df[0] = df[0].apply(str)"
   ]
  },
  {
   "cell_type": "code",
   "execution_count": 100,
   "metadata": {},
   "outputs": [
    {
     "data": {
      "text/html": [
       "<div>\n",
       "<style scoped>\n",
       "    .dataframe tbody tr th:only-of-type {\n",
       "        vertical-align: middle;\n",
       "    }\n",
       "\n",
       "    .dataframe tbody tr th {\n",
       "        vertical-align: top;\n",
       "    }\n",
       "\n",
       "    .dataframe thead th {\n",
       "        text-align: right;\n",
       "    }\n",
       "</style>\n",
       "<table border=\"1\" class=\"dataframe\">\n",
       "  <thead>\n",
       "    <tr style=\"text-align: right;\">\n",
       "      <th></th>\n",
       "      <th>0</th>\n",
       "      <th>1</th>\n",
       "      <th>2</th>\n",
       "      <th>3</th>\n",
       "    </tr>\n",
       "  </thead>\n",
       "  <tbody>\n",
       "    <tr>\n",
       "      <th>count</th>\n",
       "      <td>30.000000</td>\n",
       "      <td>30.000000</td>\n",
       "      <td>30.000000</td>\n",
       "      <td>30.000000</td>\n",
       "    </tr>\n",
       "    <tr>\n",
       "      <th>mean</th>\n",
       "      <td>0.048469</td>\n",
       "      <td>-0.408535</td>\n",
       "      <td>0.048311</td>\n",
       "      <td>-0.257028</td>\n",
       "    </tr>\n",
       "    <tr>\n",
       "      <th>std</th>\n",
       "      <td>1.137779</td>\n",
       "      <td>0.962575</td>\n",
       "      <td>0.976292</td>\n",
       "      <td>0.915380</td>\n",
       "    </tr>\n",
       "    <tr>\n",
       "      <th>min</th>\n",
       "      <td>-2.417154</td>\n",
       "      <td>-2.188801</td>\n",
       "      <td>-1.587152</td>\n",
       "      <td>-1.539508</td>\n",
       "    </tr>\n",
       "    <tr>\n",
       "      <th>25%</th>\n",
       "      <td>-0.530719</td>\n",
       "      <td>-1.161517</td>\n",
       "      <td>-0.535130</td>\n",
       "      <td>-0.905747</td>\n",
       "    </tr>\n",
       "    <tr>\n",
       "      <th>50%</th>\n",
       "      <td>-0.020852</td>\n",
       "      <td>-0.458954</td>\n",
       "      <td>-0.016433</td>\n",
       "      <td>-0.478108</td>\n",
       "    </tr>\n",
       "    <tr>\n",
       "      <th>75%</th>\n",
       "      <td>0.540212</td>\n",
       "      <td>0.294992</td>\n",
       "      <td>0.461866</td>\n",
       "      <td>0.350336</td>\n",
       "    </tr>\n",
       "    <tr>\n",
       "      <th>max</th>\n",
       "      <td>3.294767</td>\n",
       "      <td>1.787392</td>\n",
       "      <td>2.407742</td>\n",
       "      <td>1.767471</td>\n",
       "    </tr>\n",
       "  </tbody>\n",
       "</table>\n",
       "</div>"
      ],
      "text/plain": [
       "               0          1          2          3\n",
       "count  30.000000  30.000000  30.000000  30.000000\n",
       "mean    0.048469  -0.408535   0.048311  -0.257028\n",
       "std     1.137779   0.962575   0.976292   0.915380\n",
       "min    -2.417154  -2.188801  -1.587152  -1.539508\n",
       "25%    -0.530719  -1.161517  -0.535130  -0.905747\n",
       "50%    -0.020852  -0.458954  -0.016433  -0.478108\n",
       "75%     0.540212   0.294992   0.461866   0.350336\n",
       "max     3.294767   1.787392   2.407742   1.767471"
      ]
     },
     "execution_count": 100,
     "metadata": {},
     "output_type": "execute_result"
    }
   ],
   "source": [
    "df.describe()"
   ]
  },
  {
   "cell_type": "code",
   "execution_count": 101,
   "metadata": {},
   "outputs": [
    {
     "data": {
      "text/plain": [
       "<matplotlib.axes._subplots.AxesSubplot at 0x7f9b19d11ca0>"
      ]
     },
     "execution_count": 101,
     "metadata": {},
     "output_type": "execute_result"
    },
    {
     "data": {
      "image/png": "[encoded data removed]",
      "text/plain": [
       "<Figure size 432x288 with 1 Axes>"
      ]
     },
     "metadata": {
      "needs_background": "light"
     },
     "output_type": "display_data"
    }
   ],
   "source": [
    "df.plot()"
   ]
  },
  {
   "cell_type": "code",
   "execution_count": 102,
   "metadata": {},
   "outputs": [
    {
     "data": {
      "text/plain": [
       "<matplotlib.axes._subplots.AxesSubplot at 0x7f9b1a2aa1f0>"
      ]
     },
     "execution_count": 102,
     "metadata": {},
     "output_type": "execute_result"
    },
    {
     "data": {
      "image/png": "[encoded data removed]",
      "text/plain": [
       "<Figure size 432x288 with 1 Axes>"
      ]
     },
     "metadata": {
      "needs_background": "light"
     },
     "output_type": "display_data"
    }
   ],
   "source": [
    "df.plot(kind='bar')"
   ]
  },
  {
   "cell_type": "code",
   "execution_count": 103,
   "metadata": {},
   "outputs": [
    {
     "data": {
      "text/plain": [
       "<matplotlib.axes._subplots.AxesSubplot at 0x7f9b1a495fa0>"
      ]
     },
     "execution_count": 103,
     "metadata": {},
     "output_type": "execute_result"
    },
    {
     "data": {
      "image/png": "[encoded data removed]",
      "text/plain": [
       "<Figure size 432x288 with 1 Axes>"
      ]
     },
     "metadata": {
      "needs_background": "light"
     },
     "output_type": "display_data"
    }
   ],
   "source": [
    "df.plot(kind='box')"
   ]
  },
  {
   "cell_type": "markdown",
   "metadata": {},
   "source": [
    "### Cada coluna em si é uma série do pandas, logo, podemos chamá-la e tratá-la isoladamente da mesma forma:"
   ]
  },
  {
   "cell_type": "code",
   "execution_count": 104,
   "metadata": {
    "scrolled": true
   },
   "outputs": [
    {
     "data": {
      "text/plain": [
       "2020-09-28    0.457371\n",
       "2020-09-29   -0.206490\n",
       "2020-09-30    0.530208\n",
       "2020-10-01    0.770952\n",
       "2020-10-02   -0.143018\n",
       "2020-10-03    1.533250\n",
       "2020-10-04   -0.499551\n",
       "2020-10-05   -0.200054\n",
       "2020-10-06   -2.417154\n",
       "2020-10-07    1.439675\n",
       "2020-10-08   -0.587003\n",
       "2020-10-09   -0.113577\n",
       "2020-10-10    1.240064\n",
       "2020-10-11    1.170962\n",
       "2020-10-12    0.205238\n",
       "2020-10-13   -0.777552\n",
       "2020-10-14   -0.365105\n",
       "2020-10-15    0.950224\n",
       "2020-10-16    0.502305\n",
       "2020-10-17   -1.307474\n",
       "2020-10-18    0.474735\n",
       "2020-10-19   -1.109215\n",
       "2020-10-20    0.190254\n",
       "2020-10-21    0.543546\n",
       "2020-10-22   -2.205992\n",
       "2020-10-23    0.071873\n",
       "2020-10-24   -0.457708\n",
       "2020-10-25   -0.990361\n",
       "2020-10-26    3.294767\n",
       "2020-10-27   -0.541109\n",
       "Freq: D, Name: 0, dtype: float64"
      ]
     },
     "execution_count": 104,
     "metadata": {},
     "output_type": "execute_result"
    }
   ],
   "source": [
    "df[0]"
   ]
  },
  {
   "cell_type": "code",
   "execution_count": 105,
   "metadata": {
    "scrolled": true
   },
   "outputs": [
    {
     "data": {
      "text/plain": [
       "2020-09-28     1.579915\n",
       "2020-09-29     0.813435\n",
       "2020-09-30     1.699286\n",
       "2020-10-01     2.161823\n",
       "2020-10-02     0.866739\n",
       "2020-10-03     4.633211\n",
       "2020-10-04     0.606803\n",
       "2020-10-05     0.818686\n",
       "2020-10-06     0.089175\n",
       "2020-10-07     4.219325\n",
       "2020-10-08     0.555991\n",
       "2020-10-09     0.892635\n",
       "2020-10-10     3.455835\n",
       "2020-10-11     3.225094\n",
       "2020-10-12     1.227817\n",
       "2020-10-13     0.459530\n",
       "2020-10-14     0.694124\n",
       "2020-10-15     2.586289\n",
       "2020-10-16     1.652527\n",
       "2020-10-17     0.270502\n",
       "2020-10-18     1.607588\n",
       "2020-10-19     0.329818\n",
       "2020-10-20     1.209556\n",
       "2020-10-21     1.722103\n",
       "2020-10-22     0.110141\n",
       "2020-10-23     1.074519\n",
       "2020-10-24     0.632732\n",
       "2020-10-25     0.371443\n",
       "2020-10-26    26.971142\n",
       "2020-10-27     0.582102\n",
       "Freq: D, Name: 0, dtype: float64"
      ]
     },
     "execution_count": 105,
     "metadata": {},
     "output_type": "execute_result"
    }
   ],
   "source": [
    "df[0].apply(np.exp)"
   ]
  },
  {
   "cell_type": "markdown",
   "metadata": {},
   "source": [
    "### E incluir novo resultado em nova coluna:"
   ]
  },
  {
   "cell_type": "code",
   "execution_count": 106,
   "metadata": {},
   "outputs": [],
   "source": [
    "df['sin_col_0'] = df[0].apply(np.exp)"
   ]
  },
  {
   "cell_type": "code",
   "execution_count": 107,
   "metadata": {},
   "outputs": [
    {
     "data": {
      "text/html": [
       "<div>\n",
       "<style scoped>\n",
       "    .dataframe tbody tr th:only-of-type {\n",
       "        vertical-align: middle;\n",
       "    }\n",
       "\n",
       "    .dataframe tbody tr th {\n",
       "        vertical-align: top;\n",
       "    }\n",
       "\n",
       "    .dataframe thead th {\n",
       "        text-align: right;\n",
       "    }\n",
       "</style>\n",
       "<table border=\"1\" class=\"dataframe\">\n",
       "  <thead>\n",
       "    <tr style=\"text-align: right;\">\n",
       "      <th></th>\n",
       "      <th>0</th>\n",
       "      <th>1</th>\n",
       "      <th>2</th>\n",
       "      <th>3</th>\n",
       "      <th>sin_col_0</th>\n",
       "    </tr>\n",
       "  </thead>\n",
       "  <tbody>\n",
       "    <tr>\n",
       "      <th>2020-09-28</th>\n",
       "      <td>0.457371</td>\n",
       "      <td>-0.879157</td>\n",
       "      <td>0.583330</td>\n",
       "      <td>-1.000114</td>\n",
       "      <td>1.579915</td>\n",
       "    </tr>\n",
       "    <tr>\n",
       "      <th>2020-09-29</th>\n",
       "      <td>-0.206490</td>\n",
       "      <td>0.320839</td>\n",
       "      <td>-0.073662</td>\n",
       "      <td>-1.100085</td>\n",
       "      <td>0.813435</td>\n",
       "    </tr>\n",
       "    <tr>\n",
       "      <th>2020-09-30</th>\n",
       "      <td>0.530208</td>\n",
       "      <td>-1.755606</td>\n",
       "      <td>-0.877988</td>\n",
       "      <td>1.489265</td>\n",
       "      <td>1.699286</td>\n",
       "    </tr>\n",
       "    <tr>\n",
       "      <th>2020-10-01</th>\n",
       "      <td>0.770952</td>\n",
       "      <td>0.336822</td>\n",
       "      <td>0.357753</td>\n",
       "      <td>0.029414</td>\n",
       "      <td>2.161823</td>\n",
       "    </tr>\n",
       "    <tr>\n",
       "      <th>2020-10-02</th>\n",
       "      <td>-0.143018</td>\n",
       "      <td>-0.930044</td>\n",
       "      <td>0.115112</td>\n",
       "      <td>1.469083</td>\n",
       "      <td>0.866739</td>\n",
       "    </tr>\n",
       "  </tbody>\n",
       "</table>\n",
       "</div>"
      ],
      "text/plain": [
       "                   0         1         2         3  sin_col_0\n",
       "2020-09-28  0.457371 -0.879157  0.583330 -1.000114   1.579915\n",
       "2020-09-29 -0.206490  0.320839 -0.073662 -1.100085   0.813435\n",
       "2020-09-30  0.530208 -1.755606 -0.877988  1.489265   1.699286\n",
       "2020-10-01  0.770952  0.336822  0.357753  0.029414   2.161823\n",
       "2020-10-02 -0.143018 -0.930044  0.115112  1.469083   0.866739"
      ]
     },
     "execution_count": 107,
     "metadata": {},
     "output_type": "execute_result"
    }
   ],
   "source": [
    "df.head()"
   ]
  },
  {
   "cell_type": "code",
   "execution_count": 108,
   "metadata": {},
   "outputs": [
    {
     "data": {
      "text/html": [
       "<div>\n",
       "<style scoped>\n",
       "    .dataframe tbody tr th:only-of-type {\n",
       "        vertical-align: middle;\n",
       "    }\n",
       "\n",
       "    .dataframe tbody tr th {\n",
       "        vertical-align: top;\n",
       "    }\n",
       "\n",
       "    .dataframe thead th {\n",
       "        text-align: right;\n",
       "    }\n",
       "</style>\n",
       "<table border=\"1\" class=\"dataframe\">\n",
       "  <thead>\n",
       "    <tr style=\"text-align: right;\">\n",
       "      <th></th>\n",
       "      <th>0</th>\n",
       "      <th>1</th>\n",
       "      <th>2</th>\n",
       "      <th>3</th>\n",
       "      <th>sin_col_0</th>\n",
       "    </tr>\n",
       "  </thead>\n",
       "  <tbody>\n",
       "    <tr>\n",
       "      <th>2020-10-23</th>\n",
       "      <td>0.071873</td>\n",
       "      <td>0.166561</td>\n",
       "      <td>0.462306</td>\n",
       "      <td>-0.763608</td>\n",
       "      <td>1.074519</td>\n",
       "    </tr>\n",
       "    <tr>\n",
       "      <th>2020-10-24</th>\n",
       "      <td>-0.457708</td>\n",
       "      <td>-0.237056</td>\n",
       "      <td>2.067688</td>\n",
       "      <td>1.767471</td>\n",
       "      <td>0.632732</td>\n",
       "    </tr>\n",
       "    <tr>\n",
       "      <th>2020-10-25</th>\n",
       "      <td>-0.990361</td>\n",
       "      <td>-0.915597</td>\n",
       "      <td>-0.461874</td>\n",
       "      <td>-1.453261</td>\n",
       "      <td>0.371443</td>\n",
       "    </tr>\n",
       "    <tr>\n",
       "      <th>2020-10-26</th>\n",
       "      <td>3.294767</td>\n",
       "      <td>-1.033640</td>\n",
       "      <td>-0.773855</td>\n",
       "      <td>-0.929904</td>\n",
       "      <td>26.971142</td>\n",
       "    </tr>\n",
       "    <tr>\n",
       "      <th>2020-10-27</th>\n",
       "      <td>-0.541109</td>\n",
       "      <td>0.435351</td>\n",
       "      <td>0.671731</td>\n",
       "      <td>0.343014</td>\n",
       "      <td>0.582102</td>\n",
       "    </tr>\n",
       "  </tbody>\n",
       "</table>\n",
       "</div>"
      ],
      "text/plain": [
       "                   0         1         2         3  sin_col_0\n",
       "2020-10-23  0.071873  0.166561  0.462306 -0.763608   1.074519\n",
       "2020-10-24 -0.457708 -0.237056  2.067688  1.767471   0.632732\n",
       "2020-10-25 -0.990361 -0.915597 -0.461874 -1.453261   0.371443\n",
       "2020-10-26  3.294767 -1.033640 -0.773855 -0.929904  26.971142\n",
       "2020-10-27 -0.541109  0.435351  0.671731  0.343014   0.582102"
      ]
     },
     "execution_count": 108,
     "metadata": {},
     "output_type": "execute_result"
    }
   ],
   "source": [
    "df.tail()"
   ]
  },
  {
   "cell_type": "code",
   "execution_count": 109,
   "metadata": {},
   "outputs": [
    {
     "data": {
      "text/html": [
       "<div>\n",
       "<style scoped>\n",
       "    .dataframe tbody tr th:only-of-type {\n",
       "        vertical-align: middle;\n",
       "    }\n",
       "\n",
       "    .dataframe tbody tr th {\n",
       "        vertical-align: top;\n",
       "    }\n",
       "\n",
       "    .dataframe thead th {\n",
       "        text-align: right;\n",
       "    }\n",
       "</style>\n",
       "<table border=\"1\" class=\"dataframe\">\n",
       "  <thead>\n",
       "    <tr style=\"text-align: right;\">\n",
       "      <th></th>\n",
       "      <th>0</th>\n",
       "      <th>1</th>\n",
       "      <th>2</th>\n",
       "      <th>3</th>\n",
       "      <th>sin_col_0</th>\n",
       "    </tr>\n",
       "  </thead>\n",
       "  <tbody>\n",
       "    <tr>\n",
       "      <th>2020-09-28</th>\n",
       "      <td>0.457371</td>\n",
       "      <td>-0.879157</td>\n",
       "      <td>0.583330</td>\n",
       "      <td>-1.000114</td>\n",
       "      <td>1.579915</td>\n",
       "    </tr>\n",
       "    <tr>\n",
       "      <th>2020-09-29</th>\n",
       "      <td>-0.206490</td>\n",
       "      <td>0.320839</td>\n",
       "      <td>-0.073662</td>\n",
       "      <td>-1.100085</td>\n",
       "      <td>0.813435</td>\n",
       "    </tr>\n",
       "    <tr>\n",
       "      <th>2020-09-30</th>\n",
       "      <td>0.530208</td>\n",
       "      <td>-1.755606</td>\n",
       "      <td>-0.877988</td>\n",
       "      <td>1.489265</td>\n",
       "      <td>1.699286</td>\n",
       "    </tr>\n",
       "    <tr>\n",
       "      <th>2020-10-01</th>\n",
       "      <td>0.770952</td>\n",
       "      <td>0.336822</td>\n",
       "      <td>0.357753</td>\n",
       "      <td>0.029414</td>\n",
       "      <td>2.161823</td>\n",
       "    </tr>\n",
       "    <tr>\n",
       "      <th>2020-10-02</th>\n",
       "      <td>-0.143018</td>\n",
       "      <td>-0.930044</td>\n",
       "      <td>0.115112</td>\n",
       "      <td>1.469083</td>\n",
       "      <td>0.866739</td>\n",
       "    </tr>\n",
       "    <tr>\n",
       "      <th>2020-10-03</th>\n",
       "      <td>1.533250</td>\n",
       "      <td>-1.223629</td>\n",
       "      <td>2.407742</td>\n",
       "      <td>-0.735663</td>\n",
       "      <td>4.633211</td>\n",
       "    </tr>\n",
       "    <tr>\n",
       "      <th>2020-10-04</th>\n",
       "      <td>-0.499551</td>\n",
       "      <td>-0.680852</td>\n",
       "      <td>-1.150850</td>\n",
       "      <td>0.685833</td>\n",
       "      <td>0.606803</td>\n",
       "    </tr>\n",
       "    <tr>\n",
       "      <th>2020-10-05</th>\n",
       "      <td>-0.200054</td>\n",
       "      <td>-1.258089</td>\n",
       "      <td>-0.210340</td>\n",
       "      <td>0.414604</td>\n",
       "      <td>0.818686</td>\n",
       "    </tr>\n",
       "    <tr>\n",
       "      <th>2020-10-06</th>\n",
       "      <td>-2.417154</td>\n",
       "      <td>0.882970</td>\n",
       "      <td>-0.396638</td>\n",
       "      <td>0.174092</td>\n",
       "      <td>0.089175</td>\n",
       "    </tr>\n",
       "    <tr>\n",
       "      <th>2020-10-07</th>\n",
       "      <td>1.439675</td>\n",
       "      <td>-1.130625</td>\n",
       "      <td>-1.329292</td>\n",
       "      <td>-0.268661</td>\n",
       "      <td>4.219325</td>\n",
       "    </tr>\n",
       "  </tbody>\n",
       "</table>\n",
       "</div>"
      ],
      "text/plain": [
       "                   0         1         2         3  sin_col_0\n",
       "2020-09-28  0.457371 -0.879157  0.583330 -1.000114   1.579915\n",
       "2020-09-29 -0.206490  0.320839 -0.073662 -1.100085   0.813435\n",
       "2020-09-30  0.530208 -1.755606 -0.877988  1.489265   1.699286\n",
       "2020-10-01  0.770952  0.336822  0.357753  0.029414   2.161823\n",
       "2020-10-02 -0.143018 -0.930044  0.115112  1.469083   0.866739\n",
       "2020-10-03  1.533250 -1.223629  2.407742 -0.735663   4.633211\n",
       "2020-10-04 -0.499551 -0.680852 -1.150850  0.685833   0.606803\n",
       "2020-10-05 -0.200054 -1.258089 -0.210340  0.414604   0.818686\n",
       "2020-10-06 -2.417154  0.882970 -0.396638  0.174092   0.089175\n",
       "2020-10-07  1.439675 -1.130625 -1.329292 -0.268661   4.219325"
      ]
     },
     "execution_count": 109,
     "metadata": {},
     "output_type": "execute_result"
    }
   ],
   "source": [
    "df.head(10)"
   ]
  },
  {
   "cell_type": "code",
   "execution_count": 115,
   "metadata": {
    "scrolled": true
   },
   "outputs": [],
   "source": [
    "#df = df.astype(str)"
   ]
  },
  {
   "cell_type": "code",
   "execution_count": 117,
   "metadata": {
    "scrolled": true
   },
   "outputs": [
    {
     "data": {
      "text/plain": [
       "dtype('float64')"
      ]
     },
     "execution_count": 117,
     "metadata": {},
     "output_type": "execute_result"
    }
   ],
   "source": [
    "df[0].dtype"
   ]
  },
  {
   "cell_type": "markdown",
   "metadata": {},
   "source": [
    "### Podemos reiniciar index de linhas:"
   ]
  },
  {
   "cell_type": "code",
   "execution_count": 118,
   "metadata": {
    "scrolled": true
   },
   "outputs": [
    {
     "data": {
      "text/html": [
       "<div>\n",
       "<style scoped>\n",
       "    .dataframe tbody tr th:only-of-type {\n",
       "        vertical-align: middle;\n",
       "    }\n",
       "\n",
       "    .dataframe tbody tr th {\n",
       "        vertical-align: top;\n",
       "    }\n",
       "\n",
       "    .dataframe thead th {\n",
       "        text-align: right;\n",
       "    }\n",
       "</style>\n",
       "<table border=\"1\" class=\"dataframe\">\n",
       "  <thead>\n",
       "    <tr style=\"text-align: right;\">\n",
       "      <th></th>\n",
       "      <th>index</th>\n",
       "      <th>0</th>\n",
       "      <th>1</th>\n",
       "      <th>2</th>\n",
       "      <th>3</th>\n",
       "      <th>sin_col_0</th>\n",
       "    </tr>\n",
       "  </thead>\n",
       "  <tbody>\n",
       "    <tr>\n",
       "      <th>0</th>\n",
       "      <td>2020-09-28</td>\n",
       "      <td>0.457371</td>\n",
       "      <td>-0.879157</td>\n",
       "      <td>0.583330</td>\n",
       "      <td>-1.000114</td>\n",
       "      <td>1.579915</td>\n",
       "    </tr>\n",
       "    <tr>\n",
       "      <th>1</th>\n",
       "      <td>2020-09-29</td>\n",
       "      <td>-0.206490</td>\n",
       "      <td>0.320839</td>\n",
       "      <td>-0.073662</td>\n",
       "      <td>-1.100085</td>\n",
       "      <td>0.813435</td>\n",
       "    </tr>\n",
       "    <tr>\n",
       "      <th>2</th>\n",
       "      <td>2020-09-30</td>\n",
       "      <td>0.530208</td>\n",
       "      <td>-1.755606</td>\n",
       "      <td>-0.877988</td>\n",
       "      <td>1.489265</td>\n",
       "      <td>1.699286</td>\n",
       "    </tr>\n",
       "    <tr>\n",
       "      <th>3</th>\n",
       "      <td>2020-10-01</td>\n",
       "      <td>0.770952</td>\n",
       "      <td>0.336822</td>\n",
       "      <td>0.357753</td>\n",
       "      <td>0.029414</td>\n",
       "      <td>2.161823</td>\n",
       "    </tr>\n",
       "    <tr>\n",
       "      <th>4</th>\n",
       "      <td>2020-10-02</td>\n",
       "      <td>-0.143018</td>\n",
       "      <td>-0.930044</td>\n",
       "      <td>0.115112</td>\n",
       "      <td>1.469083</td>\n",
       "      <td>0.866739</td>\n",
       "    </tr>\n",
       "    <tr>\n",
       "      <th>5</th>\n",
       "      <td>2020-10-03</td>\n",
       "      <td>1.533250</td>\n",
       "      <td>-1.223629</td>\n",
       "      <td>2.407742</td>\n",
       "      <td>-0.735663</td>\n",
       "      <td>4.633211</td>\n",
       "    </tr>\n",
       "    <tr>\n",
       "      <th>6</th>\n",
       "      <td>2020-10-04</td>\n",
       "      <td>-0.499551</td>\n",
       "      <td>-0.680852</td>\n",
       "      <td>-1.150850</td>\n",
       "      <td>0.685833</td>\n",
       "      <td>0.606803</td>\n",
       "    </tr>\n",
       "    <tr>\n",
       "      <th>7</th>\n",
       "      <td>2020-10-05</td>\n",
       "      <td>-0.200054</td>\n",
       "      <td>-1.258089</td>\n",
       "      <td>-0.210340</td>\n",
       "      <td>0.414604</td>\n",
       "      <td>0.818686</td>\n",
       "    </tr>\n",
       "    <tr>\n",
       "      <th>8</th>\n",
       "      <td>2020-10-06</td>\n",
       "      <td>-2.417154</td>\n",
       "      <td>0.882970</td>\n",
       "      <td>-0.396638</td>\n",
       "      <td>0.174092</td>\n",
       "      <td>0.089175</td>\n",
       "    </tr>\n",
       "    <tr>\n",
       "      <th>9</th>\n",
       "      <td>2020-10-07</td>\n",
       "      <td>1.439675</td>\n",
       "      <td>-1.130625</td>\n",
       "      <td>-1.329292</td>\n",
       "      <td>-0.268661</td>\n",
       "      <td>4.219325</td>\n",
       "    </tr>\n",
       "    <tr>\n",
       "      <th>10</th>\n",
       "      <td>2020-10-08</td>\n",
       "      <td>-0.587003</td>\n",
       "      <td>-1.248360</td>\n",
       "      <td>0.040795</td>\n",
       "      <td>-0.618187</td>\n",
       "      <td>0.555991</td>\n",
       "    </tr>\n",
       "    <tr>\n",
       "      <th>11</th>\n",
       "      <td>2020-10-09</td>\n",
       "      <td>-0.113577</td>\n",
       "      <td>0.119888</td>\n",
       "      <td>1.728034</td>\n",
       "      <td>-1.539508</td>\n",
       "      <td>0.892635</td>\n",
       "    </tr>\n",
       "    <tr>\n",
       "      <th>12</th>\n",
       "      <td>2020-10-10</td>\n",
       "      <td>1.240064</td>\n",
       "      <td>-2.188801</td>\n",
       "      <td>0.920286</td>\n",
       "      <td>0.480053</td>\n",
       "      <td>3.455835</td>\n",
       "    </tr>\n",
       "    <tr>\n",
       "      <th>13</th>\n",
       "      <td>2020-10-11</td>\n",
       "      <td>1.170962</td>\n",
       "      <td>-0.179637</td>\n",
       "      <td>0.290563</td>\n",
       "      <td>-1.480861</td>\n",
       "      <td>3.225094</td>\n",
       "    </tr>\n",
       "    <tr>\n",
       "      <th>14</th>\n",
       "      <td>2020-10-12</td>\n",
       "      <td>0.205238</td>\n",
       "      <td>-1.595464</td>\n",
       "      <td>0.460546</td>\n",
       "      <td>-1.335749</td>\n",
       "      <td>1.227817</td>\n",
       "    </tr>\n",
       "    <tr>\n",
       "      <th>15</th>\n",
       "      <td>2020-10-13</td>\n",
       "      <td>-0.777552</td>\n",
       "      <td>-1.171814</td>\n",
       "      <td>-1.587152</td>\n",
       "      <td>0.097523</td>\n",
       "      <td>0.459530</td>\n",
       "    </tr>\n",
       "    <tr>\n",
       "      <th>16</th>\n",
       "      <td>2020-10-14</td>\n",
       "      <td>-0.365105</td>\n",
       "      <td>1.787392</td>\n",
       "      <td>1.386424</td>\n",
       "      <td>-0.470916</td>\n",
       "      <td>0.694124</td>\n",
       "    </tr>\n",
       "    <tr>\n",
       "      <th>17</th>\n",
       "      <td>2020-10-15</td>\n",
       "      <td>0.950224</td>\n",
       "      <td>1.310818</td>\n",
       "      <td>-0.130362</td>\n",
       "      <td>-0.009626</td>\n",
       "      <td>2.586289</td>\n",
       "    </tr>\n",
       "    <tr>\n",
       "      <th>18</th>\n",
       "      <td>2020-10-16</td>\n",
       "      <td>0.502305</td>\n",
       "      <td>-0.952283</td>\n",
       "      <td>-0.403228</td>\n",
       "      <td>0.645353</td>\n",
       "      <td>1.652527</td>\n",
       "    </tr>\n",
       "    <tr>\n",
       "      <th>19</th>\n",
       "      <td>2020-10-17</td>\n",
       "      <td>-1.307474</td>\n",
       "      <td>0.217452</td>\n",
       "      <td>-1.057232</td>\n",
       "      <td>-0.543083</td>\n",
       "      <td>0.270502</td>\n",
       "    </tr>\n",
       "    <tr>\n",
       "      <th>20</th>\n",
       "      <td>2020-10-18</td>\n",
       "      <td>0.474735</td>\n",
       "      <td>-0.168946</td>\n",
       "      <td>0.117801</td>\n",
       "      <td>-0.564799</td>\n",
       "      <td>1.607588</td>\n",
       "    </tr>\n",
       "    <tr>\n",
       "      <th>21</th>\n",
       "      <td>2020-10-19</td>\n",
       "      <td>-1.109215</td>\n",
       "      <td>0.520826</td>\n",
       "      <td>-1.080987</td>\n",
       "      <td>-0.833276</td>\n",
       "      <td>0.329818</td>\n",
       "    </tr>\n",
       "    <tr>\n",
       "      <th>22</th>\n",
       "      <td>2020-10-20</td>\n",
       "      <td>0.190254</td>\n",
       "      <td>0.005403</td>\n",
       "      <td>-0.559549</td>\n",
       "      <td>-0.485300</td>\n",
       "      <td>1.209556</td>\n",
       "    </tr>\n",
       "    <tr>\n",
       "      <th>23</th>\n",
       "      <td>2020-10-21</td>\n",
       "      <td>0.543546</td>\n",
       "      <td>-1.489034</td>\n",
       "      <td>-0.382588</td>\n",
       "      <td>0.352776</td>\n",
       "      <td>1.722103</td>\n",
       "    </tr>\n",
       "    <tr>\n",
       "      <th>24</th>\n",
       "      <td>2020-10-22</td>\n",
       "      <td>-2.205992</td>\n",
       "      <td>0.678270</td>\n",
       "      <td>0.314805</td>\n",
       "      <td>-1.526717</td>\n",
       "      <td>0.110141</td>\n",
       "    </tr>\n",
       "    <tr>\n",
       "      <th>25</th>\n",
       "      <td>2020-10-23</td>\n",
       "      <td>0.071873</td>\n",
       "      <td>0.166561</td>\n",
       "      <td>0.462306</td>\n",
       "      <td>-0.763608</td>\n",
       "      <td>1.074519</td>\n",
       "    </tr>\n",
       "    <tr>\n",
       "      <th>26</th>\n",
       "      <td>2020-10-24</td>\n",
       "      <td>-0.457708</td>\n",
       "      <td>-0.237056</td>\n",
       "      <td>2.067688</td>\n",
       "      <td>1.767471</td>\n",
       "      <td>0.632732</td>\n",
       "    </tr>\n",
       "    <tr>\n",
       "      <th>27</th>\n",
       "      <td>2020-10-25</td>\n",
       "      <td>-0.990361</td>\n",
       "      <td>-0.915597</td>\n",
       "      <td>-0.461874</td>\n",
       "      <td>-1.453261</td>\n",
       "      <td>0.371443</td>\n",
       "    </tr>\n",
       "    <tr>\n",
       "      <th>28</th>\n",
       "      <td>2020-10-26</td>\n",
       "      <td>3.294767</td>\n",
       "      <td>-1.033640</td>\n",
       "      <td>-0.773855</td>\n",
       "      <td>-0.929904</td>\n",
       "      <td>26.971142</td>\n",
       "    </tr>\n",
       "    <tr>\n",
       "      <th>29</th>\n",
       "      <td>2020-10-27</td>\n",
       "      <td>-0.541109</td>\n",
       "      <td>0.435351</td>\n",
       "      <td>0.671731</td>\n",
       "      <td>0.343014</td>\n",
       "      <td>0.582102</td>\n",
       "    </tr>\n",
       "  </tbody>\n",
       "</table>\n",
       "</div>"
      ],
      "text/plain": [
       "        index         0         1         2         3  sin_col_0\n",
       "0  2020-09-28  0.457371 -0.879157  0.583330 -1.000114   1.579915\n",
       "1  2020-09-29 -0.206490  0.320839 -0.073662 -1.100085   0.813435\n",
       "2  2020-09-30  0.530208 -1.755606 -0.877988  1.489265   1.699286\n",
       "3  2020-10-01  0.770952  0.336822  0.357753  0.029414   2.161823\n",
       "4  2020-10-02 -0.143018 -0.930044  0.115112  1.469083   0.866739\n",
       "5  2020-10-03  1.533250 -1.223629  2.407742 -0.735663   4.633211\n",
       "6  2020-10-04 -0.499551 -0.680852 -1.150850  0.685833   0.606803\n",
       "7  2020-10-05 -0.200054 -1.258089 -0.210340  0.414604   0.818686\n",
       "8  2020-10-06 -2.417154  0.882970 -0.396638  0.174092   0.089175\n",
       "9  2020-10-07  1.439675 -1.130625 -1.329292 -0.268661   4.219325\n",
       "10 2020-10-08 -0.587003 -1.248360  0.040795 -0.618187   0.555991\n",
       "11 2020-10-09 -0.113577  0.119888  1.728034 -1.539508   0.892635\n",
       "12 2020-10-10  1.240064 -2.188801  0.920286  0.480053   3.455835\n",
       "13 2020-10-11  1.170962 -0.179637  0.290563 -1.480861   3.225094\n",
       "14 2020-10-12  0.205238 -1.595464  0.460546 -1.335749   1.227817\n",
       "15 2020-10-13 -0.777552 -1.171814 -1.587152  0.097523   0.459530\n",
       "16 2020-10-14 -0.365105  1.787392  1.386424 -0.470916   0.694124\n",
       "17 2020-10-15  0.950224  1.310818 -0.130362 -0.009626   2.586289\n",
       "18 2020-10-16  0.502305 -0.952283 -0.403228  0.645353   1.652527\n",
       "19 2020-10-17 -1.307474  0.217452 -1.057232 -0.543083   0.270502\n",
       "20 2020-10-18  0.474735 -0.168946  0.117801 -0.564799   1.607588\n",
       "21 2020-10-19 -1.109215  0.520826 -1.080987 -0.833276   0.329818\n",
       "22 2020-10-20  0.190254  0.005403 -0.559549 -0.485300   1.209556\n",
       "23 2020-10-21  0.543546 -1.489034 -0.382588  0.352776   1.722103\n",
       "24 2020-10-22 -2.205992  0.678270  0.314805 -1.526717   0.110141\n",
       "25 2020-10-23  0.071873  0.166561  0.462306 -0.763608   1.074519\n",
       "26 2020-10-24 -0.457708 -0.237056  2.067688  1.767471   0.632732\n",
       "27 2020-10-25 -0.990361 -0.915597 -0.461874 -1.453261   0.371443\n",
       "28 2020-10-26  3.294767 -1.033640 -0.773855 -0.929904  26.971142\n",
       "29 2020-10-27 -0.541109  0.435351  0.671731  0.343014   0.582102"
      ]
     },
     "execution_count": 118,
     "metadata": {},
     "output_type": "execute_result"
    }
   ],
   "source": [
    "df.reset_index()"
   ]
  },
  {
   "cell_type": "code",
   "execution_count": 119,
   "metadata": {
    "scrolled": true
   },
   "outputs": [
    {
     "data": {
      "text/html": [
       "<div>\n",
       "<style scoped>\n",
       "    .dataframe tbody tr th:only-of-type {\n",
       "        vertical-align: middle;\n",
       "    }\n",
       "\n",
       "    .dataframe tbody tr th {\n",
       "        vertical-align: top;\n",
       "    }\n",
       "\n",
       "    .dataframe thead th {\n",
       "        text-align: right;\n",
       "    }\n",
       "</style>\n",
       "<table border=\"1\" class=\"dataframe\">\n",
       "  <thead>\n",
       "    <tr style=\"text-align: right;\">\n",
       "      <th></th>\n",
       "      <th>0</th>\n",
       "      <th>1</th>\n",
       "      <th>2</th>\n",
       "      <th>3</th>\n",
       "      <th>sin_col_0</th>\n",
       "    </tr>\n",
       "  </thead>\n",
       "  <tbody>\n",
       "    <tr>\n",
       "      <th>2020-09-28</th>\n",
       "      <td>0.457371</td>\n",
       "      <td>-0.879157</td>\n",
       "      <td>0.583330</td>\n",
       "      <td>-1.000114</td>\n",
       "      <td>1.579915</td>\n",
       "    </tr>\n",
       "    <tr>\n",
       "      <th>2020-09-29</th>\n",
       "      <td>-0.206490</td>\n",
       "      <td>0.320839</td>\n",
       "      <td>-0.073662</td>\n",
       "      <td>-1.100085</td>\n",
       "      <td>0.813435</td>\n",
       "    </tr>\n",
       "    <tr>\n",
       "      <th>2020-09-30</th>\n",
       "      <td>0.530208</td>\n",
       "      <td>-1.755606</td>\n",
       "      <td>-0.877988</td>\n",
       "      <td>1.489265</td>\n",
       "      <td>1.699286</td>\n",
       "    </tr>\n",
       "    <tr>\n",
       "      <th>2020-10-01</th>\n",
       "      <td>0.770952</td>\n",
       "      <td>0.336822</td>\n",
       "      <td>0.357753</td>\n",
       "      <td>0.029414</td>\n",
       "      <td>2.161823</td>\n",
       "    </tr>\n",
       "    <tr>\n",
       "      <th>2020-10-02</th>\n",
       "      <td>-0.143018</td>\n",
       "      <td>-0.930044</td>\n",
       "      <td>0.115112</td>\n",
       "      <td>1.469083</td>\n",
       "      <td>0.866739</td>\n",
       "    </tr>\n",
       "    <tr>\n",
       "      <th>2020-10-03</th>\n",
       "      <td>1.533250</td>\n",
       "      <td>-1.223629</td>\n",
       "      <td>2.407742</td>\n",
       "      <td>-0.735663</td>\n",
       "      <td>4.633211</td>\n",
       "    </tr>\n",
       "    <tr>\n",
       "      <th>2020-10-04</th>\n",
       "      <td>-0.499551</td>\n",
       "      <td>-0.680852</td>\n",
       "      <td>-1.150850</td>\n",
       "      <td>0.685833</td>\n",
       "      <td>0.606803</td>\n",
       "    </tr>\n",
       "    <tr>\n",
       "      <th>2020-10-05</th>\n",
       "      <td>-0.200054</td>\n",
       "      <td>-1.258089</td>\n",
       "      <td>-0.210340</td>\n",
       "      <td>0.414604</td>\n",
       "      <td>0.818686</td>\n",
       "    </tr>\n",
       "    <tr>\n",
       "      <th>2020-10-06</th>\n",
       "      <td>-2.417154</td>\n",
       "      <td>0.882970</td>\n",
       "      <td>-0.396638</td>\n",
       "      <td>0.174092</td>\n",
       "      <td>0.089175</td>\n",
       "    </tr>\n",
       "    <tr>\n",
       "      <th>2020-10-07</th>\n",
       "      <td>1.439675</td>\n",
       "      <td>-1.130625</td>\n",
       "      <td>-1.329292</td>\n",
       "      <td>-0.268661</td>\n",
       "      <td>4.219325</td>\n",
       "    </tr>\n",
       "    <tr>\n",
       "      <th>2020-10-08</th>\n",
       "      <td>-0.587003</td>\n",
       "      <td>-1.248360</td>\n",
       "      <td>0.040795</td>\n",
       "      <td>-0.618187</td>\n",
       "      <td>0.555991</td>\n",
       "    </tr>\n",
       "    <tr>\n",
       "      <th>2020-10-09</th>\n",
       "      <td>-0.113577</td>\n",
       "      <td>0.119888</td>\n",
       "      <td>1.728034</td>\n",
       "      <td>-1.539508</td>\n",
       "      <td>0.892635</td>\n",
       "    </tr>\n",
       "    <tr>\n",
       "      <th>2020-10-10</th>\n",
       "      <td>1.240064</td>\n",
       "      <td>-2.188801</td>\n",
       "      <td>0.920286</td>\n",
       "      <td>0.480053</td>\n",
       "      <td>3.455835</td>\n",
       "    </tr>\n",
       "    <tr>\n",
       "      <th>2020-10-11</th>\n",
       "      <td>1.170962</td>\n",
       "      <td>-0.179637</td>\n",
       "      <td>0.290563</td>\n",
       "      <td>-1.480861</td>\n",
       "      <td>3.225094</td>\n",
       "    </tr>\n",
       "    <tr>\n",
       "      <th>2020-10-12</th>\n",
       "      <td>0.205238</td>\n",
       "      <td>-1.595464</td>\n",
       "      <td>0.460546</td>\n",
       "      <td>-1.335749</td>\n",
       "      <td>1.227817</td>\n",
       "    </tr>\n",
       "    <tr>\n",
       "      <th>2020-10-13</th>\n",
       "      <td>-0.777552</td>\n",
       "      <td>-1.171814</td>\n",
       "      <td>-1.587152</td>\n",
       "      <td>0.097523</td>\n",
       "      <td>0.459530</td>\n",
       "    </tr>\n",
       "    <tr>\n",
       "      <th>2020-10-14</th>\n",
       "      <td>-0.365105</td>\n",
       "      <td>1.787392</td>\n",
       "      <td>1.386424</td>\n",
       "      <td>-0.470916</td>\n",
       "      <td>0.694124</td>\n",
       "    </tr>\n",
       "    <tr>\n",
       "      <th>2020-10-15</th>\n",
       "      <td>0.950224</td>\n",
       "      <td>1.310818</td>\n",
       "      <td>-0.130362</td>\n",
       "      <td>-0.009626</td>\n",
       "      <td>2.586289</td>\n",
       "    </tr>\n",
       "    <tr>\n",
       "      <th>2020-10-16</th>\n",
       "      <td>0.502305</td>\n",
       "      <td>-0.952283</td>\n",
       "      <td>-0.403228</td>\n",
       "      <td>0.645353</td>\n",
       "      <td>1.652527</td>\n",
       "    </tr>\n",
       "    <tr>\n",
       "      <th>2020-10-17</th>\n",
       "      <td>-1.307474</td>\n",
       "      <td>0.217452</td>\n",
       "      <td>-1.057232</td>\n",
       "      <td>-0.543083</td>\n",
       "      <td>0.270502</td>\n",
       "    </tr>\n",
       "    <tr>\n",
       "      <th>2020-10-18</th>\n",
       "      <td>0.474735</td>\n",
       "      <td>-0.168946</td>\n",
       "      <td>0.117801</td>\n",
       "      <td>-0.564799</td>\n",
       "      <td>1.607588</td>\n",
       "    </tr>\n",
       "    <tr>\n",
       "      <th>2020-10-19</th>\n",
       "      <td>-1.109215</td>\n",
       "      <td>0.520826</td>\n",
       "      <td>-1.080987</td>\n",
       "      <td>-0.833276</td>\n",
       "      <td>0.329818</td>\n",
       "    </tr>\n",
       "    <tr>\n",
       "      <th>2020-10-20</th>\n",
       "      <td>0.190254</td>\n",
       "      <td>0.005403</td>\n",
       "      <td>-0.559549</td>\n",
       "      <td>-0.485300</td>\n",
       "      <td>1.209556</td>\n",
       "    </tr>\n",
       "    <tr>\n",
       "      <th>2020-10-21</th>\n",
       "      <td>0.543546</td>\n",
       "      <td>-1.489034</td>\n",
       "      <td>-0.382588</td>\n",
       "      <td>0.352776</td>\n",
       "      <td>1.722103</td>\n",
       "    </tr>\n",
       "    <tr>\n",
       "      <th>2020-10-22</th>\n",
       "      <td>-2.205992</td>\n",
       "      <td>0.678270</td>\n",
       "      <td>0.314805</td>\n",
       "      <td>-1.526717</td>\n",
       "      <td>0.110141</td>\n",
       "    </tr>\n",
       "    <tr>\n",
       "      <th>2020-10-23</th>\n",
       "      <td>0.071873</td>\n",
       "      <td>0.166561</td>\n",
       "      <td>0.462306</td>\n",
       "      <td>-0.763608</td>\n",
       "      <td>1.074519</td>\n",
       "    </tr>\n",
       "    <tr>\n",
       "      <th>2020-10-24</th>\n",
       "      <td>-0.457708</td>\n",
       "      <td>-0.237056</td>\n",
       "      <td>2.067688</td>\n",
       "      <td>1.767471</td>\n",
       "      <td>0.632732</td>\n",
       "    </tr>\n",
       "    <tr>\n",
       "      <th>2020-10-25</th>\n",
       "      <td>-0.990361</td>\n",
       "      <td>-0.915597</td>\n",
       "      <td>-0.461874</td>\n",
       "      <td>-1.453261</td>\n",
       "      <td>0.371443</td>\n",
       "    </tr>\n",
       "    <tr>\n",
       "      <th>2020-10-26</th>\n",
       "      <td>3.294767</td>\n",
       "      <td>-1.033640</td>\n",
       "      <td>-0.773855</td>\n",
       "      <td>-0.929904</td>\n",
       "      <td>26.971142</td>\n",
       "    </tr>\n",
       "    <tr>\n",
       "      <th>2020-10-27</th>\n",
       "      <td>-0.541109</td>\n",
       "      <td>0.435351</td>\n",
       "      <td>0.671731</td>\n",
       "      <td>0.343014</td>\n",
       "      <td>0.582102</td>\n",
       "    </tr>\n",
       "  </tbody>\n",
       "</table>\n",
       "</div>"
      ],
      "text/plain": [
       "                   0         1         2         3  sin_col_0\n",
       "2020-09-28  0.457371 -0.879157  0.583330 -1.000114   1.579915\n",
       "2020-09-29 -0.206490  0.320839 -0.073662 -1.100085   0.813435\n",
       "2020-09-30  0.530208 -1.755606 -0.877988  1.489265   1.699286\n",
       "2020-10-01  0.770952  0.336822  0.357753  0.029414   2.161823\n",
       "2020-10-02 -0.143018 -0.930044  0.115112  1.469083   0.866739\n",
       "2020-10-03  1.533250 -1.223629  2.407742 -0.735663   4.633211\n",
       "2020-10-04 -0.499551 -0.680852 -1.150850  0.685833   0.606803\n",
       "2020-10-05 -0.200054 -1.258089 -0.210340  0.414604   0.818686\n",
       "2020-10-06 -2.417154  0.882970 -0.396638  0.174092   0.089175\n",
       "2020-10-07  1.439675 -1.130625 -1.329292 -0.268661   4.219325\n",
       "2020-10-08 -0.587003 -1.248360  0.040795 -0.618187   0.555991\n",
       "2020-10-09 -0.113577  0.119888  1.728034 -1.539508   0.892635\n",
       "2020-10-10  1.240064 -2.188801  0.920286  0.480053   3.455835\n",
       "2020-10-11  1.170962 -0.179637  0.290563 -1.480861   3.225094\n",
       "2020-10-12  0.205238 -1.595464  0.460546 -1.335749   1.227817\n",
       "2020-10-13 -0.777552 -1.171814 -1.587152  0.097523   0.459530\n",
       "2020-10-14 -0.365105  1.787392  1.386424 -0.470916   0.694124\n",
       "2020-10-15  0.950224  1.310818 -0.130362 -0.009626   2.586289\n",
       "2020-10-16  0.502305 -0.952283 -0.403228  0.645353   1.652527\n",
       "2020-10-17 -1.307474  0.217452 -1.057232 -0.543083   0.270502\n",
       "2020-10-18  0.474735 -0.168946  0.117801 -0.564799   1.607588\n",
       "2020-10-19 -1.109215  0.520826 -1.080987 -0.833276   0.329818\n",
       "2020-10-20  0.190254  0.005403 -0.559549 -0.485300   1.209556\n",
       "2020-10-21  0.543546 -1.489034 -0.382588  0.352776   1.722103\n",
       "2020-10-22 -2.205992  0.678270  0.314805 -1.526717   0.110141\n",
       "2020-10-23  0.071873  0.166561  0.462306 -0.763608   1.074519\n",
       "2020-10-24 -0.457708 -0.237056  2.067688  1.767471   0.632732\n",
       "2020-10-25 -0.990361 -0.915597 -0.461874 -1.453261   0.371443\n",
       "2020-10-26  3.294767 -1.033640 -0.773855 -0.929904  26.971142\n",
       "2020-10-27 -0.541109  0.435351  0.671731  0.343014   0.582102"
      ]
     },
     "execution_count": 119,
     "metadata": {},
     "output_type": "execute_result"
    }
   ],
   "source": [
    "df"
   ]
  },
  {
   "cell_type": "code",
   "execution_count": 120,
   "metadata": {
    "scrolled": true
   },
   "outputs": [
    {
     "data": {
      "text/html": [
       "<div>\n",
       "<style scoped>\n",
       "    .dataframe tbody tr th:only-of-type {\n",
       "        vertical-align: middle;\n",
       "    }\n",
       "\n",
       "    .dataframe tbody tr th {\n",
       "        vertical-align: top;\n",
       "    }\n",
       "\n",
       "    .dataframe thead th {\n",
       "        text-align: right;\n",
       "    }\n",
       "</style>\n",
       "<table border=\"1\" class=\"dataframe\">\n",
       "  <thead>\n",
       "    <tr style=\"text-align: right;\">\n",
       "      <th></th>\n",
       "      <th>0</th>\n",
       "      <th>1</th>\n",
       "      <th>2</th>\n",
       "      <th>3</th>\n",
       "      <th>sin_col_0</th>\n",
       "    </tr>\n",
       "  </thead>\n",
       "  <tbody>\n",
       "    <tr>\n",
       "      <th>0</th>\n",
       "      <td>0.457371</td>\n",
       "      <td>-0.879157</td>\n",
       "      <td>0.583330</td>\n",
       "      <td>-1.000114</td>\n",
       "      <td>1.579915</td>\n",
       "    </tr>\n",
       "    <tr>\n",
       "      <th>1</th>\n",
       "      <td>-0.206490</td>\n",
       "      <td>0.320839</td>\n",
       "      <td>-0.073662</td>\n",
       "      <td>-1.100085</td>\n",
       "      <td>0.813435</td>\n",
       "    </tr>\n",
       "    <tr>\n",
       "      <th>2</th>\n",
       "      <td>0.530208</td>\n",
       "      <td>-1.755606</td>\n",
       "      <td>-0.877988</td>\n",
       "      <td>1.489265</td>\n",
       "      <td>1.699286</td>\n",
       "    </tr>\n",
       "    <tr>\n",
       "      <th>3</th>\n",
       "      <td>0.770952</td>\n",
       "      <td>0.336822</td>\n",
       "      <td>0.357753</td>\n",
       "      <td>0.029414</td>\n",
       "      <td>2.161823</td>\n",
       "    </tr>\n",
       "    <tr>\n",
       "      <th>4</th>\n",
       "      <td>-0.143018</td>\n",
       "      <td>-0.930044</td>\n",
       "      <td>0.115112</td>\n",
       "      <td>1.469083</td>\n",
       "      <td>0.866739</td>\n",
       "    </tr>\n",
       "    <tr>\n",
       "      <th>5</th>\n",
       "      <td>1.533250</td>\n",
       "      <td>-1.223629</td>\n",
       "      <td>2.407742</td>\n",
       "      <td>-0.735663</td>\n",
       "      <td>4.633211</td>\n",
       "    </tr>\n",
       "    <tr>\n",
       "      <th>6</th>\n",
       "      <td>-0.499551</td>\n",
       "      <td>-0.680852</td>\n",
       "      <td>-1.150850</td>\n",
       "      <td>0.685833</td>\n",
       "      <td>0.606803</td>\n",
       "    </tr>\n",
       "    <tr>\n",
       "      <th>7</th>\n",
       "      <td>-0.200054</td>\n",
       "      <td>-1.258089</td>\n",
       "      <td>-0.210340</td>\n",
       "      <td>0.414604</td>\n",
       "      <td>0.818686</td>\n",
       "    </tr>\n",
       "    <tr>\n",
       "      <th>8</th>\n",
       "      <td>-2.417154</td>\n",
       "      <td>0.882970</td>\n",
       "      <td>-0.396638</td>\n",
       "      <td>0.174092</td>\n",
       "      <td>0.089175</td>\n",
       "    </tr>\n",
       "    <tr>\n",
       "      <th>9</th>\n",
       "      <td>1.439675</td>\n",
       "      <td>-1.130625</td>\n",
       "      <td>-1.329292</td>\n",
       "      <td>-0.268661</td>\n",
       "      <td>4.219325</td>\n",
       "    </tr>\n",
       "    <tr>\n",
       "      <th>10</th>\n",
       "      <td>-0.587003</td>\n",
       "      <td>-1.248360</td>\n",
       "      <td>0.040795</td>\n",
       "      <td>-0.618187</td>\n",
       "      <td>0.555991</td>\n",
       "    </tr>\n",
       "    <tr>\n",
       "      <th>11</th>\n",
       "      <td>-0.113577</td>\n",
       "      <td>0.119888</td>\n",
       "      <td>1.728034</td>\n",
       "      <td>-1.539508</td>\n",
       "      <td>0.892635</td>\n",
       "    </tr>\n",
       "    <tr>\n",
       "      <th>12</th>\n",
       "      <td>1.240064</td>\n",
       "      <td>-2.188801</td>\n",
       "      <td>0.920286</td>\n",
       "      <td>0.480053</td>\n",
       "      <td>3.455835</td>\n",
       "    </tr>\n",
       "    <tr>\n",
       "      <th>13</th>\n",
       "      <td>1.170962</td>\n",
       "      <td>-0.179637</td>\n",
       "      <td>0.290563</td>\n",
       "      <td>-1.480861</td>\n",
       "      <td>3.225094</td>\n",
       "    </tr>\n",
       "    <tr>\n",
       "      <th>14</th>\n",
       "      <td>0.205238</td>\n",
       "      <td>-1.595464</td>\n",
       "      <td>0.460546</td>\n",
       "      <td>-1.335749</td>\n",
       "      <td>1.227817</td>\n",
       "    </tr>\n",
       "    <tr>\n",
       "      <th>15</th>\n",
       "      <td>-0.777552</td>\n",
       "      <td>-1.171814</td>\n",
       "      <td>-1.587152</td>\n",
       "      <td>0.097523</td>\n",
       "      <td>0.459530</td>\n",
       "    </tr>\n",
       "    <tr>\n",
       "      <th>16</th>\n",
       "      <td>-0.365105</td>\n",
       "      <td>1.787392</td>\n",
       "      <td>1.386424</td>\n",
       "      <td>-0.470916</td>\n",
       "      <td>0.694124</td>\n",
       "    </tr>\n",
       "    <tr>\n",
       "      <th>17</th>\n",
       "      <td>0.950224</td>\n",
       "      <td>1.310818</td>\n",
       "      <td>-0.130362</td>\n",
       "      <td>-0.009626</td>\n",
       "      <td>2.586289</td>\n",
       "    </tr>\n",
       "    <tr>\n",
       "      <th>18</th>\n",
       "      <td>0.502305</td>\n",
       "      <td>-0.952283</td>\n",
       "      <td>-0.403228</td>\n",
       "      <td>0.645353</td>\n",
       "      <td>1.652527</td>\n",
       "    </tr>\n",
       "    <tr>\n",
       "      <th>19</th>\n",
       "      <td>-1.307474</td>\n",
       "      <td>0.217452</td>\n",
       "      <td>-1.057232</td>\n",
       "      <td>-0.543083</td>\n",
       "      <td>0.270502</td>\n",
       "    </tr>\n",
       "    <tr>\n",
       "      <th>20</th>\n",
       "      <td>0.474735</td>\n",
       "      <td>-0.168946</td>\n",
       "      <td>0.117801</td>\n",
       "      <td>-0.564799</td>\n",
       "      <td>1.607588</td>\n",
       "    </tr>\n",
       "    <tr>\n",
       "      <th>21</th>\n",
       "      <td>-1.109215</td>\n",
       "      <td>0.520826</td>\n",
       "      <td>-1.080987</td>\n",
       "      <td>-0.833276</td>\n",
       "      <td>0.329818</td>\n",
       "    </tr>\n",
       "    <tr>\n",
       "      <th>22</th>\n",
       "      <td>0.190254</td>\n",
       "      <td>0.005403</td>\n",
       "      <td>-0.559549</td>\n",
       "      <td>-0.485300</td>\n",
       "      <td>1.209556</td>\n",
       "    </tr>\n",
       "    <tr>\n",
       "      <th>23</th>\n",
       "      <td>0.543546</td>\n",
       "      <td>-1.489034</td>\n",
       "      <td>-0.382588</td>\n",
       "      <td>0.352776</td>\n",
       "      <td>1.722103</td>\n",
       "    </tr>\n",
       "    <tr>\n",
       "      <th>24</th>\n",
       "      <td>-2.205992</td>\n",
       "      <td>0.678270</td>\n",
       "      <td>0.314805</td>\n",
       "      <td>-1.526717</td>\n",
       "      <td>0.110141</td>\n",
       "    </tr>\n",
       "    <tr>\n",
       "      <th>25</th>\n",
       "      <td>0.071873</td>\n",
       "      <td>0.166561</td>\n",
       "      <td>0.462306</td>\n",
       "      <td>-0.763608</td>\n",
       "      <td>1.074519</td>\n",
       "    </tr>\n",
       "    <tr>\n",
       "      <th>26</th>\n",
       "      <td>-0.457708</td>\n",
       "      <td>-0.237056</td>\n",
       "      <td>2.067688</td>\n",
       "      <td>1.767471</td>\n",
       "      <td>0.632732</td>\n",
       "    </tr>\n",
       "    <tr>\n",
       "      <th>27</th>\n",
       "      <td>-0.990361</td>\n",
       "      <td>-0.915597</td>\n",
       "      <td>-0.461874</td>\n",
       "      <td>-1.453261</td>\n",
       "      <td>0.371443</td>\n",
       "    </tr>\n",
       "    <tr>\n",
       "      <th>28</th>\n",
       "      <td>3.294767</td>\n",
       "      <td>-1.033640</td>\n",
       "      <td>-0.773855</td>\n",
       "      <td>-0.929904</td>\n",
       "      <td>26.971142</td>\n",
       "    </tr>\n",
       "    <tr>\n",
       "      <th>29</th>\n",
       "      <td>-0.541109</td>\n",
       "      <td>0.435351</td>\n",
       "      <td>0.671731</td>\n",
       "      <td>0.343014</td>\n",
       "      <td>0.582102</td>\n",
       "    </tr>\n",
       "  </tbody>\n",
       "</table>\n",
       "</div>"
      ],
      "text/plain": [
       "           0         1         2         3  sin_col_0\n",
       "0   0.457371 -0.879157  0.583330 -1.000114   1.579915\n",
       "1  -0.206490  0.320839 -0.073662 -1.100085   0.813435\n",
       "2   0.530208 -1.755606 -0.877988  1.489265   1.699286\n",
       "3   0.770952  0.336822  0.357753  0.029414   2.161823\n",
       "4  -0.143018 -0.930044  0.115112  1.469083   0.866739\n",
       "5   1.533250 -1.223629  2.407742 -0.735663   4.633211\n",
       "6  -0.499551 -0.680852 -1.150850  0.685833   0.606803\n",
       "7  -0.200054 -1.258089 -0.210340  0.414604   0.818686\n",
       "8  -2.417154  0.882970 -0.396638  0.174092   0.089175\n",
       "9   1.439675 -1.130625 -1.329292 -0.268661   4.219325\n",
       "10 -0.587003 -1.248360  0.040795 -0.618187   0.555991\n",
       "11 -0.113577  0.119888  1.728034 -1.539508   0.892635\n",
       "12  1.240064 -2.188801  0.920286  0.480053   3.455835\n",
       "13  1.170962 -0.179637  0.290563 -1.480861   3.225094\n",
       "14  0.205238 -1.595464  0.460546 -1.335749   1.227817\n",
       "15 -0.777552 -1.171814 -1.587152  0.097523   0.459530\n",
       "16 -0.365105  1.787392  1.386424 -0.470916   0.694124\n",
       "17  0.950224  1.310818 -0.130362 -0.009626   2.586289\n",
       "18  0.502305 -0.952283 -0.403228  0.645353   1.652527\n",
       "19 -1.307474  0.217452 -1.057232 -0.543083   0.270502\n",
       "20  0.474735 -0.168946  0.117801 -0.564799   1.607588\n",
       "21 -1.109215  0.520826 -1.080987 -0.833276   0.329818\n",
       "22  0.190254  0.005403 -0.559549 -0.485300   1.209556\n",
       "23  0.543546 -1.489034 -0.382588  0.352776   1.722103\n",
       "24 -2.205992  0.678270  0.314805 -1.526717   0.110141\n",
       "25  0.071873  0.166561  0.462306 -0.763608   1.074519\n",
       "26 -0.457708 -0.237056  2.067688  1.767471   0.632732\n",
       "27 -0.990361 -0.915597 -0.461874 -1.453261   0.371443\n",
       "28  3.294767 -1.033640 -0.773855 -0.929904  26.971142\n",
       "29 -0.541109  0.435351  0.671731  0.343014   0.582102"
      ]
     },
     "execution_count": 120,
     "metadata": {},
     "output_type": "execute_result"
    }
   ],
   "source": [
    "df.reset_index(drop=True) #elimiar index antigo conforme reiniciamos ele"
   ]
  },
  {
   "cell_type": "code",
   "execution_count": 121,
   "metadata": {},
   "outputs": [],
   "source": [
    "df.reset_index(drop=False,inplace=True) #não deletar antigo index e aplicar na mesma rotina a atualizacao no dataframe"
   ]
  },
  {
   "cell_type": "code",
   "execution_count": 122,
   "metadata": {
    "scrolled": true
   },
   "outputs": [
    {
     "data": {
      "text/html": [
       "<div>\n",
       "<style scoped>\n",
       "    .dataframe tbody tr th:only-of-type {\n",
       "        vertical-align: middle;\n",
       "    }\n",
       "\n",
       "    .dataframe tbody tr th {\n",
       "        vertical-align: top;\n",
       "    }\n",
       "\n",
       "    .dataframe thead th {\n",
       "        text-align: right;\n",
       "    }\n",
       "</style>\n",
       "<table border=\"1\" class=\"dataframe\">\n",
       "  <thead>\n",
       "    <tr style=\"text-align: right;\">\n",
       "      <th></th>\n",
       "      <th>index</th>\n",
       "      <th>0</th>\n",
       "      <th>1</th>\n",
       "      <th>2</th>\n",
       "      <th>3</th>\n",
       "      <th>sin_col_0</th>\n",
       "    </tr>\n",
       "  </thead>\n",
       "  <tbody>\n",
       "    <tr>\n",
       "      <th>0</th>\n",
       "      <td>2020-09-28</td>\n",
       "      <td>0.457371</td>\n",
       "      <td>-0.879157</td>\n",
       "      <td>0.583330</td>\n",
       "      <td>-1.000114</td>\n",
       "      <td>1.579915</td>\n",
       "    </tr>\n",
       "    <tr>\n",
       "      <th>1</th>\n",
       "      <td>2020-09-29</td>\n",
       "      <td>-0.206490</td>\n",
       "      <td>0.320839</td>\n",
       "      <td>-0.073662</td>\n",
       "      <td>-1.100085</td>\n",
       "      <td>0.813435</td>\n",
       "    </tr>\n",
       "    <tr>\n",
       "      <th>2</th>\n",
       "      <td>2020-09-30</td>\n",
       "      <td>0.530208</td>\n",
       "      <td>-1.755606</td>\n",
       "      <td>-0.877988</td>\n",
       "      <td>1.489265</td>\n",
       "      <td>1.699286</td>\n",
       "    </tr>\n",
       "    <tr>\n",
       "      <th>3</th>\n",
       "      <td>2020-10-01</td>\n",
       "      <td>0.770952</td>\n",
       "      <td>0.336822</td>\n",
       "      <td>0.357753</td>\n",
       "      <td>0.029414</td>\n",
       "      <td>2.161823</td>\n",
       "    </tr>\n",
       "    <tr>\n",
       "      <th>4</th>\n",
       "      <td>2020-10-02</td>\n",
       "      <td>-0.143018</td>\n",
       "      <td>-0.930044</td>\n",
       "      <td>0.115112</td>\n",
       "      <td>1.469083</td>\n",
       "      <td>0.866739</td>\n",
       "    </tr>\n",
       "    <tr>\n",
       "      <th>5</th>\n",
       "      <td>2020-10-03</td>\n",
       "      <td>1.533250</td>\n",
       "      <td>-1.223629</td>\n",
       "      <td>2.407742</td>\n",
       "      <td>-0.735663</td>\n",
       "      <td>4.633211</td>\n",
       "    </tr>\n",
       "    <tr>\n",
       "      <th>6</th>\n",
       "      <td>2020-10-04</td>\n",
       "      <td>-0.499551</td>\n",
       "      <td>-0.680852</td>\n",
       "      <td>-1.150850</td>\n",
       "      <td>0.685833</td>\n",
       "      <td>0.606803</td>\n",
       "    </tr>\n",
       "    <tr>\n",
       "      <th>7</th>\n",
       "      <td>2020-10-05</td>\n",
       "      <td>-0.200054</td>\n",
       "      <td>-1.258089</td>\n",
       "      <td>-0.210340</td>\n",
       "      <td>0.414604</td>\n",
       "      <td>0.818686</td>\n",
       "    </tr>\n",
       "    <tr>\n",
       "      <th>8</th>\n",
       "      <td>2020-10-06</td>\n",
       "      <td>-2.417154</td>\n",
       "      <td>0.882970</td>\n",
       "      <td>-0.396638</td>\n",
       "      <td>0.174092</td>\n",
       "      <td>0.089175</td>\n",
       "    </tr>\n",
       "    <tr>\n",
       "      <th>9</th>\n",
       "      <td>2020-10-07</td>\n",
       "      <td>1.439675</td>\n",
       "      <td>-1.130625</td>\n",
       "      <td>-1.329292</td>\n",
       "      <td>-0.268661</td>\n",
       "      <td>4.219325</td>\n",
       "    </tr>\n",
       "    <tr>\n",
       "      <th>10</th>\n",
       "      <td>2020-10-08</td>\n",
       "      <td>-0.587003</td>\n",
       "      <td>-1.248360</td>\n",
       "      <td>0.040795</td>\n",
       "      <td>-0.618187</td>\n",
       "      <td>0.555991</td>\n",
       "    </tr>\n",
       "    <tr>\n",
       "      <th>11</th>\n",
       "      <td>2020-10-09</td>\n",
       "      <td>-0.113577</td>\n",
       "      <td>0.119888</td>\n",
       "      <td>1.728034</td>\n",
       "      <td>-1.539508</td>\n",
       "      <td>0.892635</td>\n",
       "    </tr>\n",
       "    <tr>\n",
       "      <th>12</th>\n",
       "      <td>2020-10-10</td>\n",
       "      <td>1.240064</td>\n",
       "      <td>-2.188801</td>\n",
       "      <td>0.920286</td>\n",
       "      <td>0.480053</td>\n",
       "      <td>3.455835</td>\n",
       "    </tr>\n",
       "    <tr>\n",
       "      <th>13</th>\n",
       "      <td>2020-10-11</td>\n",
       "      <td>1.170962</td>\n",
       "      <td>-0.179637</td>\n",
       "      <td>0.290563</td>\n",
       "      <td>-1.480861</td>\n",
       "      <td>3.225094</td>\n",
       "    </tr>\n",
       "    <tr>\n",
       "      <th>14</th>\n",
       "      <td>2020-10-12</td>\n",
       "      <td>0.205238</td>\n",
       "      <td>-1.595464</td>\n",
       "      <td>0.460546</td>\n",
       "      <td>-1.335749</td>\n",
       "      <td>1.227817</td>\n",
       "    </tr>\n",
       "    <tr>\n",
       "      <th>15</th>\n",
       "      <td>2020-10-13</td>\n",
       "      <td>-0.777552</td>\n",
       "      <td>-1.171814</td>\n",
       "      <td>-1.587152</td>\n",
       "      <td>0.097523</td>\n",
       "      <td>0.459530</td>\n",
       "    </tr>\n",
       "    <tr>\n",
       "      <th>16</th>\n",
       "      <td>2020-10-14</td>\n",
       "      <td>-0.365105</td>\n",
       "      <td>1.787392</td>\n",
       "      <td>1.386424</td>\n",
       "      <td>-0.470916</td>\n",
       "      <td>0.694124</td>\n",
       "    </tr>\n",
       "    <tr>\n",
       "      <th>17</th>\n",
       "      <td>2020-10-15</td>\n",
       "      <td>0.950224</td>\n",
       "      <td>1.310818</td>\n",
       "      <td>-0.130362</td>\n",
       "      <td>-0.009626</td>\n",
       "      <td>2.586289</td>\n",
       "    </tr>\n",
       "    <tr>\n",
       "      <th>18</th>\n",
       "      <td>2020-10-16</td>\n",
       "      <td>0.502305</td>\n",
       "      <td>-0.952283</td>\n",
       "      <td>-0.403228</td>\n",
       "      <td>0.645353</td>\n",
       "      <td>1.652527</td>\n",
       "    </tr>\n",
       "    <tr>\n",
       "      <th>19</th>\n",
       "      <td>2020-10-17</td>\n",
       "      <td>-1.307474</td>\n",
       "      <td>0.217452</td>\n",
       "      <td>-1.057232</td>\n",
       "      <td>-0.543083</td>\n",
       "      <td>0.270502</td>\n",
       "    </tr>\n",
       "    <tr>\n",
       "      <th>20</th>\n",
       "      <td>2020-10-18</td>\n",
       "      <td>0.474735</td>\n",
       "      <td>-0.168946</td>\n",
       "      <td>0.117801</td>\n",
       "      <td>-0.564799</td>\n",
       "      <td>1.607588</td>\n",
       "    </tr>\n",
       "    <tr>\n",
       "      <th>21</th>\n",
       "      <td>2020-10-19</td>\n",
       "      <td>-1.109215</td>\n",
       "      <td>0.520826</td>\n",
       "      <td>-1.080987</td>\n",
       "      <td>-0.833276</td>\n",
       "      <td>0.329818</td>\n",
       "    </tr>\n",
       "    <tr>\n",
       "      <th>22</th>\n",
       "      <td>2020-10-20</td>\n",
       "      <td>0.190254</td>\n",
       "      <td>0.005403</td>\n",
       "      <td>-0.559549</td>\n",
       "      <td>-0.485300</td>\n",
       "      <td>1.209556</td>\n",
       "    </tr>\n",
       "    <tr>\n",
       "      <th>23</th>\n",
       "      <td>2020-10-21</td>\n",
       "      <td>0.543546</td>\n",
       "      <td>-1.489034</td>\n",
       "      <td>-0.382588</td>\n",
       "      <td>0.352776</td>\n",
       "      <td>1.722103</td>\n",
       "    </tr>\n",
       "    <tr>\n",
       "      <th>24</th>\n",
       "      <td>2020-10-22</td>\n",
       "      <td>-2.205992</td>\n",
       "      <td>0.678270</td>\n",
       "      <td>0.314805</td>\n",
       "      <td>-1.526717</td>\n",
       "      <td>0.110141</td>\n",
       "    </tr>\n",
       "    <tr>\n",
       "      <th>25</th>\n",
       "      <td>2020-10-23</td>\n",
       "      <td>0.071873</td>\n",
       "      <td>0.166561</td>\n",
       "      <td>0.462306</td>\n",
       "      <td>-0.763608</td>\n",
       "      <td>1.074519</td>\n",
       "    </tr>\n",
       "    <tr>\n",
       "      <th>26</th>\n",
       "      <td>2020-10-24</td>\n",
       "      <td>-0.457708</td>\n",
       "      <td>-0.237056</td>\n",
       "      <td>2.067688</td>\n",
       "      <td>1.767471</td>\n",
       "      <td>0.632732</td>\n",
       "    </tr>\n",
       "    <tr>\n",
       "      <th>27</th>\n",
       "      <td>2020-10-25</td>\n",
       "      <td>-0.990361</td>\n",
       "      <td>-0.915597</td>\n",
       "      <td>-0.461874</td>\n",
       "      <td>-1.453261</td>\n",
       "      <td>0.371443</td>\n",
       "    </tr>\n",
       "    <tr>\n",
       "      <th>28</th>\n",
       "      <td>2020-10-26</td>\n",
       "      <td>3.294767</td>\n",
       "      <td>-1.033640</td>\n",
       "      <td>-0.773855</td>\n",
       "      <td>-0.929904</td>\n",
       "      <td>26.971142</td>\n",
       "    </tr>\n",
       "    <tr>\n",
       "      <th>29</th>\n",
       "      <td>2020-10-27</td>\n",
       "      <td>-0.541109</td>\n",
       "      <td>0.435351</td>\n",
       "      <td>0.671731</td>\n",
       "      <td>0.343014</td>\n",
       "      <td>0.582102</td>\n",
       "    </tr>\n",
       "  </tbody>\n",
       "</table>\n",
       "</div>"
      ],
      "text/plain": [
       "        index         0         1         2         3  sin_col_0\n",
       "0  2020-09-28  0.457371 -0.879157  0.583330 -1.000114   1.579915\n",
       "1  2020-09-29 -0.206490  0.320839 -0.073662 -1.100085   0.813435\n",
       "2  2020-09-30  0.530208 -1.755606 -0.877988  1.489265   1.699286\n",
       "3  2020-10-01  0.770952  0.336822  0.357753  0.029414   2.161823\n",
       "4  2020-10-02 -0.143018 -0.930044  0.115112  1.469083   0.866739\n",
       "5  2020-10-03  1.533250 -1.223629  2.407742 -0.735663   4.633211\n",
       "6  2020-10-04 -0.499551 -0.680852 -1.150850  0.685833   0.606803\n",
       "7  2020-10-05 -0.200054 -1.258089 -0.210340  0.414604   0.818686\n",
       "8  2020-10-06 -2.417154  0.882970 -0.396638  0.174092   0.089175\n",
       "9  2020-10-07  1.439675 -1.130625 -1.329292 -0.268661   4.219325\n",
       "10 2020-10-08 -0.587003 -1.248360  0.040795 -0.618187   0.555991\n",
       "11 2020-10-09 -0.113577  0.119888  1.728034 -1.539508   0.892635\n",
       "12 2020-10-10  1.240064 -2.188801  0.920286  0.480053   3.455835\n",
       "13 2020-10-11  1.170962 -0.179637  0.290563 -1.480861   3.225094\n",
       "14 2020-10-12  0.205238 -1.595464  0.460546 -1.335749   1.227817\n",
       "15 2020-10-13 -0.777552 -1.171814 -1.587152  0.097523   0.459530\n",
       "16 2020-10-14 -0.365105  1.787392  1.386424 -0.470916   0.694124\n",
       "17 2020-10-15  0.950224  1.310818 -0.130362 -0.009626   2.586289\n",
       "18 2020-10-16  0.502305 -0.952283 -0.403228  0.645353   1.652527\n",
       "19 2020-10-17 -1.307474  0.217452 -1.057232 -0.543083   0.270502\n",
       "20 2020-10-18  0.474735 -0.168946  0.117801 -0.564799   1.607588\n",
       "21 2020-10-19 -1.109215  0.520826 -1.080987 -0.833276   0.329818\n",
       "22 2020-10-20  0.190254  0.005403 -0.559549 -0.485300   1.209556\n",
       "23 2020-10-21  0.543546 -1.489034 -0.382588  0.352776   1.722103\n",
       "24 2020-10-22 -2.205992  0.678270  0.314805 -1.526717   0.110141\n",
       "25 2020-10-23  0.071873  0.166561  0.462306 -0.763608   1.074519\n",
       "26 2020-10-24 -0.457708 -0.237056  2.067688  1.767471   0.632732\n",
       "27 2020-10-25 -0.990361 -0.915597 -0.461874 -1.453261   0.371443\n",
       "28 2020-10-26  3.294767 -1.033640 -0.773855 -0.929904  26.971142\n",
       "29 2020-10-27 -0.541109  0.435351  0.671731  0.343014   0.582102"
      ]
     },
     "execution_count": 122,
     "metadata": {},
     "output_type": "execute_result"
    }
   ],
   "source": [
    "df"
   ]
  },
  {
   "cell_type": "markdown",
   "metadata": {},
   "source": [
    "### Lembrando que colunas podem ter tipos de dados diferentes, no caso do dataframe, vemos com .dtypes ao final do nome do dataframe"
   ]
  },
  {
   "cell_type": "code",
   "execution_count": 123,
   "metadata": {},
   "outputs": [
    {
     "data": {
      "text/plain": [
       "index        datetime64[ns]\n",
       "0                   float64\n",
       "1                   float64\n",
       "2                   float64\n",
       "3                   float64\n",
       "sin_col_0           float64\n",
       "dtype: object"
      ]
     },
     "execution_count": 123,
     "metadata": {},
     "output_type": "execute_result"
    }
   ],
   "source": [
    "df.dtypes"
   ]
  },
  {
   "cell_type": "markdown",
   "metadata": {},
   "source": [
    "### Assim como em uma matriz, podemos especificar coluna e linha para obter dados:"
   ]
  },
  {
   "cell_type": "code",
   "execution_count": 124,
   "metadata": {},
   "outputs": [
    {
     "data": {
      "text/html": [
       "<div>\n",
       "<style scoped>\n",
       "    .dataframe tbody tr th:only-of-type {\n",
       "        vertical-align: middle;\n",
       "    }\n",
       "\n",
       "    .dataframe tbody tr th {\n",
       "        vertical-align: top;\n",
       "    }\n",
       "\n",
       "    .dataframe thead th {\n",
       "        text-align: right;\n",
       "    }\n",
       "</style>\n",
       "<table border=\"1\" class=\"dataframe\">\n",
       "  <thead>\n",
       "    <tr style=\"text-align: right;\">\n",
       "      <th></th>\n",
       "      <th>index</th>\n",
       "      <th>0</th>\n",
       "      <th>1</th>\n",
       "      <th>2</th>\n",
       "      <th>3</th>\n",
       "      <th>sin_col_0</th>\n",
       "    </tr>\n",
       "  </thead>\n",
       "  <tbody>\n",
       "    <tr>\n",
       "      <th>0</th>\n",
       "      <td>2020-09-28</td>\n",
       "      <td>0.457371</td>\n",
       "      <td>-0.879157</td>\n",
       "      <td>0.583330</td>\n",
       "      <td>-1.000114</td>\n",
       "      <td>1.579915</td>\n",
       "    </tr>\n",
       "    <tr>\n",
       "      <th>1</th>\n",
       "      <td>2020-09-29</td>\n",
       "      <td>-0.206490</td>\n",
       "      <td>0.320839</td>\n",
       "      <td>-0.073662</td>\n",
       "      <td>-1.100085</td>\n",
       "      <td>0.813435</td>\n",
       "    </tr>\n",
       "    <tr>\n",
       "      <th>2</th>\n",
       "      <td>2020-09-30</td>\n",
       "      <td>0.530208</td>\n",
       "      <td>-1.755606</td>\n",
       "      <td>-0.877988</td>\n",
       "      <td>1.489265</td>\n",
       "      <td>1.699286</td>\n",
       "    </tr>\n",
       "    <tr>\n",
       "      <th>3</th>\n",
       "      <td>2020-10-01</td>\n",
       "      <td>0.770952</td>\n",
       "      <td>0.336822</td>\n",
       "      <td>0.357753</td>\n",
       "      <td>0.029414</td>\n",
       "      <td>2.161823</td>\n",
       "    </tr>\n",
       "    <tr>\n",
       "      <th>4</th>\n",
       "      <td>2020-10-02</td>\n",
       "      <td>-0.143018</td>\n",
       "      <td>-0.930044</td>\n",
       "      <td>0.115112</td>\n",
       "      <td>1.469083</td>\n",
       "      <td>0.866739</td>\n",
       "    </tr>\n",
       "  </tbody>\n",
       "</table>\n",
       "</div>"
      ],
      "text/plain": [
       "       index         0         1         2         3  sin_col_0\n",
       "0 2020-09-28  0.457371 -0.879157  0.583330 -1.000114   1.579915\n",
       "1 2020-09-29 -0.206490  0.320839 -0.073662 -1.100085   0.813435\n",
       "2 2020-09-30  0.530208 -1.755606 -0.877988  1.489265   1.699286\n",
       "3 2020-10-01  0.770952  0.336822  0.357753  0.029414   2.161823\n",
       "4 2020-10-02 -0.143018 -0.930044  0.115112  1.469083   0.866739"
      ]
     },
     "execution_count": 124,
     "metadata": {},
     "output_type": "execute_result"
    }
   ],
   "source": [
    "df.iloc[:5] #pegar 5 primeiras linhas com todas as colunas"
   ]
  },
  {
   "cell_type": "code",
   "execution_count": 125,
   "metadata": {
    "scrolled": true
   },
   "outputs": [
    {
     "data": {
      "text/html": [
       "<div>\n",
       "<style scoped>\n",
       "    .dataframe tbody tr th:only-of-type {\n",
       "        vertical-align: middle;\n",
       "    }\n",
       "\n",
       "    .dataframe tbody tr th {\n",
       "        vertical-align: top;\n",
       "    }\n",
       "\n",
       "    .dataframe thead th {\n",
       "        text-align: right;\n",
       "    }\n",
       "</style>\n",
       "<table border=\"1\" class=\"dataframe\">\n",
       "  <thead>\n",
       "    <tr style=\"text-align: right;\">\n",
       "      <th></th>\n",
       "      <th>0</th>\n",
       "      <th>sin_col_0</th>\n",
       "    </tr>\n",
       "  </thead>\n",
       "  <tbody>\n",
       "    <tr>\n",
       "      <th>0</th>\n",
       "      <td>0.457371</td>\n",
       "      <td>1.579915</td>\n",
       "    </tr>\n",
       "    <tr>\n",
       "      <th>1</th>\n",
       "      <td>-0.206490</td>\n",
       "      <td>0.813435</td>\n",
       "    </tr>\n",
       "    <tr>\n",
       "      <th>2</th>\n",
       "      <td>0.530208</td>\n",
       "      <td>1.699286</td>\n",
       "    </tr>\n",
       "    <tr>\n",
       "      <th>3</th>\n",
       "      <td>0.770952</td>\n",
       "      <td>2.161823</td>\n",
       "    </tr>\n",
       "    <tr>\n",
       "      <th>4</th>\n",
       "      <td>-0.143018</td>\n",
       "      <td>0.866739</td>\n",
       "    </tr>\n",
       "    <tr>\n",
       "      <th>5</th>\n",
       "      <td>1.533250</td>\n",
       "      <td>4.633211</td>\n",
       "    </tr>\n",
       "  </tbody>\n",
       "</table>\n",
       "</div>"
      ],
      "text/plain": [
       "          0  sin_col_0\n",
       "0  0.457371   1.579915\n",
       "1 -0.206490   0.813435\n",
       "2  0.530208   1.699286\n",
       "3  0.770952   2.161823\n",
       "4 -0.143018   0.866739\n",
       "5  1.533250   4.633211"
      ]
     },
     "execution_count": 125,
     "metadata": {},
     "output_type": "execute_result"
    }
   ],
   "source": [
    "df.loc[:5,[0,'sin_col_0']]"
   ]
  },
  {
   "cell_type": "markdown",
   "metadata": {},
   "source": [
    "### Observação:\n",
    "\n",
    "No caso do uso de iloc e loc, deve corresponder ao nome e ao tipo de variável correta (caso esteja usando no index, por exemplo datetime64[ns])."
   ]
  },
  {
   "cell_type": "markdown",
   "metadata": {},
   "source": [
    "# Importação dos Dados\n",
    "\n",
    "\n",
    "Importar dados no pandas é muito fácil e pode levar a erros por achar que tudo correu tranquilamente.\n",
    "Se você conhece cada coluna perfeitamente, e tipo esperado do dado (string, float, list,...) é fácil encontrar erro. Outra possibilidade é codificação dos dados. Caso mais comum é salvar no excel no formato do PT-BR (latin-1) e importar diretamente dados como ascii (unidecode), o que gerará erros.\n",
    "\n",
    "Pandas permite importar vários tipos de tabelas. Algumas necessitam de pacotes adicionais (que em geral já vem com anaconda por ser pacotão com bibliotecas de análise científica).\n",
    "\n",
    "Mais comuns são csv, excel, pickle (formato binário do python), hdf5 e parquet. Mas outros conjuntos de dados podem ser encontrados o passo-a-passo de importação na documentação.\n",
    "\n",
    "\n",
    "Como exemplo, iremos usar dados baixados do Kaggle da competição do Titanic (nas referências)."
   ]
  },
  {
   "cell_type": "code",
   "execution_count": 126,
   "metadata": {},
   "outputs": [
    {
     "name": "stdout",
     "output_type": "stream",
     "text": [
      "Help on function read_csv in module pandas.io.parsers:\n",
      "\n",
      "read_csv(filepath_or_buffer: Union[str, pathlib.Path, IO[~AnyStr]], sep=',', delimiter=None, header='infer', names=None, index_col=None, usecols=None, squeeze=False, prefix=None, mangle_dupe_cols=True, dtype=None, engine=None, converters=None, true_values=None, false_values=None, skipinitialspace=False, skiprows=None, skipfooter=0, nrows=None, na_values=None, keep_default_na=True, na_filter=True, verbose=False, skip_blank_lines=True, parse_dates=False, infer_datetime_format=False, keep_date_col=False, date_parser=None, dayfirst=False, cache_dates=True, iterator=False, chunksize=None, compression='infer', thousands=None, decimal: str = '.', lineterminator=None, quotechar='\"', quoting=0, doublequote=True, escapechar=None, comment=None, encoding=None, dialect=None, error_bad_lines=True, warn_bad_lines=True, delim_whitespace=False, low_memory=True, memory_map=False, float_precision=None)\n",
      "    Read a comma-separated values (csv) file into DataFrame.\n",
      "    \n",
      "    Also supports optionally iterating or breaking of the file\n",
      "    into chunks.\n",
      "    \n",
      "    Additional help can be found in the online docs for\n",
      "    `IO Tools <https://pandas.pydata.org/pandas-docs/stable/user_guide/io.html>`_.\n",
      "    \n",
      "    Parameters\n",
      "    ----------\n",
      "    filepath_or_buffer : str, path object or file-like object\n",
      "        Any valid string path is acceptable. The string could be a URL. Valid\n",
      "        URL schemes include http, ftp, s3, and file. For file URLs, a host is\n",
      "        expected. A local file could be: file://localhost/path/to/table.csv.\n",
      "    \n",
      "        If you want to pass in a path object, pandas accepts any ``os.PathLike``.\n",
      "    \n",
      "        By file-like object, we refer to objects with a ``read()`` method, such as\n",
      "        a file handler (e.g. via builtin ``open`` function) or ``StringIO``.\n",
      "    sep : str, default ','\n",
      "        Delimiter to use. If sep is None, the C engine cannot automatically detect\n",
      "        the separator, but the Python parsing engine can, meaning the latter will\n",
      "        be used and automatically detect the separator by Python's builtin sniffer\n",
      "        tool, ``csv.Sniffer``. In addition, separators longer than 1 character and\n",
      "        different from ``'\\s+'`` will be interpreted as regular expressions and\n",
      "        will also force the use of the Python parsing engine. Note that regex\n",
      "        delimiters are prone to ignoring quoted data. Regex example: ``'\\r\\t'``.\n",
      "    delimiter : str, default ``None``\n",
      "        Alias for sep.\n",
      "    header : int, list of int, default 'infer'\n",
      "        Row number(s) to use as the column names, and the start of the\n",
      "        data.  Default behavior is to infer the column names: if no names\n",
      "        are passed the behavior is identical to ``header=0`` and column\n",
      "        names are inferred from the first line of the file, if column\n",
      "        names are passed explicitly then the behavior is identical to\n",
      "        ``header=None``. Explicitly pass ``header=0`` to be able to\n",
      "        replace existing names. The header can be a list of integers that\n",
      "        specify row locations for a multi-index on the columns\n",
      "        e.g. [0,1,3]. Intervening rows that are not specified will be\n",
      "        skipped (e.g. 2 in this example is skipped). Note that this\n",
      "        parameter ignores commented lines and empty lines if\n",
      "        ``skip_blank_lines=True``, so ``header=0`` denotes the first line of\n",
      "        data rather than the first line of the file.\n",
      "    names : array-like, optional\n",
      "        List of column names to use. If the file contains a header row,\n",
      "        then you should explicitly pass ``header=0`` to override the column names.\n",
      "        Duplicates in this list are not allowed.\n",
      "    index_col : int, str, sequence of int / str, or False, default ``None``\n",
      "      Column(s) to use as the row labels of the ``DataFrame``, either given as\n",
      "      string name or column index. If a sequence of int / str is given, a\n",
      "      MultiIndex is used.\n",
      "    \n",
      "      Note: ``index_col=False`` can be used to force pandas to *not* use the first\n",
      "      column as the index, e.g. when you have a malformed file with delimiters at\n",
      "      the end of each line.\n",
      "    usecols : list-like or callable, optional\n",
      "        Return a subset of the columns. If list-like, all elements must either\n",
      "        be positional (i.e. integer indices into the document columns) or strings\n",
      "        that correspond to column names provided either by the user in `names` or\n",
      "        inferred from the document header row(s). For example, a valid list-like\n",
      "        `usecols` parameter would be ``[0, 1, 2]`` or ``['foo', 'bar', 'baz']``.\n",
      "        Element order is ignored, so ``usecols=[0, 1]`` is the same as ``[1, 0]``.\n",
      "        To instantiate a DataFrame from ``data`` with element order preserved use\n",
      "        ``pd.read_csv(data, usecols=['foo', 'bar'])[['foo', 'bar']]`` for columns\n",
      "        in ``['foo', 'bar']`` order or\n",
      "        ``pd.read_csv(data, usecols=['foo', 'bar'])[['bar', 'foo']]``\n",
      "        for ``['bar', 'foo']`` order.\n",
      "    \n",
      "        If callable, the callable function will be evaluated against the column\n",
      "        names, returning names where the callable function evaluates to True. An\n",
      "        example of a valid callable argument would be ``lambda x: x.upper() in\n",
      "        ['AAA', 'BBB', 'DDD']``. Using this parameter results in much faster\n",
      "        parsing time and lower memory usage.\n",
      "    squeeze : bool, default False\n",
      "        If the parsed data only contains one column then return a Series.\n",
      "    prefix : str, optional\n",
      "        Prefix to add to column numbers when no header, e.g. 'X' for X0, X1, ...\n",
      "    mangle_dupe_cols : bool, default True\n",
      "        Duplicate columns will be specified as 'X', 'X.1', ...'X.N', rather than\n",
      "        'X'...'X'. Passing in False will cause data to be overwritten if there\n",
      "        are duplicate names in the columns.\n",
      "    dtype : Type name or dict of column -> type, optional\n",
      "        Data type for data or columns. E.g. {'a': np.float64, 'b': np.int32,\n",
      "        'c': 'Int64'}\n",
      "        Use `str` or `object` together with suitable `na_values` settings\n",
      "        to preserve and not interpret dtype.\n",
      "        If converters are specified, they will be applied INSTEAD\n",
      "        of dtype conversion.\n",
      "    engine : {'c', 'python'}, optional\n",
      "        Parser engine to use. The C engine is faster while the python engine is\n",
      "        currently more feature-complete.\n",
      "    converters : dict, optional\n",
      "        Dict of functions for converting values in certain columns. Keys can either\n",
      "        be integers or column labels.\n",
      "    true_values : list, optional\n",
      "        Values to consider as True.\n",
      "    false_values : list, optional\n",
      "        Values to consider as False.\n",
      "    skipinitialspace : bool, default False\n",
      "        Skip spaces after delimiter.\n",
      "    skiprows : list-like, int or callable, optional\n",
      "        Line numbers to skip (0-indexed) or number of lines to skip (int)\n",
      "        at the start of the file.\n",
      "    \n",
      "        If callable, the callable function will be evaluated against the row\n",
      "        indices, returning True if the row should be skipped and False otherwise.\n",
      "        An example of a valid callable argument would be ``lambda x: x in [0, 2]``.\n",
      "    skipfooter : int, default 0\n",
      "        Number of lines at bottom of file to skip (Unsupported with engine='c').\n",
      "    nrows : int, optional\n",
      "        Number of rows of file to read. Useful for reading pieces of large files.\n",
      "    na_values : scalar, str, list-like, or dict, optional\n",
      "        Additional strings to recognize as NA/NaN. If dict passed, specific\n",
      "        per-column NA values.  By default the following values are interpreted as\n",
      "        NaN: '', '#N/A', '#N/A N/A', '#NA', '-1.#IND', '-1.#QNAN', '-NaN', '-nan',\n",
      "        '1.#IND', '1.#QNAN', '<NA>', 'N/A', 'NA', 'NULL', 'NaN', 'n/a',\n",
      "        'nan', 'null'.\n",
      "    keep_default_na : bool, default True\n",
      "        Whether or not to include the default NaN values when parsing the data.\n",
      "        Depending on whether `na_values` is passed in, the behavior is as follows:\n",
      "    \n",
      "        * If `keep_default_na` is True, and `na_values` are specified, `na_values`\n",
      "          is appended to the default NaN values used for parsing.\n",
      "        * If `keep_default_na` is True, and `na_values` are not specified, only\n",
      "          the default NaN values are used for parsing.\n",
      "        * If `keep_default_na` is False, and `na_values` are specified, only\n",
      "          the NaN values specified `na_values` are used for parsing.\n",
      "        * If `keep_default_na` is False, and `na_values` are not specified, no\n",
      "          strings will be parsed as NaN.\n",
      "    \n",
      "        Note that if `na_filter` is passed in as False, the `keep_default_na` and\n",
      "        `na_values` parameters will be ignored.\n",
      "    na_filter : bool, default True\n",
      "        Detect missing value markers (empty strings and the value of na_values). In\n",
      "        data without any NAs, passing na_filter=False can improve the performance\n",
      "        of reading a large file.\n",
      "    verbose : bool, default False\n",
      "        Indicate number of NA values placed in non-numeric columns.\n",
      "    skip_blank_lines : bool, default True\n",
      "        If True, skip over blank lines rather than interpreting as NaN values.\n",
      "    parse_dates : bool or list of int or names or list of lists or dict, default False\n",
      "        The behavior is as follows:\n",
      "    \n",
      "        * boolean. If True -> try parsing the index.\n",
      "        * list of int or names. e.g. If [1, 2, 3] -> try parsing columns 1, 2, 3\n",
      "          each as a separate date column.\n",
      "        * list of lists. e.g.  If [[1, 3]] -> combine columns 1 and 3 and parse as\n",
      "          a single date column.\n",
      "        * dict, e.g. {'foo' : [1, 3]} -> parse columns 1, 3 as date and call\n",
      "          result 'foo'\n",
      "    \n",
      "        If a column or index cannot be represented as an array of datetimes,\n",
      "        say because of an unparseable value or a mixture of timezones, the column\n",
      "        or index will be returned unaltered as an object data type. For\n",
      "        non-standard datetime parsing, use ``pd.to_datetime`` after\n",
      "        ``pd.read_csv``. To parse an index or column with a mixture of timezones,\n",
      "        specify ``date_parser`` to be a partially-applied\n",
      "        :func:`pandas.to_datetime` with ``utc=True``. See\n",
      "        :ref:`io.csv.mixed_timezones` for more.\n",
      "    \n",
      "        Note: A fast-path exists for iso8601-formatted dates.\n",
      "    infer_datetime_format : bool, default False\n",
      "        If True and `parse_dates` is enabled, pandas will attempt to infer the\n",
      "        format of the datetime strings in the columns, and if it can be inferred,\n",
      "        switch to a faster method of parsing them. In some cases this can increase\n",
      "        the parsing speed by 5-10x.\n",
      "    keep_date_col : bool, default False\n",
      "        If True and `parse_dates` specifies combining multiple columns then\n",
      "        keep the original columns.\n",
      "    date_parser : function, optional\n",
      "        Function to use for converting a sequence of string columns to an array of\n",
      "        datetime instances. The default uses ``dateutil.parser.parser`` to do the\n",
      "        conversion. Pandas will try to call `date_parser` in three different ways,\n",
      "        advancing to the next if an exception occurs: 1) Pass one or more arrays\n",
      "        (as defined by `parse_dates`) as arguments; 2) concatenate (row-wise) the\n",
      "        string values from the columns defined by `parse_dates` into a single array\n",
      "        and pass that; and 3) call `date_parser` once for each row using one or\n",
      "        more strings (corresponding to the columns defined by `parse_dates`) as\n",
      "        arguments.\n",
      "    dayfirst : bool, default False\n",
      "        DD/MM format dates, international and European format.\n",
      "    cache_dates : bool, default True\n",
      "        If True, use a cache of unique, converted dates to apply the datetime\n",
      "        conversion. May produce significant speed-up when parsing duplicate\n",
      "        date strings, especially ones with timezone offsets.\n",
      "    \n",
      "        .. versionadded:: 0.25.0\n",
      "    iterator : bool, default False\n",
      "        Return TextFileReader object for iteration or getting chunks with\n",
      "        ``get_chunk()``.\n",
      "    chunksize : int, optional\n",
      "        Return TextFileReader object for iteration.\n",
      "        See the `IO Tools docs\n",
      "        <https://pandas.pydata.org/pandas-docs/stable/io.html#io-chunking>`_\n",
      "        for more information on ``iterator`` and ``chunksize``.\n",
      "    compression : {'infer', 'gzip', 'bz2', 'zip', 'xz', None}, default 'infer'\n",
      "        For on-the-fly decompression of on-disk data. If 'infer' and\n",
      "        `filepath_or_buffer` is path-like, then detect compression from the\n",
      "        following extensions: '.gz', '.bz2', '.zip', or '.xz' (otherwise no\n",
      "        decompression). If using 'zip', the ZIP file must contain only one data\n",
      "        file to be read in. Set to None for no decompression.\n",
      "    thousands : str, optional\n",
      "        Thousands separator.\n",
      "    decimal : str, default '.'\n",
      "        Character to recognize as decimal point (e.g. use ',' for European data).\n",
      "    lineterminator : str (length 1), optional\n",
      "        Character to break file into lines. Only valid with C parser.\n",
      "    quotechar : str (length 1), optional\n",
      "        The character used to denote the start and end of a quoted item. Quoted\n",
      "        items can include the delimiter and it will be ignored.\n",
      "    quoting : int or csv.QUOTE_* instance, default 0\n",
      "        Control field quoting behavior per ``csv.QUOTE_*`` constants. Use one of\n",
      "        QUOTE_MINIMAL (0), QUOTE_ALL (1), QUOTE_NONNUMERIC (2) or QUOTE_NONE (3).\n",
      "    doublequote : bool, default ``True``\n",
      "       When quotechar is specified and quoting is not ``QUOTE_NONE``, indicate\n",
      "       whether or not to interpret two consecutive quotechar elements INSIDE a\n",
      "       field as a single ``quotechar`` element.\n",
      "    escapechar : str (length 1), optional\n",
      "        One-character string used to escape other characters.\n",
      "    comment : str, optional\n",
      "        Indicates remainder of line should not be parsed. If found at the beginning\n",
      "        of a line, the line will be ignored altogether. This parameter must be a\n",
      "        single character. Like empty lines (as long as ``skip_blank_lines=True``),\n",
      "        fully commented lines are ignored by the parameter `header` but not by\n",
      "        `skiprows`. For example, if ``comment='#'``, parsing\n",
      "        ``#empty\\na,b,c\\n1,2,3`` with ``header=0`` will result in 'a,b,c' being\n",
      "        treated as the header.\n",
      "    encoding : str, optional\n",
      "        Encoding to use for UTF when reading/writing (ex. 'utf-8'). `List of Python\n",
      "        standard encodings\n",
      "        <https://docs.python.org/3/library/codecs.html#standard-encodings>`_ .\n",
      "    dialect : str or csv.Dialect, optional\n",
      "        If provided, this parameter will override values (default or not) for the\n",
      "        following parameters: `delimiter`, `doublequote`, `escapechar`,\n",
      "        `skipinitialspace`, `quotechar`, and `quoting`. If it is necessary to\n",
      "        override values, a ParserWarning will be issued. See csv.Dialect\n",
      "        documentation for more details.\n",
      "    error_bad_lines : bool, default True\n",
      "        Lines with too many fields (e.g. a csv line with too many commas) will by\n",
      "        default cause an exception to be raised, and no DataFrame will be returned.\n",
      "        If False, then these \"bad lines\" will dropped from the DataFrame that is\n",
      "        returned.\n",
      "    warn_bad_lines : bool, default True\n",
      "        If error_bad_lines is False, and warn_bad_lines is True, a warning for each\n",
      "        \"bad line\" will be output.\n",
      "    delim_whitespace : bool, default False\n",
      "        Specifies whether or not whitespace (e.g. ``' '`` or ``'    '``) will be\n",
      "        used as the sep. Equivalent to setting ``sep='\\s+'``. If this option\n",
      "        is set to True, nothing should be passed in for the ``delimiter``\n",
      "        parameter.\n",
      "    low_memory : bool, default True\n",
      "        Internally process the file in chunks, resulting in lower memory use\n",
      "        while parsing, but possibly mixed type inference.  To ensure no mixed\n",
      "        types either set False, or specify the type with the `dtype` parameter.\n",
      "        Note that the entire file is read into a single DataFrame regardless,\n",
      "        use the `chunksize` or `iterator` parameter to return the data in chunks.\n",
      "        (Only valid with C parser).\n",
      "    memory_map : bool, default False\n",
      "        If a filepath is provided for `filepath_or_buffer`, map the file object\n",
      "        directly onto memory and access the data directly from there. Using this\n",
      "        option can improve performance because there is no longer any I/O overhead.\n",
      "    float_precision : str, optional\n",
      "        Specifies which converter the C engine should use for floating-point\n",
      "        values. The options are `None` for the ordinary converter,\n",
      "        `high` for the high-precision converter, and `round_trip` for the\n",
      "        round-trip converter.\n",
      "    \n",
      "    Returns\n",
      "    -------\n",
      "    DataFrame or TextParser\n",
      "        A comma-separated values (csv) file is returned as two-dimensional\n",
      "        data structure with labeled axes.\n",
      "    \n",
      "    See Also\n",
      "    --------\n",
      "    to_csv : Write DataFrame to a comma-separated values (csv) file.\n",
      "    read_csv : Read a comma-separated values (csv) file into DataFrame.\n",
      "    read_fwf : Read a table of fixed-width formatted lines into DataFrame.\n",
      "    \n",
      "    Examples\n",
      "    --------\n",
      "    >>> pd.read_csv('data.csv')  # doctest: +SKIP\n",
      "\n"
     ]
    }
   ],
   "source": [
    "help(pd.read_csv)"
   ]
  },
  {
   "cell_type": "code",
   "execution_count": 127,
   "metadata": {},
   "outputs": [
    {
     "data": {
      "text/html": [
       "<div>\n",
       "<style scoped>\n",
       "    .dataframe tbody tr th:only-of-type {\n",
       "        vertical-align: middle;\n",
       "    }\n",
       "\n",
       "    .dataframe tbody tr th {\n",
       "        vertical-align: top;\n",
       "    }\n",
       "\n",
       "    .dataframe thead th {\n",
       "        text-align: right;\n",
       "    }\n",
       "</style>\n",
       "<table border=\"1\" class=\"dataframe\">\n",
       "  <thead>\n",
       "    <tr style=\"text-align: right;\">\n",
       "      <th></th>\n",
       "      <th>PassengerId</th>\n",
       "      <th>Survived</th>\n",
       "      <th>Pclass</th>\n",
       "      <th>Name</th>\n",
       "      <th>Sex</th>\n",
       "      <th>Age</th>\n",
       "      <th>SibSp</th>\n",
       "      <th>Parch</th>\n",
       "      <th>Ticket</th>\n",
       "      <th>Fare</th>\n",
       "      <th>Cabin</th>\n",
       "      <th>Embarked</th>\n",
       "    </tr>\n",
       "  </thead>\n",
       "  <tbody>\n",
       "    <tr>\n",
       "      <th>0</th>\n",
       "      <td>1</td>\n",
       "      <td>0</td>\n",
       "      <td>3</td>\n",
       "      <td>Braund, Mr. Owen Harris</td>\n",
       "      <td>male</td>\n",
       "      <td>22.0</td>\n",
       "      <td>1</td>\n",
       "      <td>0</td>\n",
       "      <td>A/5 21171</td>\n",
       "      <td>7.2500</td>\n",
       "      <td>NaN</td>\n",
       "      <td>S</td>\n",
       "    </tr>\n",
       "    <tr>\n",
       "      <th>1</th>\n",
       "      <td>2</td>\n",
       "      <td>1</td>\n",
       "      <td>1</td>\n",
       "      <td>Cumings, Mrs. John Bradley (Florence Briggs Th...</td>\n",
       "      <td>female</td>\n",
       "      <td>38.0</td>\n",
       "      <td>1</td>\n",
       "      <td>0</td>\n",
       "      <td>PC 17599</td>\n",
       "      <td>71.2833</td>\n",
       "      <td>C85</td>\n",
       "      <td>C</td>\n",
       "    </tr>\n",
       "    <tr>\n",
       "      <th>2</th>\n",
       "      <td>3</td>\n",
       "      <td>1</td>\n",
       "      <td>3</td>\n",
       "      <td>Heikkinen, Miss. Laina</td>\n",
       "      <td>female</td>\n",
       "      <td>26.0</td>\n",
       "      <td>0</td>\n",
       "      <td>0</td>\n",
       "      <td>STON/O2. 3101282</td>\n",
       "      <td>7.9250</td>\n",
       "      <td>NaN</td>\n",
       "      <td>S</td>\n",
       "    </tr>\n",
       "    <tr>\n",
       "      <th>3</th>\n",
       "      <td>4</td>\n",
       "      <td>1</td>\n",
       "      <td>1</td>\n",
       "      <td>Futrelle, Mrs. Jacques Heath (Lily May Peel)</td>\n",
       "      <td>female</td>\n",
       "      <td>35.0</td>\n",
       "      <td>1</td>\n",
       "      <td>0</td>\n",
       "      <td>113803</td>\n",
       "      <td>53.1000</td>\n",
       "      <td>C123</td>\n",
       "      <td>S</td>\n",
       "    </tr>\n",
       "    <tr>\n",
       "      <th>4</th>\n",
       "      <td>5</td>\n",
       "      <td>0</td>\n",
       "      <td>3</td>\n",
       "      <td>Allen, Mr. William Henry</td>\n",
       "      <td>male</td>\n",
       "      <td>35.0</td>\n",
       "      <td>0</td>\n",
       "      <td>0</td>\n",
       "      <td>373450</td>\n",
       "      <td>8.0500</td>\n",
       "      <td>NaN</td>\n",
       "      <td>S</td>\n",
       "    </tr>\n",
       "  </tbody>\n",
       "</table>\n",
       "</div>"
      ],
      "text/plain": [
       "   PassengerId  Survived  Pclass  \\\n",
       "0            1         0       3   \n",
       "1            2         1       1   \n",
       "2            3         1       3   \n",
       "3            4         1       1   \n",
       "4            5         0       3   \n",
       "\n",
       "                                                Name     Sex   Age  SibSp  \\\n",
       "0                            Braund, Mr. Owen Harris    male  22.0      1   \n",
       "1  Cumings, Mrs. John Bradley (Florence Briggs Th...  female  38.0      1   \n",
       "2                             Heikkinen, Miss. Laina  female  26.0      0   \n",
       "3       Futrelle, Mrs. Jacques Heath (Lily May Peel)  female  35.0      1   \n",
       "4                           Allen, Mr. William Henry    male  35.0      0   \n",
       "\n",
       "   Parch            Ticket     Fare Cabin Embarked  \n",
       "0      0         A/5 21171   7.2500   NaN        S  \n",
       "1      0          PC 17599  71.2833   C85        C  \n",
       "2      0  STON/O2. 3101282   7.9250   NaN        S  \n",
       "3      0            113803  53.1000  C123        S  \n",
       "4      0            373450   8.0500   NaN        S  "
      ]
     },
     "execution_count": 127,
     "metadata": {},
     "output_type": "execute_result"
    }
   ],
   "source": [
    "data = pd.read_csv('./titanic/train.csv',)\n",
    "data.head()"
   ]
  },
  {
   "cell_type": "code",
   "execution_count": 128,
   "metadata": {},
   "outputs": [
    {
     "data": {
      "text/plain": [
       "(891, 12)"
      ]
     },
     "execution_count": 128,
     "metadata": {},
     "output_type": "execute_result"
    }
   ],
   "source": [
    "data.shape"
   ]
  },
  {
   "cell_type": "code",
   "execution_count": 130,
   "metadata": {},
   "outputs": [
    {
     "data": {
      "text/plain": [
       "Index(['PassengerId', 'Survived', 'Pclass', 'Name', 'Sex', 'Age', 'SibSp',\n",
       "       'Parch', 'Ticket', 'Fare', 'Cabin', 'Embarked'],\n",
       "      dtype='object')"
      ]
     },
     "execution_count": 130,
     "metadata": {},
     "output_type": "execute_result"
    }
   ],
   "source": [
    "#data.rename({'col':novo_nome})\n",
    "#data.columns = lista com 12 nomes\n",
    "data.columns"
   ]
  },
  {
   "cell_type": "code",
   "execution_count": 131,
   "metadata": {},
   "outputs": [
    {
     "data": {
      "text/plain": [
       "PassengerId      int64\n",
       "Survived         int64\n",
       "Pclass           int64\n",
       "Name            object\n",
       "Sex             object\n",
       "Age            float64\n",
       "SibSp            int64\n",
       "Parch            int64\n",
       "Ticket          object\n",
       "Fare           float64\n",
       "Cabin           object\n",
       "Embarked        object\n",
       "dtype: object"
      ]
     },
     "execution_count": 131,
     "metadata": {},
     "output_type": "execute_result"
    }
   ],
   "source": [
    "data.dtypes"
   ]
  },
  {
   "cell_type": "code",
   "execution_count": 133,
   "metadata": {},
   "outputs": [
    {
     "data": {
      "text/html": [
       "<div>\n",
       "<style scoped>\n",
       "    .dataframe tbody tr th:only-of-type {\n",
       "        vertical-align: middle;\n",
       "    }\n",
       "\n",
       "    .dataframe tbody tr th {\n",
       "        vertical-align: top;\n",
       "    }\n",
       "\n",
       "    .dataframe thead th {\n",
       "        text-align: right;\n",
       "    }\n",
       "</style>\n",
       "<table border=\"1\" class=\"dataframe\">\n",
       "  <thead>\n",
       "    <tr style=\"text-align: right;\">\n",
       "      <th></th>\n",
       "      <th>PassengerId</th>\n",
       "      <th>Survived</th>\n",
       "      <th>Pclass</th>\n",
       "      <th>Name</th>\n",
       "      <th>Sex</th>\n",
       "      <th>Age</th>\n",
       "      <th>SibSp</th>\n",
       "      <th>Parch</th>\n",
       "      <th>Ticket</th>\n",
       "      <th>Fare</th>\n",
       "      <th>Cabin</th>\n",
       "      <th>Embarked</th>\n",
       "    </tr>\n",
       "  </thead>\n",
       "  <tbody>\n",
       "    <tr>\n",
       "      <th>886</th>\n",
       "      <td>887</td>\n",
       "      <td>0</td>\n",
       "      <td>2</td>\n",
       "      <td>Montvila, Rev. Juozas</td>\n",
       "      <td>male</td>\n",
       "      <td>27.0</td>\n",
       "      <td>0</td>\n",
       "      <td>0</td>\n",
       "      <td>211536</td>\n",
       "      <td>13.00</td>\n",
       "      <td>NaN</td>\n",
       "      <td>S</td>\n",
       "    </tr>\n",
       "    <tr>\n",
       "      <th>887</th>\n",
       "      <td>888</td>\n",
       "      <td>1</td>\n",
       "      <td>1</td>\n",
       "      <td>Graham, Miss. Margaret Edith</td>\n",
       "      <td>female</td>\n",
       "      <td>19.0</td>\n",
       "      <td>0</td>\n",
       "      <td>0</td>\n",
       "      <td>112053</td>\n",
       "      <td>30.00</td>\n",
       "      <td>B42</td>\n",
       "      <td>S</td>\n",
       "    </tr>\n",
       "    <tr>\n",
       "      <th>888</th>\n",
       "      <td>889</td>\n",
       "      <td>0</td>\n",
       "      <td>3</td>\n",
       "      <td>Johnston, Miss. Catherine Helen \"Carrie\"</td>\n",
       "      <td>female</td>\n",
       "      <td>NaN</td>\n",
       "      <td>1</td>\n",
       "      <td>2</td>\n",
       "      <td>W./C. 6607</td>\n",
       "      <td>23.45</td>\n",
       "      <td>NaN</td>\n",
       "      <td>S</td>\n",
       "    </tr>\n",
       "    <tr>\n",
       "      <th>889</th>\n",
       "      <td>890</td>\n",
       "      <td>1</td>\n",
       "      <td>1</td>\n",
       "      <td>Behr, Mr. Karl Howell</td>\n",
       "      <td>male</td>\n",
       "      <td>26.0</td>\n",
       "      <td>0</td>\n",
       "      <td>0</td>\n",
       "      <td>111369</td>\n",
       "      <td>30.00</td>\n",
       "      <td>C148</td>\n",
       "      <td>C</td>\n",
       "    </tr>\n",
       "    <tr>\n",
       "      <th>890</th>\n",
       "      <td>891</td>\n",
       "      <td>0</td>\n",
       "      <td>3</td>\n",
       "      <td>Dooley, Mr. Patrick</td>\n",
       "      <td>male</td>\n",
       "      <td>32.0</td>\n",
       "      <td>0</td>\n",
       "      <td>0</td>\n",
       "      <td>370376</td>\n",
       "      <td>7.75</td>\n",
       "      <td>NaN</td>\n",
       "      <td>Q</td>\n",
       "    </tr>\n",
       "  </tbody>\n",
       "</table>\n",
       "</div>"
      ],
      "text/plain": [
       "     PassengerId  Survived  Pclass                                      Name  \\\n",
       "886          887         0       2                     Montvila, Rev. Juozas   \n",
       "887          888         1       1              Graham, Miss. Margaret Edith   \n",
       "888          889         0       3  Johnston, Miss. Catherine Helen \"Carrie\"   \n",
       "889          890         1       1                     Behr, Mr. Karl Howell   \n",
       "890          891         0       3                       Dooley, Mr. Patrick   \n",
       "\n",
       "        Sex   Age  SibSp  Parch      Ticket   Fare Cabin Embarked  \n",
       "886    male  27.0      0      0      211536  13.00   NaN        S  \n",
       "887  female  19.0      0      0      112053  30.00   B42        S  \n",
       "888  female   NaN      1      2  W./C. 6607  23.45   NaN        S  \n",
       "889    male  26.0      0      0      111369  30.00  C148        C  \n",
       "890    male  32.0      0      0      370376   7.75   NaN        Q  "
      ]
     },
     "execution_count": 133,
     "metadata": {},
     "output_type": "execute_result"
    }
   ],
   "source": [
    "data.tail()"
   ]
  },
  {
   "cell_type": "code",
   "execution_count": 136,
   "metadata": {},
   "outputs": [
    {
     "data": {
      "text/plain": [
       "PassengerId      0\n",
       "Survived         0\n",
       "Pclass           0\n",
       "Name             0\n",
       "Sex              0\n",
       "Age            177\n",
       "SibSp            0\n",
       "Parch            0\n",
       "Ticket           0\n",
       "Fare             0\n",
       "Cabin          687\n",
       "Embarked         2\n",
       "dtype: int64"
      ]
     },
     "execution_count": 136,
     "metadata": {},
     "output_type": "execute_result"
    }
   ],
   "source": [
    "data.isna().sum()"
   ]
  },
  {
   "cell_type": "code",
   "execution_count": 137,
   "metadata": {},
   "outputs": [
    {
     "data": {
      "text/html": [
       "<div>\n",
       "<style scoped>\n",
       "    .dataframe tbody tr th:only-of-type {\n",
       "        vertical-align: middle;\n",
       "    }\n",
       "\n",
       "    .dataframe tbody tr th {\n",
       "        vertical-align: top;\n",
       "    }\n",
       "\n",
       "    .dataframe thead th {\n",
       "        text-align: right;\n",
       "    }\n",
       "</style>\n",
       "<table border=\"1\" class=\"dataframe\">\n",
       "  <thead>\n",
       "    <tr style=\"text-align: right;\">\n",
       "      <th></th>\n",
       "      <th>PassengerId</th>\n",
       "      <th>Survived</th>\n",
       "      <th>Pclass</th>\n",
       "      <th>Age</th>\n",
       "      <th>SibSp</th>\n",
       "      <th>Parch</th>\n",
       "      <th>Fare</th>\n",
       "    </tr>\n",
       "  </thead>\n",
       "  <tbody>\n",
       "    <tr>\n",
       "      <th>count</th>\n",
       "      <td>891.000000</td>\n",
       "      <td>891.000000</td>\n",
       "      <td>891.000000</td>\n",
       "      <td>714.000000</td>\n",
       "      <td>891.000000</td>\n",
       "      <td>891.000000</td>\n",
       "      <td>891.000000</td>\n",
       "    </tr>\n",
       "    <tr>\n",
       "      <th>mean</th>\n",
       "      <td>446.000000</td>\n",
       "      <td>0.383838</td>\n",
       "      <td>2.308642</td>\n",
       "      <td>29.699118</td>\n",
       "      <td>0.523008</td>\n",
       "      <td>0.381594</td>\n",
       "      <td>32.204208</td>\n",
       "    </tr>\n",
       "    <tr>\n",
       "      <th>std</th>\n",
       "      <td>257.353842</td>\n",
       "      <td>0.486592</td>\n",
       "      <td>0.836071</td>\n",
       "      <td>14.526497</td>\n",
       "      <td>1.102743</td>\n",
       "      <td>0.806057</td>\n",
       "      <td>49.693429</td>\n",
       "    </tr>\n",
       "    <tr>\n",
       "      <th>min</th>\n",
       "      <td>1.000000</td>\n",
       "      <td>0.000000</td>\n",
       "      <td>1.000000</td>\n",
       "      <td>0.420000</td>\n",
       "      <td>0.000000</td>\n",
       "      <td>0.000000</td>\n",
       "      <td>0.000000</td>\n",
       "    </tr>\n",
       "    <tr>\n",
       "      <th>25%</th>\n",
       "      <td>223.500000</td>\n",
       "      <td>0.000000</td>\n",
       "      <td>2.000000</td>\n",
       "      <td>20.125000</td>\n",
       "      <td>0.000000</td>\n",
       "      <td>0.000000</td>\n",
       "      <td>7.910400</td>\n",
       "    </tr>\n",
       "    <tr>\n",
       "      <th>50%</th>\n",
       "      <td>446.000000</td>\n",
       "      <td>0.000000</td>\n",
       "      <td>3.000000</td>\n",
       "      <td>28.000000</td>\n",
       "      <td>0.000000</td>\n",
       "      <td>0.000000</td>\n",
       "      <td>14.454200</td>\n",
       "    </tr>\n",
       "    <tr>\n",
       "      <th>75%</th>\n",
       "      <td>668.500000</td>\n",
       "      <td>1.000000</td>\n",
       "      <td>3.000000</td>\n",
       "      <td>38.000000</td>\n",
       "      <td>1.000000</td>\n",
       "      <td>0.000000</td>\n",
       "      <td>31.000000</td>\n",
       "    </tr>\n",
       "    <tr>\n",
       "      <th>max</th>\n",
       "      <td>891.000000</td>\n",
       "      <td>1.000000</td>\n",
       "      <td>3.000000</td>\n",
       "      <td>80.000000</td>\n",
       "      <td>8.000000</td>\n",
       "      <td>6.000000</td>\n",
       "      <td>512.329200</td>\n",
       "    </tr>\n",
       "  </tbody>\n",
       "</table>\n",
       "</div>"
      ],
      "text/plain": [
       "       PassengerId    Survived      Pclass         Age       SibSp  \\\n",
       "count   891.000000  891.000000  891.000000  714.000000  891.000000   \n",
       "mean    446.000000    0.383838    2.308642   29.699118    0.523008   \n",
       "std     257.353842    0.486592    0.836071   14.526497    1.102743   \n",
       "min       1.000000    0.000000    1.000000    0.420000    0.000000   \n",
       "25%     223.500000    0.000000    2.000000   20.125000    0.000000   \n",
       "50%     446.000000    0.000000    3.000000   28.000000    0.000000   \n",
       "75%     668.500000    1.000000    3.000000   38.000000    1.000000   \n",
       "max     891.000000    1.000000    3.000000   80.000000    8.000000   \n",
       "\n",
       "            Parch        Fare  \n",
       "count  891.000000  891.000000  \n",
       "mean     0.381594   32.204208  \n",
       "std      0.806057   49.693429  \n",
       "min      0.000000    0.000000  \n",
       "25%      0.000000    7.910400  \n",
       "50%      0.000000   14.454200  \n",
       "75%      0.000000   31.000000  \n",
       "max      6.000000  512.329200  "
      ]
     },
     "execution_count": 137,
     "metadata": {},
     "output_type": "execute_result"
    }
   ],
   "source": [
    "data.describe()"
   ]
  },
  {
   "cell_type": "markdown",
   "metadata": {},
   "source": [
    "### Podemos visualizar tipos unicos de uma coluna:"
   ]
  },
  {
   "cell_type": "code",
   "execution_count": 138,
   "metadata": {},
   "outputs": [
    {
     "data": {
      "text/plain": [
       "array([0, 1])"
      ]
     },
     "execution_count": 138,
     "metadata": {},
     "output_type": "execute_result"
    }
   ],
   "source": [
    "data['Survived'].unique()"
   ]
  },
  {
   "cell_type": "markdown",
   "metadata": {},
   "source": [
    "### E gráficos:"
   ]
  },
  {
   "cell_type": "code",
   "execution_count": 139,
   "metadata": {},
   "outputs": [
    {
     "data": {
      "text/plain": [
       "<matplotlib.axes._subplots.AxesSubplot at 0x7f9b1b69f550>"
      ]
     },
     "execution_count": 139,
     "metadata": {},
     "output_type": "execute_result"
    },
    {
     "data": {
      "image/png": "[encoded data removed]",
      "text/plain": [
       "<Figure size 432x288 with 1 Axes>"
      ]
     },
     "metadata": {
      "needs_background": "light"
     },
     "output_type": "display_data"
    }
   ],
   "source": [
    "data['Age'].hist()"
   ]
  },
  {
   "cell_type": "markdown",
   "metadata": {},
   "source": [
    "### Podemos montar filtros:"
   ]
  },
  {
   "cell_type": "code",
   "execution_count": 142,
   "metadata": {},
   "outputs": [
    {
     "data": {
      "text/plain": [
       "(549, 12)"
      ]
     },
     "execution_count": 142,
     "metadata": {},
     "output_type": "execute_result"
    }
   ],
   "source": [
    "data[data['Survived'] == 0].shape"
   ]
  },
  {
   "cell_type": "code",
   "execution_count": 143,
   "metadata": {},
   "outputs": [
    {
     "data": {
      "text/plain": [
       "(342, 12)"
      ]
     },
     "execution_count": 143,
     "metadata": {},
     "output_type": "execute_result"
    }
   ],
   "source": [
    "data[data['Survived'] == 1].shape"
   ]
  },
  {
   "cell_type": "code",
   "execution_count": 145,
   "metadata": {},
   "outputs": [
    {
     "data": {
      "text/plain": [
       "<matplotlib.legend.Legend at 0x7f9b1c95b220>"
      ]
     },
     "execution_count": 145,
     "metadata": {},
     "output_type": "execute_result"
    },
    {
     "data": {
      "image/png": "[encoded data removed]",
      "text/plain": [
       "<Figure size 432x288 with 1 Axes>"
      ]
     },
     "metadata": {
      "needs_background": "light"
     },
     "output_type": "display_data"
    },
    {
     "data": {
      "image/png": "[encoded data removed]",
      "text/plain": [
       "<Figure size 432x288 with 1 Axes>"
      ]
     },
     "metadata": {
      "needs_background": "light"
     },
     "output_type": "display_data"
    }
   ],
   "source": [
    "plt.figure()\n",
    "data[data['Survived'] == 0]['Age'].hist(color='green',label=r'Não',grid=False)\n",
    "plt.legend()\n",
    "plt.xlabel('Idade')\n",
    "\n",
    "plt.figure()\n",
    "data[data['Survived'] == 1]['Age'].hist(color='yellow',label='Sim')\n",
    "plt.legend()"
   ]
  },
  {
   "cell_type": "markdown",
   "metadata": {},
   "source": [
    "### Podemos visualizar a correlação linear (Pearson) entre variáveis numéricas:"
   ]
  },
  {
   "cell_type": "code",
   "execution_count": 146,
   "metadata": {},
   "outputs": [
    {
     "data": {
      "text/html": [
       "<div>\n",
       "<style scoped>\n",
       "    .dataframe tbody tr th:only-of-type {\n",
       "        vertical-align: middle;\n",
       "    }\n",
       "\n",
       "    .dataframe tbody tr th {\n",
       "        vertical-align: top;\n",
       "    }\n",
       "\n",
       "    .dataframe thead th {\n",
       "        text-align: right;\n",
       "    }\n",
       "</style>\n",
       "<table border=\"1\" class=\"dataframe\">\n",
       "  <thead>\n",
       "    <tr style=\"text-align: right;\">\n",
       "      <th></th>\n",
       "      <th>PassengerId</th>\n",
       "      <th>Survived</th>\n",
       "      <th>Pclass</th>\n",
       "      <th>Age</th>\n",
       "      <th>SibSp</th>\n",
       "      <th>Parch</th>\n",
       "      <th>Fare</th>\n",
       "    </tr>\n",
       "  </thead>\n",
       "  <tbody>\n",
       "    <tr>\n",
       "      <th>0</th>\n",
       "      <td>1</td>\n",
       "      <td>0</td>\n",
       "      <td>3</td>\n",
       "      <td>22.0</td>\n",
       "      <td>1</td>\n",
       "      <td>0</td>\n",
       "      <td>7.2500</td>\n",
       "    </tr>\n",
       "    <tr>\n",
       "      <th>1</th>\n",
       "      <td>2</td>\n",
       "      <td>1</td>\n",
       "      <td>1</td>\n",
       "      <td>38.0</td>\n",
       "      <td>1</td>\n",
       "      <td>0</td>\n",
       "      <td>71.2833</td>\n",
       "    </tr>\n",
       "    <tr>\n",
       "      <th>2</th>\n",
       "      <td>3</td>\n",
       "      <td>1</td>\n",
       "      <td>3</td>\n",
       "      <td>26.0</td>\n",
       "      <td>0</td>\n",
       "      <td>0</td>\n",
       "      <td>7.9250</td>\n",
       "    </tr>\n",
       "    <tr>\n",
       "      <th>3</th>\n",
       "      <td>4</td>\n",
       "      <td>1</td>\n",
       "      <td>1</td>\n",
       "      <td>35.0</td>\n",
       "      <td>1</td>\n",
       "      <td>0</td>\n",
       "      <td>53.1000</td>\n",
       "    </tr>\n",
       "    <tr>\n",
       "      <th>4</th>\n",
       "      <td>5</td>\n",
       "      <td>0</td>\n",
       "      <td>3</td>\n",
       "      <td>35.0</td>\n",
       "      <td>0</td>\n",
       "      <td>0</td>\n",
       "      <td>8.0500</td>\n",
       "    </tr>\n",
       "    <tr>\n",
       "      <th>...</th>\n",
       "      <td>...</td>\n",
       "      <td>...</td>\n",
       "      <td>...</td>\n",
       "      <td>...</td>\n",
       "      <td>...</td>\n",
       "      <td>...</td>\n",
       "      <td>...</td>\n",
       "    </tr>\n",
       "    <tr>\n",
       "      <th>886</th>\n",
       "      <td>887</td>\n",
       "      <td>0</td>\n",
       "      <td>2</td>\n",
       "      <td>27.0</td>\n",
       "      <td>0</td>\n",
       "      <td>0</td>\n",
       "      <td>13.0000</td>\n",
       "    </tr>\n",
       "    <tr>\n",
       "      <th>887</th>\n",
       "      <td>888</td>\n",
       "      <td>1</td>\n",
       "      <td>1</td>\n",
       "      <td>19.0</td>\n",
       "      <td>0</td>\n",
       "      <td>0</td>\n",
       "      <td>30.0000</td>\n",
       "    </tr>\n",
       "    <tr>\n",
       "      <th>888</th>\n",
       "      <td>889</td>\n",
       "      <td>0</td>\n",
       "      <td>3</td>\n",
       "      <td>NaN</td>\n",
       "      <td>1</td>\n",
       "      <td>2</td>\n",
       "      <td>23.4500</td>\n",
       "    </tr>\n",
       "    <tr>\n",
       "      <th>889</th>\n",
       "      <td>890</td>\n",
       "      <td>1</td>\n",
       "      <td>1</td>\n",
       "      <td>26.0</td>\n",
       "      <td>0</td>\n",
       "      <td>0</td>\n",
       "      <td>30.0000</td>\n",
       "    </tr>\n",
       "    <tr>\n",
       "      <th>890</th>\n",
       "      <td>891</td>\n",
       "      <td>0</td>\n",
       "      <td>3</td>\n",
       "      <td>32.0</td>\n",
       "      <td>0</td>\n",
       "      <td>0</td>\n",
       "      <td>7.7500</td>\n",
       "    </tr>\n",
       "  </tbody>\n",
       "</table>\n",
       "<p>891 rows × 7 columns</p>\n",
       "</div>"
      ],
      "text/plain": [
       "     PassengerId  Survived  Pclass   Age  SibSp  Parch     Fare\n",
       "0              1         0       3  22.0      1      0   7.2500\n",
       "1              2         1       1  38.0      1      0  71.2833\n",
       "2              3         1       3  26.0      0      0   7.9250\n",
       "3              4         1       1  35.0      1      0  53.1000\n",
       "4              5         0       3  35.0      0      0   8.0500\n",
       "..           ...       ...     ...   ...    ...    ...      ...\n",
       "886          887         0       2  27.0      0      0  13.0000\n",
       "887          888         1       1  19.0      0      0  30.0000\n",
       "888          889         0       3   NaN      1      2  23.4500\n",
       "889          890         1       1  26.0      0      0  30.0000\n",
       "890          891         0       3  32.0      0      0   7.7500\n",
       "\n",
       "[891 rows x 7 columns]"
      ]
     },
     "execution_count": 146,
     "metadata": {},
     "output_type": "execute_result"
    }
   ],
   "source": [
    "data[[\"PassengerId\",\"Survived\",\"Pclass\",\"Age\",\"SibSp\",\"Parch\",\"Fare\"]] #selecionando somente cols numericas"
   ]
  },
  {
   "cell_type": "markdown",
   "metadata": {},
   "source": [
    "- Selecao das colunas foi manual, mas podemos seleciona-las por dtype, como ?"
   ]
  },
  {
   "cell_type": "code",
   "execution_count": 147,
   "metadata": {},
   "outputs": [
    {
     "data": {
      "text/html": [
       "<div>\n",
       "<style scoped>\n",
       "    .dataframe tbody tr th:only-of-type {\n",
       "        vertical-align: middle;\n",
       "    }\n",
       "\n",
       "    .dataframe tbody tr th {\n",
       "        vertical-align: top;\n",
       "    }\n",
       "\n",
       "    .dataframe thead th {\n",
       "        text-align: right;\n",
       "    }\n",
       "</style>\n",
       "<table border=\"1\" class=\"dataframe\">\n",
       "  <thead>\n",
       "    <tr style=\"text-align: right;\">\n",
       "      <th></th>\n",
       "      <th>PassengerId</th>\n",
       "      <th>Survived</th>\n",
       "      <th>Pclass</th>\n",
       "      <th>Age</th>\n",
       "      <th>SibSp</th>\n",
       "      <th>Parch</th>\n",
       "      <th>Fare</th>\n",
       "    </tr>\n",
       "  </thead>\n",
       "  <tbody>\n",
       "    <tr>\n",
       "      <th>PassengerId</th>\n",
       "      <td>1.000000</td>\n",
       "      <td>-0.005007</td>\n",
       "      <td>-0.035144</td>\n",
       "      <td>0.036847</td>\n",
       "      <td>-0.057527</td>\n",
       "      <td>-0.001652</td>\n",
       "      <td>0.012658</td>\n",
       "    </tr>\n",
       "    <tr>\n",
       "      <th>Survived</th>\n",
       "      <td>-0.005007</td>\n",
       "      <td>1.000000</td>\n",
       "      <td>-0.338481</td>\n",
       "      <td>-0.077221</td>\n",
       "      <td>-0.035322</td>\n",
       "      <td>0.081629</td>\n",
       "      <td>0.257307</td>\n",
       "    </tr>\n",
       "    <tr>\n",
       "      <th>Pclass</th>\n",
       "      <td>-0.035144</td>\n",
       "      <td>-0.338481</td>\n",
       "      <td>1.000000</td>\n",
       "      <td>-0.369226</td>\n",
       "      <td>0.083081</td>\n",
       "      <td>0.018443</td>\n",
       "      <td>-0.549500</td>\n",
       "    </tr>\n",
       "    <tr>\n",
       "      <th>Age</th>\n",
       "      <td>0.036847</td>\n",
       "      <td>-0.077221</td>\n",
       "      <td>-0.369226</td>\n",
       "      <td>1.000000</td>\n",
       "      <td>-0.308247</td>\n",
       "      <td>-0.189119</td>\n",
       "      <td>0.096067</td>\n",
       "    </tr>\n",
       "    <tr>\n",
       "      <th>SibSp</th>\n",
       "      <td>-0.057527</td>\n",
       "      <td>-0.035322</td>\n",
       "      <td>0.083081</td>\n",
       "      <td>-0.308247</td>\n",
       "      <td>1.000000</td>\n",
       "      <td>0.414838</td>\n",
       "      <td>0.159651</td>\n",
       "    </tr>\n",
       "    <tr>\n",
       "      <th>Parch</th>\n",
       "      <td>-0.001652</td>\n",
       "      <td>0.081629</td>\n",
       "      <td>0.018443</td>\n",
       "      <td>-0.189119</td>\n",
       "      <td>0.414838</td>\n",
       "      <td>1.000000</td>\n",
       "      <td>0.216225</td>\n",
       "    </tr>\n",
       "    <tr>\n",
       "      <th>Fare</th>\n",
       "      <td>0.012658</td>\n",
       "      <td>0.257307</td>\n",
       "      <td>-0.549500</td>\n",
       "      <td>0.096067</td>\n",
       "      <td>0.159651</td>\n",
       "      <td>0.216225</td>\n",
       "      <td>1.000000</td>\n",
       "    </tr>\n",
       "  </tbody>\n",
       "</table>\n",
       "</div>"
      ],
      "text/plain": [
       "             PassengerId  Survived    Pclass       Age     SibSp     Parch  \\\n",
       "PassengerId     1.000000 -0.005007 -0.035144  0.036847 -0.057527 -0.001652   \n",
       "Survived       -0.005007  1.000000 -0.338481 -0.077221 -0.035322  0.081629   \n",
       "Pclass         -0.035144 -0.338481  1.000000 -0.369226  0.083081  0.018443   \n",
       "Age             0.036847 -0.077221 -0.369226  1.000000 -0.308247 -0.189119   \n",
       "SibSp          -0.057527 -0.035322  0.083081 -0.308247  1.000000  0.414838   \n",
       "Parch          -0.001652  0.081629  0.018443 -0.189119  0.414838  1.000000   \n",
       "Fare            0.012658  0.257307 -0.549500  0.096067  0.159651  0.216225   \n",
       "\n",
       "                 Fare  \n",
       "PassengerId  0.012658  \n",
       "Survived     0.257307  \n",
       "Pclass      -0.549500  \n",
       "Age          0.096067  \n",
       "SibSp        0.159651  \n",
       "Parch        0.216225  \n",
       "Fare         1.000000  "
      ]
     },
     "execution_count": 147,
     "metadata": {},
     "output_type": "execute_result"
    }
   ],
   "source": [
    "data[[\"PassengerId\",\"Survived\",\"Pclass\",\"Age\",\"SibSp\",\"Parch\",\"Fare\"]].corr()"
   ]
  },
  {
   "cell_type": "code",
   "execution_count": 149,
   "metadata": {},
   "outputs": [
    {
     "data": {
      "text/plain": [
       "<matplotlib.axes._subplots.AxesSubplot at 0x7f9b1c760370>"
      ]
     },
     "execution_count": 149,
     "metadata": {},
     "output_type": "execute_result"
    },
    {
     "data": {
      "image/png": "[encoded data removed]",
      "text/plain": [
       "<Figure size 432x288 with 1 Axes>"
      ]
     },
     "metadata": {
      "needs_background": "light"
     },
     "output_type": "display_data"
    }
   ],
   "source": [
    "data.plot(x='Survived',y='Fare',kind='scatter')"
   ]
  },
  {
   "cell_type": "code",
   "execution_count": 150,
   "metadata": {
    "scrolled": true
   },
   "outputs": [
    {
     "name": "stdout",
     "output_type": "stream",
     "text": [
      "Help on method corr in module pandas.core.frame:\n",
      "\n",
      "corr(method='pearson', min_periods=1) -> 'DataFrame' method of pandas.core.frame.DataFrame instance\n",
      "    Compute pairwise correlation of columns, excluding NA/null values.\n",
      "    \n",
      "    Parameters\n",
      "    ----------\n",
      "    method : {'pearson', 'kendall', 'spearman'} or callable\n",
      "        Method of correlation:\n",
      "    \n",
      "        * pearson : standard correlation coefficient\n",
      "        * kendall : Kendall Tau correlation coefficient\n",
      "        * spearman : Spearman rank correlation\n",
      "        * callable: callable with input two 1d ndarrays\n",
      "            and returning a float. Note that the returned matrix from corr\n",
      "            will have 1 along the diagonals and will be symmetric\n",
      "            regardless of the callable's behavior.\n",
      "    \n",
      "            .. versionadded:: 0.24.0\n",
      "    \n",
      "    min_periods : int, optional\n",
      "        Minimum number of observations required per pair of columns\n",
      "        to have a valid result. Currently only available for Pearson\n",
      "        and Spearman correlation.\n",
      "    \n",
      "    Returns\n",
      "    -------\n",
      "    DataFrame\n",
      "        Correlation matrix.\n",
      "    \n",
      "    See Also\n",
      "    --------\n",
      "    DataFrame.corrwith\n",
      "    Series.corr\n",
      "    \n",
      "    Examples\n",
      "    --------\n",
      "    >>> def histogram_intersection(a, b):\n",
      "    ...     v = np.minimum(a, b).sum().round(decimals=1)\n",
      "    ...     return v\n",
      "    >>> df = pd.DataFrame([(.2, .3), (.0, .6), (.6, .0), (.2, .1)],\n",
      "    ...                   columns=['dogs', 'cats'])\n",
      "    >>> df.corr(method=histogram_intersection)\n",
      "          dogs  cats\n",
      "    dogs   1.0   0.3\n",
      "    cats   0.3   1.0\n",
      "\n"
     ]
    }
   ],
   "source": [
    "help(data.corr)"
   ]
  },
  {
   "cell_type": "markdown",
   "metadata": {},
   "source": [
    "### Podemos obter dados para numpy ou outra tipo de estrutura de dados:"
   ]
  },
  {
   "cell_type": "code",
   "execution_count": 151,
   "metadata": {},
   "outputs": [
    {
     "data": {
      "text/plain": [
       "array([[1, 0, 3, ..., 7.25, nan, 'S'],\n",
       "       [2, 1, 1, ..., 71.2833, 'C85', 'C'],\n",
       "       [3, 1, 3, ..., 7.925, nan, 'S'],\n",
       "       ...,\n",
       "       [889, 0, 3, ..., 23.45, nan, 'S'],\n",
       "       [890, 1, 1, ..., 30.0, 'C148', 'C'],\n",
       "       [891, 0, 3, ..., 7.75, nan, 'Q']], dtype=object)"
      ]
     },
     "execution_count": 151,
     "metadata": {},
     "output_type": "execute_result"
    }
   ],
   "source": [
    "data.values"
   ]
  },
  {
   "cell_type": "code",
   "execution_count": 152,
   "metadata": {},
   "outputs": [
    {
     "data": {
      "text/plain": [
       "'{\"PassengerId\":{\"0\":1,\"1\":2,\"2\":3,\"3\":4,\"4\":5,\"5\":6,\"6\":7,\"7\":8,\"8\":9,\"9\":10,\"10\":11,\"11\":12,\"12\":13,\"13\":14,\"14\":15,\"15\":16,\"16\":17,\"17\":18,\"18\":19,\"19\":20,\"20\":21,\"21\":22,\"22\":23,\"23\":24,\"24\":25,\"25\":26,\"26\":27,\"27\":28,\"28\":29,\"29\":30,\"30\":31,\"31\":32,\"32\":33,\"33\":34,\"34\":35,\"35\":36,\"36\":37,\"37\":38,\"38\":39,\"39\":40,\"40\":41,\"41\":42,\"42\":43,\"43\":44,\"44\":45,\"45\":46,\"46\":47,\"47\":48,\"48\":49,\"49\":50,\"50\":51,\"51\":52,\"52\":53,\"53\":54,\"54\":55,\"55\":56,\"56\":57,\"57\":58,\"58\":59,\"59\":60,\"60\":61,\"61\":62,\"62\":63,\"63\":64,\"64\":65,\"65\":66,\"66\":67,\"67\":68,\"68\":69,\"69\":70,\"70\":71,\"71\":72,\"72\":73,\"73\":74,\"74\":75,\"75\":76,\"76\":77,\"77\":78,\"78\":79,\"79\":80,\"80\":81,\"81\":82,\"82\":83,\"83\":84,\"84\":85,\"85\":86,\"86\":87,\"87\":88,\"88\":89,\"89\":90,\"90\":91,\"91\":92,\"92\":93,\"93\":94,\"94\":95,\"95\":96,\"96\":97,\"97\":98,\"98\":99,\"99\":100,\"100\":101,\"101\":102,\"102\":103,\"103\":104,\"104\":105,\"105\":106,\"106\":107,\"107\":108,\"108\":109,\"109\":110,\"110\":111,\"111\":112,\"112\":113,\"113\":114,\"114\":115,\"115\":116,\"116\":117,\"117\":118,\"118\":119,\"119\":120,\"120\":121,\"121\":122,\"122\":123,\"123\":124,\"124\":125,\"125\":126,\"126\":127,\"127\":128,\"128\":129,\"129\":130,\"130\":131,\"131\":132,\"132\":133,\"133\":134,\"134\":135,\"135\":136,\"136\":137,\"137\":138,\"138\":139,\"139\":140,\"140\":141,\"141\":142,\"142\":143,\"143\":144,\"144\":145,\"145\":146,\"146\":147,\"147\":148,\"148\":149,\"149\":150,\"150\":151,\"151\":152,\"152\":153,\"153\":154,\"154\":155,\"155\":156,\"156\":157,\"157\":158,\"158\":159,\"159\":160,\"160\":161,\"161\":162,\"162\":163,\"163\":164,\"164\":165,\"165\":166,\"166\":167,\"167\":168,\"168\":169,\"169\":170,\"170\":171,\"171\":172,\"172\":173,\"173\":174,\"174\":175,\"175\":176,\"176\":177,\"177\":178,\"178\":179,\"179\":180,\"180\":181,\"181\":182,\"182\":183,\"183\":184,\"184\":185,\"185\":186,\"186\":187,\"187\":188,\"188\":189,\"189\":190,\"190\":191,\"191\":192,\"192\":193,\"193\":194,\"194\":195,\"195\":196,\"196\":197,\"197\":198,\"198\":199,\"199\":200,\"200\":201,\"201\":202,\"202\":203,\"203\":204,\"204\":205,\"205\":206,\"206\":207,\"207\":208,\"208\":209,\"209\":210,\"210\":211,\"211\":212,\"212\":213,\"213\":214,\"214\":215,\"215\":216,\"216\":217,\"217\":218,\"218\":219,\"219\":220,\"220\":221,\"221\":222,\"222\":223,\"223\":224,\"224\":225,\"225\":226,\"226\":227,\"227\":228,\"228\":229,\"229\":230,\"230\":231,\"231\":232,\"232\":233,\"233\":234,\"234\":235,\"235\":236,\"236\":237,\"237\":238,\"238\":239,\"239\":240,\"240\":241,\"241\":242,\"242\":243,\"243\":244,\"244\":245,\"245\":246,\"246\":247,\"247\":248,\"248\":249,\"249\":250,\"250\":251,\"251\":252,\"252\":253,\"253\":254,\"254\":255,\"255\":256,\"256\":257,\"257\":258,\"258\":259,\"259\":260,\"260\":261,\"261\":262,\"262\":263,\"263\":264,\"264\":265,\"265\":266,\"266\":267,\"267\":268,\"268\":269,\"269\":270,\"270\":271,\"271\":272,\"272\":273,\"273\":274,\"274\":275,\"275\":276,\"276\":277,\"277\":278,\"278\":279,\"279\":280,\"280\":281,\"281\":282,\"282\":283,\"283\":284,\"284\":285,\"285\":286,\"286\":287,\"287\":288,\"288\":289,\"289\":290,\"290\":291,\"291\":292,\"292\":293,\"293\":294,\"294\":295,\"295\":296,\"296\":297,\"297\":298,\"298\":299,\"299\":300,\"300\":301,\"301\":302,\"302\":303,\"303\":304,\"304\":305,\"305\":306,\"306\":307,\"307\":308,\"308\":309,\"309\":310,\"310\":311,\"311\":312,\"312\":313,\"313\":314,\"314\":315,\"315\":316,\"316\":317,\"317\":318,\"318\":319,\"319\":320,\"320\":321,\"321\":322,\"322\":323,\"323\":324,\"324\":325,\"325\":326,\"326\":327,\"327\":328,\"328\":329,\"329\":330,\"330\":331,\"331\":332,\"332\":333,\"333\":334,\"334\":335,\"335\":336,\"336\":337,\"337\":338,\"338\":339,\"339\":340,\"340\":341,\"341\":342,\"342\":343,\"343\":344,\"344\":345,\"345\":346,\"346\":347,\"347\":348,\"348\":349,\"349\":350,\"350\":351,\"351\":352,\"352\":353,\"353\":354,\"354\":355,\"355\":356,\"356\":357,\"357\":358,\"358\":359,\"359\":360,\"360\":361,\"361\":362,\"362\":363,\"363\":364,\"364\":365,\"365\":366,\"366\":367,\"367\":368,\"368\":369,\"369\":370,\"370\":371,\"371\":372,\"372\":373,\"373\":374,\"374\":375,\"375\":376,\"376\":377,\"377\":378,\"378\":379,\"379\":380,\"380\":381,\"381\":382,\"382\":383,\"383\":384,\"384\":385,\"385\":386,\"386\":387,\"387\":388,\"388\":389,\"389\":390,\"390\":391,\"391\":392,\"392\":393,\"393\":394,\"394\":395,\"395\":396,\"396\":397,\"397\":398,\"398\":399,\"399\":400,\"400\":401,\"401\":402,\"402\":403,\"403\":404,\"404\":405,\"405\":406,\"406\":407,\"407\":408,\"408\":409,\"409\":410,\"410\":411,\"411\":412,\"412\":413,\"413\":414,\"414\":415,\"415\":416,\"416\":417,\"417\":418,\"418\":419,\"419\":420,\"420\":421,\"421\":422,\"422\":423,\"423\":424,\"424\":425,\"425\":426,\"426\":427,\"427\":428,\"428\":429,\"429\":430,\"430\":431,\"431\":432,\"432\":433,\"433\":434,\"434\":435,\"435\":436,\"436\":437,\"437\":438,\"438\":439,\"439\":440,\"440\":441,\"441\":442,\"442\":443,\"443\":444,\"444\":445,\"445\":446,\"446\":447,\"447\":448,\"448\":449,\"449\":450,\"450\":451,\"451\":452,\"452\":453,\"453\":454,\"454\":455,\"455\":456,\"456\":457,\"457\":458,\"458\":459,\"459\":460,\"460\":461,\"461\":462,\"462\":463,\"463\":464,\"464\":465,\"465\":466,\"466\":467,\"467\":468,\"468\":469,\"469\":470,\"470\":471,\"471\":472,\"472\":473,\"473\":474,\"474\":475,\"475\":476,\"476\":477,\"477\":478,\"478\":479,\"479\":480,\"480\":481,\"481\":482,\"482\":483,\"483\":484,\"484\":485,\"485\":486,\"486\":487,\"487\":488,\"488\":489,\"489\":490,\"490\":491,\"491\":492,\"492\":493,\"493\":494,\"494\":495,\"495\":496,\"496\":497,\"497\":498,\"498\":499,\"499\":500,\"500\":501,\"501\":502,\"502\":503,\"503\":504,\"504\":505,\"505\":506,\"506\":507,\"507\":508,\"508\":509,\"509\":510,\"510\":511,\"511\":512,\"512\":513,\"513\":514,\"514\":515,\"515\":516,\"516\":517,\"517\":518,\"518\":519,\"519\":520,\"520\":521,\"521\":522,\"522\":523,\"523\":524,\"524\":525,\"525\":526,\"526\":527,\"527\":528,\"528\":529,\"529\":530,\"530\":531,\"531\":532,\"532\":533,\"533\":534,\"534\":535,\"535\":536,\"536\":537,\"537\":538,\"538\":539,\"539\":540,\"540\":541,\"541\":542,\"542\":543,\"543\":544,\"544\":545,\"545\":546,\"546\":547,\"547\":548,\"548\":549,\"549\":550,\"550\":551,\"551\":552,\"552\":553,\"553\":554,\"554\":555,\"555\":556,\"556\":557,\"557\":558,\"558\":559,\"559\":560,\"560\":561,\"561\":562,\"562\":563,\"563\":564,\"564\":565,\"565\":566,\"566\":567,\"567\":568,\"568\":569,\"569\":570,\"570\":571,\"571\":572,\"572\":573,\"573\":574,\"574\":575,\"575\":576,\"576\":577,\"577\":578,\"578\":579,\"579\":580,\"580\":581,\"581\":582,\"582\":583,\"583\":584,\"584\":585,\"585\":586,\"586\":587,\"587\":588,\"588\":589,\"589\":590,\"590\":591,\"591\":592,\"592\":593,\"593\":594,\"594\":595,\"595\":596,\"596\":597,\"597\":598,\"598\":599,\"599\":600,\"600\":601,\"601\":602,\"602\":603,\"603\":604,\"604\":605,\"605\":606,\"606\":607,\"607\":608,\"608\":609,\"609\":610,\"610\":611,\"611\":612,\"612\":613,\"613\":614,\"614\":615,\"615\":616,\"616\":617,\"617\":618,\"618\":619,\"619\":620,\"620\":621,\"621\":622,\"622\":623,\"623\":624,\"624\":625,\"625\":626,\"626\":627,\"627\":628,\"628\":629,\"629\":630,\"630\":631,\"631\":632,\"632\":633,\"633\":634,\"634\":635,\"635\":636,\"636\":637,\"637\":638,\"638\":639,\"639\":640,\"640\":641,\"641\":642,\"642\":643,\"643\":644,\"644\":645,\"645\":646,\"646\":647,\"647\":648,\"648\":649,\"649\":650,\"650\":651,\"651\":652,\"652\":653,\"653\":654,\"654\":655,\"655\":656,\"656\":657,\"657\":658,\"658\":659,\"659\":660,\"660\":661,\"661\":662,\"662\":663,\"663\":664,\"664\":665,\"665\":666,\"666\":667,\"667\":668,\"668\":669,\"669\":670,\"670\":671,\"671\":672,\"672\":673,\"673\":674,\"674\":675,\"675\":676,\"676\":677,\"677\":678,\"678\":679,\"679\":680,\"680\":681,\"681\":682,\"682\":683,\"683\":684,\"684\":685,\"685\":686,\"686\":687,\"687\":688,\"688\":689,\"689\":690,\"690\":691,\"691\":692,\"692\":693,\"693\":694,\"694\":695,\"695\":696,\"696\":697,\"697\":698,\"698\":699,\"699\":700,\"700\":701,\"701\":702,\"702\":703,\"703\":704,\"704\":705,\"705\":706,\"706\":707,\"707\":708,\"708\":709,\"709\":710,\"710\":711,\"711\":712,\"712\":713,\"713\":714,\"714\":715,\"715\":716,\"716\":717,\"717\":718,\"718\":719,\"719\":720,\"720\":721,\"721\":722,\"722\":723,\"723\":724,\"724\":725,\"725\":726,\"726\":727,\"727\":728,\"728\":729,\"729\":730,\"730\":731,\"731\":732,\"732\":733,\"733\":734,\"734\":735,\"735\":736,\"736\":737,\"737\":738,\"738\":739,\"739\":740,\"740\":741,\"741\":742,\"742\":743,\"743\":744,\"744\":745,\"745\":746,\"746\":747,\"747\":748,\"748\":749,\"749\":750,\"750\":751,\"751\":752,\"752\":753,\"753\":754,\"754\":755,\"755\":756,\"756\":757,\"757\":758,\"758\":759,\"759\":760,\"760\":761,\"761\":762,\"762\":763,\"763\":764,\"764\":765,\"765\":766,\"766\":767,\"767\":768,\"768\":769,\"769\":770,\"770\":771,\"771\":772,\"772\":773,\"773\":774,\"774\":775,\"775\":776,\"776\":777,\"777\":778,\"778\":779,\"779\":780,\"780\":781,\"781\":782,\"782\":783,\"783\":784,\"784\":785,\"785\":786,\"786\":787,\"787\":788,\"788\":789,\"789\":790,\"790\":791,\"791\":792,\"792\":793,\"793\":794,\"794\":795,\"795\":796,\"796\":797,\"797\":798,\"798\":799,\"799\":800,\"800\":801,\"801\":802,\"802\":803,\"803\":804,\"804\":805,\"805\":806,\"806\":807,\"807\":808,\"808\":809,\"809\":810,\"810\":811,\"811\":812,\"812\":813,\"813\":814,\"814\":815,\"815\":816,\"816\":817,\"817\":818,\"818\":819,\"819\":820,\"820\":821,\"821\":822,\"822\":823,\"823\":824,\"824\":825,\"825\":826,\"826\":827,\"827\":828,\"828\":829,\"829\":830,\"830\":831,\"831\":832,\"832\":833,\"833\":834,\"834\":835,\"835\":836,\"836\":837,\"837\":838,\"838\":839,\"839\":840,\"840\":841,\"841\":842,\"842\":843,\"843\":844,\"844\":845,\"845\":846,\"846\":847,\"847\":848,\"848\":849,\"849\":850,\"850\":851,\"851\":852,\"852\":853,\"853\":854,\"854\":855,\"855\":856,\"856\":857,\"857\":858,\"858\":859,\"859\":860,\"860\":861,\"861\":862,\"862\":863,\"863\":864,\"864\":865,\"865\":866,\"866\":867,\"867\":868,\"868\":869,\"869\":870,\"870\":871,\"871\":872,\"872\":873,\"873\":874,\"874\":875,\"875\":876,\"876\":877,\"877\":878,\"878\":879,\"879\":880,\"880\":881,\"881\":882,\"882\":883,\"883\":884,\"884\":885,\"885\":886,\"886\":887,\"887\":888,\"888\":889,\"889\":890,\"890\":891},\"Survived\":{\"0\":0,\"1\":1,\"2\":1,\"3\":1,\"4\":0,\"5\":0,\"6\":0,\"7\":0,\"8\":1,\"9\":1,\"10\":1,\"11\":1,\"12\":0,\"13\":0,\"14\":0,\"15\":1,\"16\":0,\"17\":1,\"18\":0,\"19\":1,\"20\":0,\"21\":1,\"22\":1,\"23\":1,\"24\":0,\"25\":1,\"26\":0,\"27\":0,\"28\":1,\"29\":0,\"30\":0,\"31\":1,\"32\":1,\"33\":0,\"34\":0,\"35\":0,\"36\":1,\"37\":0,\"38\":0,\"39\":1,\"40\":0,\"41\":0,\"42\":0,\"43\":1,\"44\":1,\"45\":0,\"46\":0,\"47\":1,\"48\":0,\"49\":0,\"50\":0,\"51\":0,\"52\":1,\"53\":1,\"54\":0,\"55\":1,\"56\":1,\"57\":0,\"58\":1,\"59\":0,\"60\":0,\"61\":1,\"62\":0,\"63\":0,\"64\":0,\"65\":1,\"66\":1,\"67\":0,\"68\":1,\"69\":0,\"70\":0,\"71\":0,\"72\":0,\"73\":0,\"74\":1,\"75\":0,\"76\":0,\"77\":0,\"78\":1,\"79\":1,\"80\":0,\"81\":1,\"82\":1,\"83\":0,\"84\":1,\"85\":1,\"86\":0,\"87\":0,\"88\":1,\"89\":0,\"90\":0,\"91\":0,\"92\":0,\"93\":0,\"94\":0,\"95\":0,\"96\":0,\"97\":1,\"98\":1,\"99\":0,\"100\":0,\"101\":0,\"102\":0,\"103\":0,\"104\":0,\"105\":0,\"106\":1,\"107\":1,\"108\":0,\"109\":1,\"110\":0,\"111\":0,\"112\":0,\"113\":0,\"114\":0,\"115\":0,\"116\":0,\"117\":0,\"118\":0,\"119\":0,\"120\":0,\"121\":0,\"122\":0,\"123\":1,\"124\":0,\"125\":1,\"126\":0,\"127\":1,\"128\":1,\"129\":0,\"130\":0,\"131\":0,\"132\":0,\"133\":1,\"134\":0,\"135\":0,\"136\":1,\"137\":0,\"138\":0,\"139\":0,\"140\":0,\"141\":1,\"142\":1,\"143\":0,\"144\":0,\"145\":0,\"146\":1,\"147\":0,\"148\":0,\"149\":0,\"150\":0,\"151\":1,\"152\":0,\"153\":0,\"154\":0,\"155\":0,\"156\":1,\"157\":0,\"158\":0,\"159\":0,\"160\":0,\"161\":1,\"162\":0,\"163\":0,\"164\":0,\"165\":1,\"166\":1,\"167\":0,\"168\":0,\"169\":0,\"170\":0,\"171\":0,\"172\":1,\"173\":0,\"174\":0,\"175\":0,\"176\":0,\"177\":0,\"178\":0,\"179\":0,\"180\":0,\"181\":0,\"182\":0,\"183\":1,\"184\":1,\"185\":0,\"186\":1,\"187\":1,\"188\":0,\"189\":0,\"190\":1,\"191\":0,\"192\":1,\"193\":1,\"194\":1,\"195\":1,\"196\":0,\"197\":0,\"198\":1,\"199\":0,\"200\":0,\"201\":0,\"202\":0,\"203\":0,\"204\":1,\"205\":0,\"206\":0,\"207\":1,\"208\":1,\"209\":1,\"210\":0,\"211\":1,\"212\":0,\"213\":0,\"214\":0,\"215\":1,\"216\":1,\"217\":0,\"218\":1,\"219\":0,\"220\":1,\"221\":0,\"222\":0,\"223\":0,\"224\":1,\"225\":0,\"226\":1,\"227\":0,\"228\":0,\"229\":0,\"230\":1,\"231\":0,\"232\":0,\"233\":1,\"234\":0,\"235\":0,\"236\":0,\"237\":1,\"238\":0,\"239\":0,\"240\":0,\"241\":1,\"242\":0,\"243\":0,\"244\":0,\"245\":0,\"246\":0,\"247\":1,\"248\":1,\"249\":0,\"250\":0,\"251\":0,\"252\":0,\"253\":0,\"254\":0,\"255\":1,\"256\":1,\"257\":1,\"258\":1,\"259\":1,\"260\":0,\"261\":1,\"262\":0,\"263\":0,\"264\":0,\"265\":0,\"266\":0,\"267\":1,\"268\":1,\"269\":1,\"270\":0,\"271\":1,\"272\":1,\"273\":0,\"274\":1,\"275\":1,\"276\":0,\"277\":0,\"278\":0,\"279\":1,\"280\":0,\"281\":0,\"282\":0,\"283\":1,\"284\":0,\"285\":0,\"286\":1,\"287\":0,\"288\":1,\"289\":1,\"290\":1,\"291\":1,\"292\":0,\"293\":0,\"294\":0,\"295\":0,\"296\":0,\"297\":0,\"298\":1,\"299\":1,\"300\":1,\"301\":1,\"302\":0,\"303\":1,\"304\":0,\"305\":1,\"306\":1,\"307\":1,\"308\":0,\"309\":1,\"310\":1,\"311\":1,\"312\":0,\"313\":0,\"314\":0,\"315\":1,\"316\":1,\"317\":0,\"318\":1,\"319\":1,\"320\":0,\"321\":0,\"322\":1,\"323\":1,\"324\":0,\"325\":1,\"326\":0,\"327\":1,\"328\":1,\"329\":1,\"330\":1,\"331\":0,\"332\":0,\"333\":0,\"334\":1,\"335\":0,\"336\":0,\"337\":1,\"338\":1,\"339\":0,\"340\":1,\"341\":1,\"342\":0,\"343\":0,\"344\":0,\"345\":1,\"346\":1,\"347\":1,\"348\":1,\"349\":0,\"350\":0,\"351\":0,\"352\":0,\"353\":0,\"354\":0,\"355\":0,\"356\":1,\"357\":0,\"358\":1,\"359\":1,\"360\":0,\"361\":0,\"362\":0,\"363\":0,\"364\":0,\"365\":0,\"366\":1,\"367\":1,\"368\":1,\"369\":1,\"370\":1,\"371\":0,\"372\":0,\"373\":0,\"374\":0,\"375\":1,\"376\":1,\"377\":0,\"378\":0,\"379\":0,\"380\":1,\"381\":1,\"382\":0,\"383\":1,\"384\":0,\"385\":0,\"386\":0,\"387\":1,\"388\":0,\"389\":1,\"390\":1,\"391\":1,\"392\":0,\"393\":1,\"394\":1,\"395\":0,\"396\":0,\"397\":0,\"398\":0,\"399\":1,\"400\":1,\"401\":0,\"402\":0,\"403\":0,\"404\":0,\"405\":0,\"406\":0,\"407\":1,\"408\":0,\"409\":0,\"410\":0,\"411\":0,\"412\":1,\"413\":0,\"414\":1,\"415\":0,\"416\":1,\"417\":1,\"418\":0,\"419\":0,\"420\":0,\"421\":0,\"422\":0,\"423\":0,\"424\":0,\"425\":0,\"426\":1,\"427\":1,\"428\":0,\"429\":1,\"430\":1,\"431\":1,\"432\":1,\"433\":0,\"434\":0,\"435\":1,\"436\":0,\"437\":1,\"438\":0,\"439\":0,\"440\":1,\"441\":0,\"442\":0,\"443\":1,\"444\":1,\"445\":1,\"446\":1,\"447\":1,\"448\":1,\"449\":1,\"450\":0,\"451\":0,\"452\":0,\"453\":1,\"454\":0,\"455\":1,\"456\":0,\"457\":1,\"458\":1,\"459\":0,\"460\":1,\"461\":0,\"462\":0,\"463\":0,\"464\":0,\"465\":0,\"466\":0,\"467\":0,\"468\":0,\"469\":1,\"470\":0,\"471\":0,\"472\":1,\"473\":1,\"474\":0,\"475\":0,\"476\":0,\"477\":0,\"478\":0,\"479\":1,\"480\":0,\"481\":0,\"482\":0,\"483\":1,\"484\":1,\"485\":0,\"486\":1,\"487\":0,\"488\":0,\"489\":1,\"490\":0,\"491\":0,\"492\":0,\"493\":0,\"494\":0,\"495\":0,\"496\":1,\"497\":0,\"498\":0,\"499\":0,\"500\":0,\"501\":0,\"502\":0,\"503\":0,\"504\":1,\"505\":0,\"506\":1,\"507\":1,\"508\":0,\"509\":1,\"510\":1,\"511\":0,\"512\":1,\"513\":1,\"514\":0,\"515\":0,\"516\":1,\"517\":0,\"518\":1,\"519\":0,\"520\":1,\"521\":0,\"522\":0,\"523\":1,\"524\":0,\"525\":0,\"526\":1,\"527\":0,\"528\":0,\"529\":0,\"530\":1,\"531\":0,\"532\":0,\"533\":1,\"534\":0,\"535\":1,\"536\":0,\"537\":1,\"538\":0,\"539\":1,\"540\":1,\"541\":0,\"542\":0,\"543\":1,\"544\":0,\"545\":0,\"546\":1,\"547\":1,\"548\":0,\"549\":1,\"550\":1,\"551\":0,\"552\":0,\"553\":1,\"554\":1,\"555\":0,\"556\":1,\"557\":0,\"558\":1,\"559\":1,\"560\":0,\"561\":0,\"562\":0,\"563\":0,\"564\":0,\"565\":0,\"566\":0,\"567\":0,\"568\":0,\"569\":1,\"570\":1,\"571\":1,\"572\":1,\"573\":1,\"574\":0,\"575\":0,\"576\":1,\"577\":1,\"578\":0,\"579\":1,\"580\":1,\"581\":1,\"582\":0,\"583\":0,\"584\":0,\"585\":1,\"586\":0,\"587\":1,\"588\":0,\"589\":0,\"590\":0,\"591\":1,\"592\":0,\"593\":0,\"594\":0,\"595\":0,\"596\":1,\"597\":0,\"598\":0,\"599\":1,\"600\":1,\"601\":0,\"602\":0,\"603\":0,\"604\":1,\"605\":0,\"606\":0,\"607\":1,\"608\":1,\"609\":1,\"610\":0,\"611\":0,\"612\":1,\"613\":0,\"614\":0,\"615\":1,\"616\":0,\"617\":0,\"618\":1,\"619\":0,\"620\":0,\"621\":1,\"622\":1,\"623\":0,\"624\":0,\"625\":0,\"626\":0,\"627\":1,\"628\":0,\"629\":0,\"630\":1,\"631\":0,\"632\":1,\"633\":0,\"634\":0,\"635\":1,\"636\":0,\"637\":0,\"638\":0,\"639\":0,\"640\":0,\"641\":1,\"642\":0,\"643\":1,\"644\":1,\"645\":1,\"646\":0,\"647\":1,\"648\":0,\"649\":1,\"650\":0,\"651\":1,\"652\":0,\"653\":1,\"654\":0,\"655\":0,\"656\":0,\"657\":0,\"658\":0,\"659\":0,\"660\":1,\"661\":0,\"662\":0,\"663\":0,\"664\":1,\"665\":0,\"666\":0,\"667\":0,\"668\":0,\"669\":1,\"670\":1,\"671\":0,\"672\":0,\"673\":1,\"674\":0,\"675\":0,\"676\":0,\"677\":1,\"678\":0,\"679\":1,\"680\":0,\"681\":1,\"682\":0,\"683\":0,\"684\":0,\"685\":0,\"686\":0,\"687\":0,\"688\":0,\"689\":1,\"690\":1,\"691\":1,\"692\":1,\"693\":0,\"694\":0,\"695\":0,\"696\":0,\"697\":1,\"698\":0,\"699\":0,\"700\":1,\"701\":1,\"702\":0,\"703\":0,\"704\":0,\"705\":0,\"706\":1,\"707\":1,\"708\":1,\"709\":1,\"710\":1,\"711\":0,\"712\":1,\"713\":0,\"714\":0,\"715\":0,\"716\":1,\"717\":1,\"718\":0,\"719\":0,\"720\":1,\"721\":0,\"722\":0,\"723\":0,\"724\":1,\"725\":0,\"726\":1,\"727\":1,\"728\":0,\"729\":0,\"730\":1,\"731\":0,\"732\":0,\"733\":0,\"734\":0,\"735\":0,\"736\":0,\"737\":1,\"738\":0,\"739\":0,\"740\":1,\"741\":0,\"742\":1,\"743\":0,\"744\":1,\"745\":0,\"746\":0,\"747\":1,\"748\":0,\"749\":0,\"750\":1,\"751\":1,\"752\":0,\"753\":0,\"754\":1,\"755\":1,\"756\":0,\"757\":0,\"758\":0,\"759\":1,\"760\":0,\"761\":0,\"762\":1,\"763\":1,\"764\":0,\"765\":1,\"766\":0,\"767\":0,\"768\":0,\"769\":0,\"770\":0,\"771\":0,\"772\":0,\"773\":0,\"774\":1,\"775\":0,\"776\":0,\"777\":1,\"778\":0,\"779\":1,\"780\":1,\"781\":1,\"782\":0,\"783\":0,\"784\":0,\"785\":0,\"786\":1,\"787\":0,\"788\":1,\"789\":0,\"790\":0,\"791\":0,\"792\":0,\"793\":0,\"794\":0,\"795\":0,\"796\":1,\"797\":1,\"798\":0,\"799\":0,\"800\":0,\"801\":1,\"802\":1,\"803\":1,\"804\":1,\"805\":0,\"806\":0,\"807\":0,\"808\":0,\"809\":1,\"810\":0,\"811\":0,\"812\":0,\"813\":0,\"814\":0,\"815\":0,\"816\":0,\"817\":0,\"818\":0,\"819\":0,\"820\":1,\"821\":1,\"822\":0,\"823\":1,\"824\":0,\"825\":0,\"826\":0,\"827\":1,\"828\":1,\"829\":1,\"830\":1,\"831\":1,\"832\":0,\"833\":0,\"834\":0,\"835\":1,\"836\":0,\"837\":0,\"838\":1,\"839\":1,\"840\":0,\"841\":0,\"842\":1,\"843\":0,\"844\":0,\"845\":0,\"846\":0,\"847\":0,\"848\":0,\"849\":1,\"850\":0,\"851\":0,\"852\":0,\"853\":1,\"854\":0,\"855\":1,\"856\":1,\"857\":1,\"858\":1,\"859\":0,\"860\":0,\"861\":0,\"862\":1,\"863\":0,\"864\":0,\"865\":1,\"866\":1,\"867\":0,\"868\":0,\"869\":1,\"870\":0,\"871\":1,\"872\":0,\"873\":0,\"874\":1,\"875\":1,\"876\":0,\"877\":0,\"878\":0,\"879\":1,\"880\":1,\"881\":0,\"882\":0,\"883\":0,\"884\":0,\"885\":0,\"886\":0,\"887\":1,\"888\":0,\"889\":1,\"890\":0},\"Pclass\":{\"0\":3,\"1\":1,\"2\":3,\"3\":1,\"4\":3,\"5\":3,\"6\":1,\"7\":3,\"8\":3,\"9\":2,\"10\":3,\"11\":1,\"12\":3,\"13\":3,\"14\":3,\"15\":2,\"16\":3,\"17\":2,\"18\":3,\"19\":3,\"20\":2,\"21\":2,\"22\":3,\"23\":1,\"24\":3,\"25\":3,\"26\":3,\"27\":1,\"28\":3,\"29\":3,\"30\":1,\"31\":1,\"32\":3,\"33\":2,\"34\":1,\"35\":1,\"36\":3,\"37\":3,\"38\":3,\"39\":3,\"40\":3,\"41\":2,\"42\":3,\"43\":2,\"44\":3,\"45\":3,\"46\":3,\"47\":3,\"48\":3,\"49\":3,\"50\":3,\"51\":3,\"52\":1,\"53\":2,\"54\":1,\"55\":1,\"56\":2,\"57\":3,\"58\":2,\"59\":3,\"60\":3,\"61\":1,\"62\":1,\"63\":3,\"64\":1,\"65\":3,\"66\":2,\"67\":3,\"68\":3,\"69\":3,\"70\":2,\"71\":3,\"72\":2,\"73\":3,\"74\":3,\"75\":3,\"76\":3,\"77\":3,\"78\":2,\"79\":3,\"80\":3,\"81\":3,\"82\":3,\"83\":1,\"84\":2,\"85\":3,\"86\":3,\"87\":3,\"88\":1,\"89\":3,\"90\":3,\"91\":3,\"92\":1,\"93\":3,\"94\":3,\"95\":3,\"96\":1,\"97\":1,\"98\":2,\"99\":2,\"100\":3,\"101\":3,\"102\":1,\"103\":3,\"104\":3,\"105\":3,\"106\":3,\"107\":3,\"108\":3,\"109\":3,\"110\":1,\"111\":3,\"112\":3,\"113\":3,\"114\":3,\"115\":3,\"116\":3,\"117\":2,\"118\":1,\"119\":3,\"120\":2,\"121\":3,\"122\":2,\"123\":2,\"124\":1,\"125\":3,\"126\":3,\"127\":3,\"128\":3,\"129\":3,\"130\":3,\"131\":3,\"132\":3,\"133\":2,\"134\":2,\"135\":2,\"136\":1,\"137\":1,\"138\":3,\"139\":1,\"140\":3,\"141\":3,\"142\":3,\"143\":3,\"144\":2,\"145\":2,\"146\":3,\"147\":3,\"148\":2,\"149\":2,\"150\":2,\"151\":1,\"152\":3,\"153\":3,\"154\":3,\"155\":1,\"156\":3,\"157\":3,\"158\":3,\"159\":3,\"160\":3,\"161\":2,\"162\":3,\"163\":3,\"164\":3,\"165\":3,\"166\":1,\"167\":3,\"168\":1,\"169\":3,\"170\":1,\"171\":3,\"172\":3,\"173\":3,\"174\":1,\"175\":3,\"176\":3,\"177\":1,\"178\":2,\"179\":3,\"180\":3,\"181\":2,\"182\":3,\"183\":2,\"184\":3,\"185\":1,\"186\":3,\"187\":1,\"188\":3,\"189\":3,\"190\":2,\"191\":2,\"192\":3,\"193\":2,\"194\":1,\"195\":1,\"196\":3,\"197\":3,\"198\":3,\"199\":2,\"200\":3,\"201\":3,\"202\":3,\"203\":3,\"204\":3,\"205\":3,\"206\":3,\"207\":3,\"208\":3,\"209\":1,\"210\":3,\"211\":2,\"212\":3,\"213\":2,\"214\":3,\"215\":1,\"216\":3,\"217\":2,\"218\":1,\"219\":2,\"220\":3,\"221\":2,\"222\":3,\"223\":3,\"224\":1,\"225\":3,\"226\":2,\"227\":3,\"228\":2,\"229\":3,\"230\":1,\"231\":3,\"232\":2,\"233\":3,\"234\":2,\"235\":3,\"236\":2,\"237\":2,\"238\":2,\"239\":2,\"240\":3,\"241\":3,\"242\":2,\"243\":3,\"244\":3,\"245\":1,\"246\":3,\"247\":2,\"248\":1,\"249\":2,\"250\":3,\"251\":3,\"252\":1,\"253\":3,\"254\":3,\"255\":3,\"256\":1,\"257\":1,\"258\":1,\"259\":2,\"260\":3,\"261\":3,\"262\":1,\"263\":1,\"264\":3,\"265\":2,\"266\":3,\"267\":3,\"268\":1,\"269\":1,\"270\":1,\"271\":3,\"272\":2,\"273\":1,\"274\":3,\"275\":1,\"276\":3,\"277\":2,\"278\":3,\"279\":3,\"280\":3,\"281\":3,\"282\":3,\"283\":3,\"284\":1,\"285\":3,\"286\":3,\"287\":3,\"288\":2,\"289\":3,\"290\":1,\"291\":1,\"292\":2,\"293\":3,\"294\":3,\"295\":1,\"296\":3,\"297\":1,\"298\":1,\"299\":1,\"300\":3,\"301\":3,\"302\":3,\"303\":2,\"304\":3,\"305\":1,\"306\":1,\"307\":1,\"308\":2,\"309\":1,\"310\":1,\"311\":1,\"312\":2,\"313\":3,\"314\":2,\"315\":3,\"316\":2,\"317\":2,\"318\":1,\"319\":1,\"320\":3,\"321\":3,\"322\":2,\"323\":2,\"324\":3,\"325\":1,\"326\":3,\"327\":2,\"328\":3,\"329\":1,\"330\":3,\"331\":1,\"332\":1,\"333\":3,\"334\":1,\"335\":3,\"336\":1,\"337\":1,\"338\":3,\"339\":1,\"340\":2,\"341\":1,\"342\":2,\"343\":2,\"344\":2,\"345\":2,\"346\":2,\"347\":3,\"348\":3,\"349\":3,\"350\":3,\"351\":1,\"352\":3,\"353\":3,\"354\":3,\"355\":3,\"356\":1,\"357\":2,\"358\":3,\"359\":3,\"360\":3,\"361\":2,\"362\":3,\"363\":3,\"364\":3,\"365\":3,\"366\":1,\"367\":3,\"368\":3,\"369\":1,\"370\":1,\"371\":3,\"372\":3,\"373\":1,\"374\":3,\"375\":1,\"376\":3,\"377\":1,\"378\":3,\"379\":3,\"380\":1,\"381\":3,\"382\":3,\"383\":1,\"384\":3,\"385\":2,\"386\":3,\"387\":2,\"388\":3,\"389\":2,\"390\":1,\"391\":3,\"392\":3,\"393\":1,\"394\":3,\"395\":3,\"396\":3,\"397\":2,\"398\":2,\"399\":2,\"400\":3,\"401\":3,\"402\":3,\"403\":3,\"404\":3,\"405\":2,\"406\":3,\"407\":2,\"408\":3,\"409\":3,\"410\":3,\"411\":3,\"412\":1,\"413\":2,\"414\":3,\"415\":3,\"416\":2,\"417\":2,\"418\":2,\"419\":3,\"420\":3,\"421\":3,\"422\":3,\"423\":3,\"424\":3,\"425\":3,\"426\":2,\"427\":2,\"428\":3,\"429\":3,\"430\":1,\"431\":3,\"432\":2,\"433\":3,\"434\":1,\"435\":1,\"436\":3,\"437\":2,\"438\":1,\"439\":2,\"440\":2,\"441\":3,\"442\":3,\"443\":2,\"444\":3,\"445\":1,\"446\":2,\"447\":1,\"448\":3,\"449\":1,\"450\":2,\"451\":3,\"452\":1,\"453\":1,\"454\":3,\"455\":3,\"456\":1,\"457\":1,\"458\":2,\"459\":3,\"460\":1,\"461\":3,\"462\":1,\"463\":2,\"464\":3,\"465\":3,\"466\":2,\"467\":1,\"468\":3,\"469\":3,\"470\":3,\"471\":3,\"472\":2,\"473\":2,\"474\":3,\"475\":1,\"476\":2,\"477\":3,\"478\":3,\"479\":3,\"480\":3,\"481\":2,\"482\":3,\"483\":3,\"484\":1,\"485\":3,\"486\":1,\"487\":1,\"488\":3,\"489\":3,\"490\":3,\"491\":3,\"492\":1,\"493\":1,\"494\":3,\"495\":3,\"496\":1,\"497\":3,\"498\":1,\"499\":3,\"500\":3,\"501\":3,\"502\":3,\"503\":3,\"504\":1,\"505\":1,\"506\":2,\"507\":1,\"508\":3,\"509\":3,\"510\":3,\"511\":3,\"512\":1,\"513\":1,\"514\":3,\"515\":1,\"516\":2,\"517\":3,\"518\":2,\"519\":3,\"520\":1,\"521\":3,\"522\":3,\"523\":1,\"524\":3,\"525\":3,\"526\":2,\"527\":1,\"528\":3,\"529\":2,\"530\":2,\"531\":3,\"532\":3,\"533\":3,\"534\":3,\"535\":2,\"536\":1,\"537\":1,\"538\":3,\"539\":1,\"540\":1,\"541\":3,\"542\":3,\"543\":2,\"544\":1,\"545\":1,\"546\":2,\"547\":2,\"548\":3,\"549\":2,\"550\":1,\"551\":2,\"552\":3,\"553\":3,\"554\":3,\"555\":1,\"556\":1,\"557\":1,\"558\":1,\"559\":3,\"560\":3,\"561\":3,\"562\":2,\"563\":3,\"564\":3,\"565\":3,\"566\":3,\"567\":3,\"568\":3,\"569\":3,\"570\":2,\"571\":1,\"572\":1,\"573\":3,\"574\":3,\"575\":3,\"576\":2,\"577\":1,\"578\":3,\"579\":3,\"580\":2,\"581\":1,\"582\":2,\"583\":1,\"584\":3,\"585\":1,\"586\":2,\"587\":1,\"588\":3,\"589\":3,\"590\":3,\"591\":1,\"592\":3,\"593\":3,\"594\":2,\"595\":3,\"596\":2,\"597\":3,\"598\":3,\"599\":1,\"600\":2,\"601\":3,\"602\":1,\"603\":3,\"604\":1,\"605\":3,\"606\":3,\"607\":1,\"608\":2,\"609\":1,\"610\":3,\"611\":3,\"612\":3,\"613\":3,\"614\":3,\"615\":2,\"616\":3,\"617\":3,\"618\":2,\"619\":2,\"620\":3,\"621\":1,\"622\":3,\"623\":3,\"624\":3,\"625\":1,\"626\":2,\"627\":1,\"628\":3,\"629\":3,\"630\":1,\"631\":3,\"632\":1,\"633\":1,\"634\":3,\"635\":2,\"636\":3,\"637\":2,\"638\":3,\"639\":3,\"640\":3,\"641\":1,\"642\":3,\"643\":3,\"644\":3,\"645\":1,\"646\":3,\"647\":1,\"648\":3,\"649\":3,\"650\":3,\"651\":2,\"652\":3,\"653\":3,\"654\":3,\"655\":2,\"656\":3,\"657\":3,\"658\":2,\"659\":1,\"660\":1,\"661\":3,\"662\":1,\"663\":3,\"664\":3,\"665\":2,\"666\":2,\"667\":3,\"668\":3,\"669\":1,\"670\":2,\"671\":1,\"672\":2,\"673\":2,\"674\":2,\"675\":3,\"676\":3,\"677\":3,\"678\":3,\"679\":1,\"680\":3,\"681\":1,\"682\":3,\"683\":3,\"684\":2,\"685\":2,\"686\":3,\"687\":3,\"688\":3,\"689\":1,\"690\":1,\"691\":3,\"692\":3,\"693\":3,\"694\":1,\"695\":2,\"696\":3,\"697\":3,\"698\":1,\"699\":3,\"700\":1,\"701\":1,\"702\":3,\"703\":3,\"704\":3,\"705\":2,\"706\":2,\"707\":1,\"708\":1,\"709\":3,\"710\":1,\"711\":1,\"712\":1,\"713\":3,\"714\":2,\"715\":3,\"716\":1,\"717\":2,\"718\":3,\"719\":3,\"720\":2,\"721\":3,\"722\":2,\"723\":2,\"724\":1,\"725\":3,\"726\":2,\"727\":3,\"728\":2,\"729\":3,\"730\":1,\"731\":3,\"732\":2,\"733\":2,\"734\":2,\"735\":3,\"736\":3,\"737\":1,\"738\":3,\"739\":3,\"740\":1,\"741\":1,\"742\":1,\"743\":3,\"744\":3,\"745\":1,\"746\":3,\"747\":2,\"748\":1,\"749\":3,\"750\":2,\"751\":3,\"752\":3,\"753\":3,\"754\":2,\"755\":2,\"756\":3,\"757\":2,\"758\":3,\"759\":1,\"760\":3,\"761\":3,\"762\":3,\"763\":1,\"764\":3,\"765\":1,\"766\":1,\"767\":3,\"768\":3,\"769\":3,\"770\":3,\"771\":3,\"772\":2,\"773\":3,\"774\":2,\"775\":3,\"776\":3,\"777\":3,\"778\":3,\"779\":1,\"780\":3,\"781\":1,\"782\":1,\"783\":3,\"784\":3,\"785\":3,\"786\":3,\"787\":3,\"788\":3,\"789\":1,\"790\":3,\"791\":2,\"792\":3,\"793\":1,\"794\":3,\"795\":2,\"796\":1,\"797\":3,\"798\":3,\"799\":3,\"800\":2,\"801\":2,\"802\":1,\"803\":3,\"804\":3,\"805\":3,\"806\":1,\"807\":3,\"808\":2,\"809\":1,\"810\":3,\"811\":3,\"812\":2,\"813\":3,\"814\":3,\"815\":1,\"816\":3,\"817\":2,\"818\":3,\"819\":3,\"820\":1,\"821\":3,\"822\":1,\"823\":3,\"824\":3,\"825\":3,\"826\":3,\"827\":2,\"828\":3,\"829\":1,\"830\":3,\"831\":2,\"832\":3,\"833\":3,\"834\":3,\"835\":1,\"836\":3,\"837\":3,\"838\":3,\"839\":1,\"840\":3,\"841\":2,\"842\":1,\"843\":3,\"844\":3,\"845\":3,\"846\":3,\"847\":3,\"848\":2,\"849\":1,\"850\":3,\"851\":3,\"852\":3,\"853\":1,\"854\":2,\"855\":3,\"856\":1,\"857\":1,\"858\":3,\"859\":3,\"860\":3,\"861\":2,\"862\":1,\"863\":3,\"864\":2,\"865\":2,\"866\":2,\"867\":1,\"868\":3,\"869\":3,\"870\":3,\"871\":1,\"872\":1,\"873\":3,\"874\":2,\"875\":3,\"876\":3,\"877\":3,\"878\":3,\"879\":1,\"880\":2,\"881\":3,\"882\":3,\"883\":2,\"884\":3,\"885\":3,\"886\":2,\"887\":1,\"888\":3,\"889\":1,\"890\":3},\"Name\":{\"0\":\"Braund, Mr. Owen Harris\",\"1\":\"Cumings, Mrs. John Bradley (Florence Briggs Thayer)\",\"2\":\"Heikkinen, Miss. Laina\",\"3\":\"Futrelle, Mrs. Jacques Heath (Lily May Peel)\",\"4\":\"Allen, Mr. William Henry\",\"5\":\"Moran, Mr. James\",\"6\":\"McCarthy, Mr. Timothy J\",\"7\":\"Palsson, Master. Gosta Leonard\",\"8\":\"Johnson, Mrs. Oscar W (Elisabeth Vilhelmina Berg)\",\"9\":\"Nasser, Mrs. Nicholas (Adele Achem)\",\"10\":\"Sandstrom, Miss. Marguerite Rut\",\"11\":\"Bonnell, Miss. Elizabeth\",\"12\":\"Saundercock, Mr. William Henry\",\"13\":\"Andersson, Mr. Anders Johan\",\"14\":\"Vestrom, Miss. Hulda Amanda Adolfina\",\"15\":\"Hewlett, Mrs. (Mary D Kingcome) \",\"16\":\"Rice, Master. Eugene\",\"17\":\"Williams, Mr. Charles Eugene\",\"18\":\"Vander Planke, Mrs. Julius (Emelia Maria Vandemoortele)\",\"19\":\"Masselmani, Mrs. Fatima\",\"20\":\"Fynney, Mr. Joseph J\",\"21\":\"Beesley, Mr. Lawrence\",\"22\":\"McGowan, Miss. Anna \\\\\"Annie\\\\\"\",\"23\":\"Sloper, Mr. William Thompson\",\"24\":\"Palsson, Miss. Torborg Danira\",\"25\":\"Asplund, Mrs. Carl Oscar (Selma Augusta Emilia Johansson)\",\"26\":\"Emir, Mr. Farred Chehab\",\"27\":\"Fortune, Mr. Charles Alexander\",\"28\":\"O\\'Dwyer, Miss. Ellen \\\\\"Nellie\\\\\"\",\"29\":\"Todoroff, Mr. Lalio\",\"30\":\"Uruchurtu, Don. Manuel E\",\"31\":\"Spencer, Mrs. William Augustus (Marie Eugenie)\",\"32\":\"Glynn, Miss. Mary Agatha\",\"33\":\"Wheadon, Mr. Edward H\",\"34\":\"Meyer, Mr. Edgar Joseph\",\"35\":\"Holverson, Mr. Alexander Oskar\",\"36\":\"Mamee, Mr. Hanna\",\"37\":\"Cann, Mr. Ernest Charles\",\"38\":\"Vander Planke, Miss. Augusta Maria\",\"39\":\"Nicola-Yarred, Miss. Jamila\",\"40\":\"Ahlin, Mrs. Johan (Johanna Persdotter Larsson)\",\"41\":\"Turpin, Mrs. William John Robert (Dorothy Ann Wonnacott)\",\"42\":\"Kraeff, Mr. Theodor\",\"43\":\"Laroche, Miss. Simonne Marie Anne Andree\",\"44\":\"Devaney, Miss. Margaret Delia\",\"45\":\"Rogers, Mr. William John\",\"46\":\"Lennon, Mr. Denis\",\"47\":\"O\\'Driscoll, Miss. Bridget\",\"48\":\"Samaan, Mr. Youssef\",\"49\":\"Arnold-Franchi, Mrs. Josef (Josefine Franchi)\",\"50\":\"Panula, Master. Juha Niilo\",\"51\":\"Nosworthy, Mr. Richard Cater\",\"52\":\"Harper, Mrs. Henry Sleeper (Myna Haxtun)\",\"53\":\"Faunthorpe, Mrs. Lizzie (Elizabeth Anne Wilkinson)\",\"54\":\"Ostby, Mr. Engelhart Cornelius\",\"55\":\"Woolner, Mr. Hugh\",\"56\":\"Rugg, Miss. Emily\",\"57\":\"Novel, Mr. Mansouer\",\"58\":\"West, Miss. Constance Mirium\",\"59\":\"Goodwin, Master. William Frederick\",\"60\":\"Sirayanian, Mr. Orsen\",\"61\":\"Icard, Miss. Amelie\",\"62\":\"Harris, Mr. Henry Birkhardt\",\"63\":\"Skoog, Master. Harald\",\"64\":\"Stewart, Mr. Albert A\",\"65\":\"Moubarek, Master. Gerios\",\"66\":\"Nye, Mrs. (Elizabeth Ramell)\",\"67\":\"Crease, Mr. Ernest James\",\"68\":\"Andersson, Miss. Erna Alexandra\",\"69\":\"Kink, Mr. Vincenz\",\"70\":\"Jenkin, Mr. Stephen Curnow\",\"71\":\"Goodwin, Miss. Lillian Amy\",\"72\":\"Hood, Mr. Ambrose Jr\",\"73\":\"Chronopoulos, Mr. Apostolos\",\"74\":\"Bing, Mr. Lee\",\"75\":\"Moen, Mr. Sigurd Hansen\",\"76\":\"Staneff, Mr. Ivan\",\"77\":\"Moutal, Mr. Rahamin Haim\",\"78\":\"Caldwell, Master. Alden Gates\",\"79\":\"Dowdell, Miss. Elizabeth\",\"80\":\"Waelens, Mr. Achille\",\"81\":\"Sheerlinck, Mr. Jan Baptist\",\"82\":\"McDermott, Miss. Brigdet Delia\",\"83\":\"Carrau, Mr. Francisco M\",\"84\":\"Ilett, Miss. Bertha\",\"85\":\"Backstrom, Mrs. Karl Alfred (Maria Mathilda Gustafsson)\",\"86\":\"Ford, Mr. William Neal\",\"87\":\"Slocovski, Mr. Selman Francis\",\"88\":\"Fortune, Miss. Mabel Helen\",\"89\":\"Celotti, Mr. Francesco\",\"90\":\"Christmann, Mr. Emil\",\"91\":\"Andreasson, Mr. Paul Edvin\",\"92\":\"Chaffee, Mr. Herbert Fuller\",\"93\":\"Dean, Mr. Bertram Frank\",\"94\":\"Coxon, Mr. Daniel\",\"95\":\"Shorney, Mr. Charles Joseph\",\"96\":\"Goldschmidt, Mr. George B\",\"97\":\"Greenfield, Mr. William Bertram\",\"98\":\"Doling, Mrs. John T (Ada Julia Bone)\",\"99\":\"Kantor, Mr. Sinai\",\"100\":\"Petranec, Miss. Matilda\",\"101\":\"Petroff, Mr. Pastcho (\\\\\"Pentcho\\\\\")\",\"102\":\"White, Mr. Richard Frasar\",\"103\":\"Johansson, Mr. Gustaf Joel\",\"104\":\"Gustafsson, Mr. Anders Vilhelm\",\"105\":\"Mionoff, Mr. Stoytcho\",\"106\":\"Salkjelsvik, Miss. Anna Kristine\",\"107\":\"Moss, Mr. Albert Johan\",\"108\":\"Rekic, Mr. Tido\",\"109\":\"Moran, Miss. Bertha\",\"110\":\"Porter, Mr. Walter Chamberlain\",\"111\":\"Zabour, Miss. Hileni\",\"112\":\"Barton, Mr. David John\",\"113\":\"Jussila, Miss. Katriina\",\"114\":\"Attalah, Miss. Malake\",\"115\":\"Pekoniemi, Mr. Edvard\",\"116\":\"Connors, Mr. Patrick\",\"117\":\"Turpin, Mr. William John Robert\",\"118\":\"Baxter, Mr. Quigg Edmond\",\"119\":\"Andersson, Miss. Ellis Anna Maria\",\"120\":\"Hickman, Mr. Stanley George\",\"121\":\"Moore, Mr. Leonard Charles\",\"122\":\"Nasser, Mr. Nicholas\",\"123\":\"Webber, Miss. Susan\",\"124\":\"White, Mr. Percival Wayland\",\"125\":\"Nicola-Yarred, Master. Elias\",\"126\":\"McMahon, Mr. Martin\",\"127\":\"Madsen, Mr. Fridtjof Arne\",\"128\":\"Peter, Miss. Anna\",\"129\":\"Ekstrom, Mr. Johan\",\"130\":\"Drazenoic, Mr. Jozef\",\"131\":\"Coelho, Mr. Domingos Fernandeo\",\"132\":\"Robins, Mrs. Alexander A (Grace Charity Laury)\",\"133\":\"Weisz, Mrs. Leopold (Mathilde Francoise Pede)\",\"134\":\"Sobey, Mr. Samuel James Hayden\",\"135\":\"Richard, Mr. Emile\",\"136\":\"Newsom, Miss. Helen Monypeny\",\"137\":\"Futrelle, Mr. Jacques Heath\",\"138\":\"Osen, Mr. Olaf Elon\",\"139\":\"Giglio, Mr. Victor\",\"140\":\"Boulos, Mrs. Joseph (Sultana)\",\"141\":\"Nysten, Miss. Anna Sofia\",\"142\":\"Hakkarainen, Mrs. Pekka Pietari (Elin Matilda Dolck)\",\"143\":\"Burke, Mr. Jeremiah\",\"144\":\"Andrew, Mr. Edgardo Samuel\",\"145\":\"Nicholls, Mr. Joseph Charles\",\"146\":\"Andersson, Mr. August Edvard (\\\\\"Wennerstrom\\\\\")\",\"147\":\"Ford, Miss. Robina Maggie \\\\\"Ruby\\\\\"\",\"148\":\"Navratil, Mr. Michel (\\\\\"Louis M Hoffman\\\\\")\",\"149\":\"Byles, Rev. Thomas Roussel Davids\",\"150\":\"Bateman, Rev. Robert James\",\"151\":\"Pears, Mrs. Thomas (Edith Wearne)\",\"152\":\"Meo, Mr. Alfonzo\",\"153\":\"van Billiard, Mr. Austin Blyler\",\"154\":\"Olsen, Mr. Ole Martin\",\"155\":\"Williams, Mr. Charles Duane\",\"156\":\"Gilnagh, Miss. Katherine \\\\\"Katie\\\\\"\",\"157\":\"Corn, Mr. Harry\",\"158\":\"Smiljanic, Mr. Mile\",\"159\":\"Sage, Master. Thomas Henry\",\"160\":\"Cribb, Mr. John Hatfield\",\"161\":\"Watt, Mrs. James (Elizabeth \\\\\"Bessie\\\\\" Inglis Milne)\",\"162\":\"Bengtsson, Mr. John Viktor\",\"163\":\"Calic, Mr. Jovo\",\"164\":\"Panula, Master. Eino Viljami\",\"165\":\"Goldsmith, Master. Frank John William \\\\\"Frankie\\\\\"\",\"166\":\"Chibnall, Mrs. (Edith Martha Bowerman)\",\"167\":\"Skoog, Mrs. William (Anna Bernhardina Karlsson)\",\"168\":\"Baumann, Mr. John D\",\"169\":\"Ling, Mr. Lee\",\"170\":\"Van der hoef, Mr. Wyckoff\",\"171\":\"Rice, Master. Arthur\",\"172\":\"Johnson, Miss. Eleanor Ileen\",\"173\":\"Sivola, Mr. Antti Wilhelm\",\"174\":\"Smith, Mr. James Clinch\",\"175\":\"Klasen, Mr. Klas Albin\",\"176\":\"Lefebre, Master. Henry Forbes\",\"177\":\"Isham, Miss. Ann Elizabeth\",\"178\":\"Hale, Mr. Reginald\",\"179\":\"Leonard, Mr. Lionel\",\"180\":\"Sage, Miss. Constance Gladys\",\"181\":\"Pernot, Mr. Rene\",\"182\":\"Asplund, Master. Clarence Gustaf Hugo\",\"183\":\"Becker, Master. Richard F\",\"184\":\"Kink-Heilmann, Miss. Luise Gretchen\",\"185\":\"Rood, Mr. Hugh Roscoe\",\"186\":\"O\\'Brien, Mrs. Thomas (Johanna \\\\\"Hannah\\\\\" Godfrey)\",\"187\":\"Romaine, Mr. Charles Hallace (\\\\\"Mr C Rolmane\\\\\")\",\"188\":\"Bourke, Mr. John\",\"189\":\"Turcin, Mr. Stjepan\",\"190\":\"Pinsky, Mrs. (Rosa)\",\"191\":\"Carbines, Mr. William\",\"192\":\"Andersen-Jensen, Miss. Carla Christine Nielsine\",\"193\":\"Navratil, Master. Michel M\",\"194\":\"Brown, Mrs. James Joseph (Margaret Tobin)\",\"195\":\"Lurette, Miss. Elise\",\"196\":\"Mernagh, Mr. Robert\",\"197\":\"Olsen, Mr. Karl Siegwart Andreas\",\"198\":\"Madigan, Miss. Margaret \\\\\"Maggie\\\\\"\",\"199\":\"Yrois, Miss. Henriette (\\\\\"Mrs Harbeck\\\\\")\",\"200\":\"Vande Walle, Mr. Nestor Cyriel\",\"201\":\"Sage, Mr. Frederick\",\"202\":\"Johanson, Mr. Jakob Alfred\",\"203\":\"Youseff, Mr. Gerious\",\"204\":\"Cohen, Mr. Gurshon \\\\\"Gus\\\\\"\",\"205\":\"Strom, Miss. Telma Matilda\",\"206\":\"Backstrom, Mr. Karl Alfred\",\"207\":\"Albimona, Mr. Nassef Cassem\",\"208\":\"Carr, Miss. Helen \\\\\"Ellen\\\\\"\",\"209\":\"Blank, Mr. Henry\",\"210\":\"Ali, Mr. Ahmed\",\"211\":\"Cameron, Miss. Clear Annie\",\"212\":\"Perkin, Mr. John Henry\",\"213\":\"Givard, Mr. Hans Kristensen\",\"214\":\"Kiernan, Mr. Philip\",\"215\":\"Newell, Miss. Madeleine\",\"216\":\"Honkanen, Miss. Eliina\",\"217\":\"Jacobsohn, Mr. Sidney Samuel\",\"218\":\"Bazzani, Miss. Albina\",\"219\":\"Harris, Mr. Walter\",\"220\":\"Sunderland, Mr. Victor Francis\",\"221\":\"Bracken, Mr. James H\",\"222\":\"Green, Mr. George Henry\",\"223\":\"Nenkoff, Mr. Christo\",\"224\":\"Hoyt, Mr. Frederick Maxfield\",\"225\":\"Berglund, Mr. Karl Ivar Sven\",\"226\":\"Mellors, Mr. William John\",\"227\":\"Lovell, Mr. John Hall (\\\\\"Henry\\\\\")\",\"228\":\"Fahlstrom, Mr. Arne Jonas\",\"229\":\"Lefebre, Miss. Mathilde\",\"230\":\"Harris, Mrs. Henry Birkhardt (Irene Wallach)\",\"231\":\"Larsson, Mr. Bengt Edvin\",\"232\":\"Sjostedt, Mr. Ernst Adolf\",\"233\":\"Asplund, Miss. Lillian Gertrud\",\"234\":\"Leyson, Mr. Robert William Norman\",\"235\":\"Harknett, Miss. Alice Phoebe\",\"236\":\"Hold, Mr. Stephen\",\"237\":\"Collyer, Miss. Marjorie \\\\\"Lottie\\\\\"\",\"238\":\"Pengelly, Mr. Frederick William\",\"239\":\"Hunt, Mr. George Henry\",\"240\":\"Zabour, Miss. Thamine\",\"241\":\"Murphy, Miss. Katherine \\\\\"Kate\\\\\"\",\"242\":\"Coleridge, Mr. Reginald Charles\",\"243\":\"Maenpaa, Mr. Matti Alexanteri\",\"244\":\"Attalah, Mr. Sleiman\",\"245\":\"Minahan, Dr. William Edward\",\"246\":\"Lindahl, Miss. Agda Thorilda Viktoria\",\"247\":\"Hamalainen, Mrs. William (Anna)\",\"248\":\"Beckwith, Mr. Richard Leonard\",\"249\":\"Carter, Rev. Ernest Courtenay\",\"250\":\"Reed, Mr. James George\",\"251\":\"Strom, Mrs. Wilhelm (Elna Matilda Persson)\",\"252\":\"Stead, Mr. William Thomas\",\"253\":\"Lobb, Mr. William Arthur\",\"254\":\"Rosblom, Mrs. Viktor (Helena Wilhelmina)\",\"255\":\"Touma, Mrs. Darwis (Hanne Youssef Razi)\",\"256\":\"Thorne, Mrs. Gertrude Maybelle\",\"257\":\"Cherry, Miss. Gladys\",\"258\":\"Ward, Miss. Anna\",\"259\":\"Parrish, Mrs. (Lutie Davis)\",\"260\":\"Smith, Mr. Thomas\",\"261\":\"Asplund, Master. Edvin Rojj Felix\",\"262\":\"Taussig, Mr. Emil\",\"263\":\"Harrison, Mr. William\",\"264\":\"Henry, Miss. Delia\",\"265\":\"Reeves, Mr. David\",\"266\":\"Panula, Mr. Ernesti Arvid\",\"267\":\"Persson, Mr. Ernst Ulrik\",\"268\":\"Graham, Mrs. William Thompson (Edith Junkins)\",\"269\":\"Bissette, Miss. Amelia\",\"270\":\"Cairns, Mr. Alexander\",\"271\":\"Tornquist, Mr. William Henry\",\"272\":\"Mellinger, Mrs. (Elizabeth Anne Maidment)\",\"273\":\"Natsch, Mr. Charles H\",\"274\":\"Healy, Miss. Hanora \\\\\"Nora\\\\\"\",\"275\":\"Andrews, Miss. Kornelia Theodosia\",\"276\":\"Lindblom, Miss. Augusta Charlotta\",\"277\":\"Parkes, Mr. Francis \\\\\"Frank\\\\\"\",\"278\":\"Rice, Master. Eric\",\"279\":\"Abbott, Mrs. Stanton (Rosa Hunt)\",\"280\":\"Duane, Mr. Frank\",\"281\":\"Olsson, Mr. Nils Johan Goransson\",\"282\":\"de Pelsmaeker, Mr. Alfons\",\"283\":\"Dorking, Mr. Edward Arthur\",\"284\":\"Smith, Mr. Richard William\",\"285\":\"Stankovic, Mr. Ivan\",\"286\":\"de Mulder, Mr. Theodore\",\"287\":\"Naidenoff, Mr. Penko\",\"288\":\"Hosono, Mr. Masabumi\",\"289\":\"Connolly, Miss. Kate\",\"290\":\"Barber, Miss. Ellen \\\\\"Nellie\\\\\"\",\"291\":\"Bishop, Mrs. Dickinson H (Helen Walton)\",\"292\":\"Levy, Mr. Rene Jacques\",\"293\":\"Haas, Miss. Aloisia\",\"294\":\"Mineff, Mr. Ivan\",\"295\":\"Lewy, Mr. Ervin G\",\"296\":\"Hanna, Mr. Mansour\",\"297\":\"Allison, Miss. Helen Loraine\",\"298\":\"Saalfeld, Mr. Adolphe\",\"299\":\"Baxter, Mrs. James (Helene DeLaudeniere Chaput)\",\"300\":\"Kelly, Miss. Anna Katherine \\\\\"Annie Kate\\\\\"\",\"301\":\"McCoy, Mr. Bernard\",\"302\":\"Johnson, Mr. William Cahoone Jr\",\"303\":\"Keane, Miss. Nora A\",\"304\":\"Williams, Mr. Howard Hugh \\\\\"Harry\\\\\"\",\"305\":\"Allison, Master. Hudson Trevor\",\"306\":\"Fleming, Miss. Margaret\",\"307\":\"Penasco y Castellana, Mrs. Victor de Satode (Maria Josefa Perez de Soto y Vallejo)\",\"308\":\"Abelson, Mr. Samuel\",\"309\":\"Francatelli, Miss. Laura Mabel\",\"310\":\"Hays, Miss. Margaret Bechstein\",\"311\":\"Ryerson, Miss. Emily Borie\",\"312\":\"Lahtinen, Mrs. William (Anna Sylfven)\",\"313\":\"Hendekovic, Mr. Ignjac\",\"314\":\"Hart, Mr. Benjamin\",\"315\":\"Nilsson, Miss. Helmina Josefina\",\"316\":\"Kantor, Mrs. Sinai (Miriam Sternin)\",\"317\":\"Moraweck, Dr. Ernest\",\"318\":\"Wick, Miss. Mary Natalie\",\"319\":\"Spedden, Mrs. Frederic Oakley (Margaretta Corning Stone)\",\"320\":\"Dennis, Mr. Samuel\",\"321\":\"Danoff, Mr. Yoto\",\"322\":\"Slayter, Miss. Hilda Mary\",\"323\":\"Caldwell, Mrs. Albert Francis (Sylvia Mae Harbaugh)\",\"324\":\"Sage, Mr. George John Jr\",\"325\":\"Young, Miss. Marie Grice\",\"326\":\"Nysveen, Mr. Johan Hansen\",\"327\":\"Ball, Mrs. (Ada E Hall)\",\"328\":\"Goldsmith, Mrs. Frank John (Emily Alice Brown)\",\"329\":\"Hippach, Miss. Jean Gertrude\",\"330\":\"McCoy, Miss. Agnes\",\"331\":\"Partner, Mr. Austen\",\"332\":\"Graham, Mr. George Edward\",\"333\":\"Vander Planke, Mr. Leo Edmondus\",\"334\":\"Frauenthal, Mrs. Henry William (Clara Heinsheimer)\",\"335\":\"Denkoff, Mr. Mitto\",\"336\":\"Pears, Mr. Thomas Clinton\",\"337\":\"Burns, Miss. Elizabeth Margaret\",\"338\":\"Dahl, Mr. Karl Edwart\",\"339\":\"Blackwell, Mr. Stephen Weart\",\"340\":\"Navratil, Master. Edmond Roger\",\"341\":\"Fortune, Miss. Alice Elizabeth\",\"342\":\"Collander, Mr. Erik Gustaf\",\"343\":\"Sedgwick, Mr. Charles Frederick Waddington\",\"344\":\"Fox, Mr. Stanley Hubert\",\"345\":\"Brown, Miss. Amelia \\\\\"Mildred\\\\\"\",\"346\":\"Smith, Miss. Marion Elsie\",\"347\":\"Davison, Mrs. Thomas Henry (Mary E Finck)\",\"348\":\"Coutts, Master. William Loch \\\\\"William\\\\\"\",\"349\":\"Dimic, Mr. Jovan\",\"350\":\"Odahl, Mr. Nils Martin\",\"351\":\"Williams-Lambert, Mr. Fletcher Fellows\",\"352\":\"Elias, Mr. Tannous\",\"353\":\"Arnold-Franchi, Mr. Josef\",\"354\":\"Yousif, Mr. Wazli\",\"355\":\"Vanden Steen, Mr. Leo Peter\",\"356\":\"Bowerman, Miss. Elsie Edith\",\"357\":\"Funk, Miss. Annie Clemmer\",\"358\":\"McGovern, Miss. Mary\",\"359\":\"Mockler, Miss. Helen Mary \\\\\"Ellie\\\\\"\",\"360\":\"Skoog, Mr. Wilhelm\",\"361\":\"del Carlo, Mr. Sebastiano\",\"362\":\"Barbara, Mrs. (Catherine David)\",\"363\":\"Asim, Mr. Adola\",\"364\":\"O\\'Brien, Mr. Thomas\",\"365\":\"Adahl, Mr. Mauritz Nils Martin\",\"366\":\"Warren, Mrs. Frank Manley (Anna Sophia Atkinson)\",\"367\":\"Moussa, Mrs. (Mantoura Boulos)\",\"368\":\"Jermyn, Miss. Annie\",\"369\":\"Aubart, Mme. Leontine Pauline\",\"370\":\"Harder, Mr. George Achilles\",\"371\":\"Wiklund, Mr. Jakob Alfred\",\"372\":\"Beavan, Mr. William Thomas\",\"373\":\"Ringhini, Mr. Sante\",\"374\":\"Palsson, Miss. Stina Viola\",\"375\":\"Meyer, Mrs. Edgar Joseph (Leila Saks)\",\"376\":\"Landergren, Miss. Aurora Adelia\",\"377\":\"Widener, Mr. Harry Elkins\",\"378\":\"Betros, Mr. Tannous\",\"379\":\"Gustafsson, Mr. Karl Gideon\",\"380\":\"Bidois, Miss. Rosalie\",\"381\":\"Nakid, Miss. Maria (\\\\\"Mary\\\\\")\",\"382\":\"Tikkanen, Mr. Juho\",\"383\":\"Holverson, Mrs. Alexander Oskar (Mary Aline Towner)\",\"384\":\"Plotcharsky, Mr. Vasil\",\"385\":\"Davies, Mr. Charles Henry\",\"386\":\"Goodwin, Master. Sidney Leonard\",\"387\":\"Buss, Miss. Kate\",\"388\":\"Sadlier, Mr. Matthew\",\"389\":\"Lehmann, Miss. Bertha\",\"390\":\"Carter, Mr. William Ernest\",\"391\":\"Jansson, Mr. Carl Olof\",\"392\":\"Gustafsson, Mr. Johan Birger\",\"393\":\"Newell, Miss. Marjorie\",\"394\":\"Sandstrom, Mrs. Hjalmar (Agnes Charlotta Bengtsson)\",\"395\":\"Johansson, Mr. Erik\",\"396\":\"Olsson, Miss. Elina\",\"397\":\"McKane, Mr. Peter David\",\"398\":\"Pain, Dr. Alfred\",\"399\":\"Trout, Mrs. William H (Jessie L)\",\"400\":\"Niskanen, Mr. Juha\",\"401\":\"Adams, Mr. John\",\"402\":\"Jussila, Miss. Mari Aina\",\"403\":\"Hakkarainen, Mr. Pekka Pietari\",\"404\":\"Oreskovic, Miss. Marija\",\"405\":\"Gale, Mr. Shadrach\",\"406\":\"Widegren, Mr. Carl\\\\/Charles Peter\",\"407\":\"Richards, Master. William Rowe\",\"408\":\"Birkeland, Mr. Hans Martin Monsen\",\"409\":\"Lefebre, Miss. Ida\",\"410\":\"Sdycoff, Mr. Todor\",\"411\":\"Hart, Mr. Henry\",\"412\":\"Minahan, Miss. Daisy E\",\"413\":\"Cunningham, Mr. Alfred Fleming\",\"414\":\"Sundman, Mr. Johan Julian\",\"415\":\"Meek, Mrs. Thomas (Annie Louise Rowley)\",\"416\":\"Drew, Mrs. James Vivian (Lulu Thorne Christian)\",\"417\":\"Silven, Miss. Lyyli Karoliina\",\"418\":\"Matthews, Mr. William John\",\"419\":\"Van Impe, Miss. Catharina\",\"420\":\"Gheorgheff, Mr. Stanio\",\"421\":\"Charters, Mr. David\",\"422\":\"Zimmerman, Mr. Leo\",\"423\":\"Danbom, Mrs. Ernst Gilbert (Anna Sigrid Maria Brogren)\",\"424\":\"Rosblom, Mr. Viktor Richard\",\"425\":\"Wiseman, Mr. Phillippe\",\"426\":\"Clarke, Mrs. Charles V (Ada Maria Winfield)\",\"427\":\"Phillips, Miss. Kate Florence (\\\\\"Mrs Kate Louise Phillips Marshall\\\\\")\",\"428\":\"Flynn, Mr. James\",\"429\":\"Pickard, Mr. Berk (Berk Trembisky)\",\"430\":\"Bjornstrom-Steffansson, Mr. Mauritz Hakan\",\"431\":\"Thorneycroft, Mrs. Percival (Florence Kate White)\",\"432\":\"Louch, Mrs. Charles Alexander (Alice Adelaide Slow)\",\"433\":\"Kallio, Mr. Nikolai Erland\",\"434\":\"Silvey, Mr. William Baird\",\"435\":\"Carter, Miss. Lucile Polk\",\"436\":\"Ford, Miss. Doolina Margaret \\\\\"Daisy\\\\\"\",\"437\":\"Richards, Mrs. Sidney (Emily Hocking)\",\"438\":\"Fortune, Mr. Mark\",\"439\":\"Kvillner, Mr. Johan Henrik Johannesson\",\"440\":\"Hart, Mrs. Benjamin (Esther Ada Bloomfield)\",\"441\":\"Hampe, Mr. Leon\",\"442\":\"Petterson, Mr. Johan Emil\",\"443\":\"Reynaldo, Ms. Encarnacion\",\"444\":\"Johannesen-Bratthammer, Mr. Bernt\",\"445\":\"Dodge, Master. Washington\",\"446\":\"Mellinger, Miss. Madeleine Violet\",\"447\":\"Seward, Mr. Frederic Kimber\",\"448\":\"Baclini, Miss. Marie Catherine\",\"449\":\"Peuchen, Major. Arthur Godfrey\",\"450\":\"West, Mr. Edwy Arthur\",\"451\":\"Hagland, Mr. Ingvald Olai Olsen\",\"452\":\"Foreman, Mr. Benjamin Laventall\",\"453\":\"Goldenberg, Mr. Samuel L\",\"454\":\"Peduzzi, Mr. Joseph\",\"455\":\"Jalsevac, Mr. Ivan\",\"456\":\"Millet, Mr. Francis Davis\",\"457\":\"Kenyon, Mrs. Frederick R (Marion)\",\"458\":\"Toomey, Miss. Ellen\",\"459\":\"O\\'Connor, Mr. Maurice\",\"460\":\"Anderson, Mr. Harry\",\"461\":\"Morley, Mr. William\",\"462\":\"Gee, Mr. Arthur H\",\"463\":\"Milling, Mr. Jacob Christian\",\"464\":\"Maisner, Mr. Simon\",\"465\":\"Goncalves, Mr. Manuel Estanslas\",\"466\":\"Campbell, Mr. William\",\"467\":\"Smart, Mr. John Montgomery\",\"468\":\"Scanlan, Mr. James\",\"469\":\"Baclini, Miss. Helene Barbara\",\"470\":\"Keefe, Mr. Arthur\",\"471\":\"Cacic, Mr. Luka\",\"472\":\"West, Mrs. Edwy Arthur (Ada Mary Worth)\",\"473\":\"Jerwan, Mrs. Amin S (Marie Marthe Thuillard)\",\"474\":\"Strandberg, Miss. Ida Sofia\",\"475\":\"Clifford, Mr. George Quincy\",\"476\":\"Renouf, Mr. Peter Henry\",\"477\":\"Braund, Mr. Lewis Richard\",\"478\":\"Karlsson, Mr. Nils August\",\"479\":\"Hirvonen, Miss. Hildur E\",\"480\":\"Goodwin, Master. Harold Victor\",\"481\":\"Frost, Mr. Anthony Wood \\\\\"Archie\\\\\"\",\"482\":\"Rouse, Mr. Richard Henry\",\"483\":\"Turkula, Mrs. (Hedwig)\",\"484\":\"Bishop, Mr. Dickinson H\",\"485\":\"Lefebre, Miss. Jeannie\",\"486\":\"Hoyt, Mrs. Frederick Maxfield (Jane Anne Forby)\",\"487\":\"Kent, Mr. Edward Austin\",\"488\":\"Somerton, Mr. Francis William\",\"489\":\"Coutts, Master. Eden Leslie \\\\\"Neville\\\\\"\",\"490\":\"Hagland, Mr. Konrad Mathias Reiersen\",\"491\":\"Windelov, Mr. Einar\",\"492\":\"Molson, Mr. Harry Markland\",\"493\":\"Artagaveytia, Mr. Ramon\",\"494\":\"Stanley, Mr. Edward Roland\",\"495\":\"Yousseff, Mr. Gerious\",\"496\":\"Eustis, Miss. Elizabeth Mussey\",\"497\":\"Shellard, Mr. Frederick William\",\"498\":\"Allison, Mrs. Hudson J C (Bessie Waldo Daniels)\",\"499\":\"Svensson, Mr. Olof\",\"500\":\"Calic, Mr. Petar\",\"501\":\"Canavan, Miss. Mary\",\"502\":\"O\\'Sullivan, Miss. Bridget Mary\",\"503\":\"Laitinen, Miss. Kristina Sofia\",\"504\":\"Maioni, Miss. Roberta\",\"505\":\"Penasco y Castellana, Mr. Victor de Satode\",\"506\":\"Quick, Mrs. Frederick Charles (Jane Richards)\",\"507\":\"Bradley, Mr. George (\\\\\"George Arthur Brayton\\\\\")\",\"508\":\"Olsen, Mr. Henry Margido\",\"509\":\"Lang, Mr. Fang\",\"510\":\"Daly, Mr. Eugene Patrick\",\"511\":\"Webber, Mr. James\",\"512\":\"McGough, Mr. James Robert\",\"513\":\"Rothschild, Mrs. Martin (Elizabeth L. Barrett)\",\"514\":\"Coleff, Mr. Satio\",\"515\":\"Walker, Mr. William Anderson\",\"516\":\"Lemore, Mrs. (Amelia Milley)\",\"517\":\"Ryan, Mr. Patrick\",\"518\":\"Angle, Mrs. William A (Florence \\\\\"Mary\\\\\" Agnes Hughes)\",\"519\":\"Pavlovic, Mr. Stefo\",\"520\":\"Perreault, Miss. Anne\",\"521\":\"Vovk, Mr. Janko\",\"522\":\"Lahoud, Mr. Sarkis\",\"523\":\"Hippach, Mrs. Louis Albert (Ida Sophia Fischer)\",\"524\":\"Kassem, Mr. Fared\",\"525\":\"Farrell, Mr. James\",\"526\":\"Ridsdale, Miss. Lucy\",\"527\":\"Farthing, Mr. John\",\"528\":\"Salonen, Mr. Johan Werner\",\"529\":\"Hocking, Mr. Richard George\",\"530\":\"Quick, Miss. Phyllis May\",\"531\":\"Toufik, Mr. Nakli\",\"532\":\"Elias, Mr. Joseph Jr\",\"533\":\"Peter, Mrs. Catherine (Catherine Rizk)\",\"534\":\"Cacic, Miss. Marija\",\"535\":\"Hart, Miss. Eva Miriam\",\"536\":\"Butt, Major. Archibald Willingham\",\"537\":\"LeRoy, Miss. Bertha\",\"538\":\"Risien, Mr. Samuel Beard\",\"539\":\"Frolicher, Miss. Hedwig Margaritha\",\"540\":\"Crosby, Miss. Harriet R\",\"541\":\"Andersson, Miss. Ingeborg Constanzia\",\"542\":\"Andersson, Miss. Sigrid Elisabeth\",\"543\":\"Beane, Mr. Edward\",\"544\":\"Douglas, Mr. Walter Donald\",\"545\":\"Nicholson, Mr. Arthur Ernest\",\"546\":\"Beane, Mrs. Edward (Ethel Clarke)\",\"547\":\"Padro y Manent, Mr. Julian\",\"548\":\"Goldsmith, Mr. Frank John\",\"549\":\"Davies, Master. John Morgan Jr\",\"550\":\"Thayer, Mr. John Borland Jr\",\"551\":\"Sharp, Mr. Percival James R\",\"552\":\"O\\'Brien, Mr. Timothy\",\"553\":\"Leeni, Mr. Fahim (\\\\\"Philip Zenni\\\\\")\",\"554\":\"Ohman, Miss. Velin\",\"555\":\"Wright, Mr. George\",\"556\":\"Duff Gordon, Lady. (Lucille Christiana Sutherland) (\\\\\"Mrs Morgan\\\\\")\",\"557\":\"Robbins, Mr. Victor\",\"558\":\"Taussig, Mrs. Emil (Tillie Mandelbaum)\",\"559\":\"de Messemaeker, Mrs. Guillaume Joseph (Emma)\",\"560\":\"Morrow, Mr. Thomas Rowan\",\"561\":\"Sivic, Mr. Husein\",\"562\":\"Norman, Mr. Robert Douglas\",\"563\":\"Simmons, Mr. John\",\"564\":\"Meanwell, Miss. (Marion Ogden)\",\"565\":\"Davies, Mr. Alfred J\",\"566\":\"Stoytcheff, Mr. Ilia\",\"567\":\"Palsson, Mrs. Nils (Alma Cornelia Berglund)\",\"568\":\"Doharr, Mr. Tannous\",\"569\":\"Jonsson, Mr. Carl\",\"570\":\"Harris, Mr. George\",\"571\":\"Appleton, Mrs. Edward Dale (Charlotte Lamson)\",\"572\":\"Flynn, Mr. John Irwin (\\\\\"Irving\\\\\")\",\"573\":\"Kelly, Miss. Mary\",\"574\":\"Rush, Mr. Alfred George John\",\"575\":\"Patchett, Mr. George\",\"576\":\"Garside, Miss. Ethel\",\"577\":\"Silvey, Mrs. William Baird (Alice Munger)\",\"578\":\"Caram, Mrs. Joseph (Maria Elias)\",\"579\":\"Jussila, Mr. Eiriik\",\"580\":\"Christy, Miss. Julie Rachel\",\"581\":\"Thayer, Mrs. John Borland (Marian Longstreth Morris)\",\"582\":\"Downton, Mr. William James\",\"583\":\"Ross, Mr. John Hugo\",\"584\":\"Paulner, Mr. Uscher\",\"585\":\"Taussig, Miss. Ruth\",\"586\":\"Jarvis, Mr. John Denzil\",\"587\":\"Frolicher-Stehli, Mr. Maxmillian\",\"588\":\"Gilinski, Mr. Eliezer\",\"589\":\"Murdlin, Mr. Joseph\",\"590\":\"Rintamaki, Mr. Matti\",\"591\":\"Stephenson, Mrs. Walter Bertram (Martha Eustis)\",\"592\":\"Elsbury, Mr. William James\",\"593\":\"Bourke, Miss. Mary\",\"594\":\"Chapman, Mr. John Henry\",\"595\":\"Van Impe, Mr. Jean Baptiste\",\"596\":\"Leitch, Miss. Jessie Wills\",\"597\":\"Johnson, Mr. Alfred\",\"598\":\"Boulos, Mr. Hanna\",\"599\":\"Duff Gordon, Sir. Cosmo Edmund (\\\\\"Mr Morgan\\\\\")\",\"600\":\"Jacobsohn, Mrs. Sidney Samuel (Amy Frances Christy)\",\"601\":\"Slabenoff, Mr. Petco\",\"602\":\"Harrington, Mr. Charles H\",\"603\":\"Torber, Mr. Ernst William\",\"604\":\"Homer, Mr. Harry (\\\\\"Mr E Haven\\\\\")\",\"605\":\"Lindell, Mr. Edvard Bengtsson\",\"606\":\"Karaic, Mr. Milan\",\"607\":\"Daniel, Mr. Robert Williams\",\"608\":\"Laroche, Mrs. Joseph (Juliette Marie Louise Lafargue)\",\"609\":\"Shutes, Miss. Elizabeth W\",\"610\":\"Andersson, Mrs. Anders Johan (Alfrida Konstantia Brogren)\",\"611\":\"Jardin, Mr. Jose Neto\",\"612\":\"Murphy, Miss. Margaret Jane\",\"613\":\"Horgan, Mr. John\",\"614\":\"Brocklebank, Mr. William Alfred\",\"615\":\"Herman, Miss. Alice\",\"616\":\"Danbom, Mr. Ernst Gilbert\",\"617\":\"Lobb, Mrs. William Arthur (Cordelia K Stanlick)\",\"618\":\"Becker, Miss. Marion Louise\",\"619\":\"Gavey, Mr. Lawrence\",\"620\":\"Yasbeck, Mr. Antoni\",\"621\":\"Kimball, Mr. Edwin Nelson Jr\",\"622\":\"Nakid, Mr. Sahid\",\"623\":\"Hansen, Mr. Henry Damsgaard\",\"624\":\"Bowen, Mr. David John \\\\\"Dai\\\\\"\",\"625\":\"Sutton, Mr. Frederick\",\"626\":\"Kirkland, Rev. Charles Leonard\",\"627\":\"Longley, Miss. Gretchen Fiske\",\"628\":\"Bostandyeff, Mr. Guentcho\",\"629\":\"O\\'Connell, Mr. Patrick D\",\"630\":\"Barkworth, Mr. Algernon Henry Wilson\",\"631\":\"Lundahl, Mr. Johan Svensson\",\"632\":\"Stahelin-Maeglin, Dr. Max\",\"633\":\"Parr, Mr. William Henry Marsh\",\"634\":\"Skoog, Miss. Mabel\",\"635\":\"Davis, Miss. Mary\",\"636\":\"Leinonen, Mr. Antti Gustaf\",\"637\":\"Collyer, Mr. Harvey\",\"638\":\"Panula, Mrs. Juha (Maria Emilia Ojala)\",\"639\":\"Thorneycroft, Mr. Percival\",\"640\":\"Jensen, Mr. Hans Peder\",\"641\":\"Sagesser, Mlle. Emma\",\"642\":\"Skoog, Miss. Margit Elizabeth\",\"643\":\"Foo, Mr. Choong\",\"644\":\"Baclini, Miss. Eugenie\",\"645\":\"Harper, Mr. Henry Sleeper\",\"646\":\"Cor, Mr. Liudevit\",\"647\":\"Simonius-Blumer, Col. Oberst Alfons\",\"648\":\"Willey, Mr. Edward\",\"649\":\"Stanley, Miss. Amy Zillah Elsie\",\"650\":\"Mitkoff, Mr. Mito\",\"651\":\"Doling, Miss. Elsie\",\"652\":\"Kalvik, Mr. Johannes Halvorsen\",\"653\":\"O\\'Leary, Miss. Hanora \\\\\"Norah\\\\\"\",\"654\":\"Hegarty, Miss. Hanora \\\\\"Nora\\\\\"\",\"655\":\"Hickman, Mr. Leonard Mark\",\"656\":\"Radeff, Mr. Alexander\",\"657\":\"Bourke, Mrs. John (Catherine)\",\"658\":\"Eitemiller, Mr. George Floyd\",\"659\":\"Newell, Mr. Arthur Webster\",\"660\":\"Frauenthal, Dr. Henry William\",\"661\":\"Badt, Mr. Mohamed\",\"662\":\"Colley, Mr. Edward Pomeroy\",\"663\":\"Coleff, Mr. Peju\",\"664\":\"Lindqvist, Mr. Eino William\",\"665\":\"Hickman, Mr. Lewis\",\"666\":\"Butler, Mr. Reginald Fenton\",\"667\":\"Rommetvedt, Mr. Knud Paust\",\"668\":\"Cook, Mr. Jacob\",\"669\":\"Taylor, Mrs. Elmer Zebley (Juliet Cummins Wright)\",\"670\":\"Brown, Mrs. Thomas William Solomon (Elizabeth Catherine Ford)\",\"671\":\"Davidson, Mr. Thornton\",\"672\":\"Mitchell, Mr. Henry Michael\",\"673\":\"Wilhelms, Mr. Charles\",\"674\":\"Watson, Mr. Ennis Hastings\",\"675\":\"Edvardsson, Mr. Gustaf Hjalmar\",\"676\":\"Sawyer, Mr. Frederick Charles\",\"677\":\"Turja, Miss. Anna Sofia\",\"678\":\"Goodwin, Mrs. Frederick (Augusta Tyler)\",\"679\":\"Cardeza, Mr. Thomas Drake Martinez\",\"680\":\"Peters, Miss. Katie\",\"681\":\"Hassab, Mr. Hammad\",\"682\":\"Olsvigen, Mr. Thor Anderson\",\"683\":\"Goodwin, Mr. Charles Edward\",\"684\":\"Brown, Mr. Thomas William Solomon\",\"685\":\"Laroche, Mr. Joseph Philippe Lemercier\",\"686\":\"Panula, Mr. Jaako Arnold\",\"687\":\"Dakic, Mr. Branko\",\"688\":\"Fischer, Mr. Eberhard Thelander\",\"689\":\"Madill, Miss. Georgette Alexandra\",\"690\":\"Dick, Mr. Albert Adrian\",\"691\":\"Karun, Miss. Manca\",\"692\":\"Lam, Mr. Ali\",\"693\":\"Saad, Mr. Khalil\",\"694\":\"Weir, Col. John\",\"695\":\"Chapman, Mr. Charles Henry\",\"696\":\"Kelly, Mr. James\",\"697\":\"Mullens, Miss. Katherine \\\\\"Katie\\\\\"\",\"698\":\"Thayer, Mr. John Borland\",\"699\":\"Humblen, Mr. Adolf Mathias Nicolai Olsen\",\"700\":\"Astor, Mrs. John Jacob (Madeleine Talmadge Force)\",\"701\":\"Silverthorne, Mr. Spencer Victor\",\"702\":\"Barbara, Miss. Saiide\",\"703\":\"Gallagher, Mr. Martin\",\"704\":\"Hansen, Mr. Henrik Juul\",\"705\":\"Morley, Mr. Henry Samuel (\\\\\"Mr Henry Marshall\\\\\")\",\"706\":\"Kelly, Mrs. Florence \\\\\"Fannie\\\\\"\",\"707\":\"Calderhead, Mr. Edward Pennington\",\"708\":\"Cleaver, Miss. Alice\",\"709\":\"Moubarek, Master. Halim Gonios (\\\\\"William George\\\\\")\",\"710\":\"Mayne, Mlle. Berthe Antonine (\\\\\"Mrs de Villiers\\\\\")\",\"711\":\"Klaber, Mr. Herman\",\"712\":\"Taylor, Mr. Elmer Zebley\",\"713\":\"Larsson, Mr. August Viktor\",\"714\":\"Greenberg, Mr. Samuel\",\"715\":\"Soholt, Mr. Peter Andreas Lauritz Andersen\",\"716\":\"Endres, Miss. Caroline Louise\",\"717\":\"Troutt, Miss. Edwina Celia \\\\\"Winnie\\\\\"\",\"718\":\"McEvoy, Mr. Michael\",\"719\":\"Johnson, Mr. Malkolm Joackim\",\"720\":\"Harper, Miss. Annie Jessie \\\\\"Nina\\\\\"\",\"721\":\"Jensen, Mr. Svend Lauritz\",\"722\":\"Gillespie, Mr. William Henry\",\"723\":\"Hodges, Mr. Henry Price\",\"724\":\"Chambers, Mr. Norman Campbell\",\"725\":\"Oreskovic, Mr. Luka\",\"726\":\"Renouf, Mrs. Peter Henry (Lillian Jefferys)\",\"727\":\"Mannion, Miss. Margareth\",\"728\":\"Bryhl, Mr. Kurt Arnold Gottfrid\",\"729\":\"Ilmakangas, Miss. Pieta Sofia\",\"730\":\"Allen, Miss. Elisabeth Walton\",\"731\":\"Hassan, Mr. Houssein G N\",\"732\":\"Knight, Mr. Robert J\",\"733\":\"Berriman, Mr. William John\",\"734\":\"Troupiansky, Mr. Moses Aaron\",\"735\":\"Williams, Mr. Leslie\",\"736\":\"Ford, Mrs. Edward (Margaret Ann Watson)\",\"737\":\"Lesurer, Mr. Gustave J\",\"738\":\"Ivanoff, Mr. Kanio\",\"739\":\"Nankoff, Mr. Minko\",\"740\":\"Hawksford, Mr. Walter James\",\"741\":\"Cavendish, Mr. Tyrell William\",\"742\":\"Ryerson, Miss. Susan Parker \\\\\"Suzette\\\\\"\",\"743\":\"McNamee, Mr. Neal\",\"744\":\"Stranden, Mr. Juho\",\"745\":\"Crosby, Capt. Edward Gifford\",\"746\":\"Abbott, Mr. Rossmore Edward\",\"747\":\"Sinkkonen, Miss. Anna\",\"748\":\"Marvin, Mr. Daniel Warner\",\"749\":\"Connaghton, Mr. Michael\",\"750\":\"Wells, Miss. Joan\",\"751\":\"Moor, Master. Meier\",\"752\":\"Vande Velde, Mr. Johannes Joseph\",\"753\":\"Jonkoff, Mr. Lalio\",\"754\":\"Herman, Mrs. Samuel (Jane Laver)\",\"755\":\"Hamalainen, Master. Viljo\",\"756\":\"Carlsson, Mr. August Sigfrid\",\"757\":\"Bailey, Mr. Percy Andrew\",\"758\":\"Theobald, Mr. Thomas Leonard\",\"759\":\"Rothes, the Countess. of (Lucy Noel Martha Dyer-Edwards)\",\"760\":\"Garfirth, Mr. John\",\"761\":\"Nirva, Mr. Iisakki Antino Aijo\",\"762\":\"Barah, Mr. Hanna Assi\",\"763\":\"Carter, Mrs. William Ernest (Lucile Polk)\",\"764\":\"Eklund, Mr. Hans Linus\",\"765\":\"Hogeboom, Mrs. John C (Anna Andrews)\",\"766\":\"Brewe, Dr. Arthur Jackson\",\"767\":\"Mangan, Miss. Mary\",\"768\":\"Moran, Mr. Daniel J\",\"769\":\"Gronnestad, Mr. Daniel Danielsen\",\"770\":\"Lievens, Mr. Rene Aime\",\"771\":\"Jensen, Mr. Niels Peder\",\"772\":\"Mack, Mrs. (Mary)\",\"773\":\"Elias, Mr. Dibo\",\"774\":\"Hocking, Mrs. Elizabeth (Eliza Needs)\",\"775\":\"Myhrman, Mr. Pehr Fabian Oliver Malkolm\",\"776\":\"Tobin, Mr. Roger\",\"777\":\"Emanuel, Miss. Virginia Ethel\",\"778\":\"Kilgannon, Mr. Thomas J\",\"779\":\"Robert, Mrs. Edward Scott (Elisabeth Walton McMillan)\",\"780\":\"Ayoub, Miss. Banoura\",\"781\":\"Dick, Mrs. Albert Adrian (Vera Gillespie)\",\"782\":\"Long, Mr. Milton Clyde\",\"783\":\"Johnston, Mr. Andrew G\",\"784\":\"Ali, Mr. William\",\"785\":\"Harmer, Mr. Abraham (David Lishin)\",\"786\":\"Sjoblom, Miss. Anna Sofia\",\"787\":\"Rice, Master. George Hugh\",\"788\":\"Dean, Master. Bertram Vere\",\"789\":\"Guggenheim, Mr. Benjamin\",\"790\":\"Keane, Mr. Andrew \\\\\"Andy\\\\\"\",\"791\":\"Gaskell, Mr. Alfred\",\"792\":\"Sage, Miss. Stella Anna\",\"793\":\"Hoyt, Mr. William Fisher\",\"794\":\"Dantcheff, Mr. Ristiu\",\"795\":\"Otter, Mr. Richard\",\"796\":\"Leader, Dr. Alice (Farnham)\",\"797\":\"Osman, Mrs. Mara\",\"798\":\"Ibrahim Shawah, Mr. Yousseff\",\"799\":\"Van Impe, Mrs. Jean Baptiste (Rosalie Paula Govaert)\",\"800\":\"Ponesell, Mr. Martin\",\"801\":\"Collyer, Mrs. Harvey (Charlotte Annie Tate)\",\"802\":\"Carter, Master. William Thornton II\",\"803\":\"Thomas, Master. Assad Alexander\",\"804\":\"Hedman, Mr. Oskar Arvid\",\"805\":\"Johansson, Mr. Karl Johan\",\"806\":\"Andrews, Mr. Thomas Jr\",\"807\":\"Pettersson, Miss. Ellen Natalia\",\"808\":\"Meyer, Mr. August\",\"809\":\"Chambers, Mrs. Norman Campbell (Bertha Griggs)\",\"810\":\"Alexander, Mr. William\",\"811\":\"Lester, Mr. James\",\"812\":\"Slemen, Mr. Richard James\",\"813\":\"Andersson, Miss. Ebba Iris Alfrida\",\"814\":\"Tomlin, Mr. Ernest Portage\",\"815\":\"Fry, Mr. Richard\",\"816\":\"Heininen, Miss. Wendla Maria\",\"817\":\"Mallet, Mr. Albert\",\"818\":\"Holm, Mr. John Fredrik Alexander\",\"819\":\"Skoog, Master. Karl Thorsten\",\"820\":\"Hays, Mrs. Charles Melville (Clara Jennings Gregg)\",\"821\":\"Lulic, Mr. Nikola\",\"822\":\"Reuchlin, Jonkheer. John George\",\"823\":\"Moor, Mrs. (Beila)\",\"824\":\"Panula, Master. Urho Abraham\",\"825\":\"Flynn, Mr. John\",\"826\":\"Lam, Mr. Len\",\"827\":\"Mallet, Master. Andre\",\"828\":\"McCormack, Mr. Thomas Joseph\",\"829\":\"Stone, Mrs. George Nelson (Martha Evelyn)\",\"830\":\"Yasbeck, Mrs. Antoni (Selini Alexander)\",\"831\":\"Richards, Master. George Sibley\",\"832\":\"Saad, Mr. Amin\",\"833\":\"Augustsson, Mr. Albert\",\"834\":\"Allum, Mr. Owen George\",\"835\":\"Compton, Miss. Sara Rebecca\",\"836\":\"Pasic, Mr. Jakob\",\"837\":\"Sirota, Mr. Maurice\",\"838\":\"Chip, Mr. Chang\",\"839\":\"Marechal, Mr. Pierre\",\"840\":\"Alhomaki, Mr. Ilmari Rudolf\",\"841\":\"Mudd, Mr. Thomas Charles\",\"842\":\"Serepeca, Miss. Augusta\",\"843\":\"Lemberopolous, Mr. Peter L\",\"844\":\"Culumovic, Mr. Jeso\",\"845\":\"Abbing, Mr. Anthony\",\"846\":\"Sage, Mr. Douglas Bullen\",\"847\":\"Markoff, Mr. Marin\",\"848\":\"Harper, Rev. John\",\"849\":\"Goldenberg, Mrs. Samuel L (Edwiga Grabowska)\",\"850\":\"Andersson, Master. Sigvard Harald Elias\",\"851\":\"Svensson, Mr. Johan\",\"852\":\"Boulos, Miss. Nourelain\",\"853\":\"Lines, Miss. Mary Conover\",\"854\":\"Carter, Mrs. Ernest Courtenay (Lilian Hughes)\",\"855\":\"Aks, Mrs. Sam (Leah Rosen)\",\"856\":\"Wick, Mrs. George Dennick (Mary Hitchcock)\",\"857\":\"Daly, Mr. Peter Denis \",\"858\":\"Baclini, Mrs. Solomon (Latifa Qurban)\",\"859\":\"Razi, Mr. Raihed\",\"860\":\"Hansen, Mr. Claus Peter\",\"861\":\"Giles, Mr. Frederick Edward\",\"862\":\"Swift, Mrs. Frederick Joel (Margaret Welles Barron)\",\"863\":\"Sage, Miss. Dorothy Edith \\\\\"Dolly\\\\\"\",\"864\":\"Gill, Mr. John William\",\"865\":\"Bystrom, Mrs. (Karolina)\",\"866\":\"Duran y More, Miss. Asuncion\",\"867\":\"Roebling, Mr. Washington Augustus II\",\"868\":\"van Melkebeke, Mr. Philemon\",\"869\":\"Johnson, Master. Harold Theodor\",\"870\":\"Balkic, Mr. Cerin\",\"871\":\"Beckwith, Mrs. Richard Leonard (Sallie Monypeny)\",\"872\":\"Carlsson, Mr. Frans Olof\",\"873\":\"Vander Cruyssen, Mr. Victor\",\"874\":\"Abelson, Mrs. Samuel (Hannah Wizosky)\",\"875\":\"Najib, Miss. Adele Kiamie \\\\\"Jane\\\\\"\",\"876\":\"Gustafsson, Mr. Alfred Ossian\",\"877\":\"Petroff, Mr. Nedelio\",\"878\":\"Laleff, Mr. Kristo\",\"879\":\"Potter, Mrs. Thomas Jr (Lily Alexenia Wilson)\",\"880\":\"Shelley, Mrs. William (Imanita Parrish Hall)\",\"881\":\"Markun, Mr. Johann\",\"882\":\"Dahlberg, Miss. Gerda Ulrika\",\"883\":\"Banfield, Mr. Frederick James\",\"884\":\"Sutehall, Mr. Henry Jr\",\"885\":\"Rice, Mrs. William (Margaret Norton)\",\"886\":\"Montvila, Rev. Juozas\",\"887\":\"Graham, Miss. Margaret Edith\",\"888\":\"Johnston, Miss. Catherine Helen \\\\\"Carrie\\\\\"\",\"889\":\"Behr, Mr. Karl Howell\",\"890\":\"Dooley, Mr. Patrick\"},\"Sex\":{\"0\":\"male\",\"1\":\"female\",\"2\":\"female\",\"3\":\"female\",\"4\":\"male\",\"5\":\"male\",\"6\":\"male\",\"7\":\"male\",\"8\":\"female\",\"9\":\"female\",\"10\":\"female\",\"11\":\"female\",\"12\":\"male\",\"13\":\"male\",\"14\":\"female\",\"15\":\"female\",\"16\":\"male\",\"17\":\"male\",\"18\":\"female\",\"19\":\"female\",\"20\":\"male\",\"21\":\"male\",\"22\":\"female\",\"23\":\"male\",\"24\":\"female\",\"25\":\"female\",\"26\":\"male\",\"27\":\"male\",\"28\":\"female\",\"29\":\"male\",\"30\":\"male\",\"31\":\"female\",\"32\":\"female\",\"33\":\"male\",\"34\":\"male\",\"35\":\"male\",\"36\":\"male\",\"37\":\"male\",\"38\":\"female\",\"39\":\"female\",\"40\":\"female\",\"41\":\"female\",\"42\":\"male\",\"43\":\"female\",\"44\":\"female\",\"45\":\"male\",\"46\":\"male\",\"47\":\"female\",\"48\":\"male\",\"49\":\"female\",\"50\":\"male\",\"51\":\"male\",\"52\":\"female\",\"53\":\"female\",\"54\":\"male\",\"55\":\"male\",\"56\":\"female\",\"57\":\"male\",\"58\":\"female\",\"59\":\"male\",\"60\":\"male\",\"61\":\"female\",\"62\":\"male\",\"63\":\"male\",\"64\":\"male\",\"65\":\"male\",\"66\":\"female\",\"67\":\"male\",\"68\":\"female\",\"69\":\"male\",\"70\":\"male\",\"71\":\"female\",\"72\":\"male\",\"73\":\"male\",\"74\":\"male\",\"75\":\"male\",\"76\":\"male\",\"77\":\"male\",\"78\":\"male\",\"79\":\"female\",\"80\":\"male\",\"81\":\"male\",\"82\":\"female\",\"83\":\"male\",\"84\":\"female\",\"85\":\"female\",\"86\":\"male\",\"87\":\"male\",\"88\":\"female\",\"89\":\"male\",\"90\":\"male\",\"91\":\"male\",\"92\":\"male\",\"93\":\"male\",\"94\":\"male\",\"95\":\"male\",\"96\":\"male\",\"97\":\"male\",\"98\":\"female\",\"99\":\"male\",\"100\":\"female\",\"101\":\"male\",\"102\":\"male\",\"103\":\"male\",\"104\":\"male\",\"105\":\"male\",\"106\":\"female\",\"107\":\"male\",\"108\":\"male\",\"109\":\"female\",\"110\":\"male\",\"111\":\"female\",\"112\":\"male\",\"113\":\"female\",\"114\":\"female\",\"115\":\"male\",\"116\":\"male\",\"117\":\"male\",\"118\":\"male\",\"119\":\"female\",\"120\":\"male\",\"121\":\"male\",\"122\":\"male\",\"123\":\"female\",\"124\":\"male\",\"125\":\"male\",\"126\":\"male\",\"127\":\"male\",\"128\":\"female\",\"129\":\"male\",\"130\":\"male\",\"131\":\"male\",\"132\":\"female\",\"133\":\"female\",\"134\":\"male\",\"135\":\"male\",\"136\":\"female\",\"137\":\"male\",\"138\":\"male\",\"139\":\"male\",\"140\":\"female\",\"141\":\"female\",\"142\":\"female\",\"143\":\"male\",\"144\":\"male\",\"145\":\"male\",\"146\":\"male\",\"147\":\"female\",\"148\":\"male\",\"149\":\"male\",\"150\":\"male\",\"151\":\"female\",\"152\":\"male\",\"153\":\"male\",\"154\":\"male\",\"155\":\"male\",\"156\":\"female\",\"157\":\"male\",\"158\":\"male\",\"159\":\"male\",\"160\":\"male\",\"161\":\"female\",\"162\":\"male\",\"163\":\"male\",\"164\":\"male\",\"165\":\"male\",\"166\":\"female\",\"167\":\"female\",\"168\":\"male\",\"169\":\"male\",\"170\":\"male\",\"171\":\"male\",\"172\":\"female\",\"173\":\"male\",\"174\":\"male\",\"175\":\"male\",\"176\":\"male\",\"177\":\"female\",\"178\":\"male\",\"179\":\"male\",\"180\":\"female\",\"181\":\"male\",\"182\":\"male\",\"183\":\"male\",\"184\":\"female\",\"185\":\"male\",\"186\":\"female\",\"187\":\"male\",\"188\":\"male\",\"189\":\"male\",\"190\":\"female\",\"191\":\"male\",\"192\":\"female\",\"193\":\"male\",\"194\":\"female\",\"195\":\"female\",\"196\":\"male\",\"197\":\"male\",\"198\":\"female\",\"199\":\"female\",\"200\":\"male\",\"201\":\"male\",\"202\":\"male\",\"203\":\"male\",\"204\":\"male\",\"205\":\"female\",\"206\":\"male\",\"207\":\"male\",\"208\":\"female\",\"209\":\"male\",\"210\":\"male\",\"211\":\"female\",\"212\":\"male\",\"213\":\"male\",\"214\":\"male\",\"215\":\"female\",\"216\":\"female\",\"217\":\"male\",\"218\":\"female\",\"219\":\"male\",\"220\":\"male\",\"221\":\"male\",\"222\":\"male\",\"223\":\"male\",\"224\":\"male\",\"225\":\"male\",\"226\":\"male\",\"227\":\"male\",\"228\":\"male\",\"229\":\"female\",\"230\":\"female\",\"231\":\"male\",\"232\":\"male\",\"233\":\"female\",\"234\":\"male\",\"235\":\"female\",\"236\":\"male\",\"237\":\"female\",\"238\":\"male\",\"239\":\"male\",\"240\":\"female\",\"241\":\"female\",\"242\":\"male\",\"243\":\"male\",\"244\":\"male\",\"245\":\"male\",\"246\":\"female\",\"247\":\"female\",\"248\":\"male\",\"249\":\"male\",\"250\":\"male\",\"251\":\"female\",\"252\":\"male\",\"253\":\"male\",\"254\":\"female\",\"255\":\"female\",\"256\":\"female\",\"257\":\"female\",\"258\":\"female\",\"259\":\"female\",\"260\":\"male\",\"261\":\"male\",\"262\":\"male\",\"263\":\"male\",\"264\":\"female\",\"265\":\"male\",\"266\":\"male\",\"267\":\"male\",\"268\":\"female\",\"269\":\"female\",\"270\":\"male\",\"271\":\"male\",\"272\":\"female\",\"273\":\"male\",\"274\":\"female\",\"275\":\"female\",\"276\":\"female\",\"277\":\"male\",\"278\":\"male\",\"279\":\"female\",\"280\":\"male\",\"281\":\"male\",\"282\":\"male\",\"283\":\"male\",\"284\":\"male\",\"285\":\"male\",\"286\":\"male\",\"287\":\"male\",\"288\":\"male\",\"289\":\"female\",\"290\":\"female\",\"291\":\"female\",\"292\":\"male\",\"293\":\"female\",\"294\":\"male\",\"295\":\"male\",\"296\":\"male\",\"297\":\"female\",\"298\":\"male\",\"299\":\"female\",\"300\":\"female\",\"301\":\"male\",\"302\":\"male\",\"303\":\"female\",\"304\":\"male\",\"305\":\"male\",\"306\":\"female\",\"307\":\"female\",\"308\":\"male\",\"309\":\"female\",\"310\":\"female\",\"311\":\"female\",\"312\":\"female\",\"313\":\"male\",\"314\":\"male\",\"315\":\"female\",\"316\":\"female\",\"317\":\"male\",\"318\":\"female\",\"319\":\"female\",\"320\":\"male\",\"321\":\"male\",\"322\":\"female\",\"323\":\"female\",\"324\":\"male\",\"325\":\"female\",\"326\":\"male\",\"327\":\"female\",\"328\":\"female\",\"329\":\"female\",\"330\":\"female\",\"331\":\"male\",\"332\":\"male\",\"333\":\"male\",\"334\":\"female\",\"335\":\"male\",\"336\":\"male\",\"337\":\"female\",\"338\":\"male\",\"339\":\"male\",\"340\":\"male\",\"341\":\"female\",\"342\":\"male\",\"343\":\"male\",\"344\":\"male\",\"345\":\"female\",\"346\":\"female\",\"347\":\"female\",\"348\":\"male\",\"349\":\"male\",\"350\":\"male\",\"351\":\"male\",\"352\":\"male\",\"353\":\"male\",\"354\":\"male\",\"355\":\"male\",\"356\":\"female\",\"357\":\"female\",\"358\":\"female\",\"359\":\"female\",\"360\":\"male\",\"361\":\"male\",\"362\":\"female\",\"363\":\"male\",\"364\":\"male\",\"365\":\"male\",\"366\":\"female\",\"367\":\"female\",\"368\":\"female\",\"369\":\"female\",\"370\":\"male\",\"371\":\"male\",\"372\":\"male\",\"373\":\"male\",\"374\":\"female\",\"375\":\"female\",\"376\":\"female\",\"377\":\"male\",\"378\":\"male\",\"379\":\"male\",\"380\":\"female\",\"381\":\"female\",\"382\":\"male\",\"383\":\"female\",\"384\":\"male\",\"385\":\"male\",\"386\":\"male\",\"387\":\"female\",\"388\":\"male\",\"389\":\"female\",\"390\":\"male\",\"391\":\"male\",\"392\":\"male\",\"393\":\"female\",\"394\":\"female\",\"395\":\"male\",\"396\":\"female\",\"397\":\"male\",\"398\":\"male\",\"399\":\"female\",\"400\":\"male\",\"401\":\"male\",\"402\":\"female\",\"403\":\"male\",\"404\":\"female\",\"405\":\"male\",\"406\":\"male\",\"407\":\"male\",\"408\":\"male\",\"409\":\"female\",\"410\":\"male\",\"411\":\"male\",\"412\":\"female\",\"413\":\"male\",\"414\":\"male\",\"415\":\"female\",\"416\":\"female\",\"417\":\"female\",\"418\":\"male\",\"419\":\"female\",\"420\":\"male\",\"421\":\"male\",\"422\":\"male\",\"423\":\"female\",\"424\":\"male\",\"425\":\"male\",\"426\":\"female\",\"427\":\"female\",\"428\":\"male\",\"429\":\"male\",\"430\":\"male\",\"431\":\"female\",\"432\":\"female\",\"433\":\"male\",\"434\":\"male\",\"435\":\"female\",\"436\":\"female\",\"437\":\"female\",\"438\":\"male\",\"439\":\"male\",\"440\":\"female\",\"441\":\"male\",\"442\":\"male\",\"443\":\"female\",\"444\":\"male\",\"445\":\"male\",\"446\":\"female\",\"447\":\"male\",\"448\":\"female\",\"449\":\"male\",\"450\":\"male\",\"451\":\"male\",\"452\":\"male\",\"453\":\"male\",\"454\":\"male\",\"455\":\"male\",\"456\":\"male\",\"457\":\"female\",\"458\":\"female\",\"459\":\"male\",\"460\":\"male\",\"461\":\"male\",\"462\":\"male\",\"463\":\"male\",\"464\":\"male\",\"465\":\"male\",\"466\":\"male\",\"467\":\"male\",\"468\":\"male\",\"469\":\"female\",\"470\":\"male\",\"471\":\"male\",\"472\":\"female\",\"473\":\"female\",\"474\":\"female\",\"475\":\"male\",\"476\":\"male\",\"477\":\"male\",\"478\":\"male\",\"479\":\"female\",\"480\":\"male\",\"481\":\"male\",\"482\":\"male\",\"483\":\"female\",\"484\":\"male\",\"485\":\"female\",\"486\":\"female\",\"487\":\"male\",\"488\":\"male\",\"489\":\"male\",\"490\":\"male\",\"491\":\"male\",\"492\":\"male\",\"493\":\"male\",\"494\":\"male\",\"495\":\"male\",\"496\":\"female\",\"497\":\"male\",\"498\":\"female\",\"499\":\"male\",\"500\":\"male\",\"501\":\"female\",\"502\":\"female\",\"503\":\"female\",\"504\":\"female\",\"505\":\"male\",\"506\":\"female\",\"507\":\"male\",\"508\":\"male\",\"509\":\"male\",\"510\":\"male\",\"511\":\"male\",\"512\":\"male\",\"513\":\"female\",\"514\":\"male\",\"515\":\"male\",\"516\":\"female\",\"517\":\"male\",\"518\":\"female\",\"519\":\"male\",\"520\":\"female\",\"521\":\"male\",\"522\":\"male\",\"523\":\"female\",\"524\":\"male\",\"525\":\"male\",\"526\":\"female\",\"527\":\"male\",\"528\":\"male\",\"529\":\"male\",\"530\":\"female\",\"531\":\"male\",\"532\":\"male\",\"533\":\"female\",\"534\":\"female\",\"535\":\"female\",\"536\":\"male\",\"537\":\"female\",\"538\":\"male\",\"539\":\"female\",\"540\":\"female\",\"541\":\"female\",\"542\":\"female\",\"543\":\"male\",\"544\":\"male\",\"545\":\"male\",\"546\":\"female\",\"547\":\"male\",\"548\":\"male\",\"549\":\"male\",\"550\":\"male\",\"551\":\"male\",\"552\":\"male\",\"553\":\"male\",\"554\":\"female\",\"555\":\"male\",\"556\":\"female\",\"557\":\"male\",\"558\":\"female\",\"559\":\"female\",\"560\":\"male\",\"561\":\"male\",\"562\":\"male\",\"563\":\"male\",\"564\":\"female\",\"565\":\"male\",\"566\":\"male\",\"567\":\"female\",\"568\":\"male\",\"569\":\"male\",\"570\":\"male\",\"571\":\"female\",\"572\":\"male\",\"573\":\"female\",\"574\":\"male\",\"575\":\"male\",\"576\":\"female\",\"577\":\"female\",\"578\":\"female\",\"579\":\"male\",\"580\":\"female\",\"581\":\"female\",\"582\":\"male\",\"583\":\"male\",\"584\":\"male\",\"585\":\"female\",\"586\":\"male\",\"587\":\"male\",\"588\":\"male\",\"589\":\"male\",\"590\":\"male\",\"591\":\"female\",\"592\":\"male\",\"593\":\"female\",\"594\":\"male\",\"595\":\"male\",\"596\":\"female\",\"597\":\"male\",\"598\":\"male\",\"599\":\"male\",\"600\":\"female\",\"601\":\"male\",\"602\":\"male\",\"603\":\"male\",\"604\":\"male\",\"605\":\"male\",\"606\":\"male\",\"607\":\"male\",\"608\":\"female\",\"609\":\"female\",\"610\":\"female\",\"611\":\"male\",\"612\":\"female\",\"613\":\"male\",\"614\":\"male\",\"615\":\"female\",\"616\":\"male\",\"617\":\"female\",\"618\":\"female\",\"619\":\"male\",\"620\":\"male\",\"621\":\"male\",\"622\":\"male\",\"623\":\"male\",\"624\":\"male\",\"625\":\"male\",\"626\":\"male\",\"627\":\"female\",\"628\":\"male\",\"629\":\"male\",\"630\":\"male\",\"631\":\"male\",\"632\":\"male\",\"633\":\"male\",\"634\":\"female\",\"635\":\"female\",\"636\":\"male\",\"637\":\"male\",\"638\":\"female\",\"639\":\"male\",\"640\":\"male\",\"641\":\"female\",\"642\":\"female\",\"643\":\"male\",\"644\":\"female\",\"645\":\"male\",\"646\":\"male\",\"647\":\"male\",\"648\":\"male\",\"649\":\"female\",\"650\":\"male\",\"651\":\"female\",\"652\":\"male\",\"653\":\"female\",\"654\":\"female\",\"655\":\"male\",\"656\":\"male\",\"657\":\"female\",\"658\":\"male\",\"659\":\"male\",\"660\":\"male\",\"661\":\"male\",\"662\":\"male\",\"663\":\"male\",\"664\":\"male\",\"665\":\"male\",\"666\":\"male\",\"667\":\"male\",\"668\":\"male\",\"669\":\"female\",\"670\":\"female\",\"671\":\"male\",\"672\":\"male\",\"673\":\"male\",\"674\":\"male\",\"675\":\"male\",\"676\":\"male\",\"677\":\"female\",\"678\":\"female\",\"679\":\"male\",\"680\":\"female\",\"681\":\"male\",\"682\":\"male\",\"683\":\"male\",\"684\":\"male\",\"685\":\"male\",\"686\":\"male\",\"687\":\"male\",\"688\":\"male\",\"689\":\"female\",\"690\":\"male\",\"691\":\"female\",\"692\":\"male\",\"693\":\"male\",\"694\":\"male\",\"695\":\"male\",\"696\":\"male\",\"697\":\"female\",\"698\":\"male\",\"699\":\"male\",\"700\":\"female\",\"701\":\"male\",\"702\":\"female\",\"703\":\"male\",\"704\":\"male\",\"705\":\"male\",\"706\":\"female\",\"707\":\"male\",\"708\":\"female\",\"709\":\"male\",\"710\":\"female\",\"711\":\"male\",\"712\":\"male\",\"713\":\"male\",\"714\":\"male\",\"715\":\"male\",\"716\":\"female\",\"717\":\"female\",\"718\":\"male\",\"719\":\"male\",\"720\":\"female\",\"721\":\"male\",\"722\":\"male\",\"723\":\"male\",\"724\":\"male\",\"725\":\"male\",\"726\":\"female\",\"727\":\"female\",\"728\":\"male\",\"729\":\"female\",\"730\":\"female\",\"731\":\"male\",\"732\":\"male\",\"733\":\"male\",\"734\":\"male\",\"735\":\"male\",\"736\":\"female\",\"737\":\"male\",\"738\":\"male\",\"739\":\"male\",\"740\":\"male\",\"741\":\"male\",\"742\":\"female\",\"743\":\"male\",\"744\":\"male\",\"745\":\"male\",\"746\":\"male\",\"747\":\"female\",\"748\":\"male\",\"749\":\"male\",\"750\":\"female\",\"751\":\"male\",\"752\":\"male\",\"753\":\"male\",\"754\":\"female\",\"755\":\"male\",\"756\":\"male\",\"757\":\"male\",\"758\":\"male\",\"759\":\"female\",\"760\":\"male\",\"761\":\"male\",\"762\":\"male\",\"763\":\"female\",\"764\":\"male\",\"765\":\"female\",\"766\":\"male\",\"767\":\"female\",\"768\":\"male\",\"769\":\"male\",\"770\":\"male\",\"771\":\"male\",\"772\":\"female\",\"773\":\"male\",\"774\":\"female\",\"775\":\"male\",\"776\":\"male\",\"777\":\"female\",\"778\":\"male\",\"779\":\"female\",\"780\":\"female\",\"781\":\"female\",\"782\":\"male\",\"783\":\"male\",\"784\":\"male\",\"785\":\"male\",\"786\":\"female\",\"787\":\"male\",\"788\":\"male\",\"789\":\"male\",\"790\":\"male\",\"791\":\"male\",\"792\":\"female\",\"793\":\"male\",\"794\":\"male\",\"795\":\"male\",\"796\":\"female\",\"797\":\"female\",\"798\":\"male\",\"799\":\"female\",\"800\":\"male\",\"801\":\"female\",\"802\":\"male\",\"803\":\"male\",\"804\":\"male\",\"805\":\"male\",\"806\":\"male\",\"807\":\"female\",\"808\":\"male\",\"809\":\"female\",\"810\":\"male\",\"811\":\"male\",\"812\":\"male\",\"813\":\"female\",\"814\":\"male\",\"815\":\"male\",\"816\":\"female\",\"817\":\"male\",\"818\":\"male\",\"819\":\"male\",\"820\":\"female\",\"821\":\"male\",\"822\":\"male\",\"823\":\"female\",\"824\":\"male\",\"825\":\"male\",\"826\":\"male\",\"827\":\"male\",\"828\":\"male\",\"829\":\"female\",\"830\":\"female\",\"831\":\"male\",\"832\":\"male\",\"833\":\"male\",\"834\":\"male\",\"835\":\"female\",\"836\":\"male\",\"837\":\"male\",\"838\":\"male\",\"839\":\"male\",\"840\":\"male\",\"841\":\"male\",\"842\":\"female\",\"843\":\"male\",\"844\":\"male\",\"845\":\"male\",\"846\":\"male\",\"847\":\"male\",\"848\":\"male\",\"849\":\"female\",\"850\":\"male\",\"851\":\"male\",\"852\":\"female\",\"853\":\"female\",\"854\":\"female\",\"855\":\"female\",\"856\":\"female\",\"857\":\"male\",\"858\":\"female\",\"859\":\"male\",\"860\":\"male\",\"861\":\"male\",\"862\":\"female\",\"863\":\"female\",\"864\":\"male\",\"865\":\"female\",\"866\":\"female\",\"867\":\"male\",\"868\":\"male\",\"869\":\"male\",\"870\":\"male\",\"871\":\"female\",\"872\":\"male\",\"873\":\"male\",\"874\":\"female\",\"875\":\"female\",\"876\":\"male\",\"877\":\"male\",\"878\":\"male\",\"879\":\"female\",\"880\":\"female\",\"881\":\"male\",\"882\":\"female\",\"883\":\"male\",\"884\":\"male\",\"885\":\"female\",\"886\":\"male\",\"887\":\"female\",\"888\":\"female\",\"889\":\"male\",\"890\":\"male\"},\"Age\":{\"0\":22.0,\"1\":38.0,\"2\":26.0,\"3\":35.0,\"4\":35.0,\"5\":null,\"6\":54.0,\"7\":2.0,\"8\":27.0,\"9\":14.0,\"10\":4.0,\"11\":58.0,\"12\":20.0,\"13\":39.0,\"14\":14.0,\"15\":55.0,\"16\":2.0,\"17\":null,\"18\":31.0,\"19\":null,\"20\":35.0,\"21\":34.0,\"22\":15.0,\"23\":28.0,\"24\":8.0,\"25\":38.0,\"26\":null,\"27\":19.0,\"28\":null,\"29\":null,\"30\":40.0,\"31\":null,\"32\":null,\"33\":66.0,\"34\":28.0,\"35\":42.0,\"36\":null,\"37\":21.0,\"38\":18.0,\"39\":14.0,\"40\":40.0,\"41\":27.0,\"42\":null,\"43\":3.0,\"44\":19.0,\"45\":null,\"46\":null,\"47\":null,\"48\":null,\"49\":18.0,\"50\":7.0,\"51\":21.0,\"52\":49.0,\"53\":29.0,\"54\":65.0,\"55\":null,\"56\":21.0,\"57\":28.5,\"58\":5.0,\"59\":11.0,\"60\":22.0,\"61\":38.0,\"62\":45.0,\"63\":4.0,\"64\":null,\"65\":null,\"66\":29.0,\"67\":19.0,\"68\":17.0,\"69\":26.0,\"70\":32.0,\"71\":16.0,\"72\":21.0,\"73\":26.0,\"74\":32.0,\"75\":25.0,\"76\":null,\"77\":null,\"78\":0.83,\"79\":30.0,\"80\":22.0,\"81\":29.0,\"82\":null,\"83\":28.0,\"84\":17.0,\"85\":33.0,\"86\":16.0,\"87\":null,\"88\":23.0,\"89\":24.0,\"90\":29.0,\"91\":20.0,\"92\":46.0,\"93\":26.0,\"94\":59.0,\"95\":null,\"96\":71.0,\"97\":23.0,\"98\":34.0,\"99\":34.0,\"100\":28.0,\"101\":null,\"102\":21.0,\"103\":33.0,\"104\":37.0,\"105\":28.0,\"106\":21.0,\"107\":null,\"108\":38.0,\"109\":null,\"110\":47.0,\"111\":14.5,\"112\":22.0,\"113\":20.0,\"114\":17.0,\"115\":21.0,\"116\":70.5,\"117\":29.0,\"118\":24.0,\"119\":2.0,\"120\":21.0,\"121\":null,\"122\":32.5,\"123\":32.5,\"124\":54.0,\"125\":12.0,\"126\":null,\"127\":24.0,\"128\":null,\"129\":45.0,\"130\":33.0,\"131\":20.0,\"132\":47.0,\"133\":29.0,\"134\":25.0,\"135\":23.0,\"136\":19.0,\"137\":37.0,\"138\":16.0,\"139\":24.0,\"140\":null,\"141\":22.0,\"142\":24.0,\"143\":19.0,\"144\":18.0,\"145\":19.0,\"146\":27.0,\"147\":9.0,\"148\":36.5,\"149\":42.0,\"150\":51.0,\"151\":22.0,\"152\":55.5,\"153\":40.5,\"154\":null,\"155\":51.0,\"156\":16.0,\"157\":30.0,\"158\":null,\"159\":null,\"160\":44.0,\"161\":40.0,\"162\":26.0,\"163\":17.0,\"164\":1.0,\"165\":9.0,\"166\":null,\"167\":45.0,\"168\":null,\"169\":28.0,\"170\":61.0,\"171\":4.0,\"172\":1.0,\"173\":21.0,\"174\":56.0,\"175\":18.0,\"176\":null,\"177\":50.0,\"178\":30.0,\"179\":36.0,\"180\":null,\"181\":null,\"182\":9.0,\"183\":1.0,\"184\":4.0,\"185\":null,\"186\":null,\"187\":45.0,\"188\":40.0,\"189\":36.0,\"190\":32.0,\"191\":19.0,\"192\":19.0,\"193\":3.0,\"194\":44.0,\"195\":58.0,\"196\":null,\"197\":42.0,\"198\":null,\"199\":24.0,\"200\":28.0,\"201\":null,\"202\":34.0,\"203\":45.5,\"204\":18.0,\"205\":2.0,\"206\":32.0,\"207\":26.0,\"208\":16.0,\"209\":40.0,\"210\":24.0,\"211\":35.0,\"212\":22.0,\"213\":30.0,\"214\":null,\"215\":31.0,\"216\":27.0,\"217\":42.0,\"218\":32.0,\"219\":30.0,\"220\":16.0,\"221\":27.0,\"222\":51.0,\"223\":null,\"224\":38.0,\"225\":22.0,\"226\":19.0,\"227\":20.5,\"228\":18.0,\"229\":null,\"230\":35.0,\"231\":29.0,\"232\":59.0,\"233\":5.0,\"234\":24.0,\"235\":null,\"236\":44.0,\"237\":8.0,\"238\":19.0,\"239\":33.0,\"240\":null,\"241\":null,\"242\":29.0,\"243\":22.0,\"244\":30.0,\"245\":44.0,\"246\":25.0,\"247\":24.0,\"248\":37.0,\"249\":54.0,\"250\":null,\"251\":29.0,\"252\":62.0,\"253\":30.0,\"254\":41.0,\"255\":29.0,\"256\":null,\"257\":30.0,\"258\":35.0,\"259\":50.0,\"260\":null,\"261\":3.0,\"262\":52.0,\"263\":40.0,\"264\":null,\"265\":36.0,\"266\":16.0,\"267\":25.0,\"268\":58.0,\"269\":35.0,\"270\":null,\"271\":25.0,\"272\":41.0,\"273\":37.0,\"274\":null,\"275\":63.0,\"276\":45.0,\"277\":null,\"278\":7.0,\"279\":35.0,\"280\":65.0,\"281\":28.0,\"282\":16.0,\"283\":19.0,\"284\":null,\"285\":33.0,\"286\":30.0,\"287\":22.0,\"288\":42.0,\"289\":22.0,\"290\":26.0,\"291\":19.0,\"292\":36.0,\"293\":24.0,\"294\":24.0,\"295\":null,\"296\":23.5,\"297\":2.0,\"298\":null,\"299\":50.0,\"300\":null,\"301\":null,\"302\":19.0,\"303\":null,\"304\":null,\"305\":0.92,\"306\":null,\"307\":17.0,\"308\":30.0,\"309\":30.0,\"310\":24.0,\"311\":18.0,\"312\":26.0,\"313\":28.0,\"314\":43.0,\"315\":26.0,\"316\":24.0,\"317\":54.0,\"318\":31.0,\"319\":40.0,\"320\":22.0,\"321\":27.0,\"322\":30.0,\"323\":22.0,\"324\":null,\"325\":36.0,\"326\":61.0,\"327\":36.0,\"328\":31.0,\"329\":16.0,\"330\":null,\"331\":45.5,\"332\":38.0,\"333\":16.0,\"334\":null,\"335\":null,\"336\":29.0,\"337\":41.0,\"338\":45.0,\"339\":45.0,\"340\":2.0,\"341\":24.0,\"342\":28.0,\"343\":25.0,\"344\":36.0,\"345\":24.0,\"346\":40.0,\"347\":null,\"348\":3.0,\"349\":42.0,\"350\":23.0,\"351\":null,\"352\":15.0,\"353\":25.0,\"354\":null,\"355\":28.0,\"356\":22.0,\"357\":38.0,\"358\":null,\"359\":null,\"360\":40.0,\"361\":29.0,\"362\":45.0,\"363\":35.0,\"364\":null,\"365\":30.0,\"366\":60.0,\"367\":null,\"368\":null,\"369\":24.0,\"370\":25.0,\"371\":18.0,\"372\":19.0,\"373\":22.0,\"374\":3.0,\"375\":null,\"376\":22.0,\"377\":27.0,\"378\":20.0,\"379\":19.0,\"380\":42.0,\"381\":1.0,\"382\":32.0,\"383\":35.0,\"384\":null,\"385\":18.0,\"386\":1.0,\"387\":36.0,\"388\":null,\"389\":17.0,\"390\":36.0,\"391\":21.0,\"392\":28.0,\"393\":23.0,\"394\":24.0,\"395\":22.0,\"396\":31.0,\"397\":46.0,\"398\":23.0,\"399\":28.0,\"400\":39.0,\"401\":26.0,\"402\":21.0,\"403\":28.0,\"404\":20.0,\"405\":34.0,\"406\":51.0,\"407\":3.0,\"408\":21.0,\"409\":null,\"410\":null,\"411\":null,\"412\":33.0,\"413\":null,\"414\":44.0,\"415\":null,\"416\":34.0,\"417\":18.0,\"418\":30.0,\"419\":10.0,\"420\":null,\"421\":21.0,\"422\":29.0,\"423\":28.0,\"424\":18.0,\"425\":null,\"426\":28.0,\"427\":19.0,\"428\":null,\"429\":32.0,\"430\":28.0,\"431\":null,\"432\":42.0,\"433\":17.0,\"434\":50.0,\"435\":14.0,\"436\":21.0,\"437\":24.0,\"438\":64.0,\"439\":31.0,\"440\":45.0,\"441\":20.0,\"442\":25.0,\"443\":28.0,\"444\":null,\"445\":4.0,\"446\":13.0,\"447\":34.0,\"448\":5.0,\"449\":52.0,\"450\":36.0,\"451\":null,\"452\":30.0,\"453\":49.0,\"454\":null,\"455\":29.0,\"456\":65.0,\"457\":null,\"458\":50.0,\"459\":null,\"460\":48.0,\"461\":34.0,\"462\":47.0,\"463\":48.0,\"464\":null,\"465\":38.0,\"466\":null,\"467\":56.0,\"468\":null,\"469\":0.75,\"470\":null,\"471\":38.0,\"472\":33.0,\"473\":23.0,\"474\":22.0,\"475\":null,\"476\":34.0,\"477\":29.0,\"478\":22.0,\"479\":2.0,\"480\":9.0,\"481\":null,\"482\":50.0,\"483\":63.0,\"484\":25.0,\"485\":null,\"486\":35.0,\"487\":58.0,\"488\":30.0,\"489\":9.0,\"490\":null,\"491\":21.0,\"492\":55.0,\"493\":71.0,\"494\":21.0,\"495\":null,\"496\":54.0,\"497\":null,\"498\":25.0,\"499\":24.0,\"500\":17.0,\"501\":21.0,\"502\":null,\"503\":37.0,\"504\":16.0,\"505\":18.0,\"506\":33.0,\"507\":null,\"508\":28.0,\"509\":26.0,\"510\":29.0,\"511\":null,\"512\":36.0,\"513\":54.0,\"514\":24.0,\"515\":47.0,\"516\":34.0,\"517\":null,\"518\":36.0,\"519\":32.0,\"520\":30.0,\"521\":22.0,\"522\":null,\"523\":44.0,\"524\":null,\"525\":40.5,\"526\":50.0,\"527\":null,\"528\":39.0,\"529\":23.0,\"530\":2.0,\"531\":null,\"532\":17.0,\"533\":null,\"534\":30.0,\"535\":7.0,\"536\":45.0,\"537\":30.0,\"538\":null,\"539\":22.0,\"540\":36.0,\"541\":9.0,\"542\":11.0,\"543\":32.0,\"544\":50.0,\"545\":64.0,\"546\":19.0,\"547\":null,\"548\":33.0,\"549\":8.0,\"550\":17.0,\"551\":27.0,\"552\":null,\"553\":22.0,\"554\":22.0,\"555\":62.0,\"556\":48.0,\"557\":null,\"558\":39.0,\"559\":36.0,\"560\":null,\"561\":40.0,\"562\":28.0,\"563\":null,\"564\":null,\"565\":24.0,\"566\":19.0,\"567\":29.0,\"568\":null,\"569\":32.0,\"570\":62.0,\"571\":53.0,\"572\":36.0,\"573\":null,\"574\":16.0,\"575\":19.0,\"576\":34.0,\"577\":39.0,\"578\":null,\"579\":32.0,\"580\":25.0,\"581\":39.0,\"582\":54.0,\"583\":36.0,\"584\":null,\"585\":18.0,\"586\":47.0,\"587\":60.0,\"588\":22.0,\"589\":null,\"590\":35.0,\"591\":52.0,\"592\":47.0,\"593\":null,\"594\":37.0,\"595\":36.0,\"596\":null,\"597\":49.0,\"598\":null,\"599\":49.0,\"600\":24.0,\"601\":null,\"602\":null,\"603\":44.0,\"604\":35.0,\"605\":36.0,\"606\":30.0,\"607\":27.0,\"608\":22.0,\"609\":40.0,\"610\":39.0,\"611\":null,\"612\":null,\"613\":null,\"614\":35.0,\"615\":24.0,\"616\":34.0,\"617\":26.0,\"618\":4.0,\"619\":26.0,\"620\":27.0,\"621\":42.0,\"622\":20.0,\"623\":21.0,\"624\":21.0,\"625\":61.0,\"626\":57.0,\"627\":21.0,\"628\":26.0,\"629\":null,\"630\":80.0,\"631\":51.0,\"632\":32.0,\"633\":null,\"634\":9.0,\"635\":28.0,\"636\":32.0,\"637\":31.0,\"638\":41.0,\"639\":null,\"640\":20.0,\"641\":24.0,\"642\":2.0,\"643\":null,\"644\":0.75,\"645\":48.0,\"646\":19.0,\"647\":56.0,\"648\":null,\"649\":23.0,\"650\":null,\"651\":18.0,\"652\":21.0,\"653\":null,\"654\":18.0,\"655\":24.0,\"656\":null,\"657\":32.0,\"658\":23.0,\"659\":58.0,\"660\":50.0,\"661\":40.0,\"662\":47.0,\"663\":36.0,\"664\":20.0,\"665\":32.0,\"666\":25.0,\"667\":null,\"668\":43.0,\"669\":null,\"670\":40.0,\"671\":31.0,\"672\":70.0,\"673\":31.0,\"674\":null,\"675\":18.0,\"676\":24.5,\"677\":18.0,\"678\":43.0,\"679\":36.0,\"680\":null,\"681\":27.0,\"682\":20.0,\"683\":14.0,\"684\":60.0,\"685\":25.0,\"686\":14.0,\"687\":19.0,\"688\":18.0,\"689\":15.0,\"690\":31.0,\"691\":4.0,\"692\":null,\"693\":25.0,\"694\":60.0,\"695\":52.0,\"696\":44.0,\"697\":null,\"698\":49.0,\"699\":42.0,\"700\":18.0,\"701\":35.0,\"702\":18.0,\"703\":25.0,\"704\":26.0,\"705\":39.0,\"706\":45.0,\"707\":42.0,\"708\":22.0,\"709\":null,\"710\":24.0,\"711\":null,\"712\":48.0,\"713\":29.0,\"714\":52.0,\"715\":19.0,\"716\":38.0,\"717\":27.0,\"718\":null,\"719\":33.0,\"720\":6.0,\"721\":17.0,\"722\":34.0,\"723\":50.0,\"724\":27.0,\"725\":20.0,\"726\":30.0,\"727\":null,\"728\":25.0,\"729\":25.0,\"730\":29.0,\"731\":11.0,\"732\":null,\"733\":23.0,\"734\":23.0,\"735\":28.5,\"736\":48.0,\"737\":35.0,\"738\":null,\"739\":null,\"740\":null,\"741\":36.0,\"742\":21.0,\"743\":24.0,\"744\":31.0,\"745\":70.0,\"746\":16.0,\"747\":30.0,\"748\":19.0,\"749\":31.0,\"750\":4.0,\"751\":6.0,\"752\":33.0,\"753\":23.0,\"754\":48.0,\"755\":0.67,\"756\":28.0,\"757\":18.0,\"758\":34.0,\"759\":33.0,\"760\":null,\"761\":41.0,\"762\":20.0,\"763\":36.0,\"764\":16.0,\"765\":51.0,\"766\":null,\"767\":30.5,\"768\":null,\"769\":32.0,\"770\":24.0,\"771\":48.0,\"772\":57.0,\"773\":null,\"774\":54.0,\"775\":18.0,\"776\":null,\"777\":5.0,\"778\":null,\"779\":43.0,\"780\":13.0,\"781\":17.0,\"782\":29.0,\"783\":null,\"784\":25.0,\"785\":25.0,\"786\":18.0,\"787\":8.0,\"788\":1.0,\"789\":46.0,\"790\":null,\"791\":16.0,\"792\":null,\"793\":null,\"794\":25.0,\"795\":39.0,\"796\":49.0,\"797\":31.0,\"798\":30.0,\"799\":30.0,\"800\":34.0,\"801\":31.0,\"802\":11.0,\"803\":0.42,\"804\":27.0,\"805\":31.0,\"806\":39.0,\"807\":18.0,\"808\":39.0,\"809\":33.0,\"810\":26.0,\"811\":39.0,\"812\":35.0,\"813\":6.0,\"814\":30.5,\"815\":null,\"816\":23.0,\"817\":31.0,\"818\":43.0,\"819\":10.0,\"820\":52.0,\"821\":27.0,\"822\":38.0,\"823\":27.0,\"824\":2.0,\"825\":null,\"826\":null,\"827\":1.0,\"828\":null,\"829\":62.0,\"830\":15.0,\"831\":0.83,\"832\":null,\"833\":23.0,\"834\":18.0,\"835\":39.0,\"836\":21.0,\"837\":null,\"838\":32.0,\"839\":null,\"840\":20.0,\"841\":16.0,\"842\":30.0,\"843\":34.5,\"844\":17.0,\"845\":42.0,\"846\":null,\"847\":35.0,\"848\":28.0,\"849\":null,\"850\":4.0,\"851\":74.0,\"852\":9.0,\"853\":16.0,\"854\":44.0,\"855\":18.0,\"856\":45.0,\"857\":51.0,\"858\":24.0,\"859\":null,\"860\":41.0,\"861\":21.0,\"862\":48.0,\"863\":null,\"864\":24.0,\"865\":42.0,\"866\":27.0,\"867\":31.0,\"868\":null,\"869\":4.0,\"870\":26.0,\"871\":47.0,\"872\":33.0,\"873\":47.0,\"874\":28.0,\"875\":15.0,\"876\":20.0,\"877\":19.0,\"878\":null,\"879\":56.0,\"880\":25.0,\"881\":33.0,\"882\":22.0,\"883\":28.0,\"884\":25.0,\"885\":39.0,\"886\":27.0,\"887\":19.0,\"888\":null,\"889\":26.0,\"890\":32.0},\"SibSp\":{\"0\":1,\"1\":1,\"2\":0,\"3\":1,\"4\":0,\"5\":0,\"6\":0,\"7\":3,\"8\":0,\"9\":1,\"10\":1,\"11\":0,\"12\":0,\"13\":1,\"14\":0,\"15\":0,\"16\":4,\"17\":0,\"18\":1,\"19\":0,\"20\":0,\"21\":0,\"22\":0,\"23\":0,\"24\":3,\"25\":1,\"26\":0,\"27\":3,\"28\":0,\"29\":0,\"30\":0,\"31\":1,\"32\":0,\"33\":0,\"34\":1,\"35\":1,\"36\":0,\"37\":0,\"38\":2,\"39\":1,\"40\":1,\"41\":1,\"42\":0,\"43\":1,\"44\":0,\"45\":0,\"46\":1,\"47\":0,\"48\":2,\"49\":1,\"50\":4,\"51\":0,\"52\":1,\"53\":1,\"54\":0,\"55\":0,\"56\":0,\"57\":0,\"58\":1,\"59\":5,\"60\":0,\"61\":0,\"62\":1,\"63\":3,\"64\":0,\"65\":1,\"66\":0,\"67\":0,\"68\":4,\"69\":2,\"70\":0,\"71\":5,\"72\":0,\"73\":1,\"74\":0,\"75\":0,\"76\":0,\"77\":0,\"78\":0,\"79\":0,\"80\":0,\"81\":0,\"82\":0,\"83\":0,\"84\":0,\"85\":3,\"86\":1,\"87\":0,\"88\":3,\"89\":0,\"90\":0,\"91\":0,\"92\":1,\"93\":1,\"94\":0,\"95\":0,\"96\":0,\"97\":0,\"98\":0,\"99\":1,\"100\":0,\"101\":0,\"102\":0,\"103\":0,\"104\":2,\"105\":0,\"106\":0,\"107\":0,\"108\":0,\"109\":1,\"110\":0,\"111\":1,\"112\":0,\"113\":1,\"114\":0,\"115\":0,\"116\":0,\"117\":1,\"118\":0,\"119\":4,\"120\":2,\"121\":0,\"122\":1,\"123\":0,\"124\":0,\"125\":1,\"126\":0,\"127\":0,\"128\":1,\"129\":0,\"130\":0,\"131\":0,\"132\":1,\"133\":1,\"134\":0,\"135\":0,\"136\":0,\"137\":1,\"138\":0,\"139\":0,\"140\":0,\"141\":0,\"142\":1,\"143\":0,\"144\":0,\"145\":1,\"146\":0,\"147\":2,\"148\":0,\"149\":0,\"150\":0,\"151\":1,\"152\":0,\"153\":0,\"154\":0,\"155\":0,\"156\":0,\"157\":0,\"158\":0,\"159\":8,\"160\":0,\"161\":0,\"162\":0,\"163\":0,\"164\":4,\"165\":0,\"166\":0,\"167\":1,\"168\":0,\"169\":0,\"170\":0,\"171\":4,\"172\":1,\"173\":0,\"174\":0,\"175\":1,\"176\":3,\"177\":0,\"178\":0,\"179\":0,\"180\":8,\"181\":0,\"182\":4,\"183\":2,\"184\":0,\"185\":0,\"186\":1,\"187\":0,\"188\":1,\"189\":0,\"190\":0,\"191\":0,\"192\":1,\"193\":1,\"194\":0,\"195\":0,\"196\":0,\"197\":0,\"198\":0,\"199\":0,\"200\":0,\"201\":8,\"202\":0,\"203\":0,\"204\":0,\"205\":0,\"206\":1,\"207\":0,\"208\":0,\"209\":0,\"210\":0,\"211\":0,\"212\":0,\"213\":0,\"214\":1,\"215\":1,\"216\":0,\"217\":1,\"218\":0,\"219\":0,\"220\":0,\"221\":0,\"222\":0,\"223\":0,\"224\":1,\"225\":0,\"226\":0,\"227\":0,\"228\":0,\"229\":3,\"230\":1,\"231\":0,\"232\":0,\"233\":4,\"234\":0,\"235\":0,\"236\":1,\"237\":0,\"238\":0,\"239\":0,\"240\":1,\"241\":1,\"242\":0,\"243\":0,\"244\":0,\"245\":2,\"246\":0,\"247\":0,\"248\":1,\"249\":1,\"250\":0,\"251\":1,\"252\":0,\"253\":1,\"254\":0,\"255\":0,\"256\":0,\"257\":0,\"258\":0,\"259\":0,\"260\":0,\"261\":4,\"262\":1,\"263\":0,\"264\":0,\"265\":0,\"266\":4,\"267\":1,\"268\":0,\"269\":0,\"270\":0,\"271\":0,\"272\":0,\"273\":0,\"274\":0,\"275\":1,\"276\":0,\"277\":0,\"278\":4,\"279\":1,\"280\":0,\"281\":0,\"282\":0,\"283\":0,\"284\":0,\"285\":0,\"286\":0,\"287\":0,\"288\":0,\"289\":0,\"290\":0,\"291\":1,\"292\":0,\"293\":0,\"294\":0,\"295\":0,\"296\":0,\"297\":1,\"298\":0,\"299\":0,\"300\":0,\"301\":2,\"302\":0,\"303\":0,\"304\":0,\"305\":1,\"306\":0,\"307\":1,\"308\":1,\"309\":0,\"310\":0,\"311\":2,\"312\":1,\"313\":0,\"314\":1,\"315\":0,\"316\":1,\"317\":0,\"318\":0,\"319\":1,\"320\":0,\"321\":0,\"322\":0,\"323\":1,\"324\":8,\"325\":0,\"326\":0,\"327\":0,\"328\":1,\"329\":0,\"330\":2,\"331\":0,\"332\":0,\"333\":2,\"334\":1,\"335\":0,\"336\":1,\"337\":0,\"338\":0,\"339\":0,\"340\":1,\"341\":3,\"342\":0,\"343\":0,\"344\":0,\"345\":0,\"346\":0,\"347\":1,\"348\":1,\"349\":0,\"350\":0,\"351\":0,\"352\":1,\"353\":1,\"354\":0,\"355\":0,\"356\":0,\"357\":0,\"358\":0,\"359\":0,\"360\":1,\"361\":1,\"362\":0,\"363\":0,\"364\":1,\"365\":0,\"366\":1,\"367\":0,\"368\":0,\"369\":0,\"370\":1,\"371\":1,\"372\":0,\"373\":0,\"374\":3,\"375\":1,\"376\":0,\"377\":0,\"378\":0,\"379\":0,\"380\":0,\"381\":0,\"382\":0,\"383\":1,\"384\":0,\"385\":0,\"386\":5,\"387\":0,\"388\":0,\"389\":0,\"390\":1,\"391\":0,\"392\":2,\"393\":1,\"394\":0,\"395\":0,\"396\":0,\"397\":0,\"398\":0,\"399\":0,\"400\":0,\"401\":0,\"402\":1,\"403\":1,\"404\":0,\"405\":1,\"406\":0,\"407\":1,\"408\":0,\"409\":3,\"410\":0,\"411\":0,\"412\":1,\"413\":0,\"414\":0,\"415\":0,\"416\":1,\"417\":0,\"418\":0,\"419\":0,\"420\":0,\"421\":0,\"422\":0,\"423\":1,\"424\":1,\"425\":0,\"426\":1,\"427\":0,\"428\":0,\"429\":0,\"430\":0,\"431\":1,\"432\":1,\"433\":0,\"434\":1,\"435\":1,\"436\":2,\"437\":2,\"438\":1,\"439\":0,\"440\":1,\"441\":0,\"442\":1,\"443\":0,\"444\":0,\"445\":0,\"446\":0,\"447\":0,\"448\":2,\"449\":0,\"450\":1,\"451\":1,\"452\":0,\"453\":1,\"454\":0,\"455\":0,\"456\":0,\"457\":1,\"458\":0,\"459\":0,\"460\":0,\"461\":0,\"462\":0,\"463\":0,\"464\":0,\"465\":0,\"466\":0,\"467\":0,\"468\":0,\"469\":2,\"470\":0,\"471\":0,\"472\":1,\"473\":0,\"474\":0,\"475\":0,\"476\":1,\"477\":1,\"478\":0,\"479\":0,\"480\":5,\"481\":0,\"482\":0,\"483\":0,\"484\":1,\"485\":3,\"486\":1,\"487\":0,\"488\":0,\"489\":1,\"490\":1,\"491\":0,\"492\":0,\"493\":0,\"494\":0,\"495\":0,\"496\":1,\"497\":0,\"498\":1,\"499\":0,\"500\":0,\"501\":0,\"502\":0,\"503\":0,\"504\":0,\"505\":1,\"506\":0,\"507\":0,\"508\":0,\"509\":0,\"510\":0,\"511\":0,\"512\":0,\"513\":1,\"514\":0,\"515\":0,\"516\":0,\"517\":0,\"518\":1,\"519\":0,\"520\":0,\"521\":0,\"522\":0,\"523\":0,\"524\":0,\"525\":0,\"526\":0,\"527\":0,\"528\":0,\"529\":2,\"530\":1,\"531\":0,\"532\":1,\"533\":0,\"534\":0,\"535\":0,\"536\":0,\"537\":0,\"538\":0,\"539\":0,\"540\":0,\"541\":4,\"542\":4,\"543\":1,\"544\":1,\"545\":0,\"546\":1,\"547\":0,\"548\":1,\"549\":1,\"550\":0,\"551\":0,\"552\":0,\"553\":0,\"554\":0,\"555\":0,\"556\":1,\"557\":0,\"558\":1,\"559\":1,\"560\":0,\"561\":0,\"562\":0,\"563\":0,\"564\":0,\"565\":2,\"566\":0,\"567\":0,\"568\":0,\"569\":0,\"570\":0,\"571\":2,\"572\":0,\"573\":0,\"574\":0,\"575\":0,\"576\":0,\"577\":1,\"578\":1,\"579\":0,\"580\":1,\"581\":1,\"582\":0,\"583\":0,\"584\":0,\"585\":0,\"586\":0,\"587\":1,\"588\":0,\"589\":0,\"590\":0,\"591\":1,\"592\":0,\"593\":0,\"594\":1,\"595\":1,\"596\":0,\"597\":0,\"598\":0,\"599\":1,\"600\":2,\"601\":0,\"602\":0,\"603\":0,\"604\":0,\"605\":1,\"606\":0,\"607\":0,\"608\":1,\"609\":0,\"610\":1,\"611\":0,\"612\":1,\"613\":0,\"614\":0,\"615\":1,\"616\":1,\"617\":1,\"618\":2,\"619\":0,\"620\":1,\"621\":1,\"622\":1,\"623\":0,\"624\":0,\"625\":0,\"626\":0,\"627\":0,\"628\":0,\"629\":0,\"630\":0,\"631\":0,\"632\":0,\"633\":0,\"634\":3,\"635\":0,\"636\":0,\"637\":1,\"638\":0,\"639\":1,\"640\":0,\"641\":0,\"642\":3,\"643\":0,\"644\":2,\"645\":1,\"646\":0,\"647\":0,\"648\":0,\"649\":0,\"650\":0,\"651\":0,\"652\":0,\"653\":0,\"654\":0,\"655\":2,\"656\":0,\"657\":1,\"658\":0,\"659\":0,\"660\":2,\"661\":0,\"662\":0,\"663\":0,\"664\":1,\"665\":2,\"666\":0,\"667\":0,\"668\":0,\"669\":1,\"670\":1,\"671\":1,\"672\":0,\"673\":0,\"674\":0,\"675\":0,\"676\":0,\"677\":0,\"678\":1,\"679\":0,\"680\":0,\"681\":0,\"682\":0,\"683\":5,\"684\":1,\"685\":1,\"686\":4,\"687\":0,\"688\":0,\"689\":0,\"690\":1,\"691\":0,\"692\":0,\"693\":0,\"694\":0,\"695\":0,\"696\":0,\"697\":0,\"698\":1,\"699\":0,\"700\":1,\"701\":0,\"702\":0,\"703\":0,\"704\":1,\"705\":0,\"706\":0,\"707\":0,\"708\":0,\"709\":1,\"710\":0,\"711\":0,\"712\":1,\"713\":0,\"714\":0,\"715\":0,\"716\":0,\"717\":0,\"718\":0,\"719\":0,\"720\":0,\"721\":1,\"722\":0,\"723\":0,\"724\":1,\"725\":0,\"726\":3,\"727\":0,\"728\":1,\"729\":1,\"730\":0,\"731\":0,\"732\":0,\"733\":0,\"734\":0,\"735\":0,\"736\":1,\"737\":0,\"738\":0,\"739\":0,\"740\":0,\"741\":1,\"742\":2,\"743\":1,\"744\":0,\"745\":1,\"746\":1,\"747\":0,\"748\":1,\"749\":0,\"750\":1,\"751\":0,\"752\":0,\"753\":0,\"754\":1,\"755\":1,\"756\":0,\"757\":0,\"758\":0,\"759\":0,\"760\":0,\"761\":0,\"762\":0,\"763\":1,\"764\":0,\"765\":1,\"766\":0,\"767\":0,\"768\":1,\"769\":0,\"770\":0,\"771\":0,\"772\":0,\"773\":0,\"774\":1,\"775\":0,\"776\":0,\"777\":0,\"778\":0,\"779\":0,\"780\":0,\"781\":1,\"782\":0,\"783\":1,\"784\":0,\"785\":0,\"786\":0,\"787\":4,\"788\":1,\"789\":0,\"790\":0,\"791\":0,\"792\":8,\"793\":0,\"794\":0,\"795\":0,\"796\":0,\"797\":0,\"798\":0,\"799\":1,\"800\":0,\"801\":1,\"802\":1,\"803\":0,\"804\":0,\"805\":0,\"806\":0,\"807\":0,\"808\":0,\"809\":1,\"810\":0,\"811\":0,\"812\":0,\"813\":4,\"814\":0,\"815\":0,\"816\":0,\"817\":1,\"818\":0,\"819\":3,\"820\":1,\"821\":0,\"822\":0,\"823\":0,\"824\":4,\"825\":0,\"826\":0,\"827\":0,\"828\":0,\"829\":0,\"830\":1,\"831\":1,\"832\":0,\"833\":0,\"834\":0,\"835\":1,\"836\":0,\"837\":0,\"838\":0,\"839\":0,\"840\":0,\"841\":0,\"842\":0,\"843\":0,\"844\":0,\"845\":0,\"846\":8,\"847\":0,\"848\":0,\"849\":1,\"850\":4,\"851\":0,\"852\":1,\"853\":0,\"854\":1,\"855\":0,\"856\":1,\"857\":0,\"858\":0,\"859\":0,\"860\":2,\"861\":1,\"862\":0,\"863\":8,\"864\":0,\"865\":0,\"866\":1,\"867\":0,\"868\":0,\"869\":1,\"870\":0,\"871\":1,\"872\":0,\"873\":0,\"874\":1,\"875\":0,\"876\":0,\"877\":0,\"878\":0,\"879\":0,\"880\":0,\"881\":0,\"882\":0,\"883\":0,\"884\":0,\"885\":0,\"886\":0,\"887\":0,\"888\":1,\"889\":0,\"890\":0},\"Parch\":{\"0\":0,\"1\":0,\"2\":0,\"3\":0,\"4\":0,\"5\":0,\"6\":0,\"7\":1,\"8\":2,\"9\":0,\"10\":1,\"11\":0,\"12\":0,\"13\":5,\"14\":0,\"15\":0,\"16\":1,\"17\":0,\"18\":0,\"19\":0,\"20\":0,\"21\":0,\"22\":0,\"23\":0,\"24\":1,\"25\":5,\"26\":0,\"27\":2,\"28\":0,\"29\":0,\"30\":0,\"31\":0,\"32\":0,\"33\":0,\"34\":0,\"35\":0,\"36\":0,\"37\":0,\"38\":0,\"39\":0,\"40\":0,\"41\":0,\"42\":0,\"43\":2,\"44\":0,\"45\":0,\"46\":0,\"47\":0,\"48\":0,\"49\":0,\"50\":1,\"51\":0,\"52\":0,\"53\":0,\"54\":1,\"55\":0,\"56\":0,\"57\":0,\"58\":2,\"59\":2,\"60\":0,\"61\":0,\"62\":0,\"63\":2,\"64\":0,\"65\":1,\"66\":0,\"67\":0,\"68\":2,\"69\":0,\"70\":0,\"71\":2,\"72\":0,\"73\":0,\"74\":0,\"75\":0,\"76\":0,\"77\":0,\"78\":2,\"79\":0,\"80\":0,\"81\":0,\"82\":0,\"83\":0,\"84\":0,\"85\":0,\"86\":3,\"87\":0,\"88\":2,\"89\":0,\"90\":0,\"91\":0,\"92\":0,\"93\":2,\"94\":0,\"95\":0,\"96\":0,\"97\":1,\"98\":1,\"99\":0,\"100\":0,\"101\":0,\"102\":1,\"103\":0,\"104\":0,\"105\":0,\"106\":0,\"107\":0,\"108\":0,\"109\":0,\"110\":0,\"111\":0,\"112\":0,\"113\":0,\"114\":0,\"115\":0,\"116\":0,\"117\":0,\"118\":1,\"119\":2,\"120\":0,\"121\":0,\"122\":0,\"123\":0,\"124\":1,\"125\":0,\"126\":0,\"127\":0,\"128\":1,\"129\":0,\"130\":0,\"131\":0,\"132\":0,\"133\":0,\"134\":0,\"135\":0,\"136\":2,\"137\":0,\"138\":0,\"139\":0,\"140\":2,\"141\":0,\"142\":0,\"143\":0,\"144\":0,\"145\":1,\"146\":0,\"147\":2,\"148\":2,\"149\":0,\"150\":0,\"151\":0,\"152\":0,\"153\":2,\"154\":0,\"155\":1,\"156\":0,\"157\":0,\"158\":0,\"159\":2,\"160\":1,\"161\":0,\"162\":0,\"163\":0,\"164\":1,\"165\":2,\"166\":1,\"167\":4,\"168\":0,\"169\":0,\"170\":0,\"171\":1,\"172\":1,\"173\":0,\"174\":0,\"175\":1,\"176\":1,\"177\":0,\"178\":0,\"179\":0,\"180\":2,\"181\":0,\"182\":2,\"183\":1,\"184\":2,\"185\":0,\"186\":0,\"187\":0,\"188\":1,\"189\":0,\"190\":0,\"191\":0,\"192\":0,\"193\":1,\"194\":0,\"195\":0,\"196\":0,\"197\":1,\"198\":0,\"199\":0,\"200\":0,\"201\":2,\"202\":0,\"203\":0,\"204\":0,\"205\":1,\"206\":0,\"207\":0,\"208\":0,\"209\":0,\"210\":0,\"211\":0,\"212\":0,\"213\":0,\"214\":0,\"215\":0,\"216\":0,\"217\":0,\"218\":0,\"219\":0,\"220\":0,\"221\":0,\"222\":0,\"223\":0,\"224\":0,\"225\":0,\"226\":0,\"227\":0,\"228\":0,\"229\":1,\"230\":0,\"231\":0,\"232\":0,\"233\":2,\"234\":0,\"235\":0,\"236\":0,\"237\":2,\"238\":0,\"239\":0,\"240\":0,\"241\":0,\"242\":0,\"243\":0,\"244\":0,\"245\":0,\"246\":0,\"247\":2,\"248\":1,\"249\":0,\"250\":0,\"251\":1,\"252\":0,\"253\":0,\"254\":2,\"255\":2,\"256\":0,\"257\":0,\"258\":0,\"259\":1,\"260\":0,\"261\":2,\"262\":1,\"263\":0,\"264\":0,\"265\":0,\"266\":1,\"267\":0,\"268\":1,\"269\":0,\"270\":0,\"271\":0,\"272\":1,\"273\":1,\"274\":0,\"275\":0,\"276\":0,\"277\":0,\"278\":1,\"279\":1,\"280\":0,\"281\":0,\"282\":0,\"283\":0,\"284\":0,\"285\":0,\"286\":0,\"287\":0,\"288\":0,\"289\":0,\"290\":0,\"291\":0,\"292\":0,\"293\":0,\"294\":0,\"295\":0,\"296\":0,\"297\":2,\"298\":0,\"299\":1,\"300\":0,\"301\":0,\"302\":0,\"303\":0,\"304\":0,\"305\":2,\"306\":0,\"307\":0,\"308\":0,\"309\":0,\"310\":0,\"311\":2,\"312\":1,\"313\":0,\"314\":1,\"315\":0,\"316\":0,\"317\":0,\"318\":2,\"319\":1,\"320\":0,\"321\":0,\"322\":0,\"323\":1,\"324\":2,\"325\":0,\"326\":0,\"327\":0,\"328\":1,\"329\":1,\"330\":0,\"331\":0,\"332\":1,\"333\":0,\"334\":0,\"335\":0,\"336\":0,\"337\":0,\"338\":0,\"339\":0,\"340\":1,\"341\":2,\"342\":0,\"343\":0,\"344\":0,\"345\":0,\"346\":0,\"347\":0,\"348\":1,\"349\":0,\"350\":0,\"351\":0,\"352\":1,\"353\":0,\"354\":0,\"355\":0,\"356\":1,\"357\":0,\"358\":0,\"359\":0,\"360\":4,\"361\":0,\"362\":1,\"363\":0,\"364\":0,\"365\":0,\"366\":0,\"367\":0,\"368\":0,\"369\":0,\"370\":0,\"371\":0,\"372\":0,\"373\":0,\"374\":1,\"375\":0,\"376\":0,\"377\":2,\"378\":0,\"379\":0,\"380\":0,\"381\":2,\"382\":0,\"383\":0,\"384\":0,\"385\":0,\"386\":2,\"387\":0,\"388\":0,\"389\":0,\"390\":2,\"391\":0,\"392\":0,\"393\":0,\"394\":2,\"395\":0,\"396\":0,\"397\":0,\"398\":0,\"399\":0,\"400\":0,\"401\":0,\"402\":0,\"403\":0,\"404\":0,\"405\":0,\"406\":0,\"407\":1,\"408\":0,\"409\":1,\"410\":0,\"411\":0,\"412\":0,\"413\":0,\"414\":0,\"415\":0,\"416\":1,\"417\":2,\"418\":0,\"419\":2,\"420\":0,\"421\":0,\"422\":0,\"423\":1,\"424\":1,\"425\":0,\"426\":0,\"427\":0,\"428\":0,\"429\":0,\"430\":0,\"431\":0,\"432\":0,\"433\":0,\"434\":0,\"435\":2,\"436\":2,\"437\":3,\"438\":4,\"439\":0,\"440\":1,\"441\":0,\"442\":0,\"443\":0,\"444\":0,\"445\":2,\"446\":1,\"447\":0,\"448\":1,\"449\":0,\"450\":2,\"451\":0,\"452\":0,\"453\":0,\"454\":0,\"455\":0,\"456\":0,\"457\":0,\"458\":0,\"459\":0,\"460\":0,\"461\":0,\"462\":0,\"463\":0,\"464\":0,\"465\":0,\"466\":0,\"467\":0,\"468\":0,\"469\":1,\"470\":0,\"471\":0,\"472\":2,\"473\":0,\"474\":0,\"475\":0,\"476\":0,\"477\":0,\"478\":0,\"479\":1,\"480\":2,\"481\":0,\"482\":0,\"483\":0,\"484\":0,\"485\":1,\"486\":0,\"487\":0,\"488\":0,\"489\":1,\"490\":0,\"491\":0,\"492\":0,\"493\":0,\"494\":0,\"495\":0,\"496\":0,\"497\":0,\"498\":2,\"499\":0,\"500\":0,\"501\":0,\"502\":0,\"503\":0,\"504\":0,\"505\":0,\"506\":2,\"507\":0,\"508\":0,\"509\":0,\"510\":0,\"511\":0,\"512\":0,\"513\":0,\"514\":0,\"515\":0,\"516\":0,\"517\":0,\"518\":0,\"519\":0,\"520\":0,\"521\":0,\"522\":0,\"523\":1,\"524\":0,\"525\":0,\"526\":0,\"527\":0,\"528\":0,\"529\":1,\"530\":1,\"531\":0,\"532\":1,\"533\":2,\"534\":0,\"535\":2,\"536\":0,\"537\":0,\"538\":0,\"539\":2,\"540\":2,\"541\":2,\"542\":2,\"543\":0,\"544\":0,\"545\":0,\"546\":0,\"547\":0,\"548\":1,\"549\":1,\"550\":2,\"551\":0,\"552\":0,\"553\":0,\"554\":0,\"555\":0,\"556\":0,\"557\":0,\"558\":1,\"559\":0,\"560\":0,\"561\":0,\"562\":0,\"563\":0,\"564\":0,\"565\":0,\"566\":0,\"567\":4,\"568\":0,\"569\":0,\"570\":0,\"571\":0,\"572\":0,\"573\":0,\"574\":0,\"575\":0,\"576\":0,\"577\":0,\"578\":0,\"579\":0,\"580\":1,\"581\":1,\"582\":0,\"583\":0,\"584\":0,\"585\":2,\"586\":0,\"587\":1,\"588\":0,\"589\":0,\"590\":0,\"591\":0,\"592\":0,\"593\":2,\"594\":0,\"595\":1,\"596\":0,\"597\":0,\"598\":0,\"599\":0,\"600\":1,\"601\":0,\"602\":0,\"603\":0,\"604\":0,\"605\":0,\"606\":0,\"607\":0,\"608\":2,\"609\":0,\"610\":5,\"611\":0,\"612\":0,\"613\":0,\"614\":0,\"615\":2,\"616\":1,\"617\":0,\"618\":1,\"619\":0,\"620\":0,\"621\":0,\"622\":1,\"623\":0,\"624\":0,\"625\":0,\"626\":0,\"627\":0,\"628\":0,\"629\":0,\"630\":0,\"631\":0,\"632\":0,\"633\":0,\"634\":2,\"635\":0,\"636\":0,\"637\":1,\"638\":5,\"639\":0,\"640\":0,\"641\":0,\"642\":2,\"643\":0,\"644\":1,\"645\":0,\"646\":0,\"647\":0,\"648\":0,\"649\":0,\"650\":0,\"651\":1,\"652\":0,\"653\":0,\"654\":0,\"655\":0,\"656\":0,\"657\":1,\"658\":0,\"659\":2,\"660\":0,\"661\":0,\"662\":0,\"663\":0,\"664\":0,\"665\":0,\"666\":0,\"667\":0,\"668\":0,\"669\":0,\"670\":1,\"671\":0,\"672\":0,\"673\":0,\"674\":0,\"675\":0,\"676\":0,\"677\":0,\"678\":6,\"679\":1,\"680\":0,\"681\":0,\"682\":0,\"683\":2,\"684\":1,\"685\":2,\"686\":1,\"687\":0,\"688\":0,\"689\":1,\"690\":0,\"691\":1,\"692\":0,\"693\":0,\"694\":0,\"695\":0,\"696\":0,\"697\":0,\"698\":1,\"699\":0,\"700\":0,\"701\":0,\"702\":1,\"703\":0,\"704\":0,\"705\":0,\"706\":0,\"707\":0,\"708\":0,\"709\":1,\"710\":0,\"711\":0,\"712\":0,\"713\":0,\"714\":0,\"715\":0,\"716\":0,\"717\":0,\"718\":0,\"719\":0,\"720\":1,\"721\":0,\"722\":0,\"723\":0,\"724\":0,\"725\":0,\"726\":0,\"727\":0,\"728\":0,\"729\":0,\"730\":0,\"731\":0,\"732\":0,\"733\":0,\"734\":0,\"735\":0,\"736\":3,\"737\":0,\"738\":0,\"739\":0,\"740\":0,\"741\":0,\"742\":2,\"743\":0,\"744\":0,\"745\":1,\"746\":1,\"747\":0,\"748\":0,\"749\":0,\"750\":1,\"751\":1,\"752\":0,\"753\":0,\"754\":2,\"755\":1,\"756\":0,\"757\":0,\"758\":0,\"759\":0,\"760\":0,\"761\":0,\"762\":0,\"763\":2,\"764\":0,\"765\":0,\"766\":0,\"767\":0,\"768\":0,\"769\":0,\"770\":0,\"771\":0,\"772\":0,\"773\":0,\"774\":3,\"775\":0,\"776\":0,\"777\":0,\"778\":0,\"779\":1,\"780\":0,\"781\":0,\"782\":0,\"783\":2,\"784\":0,\"785\":0,\"786\":0,\"787\":1,\"788\":2,\"789\":0,\"790\":0,\"791\":0,\"792\":2,\"793\":0,\"794\":0,\"795\":0,\"796\":0,\"797\":0,\"798\":0,\"799\":1,\"800\":0,\"801\":1,\"802\":2,\"803\":1,\"804\":0,\"805\":0,\"806\":0,\"807\":0,\"808\":0,\"809\":0,\"810\":0,\"811\":0,\"812\":0,\"813\":2,\"814\":0,\"815\":0,\"816\":0,\"817\":1,\"818\":0,\"819\":2,\"820\":1,\"821\":0,\"822\":0,\"823\":1,\"824\":1,\"825\":0,\"826\":0,\"827\":2,\"828\":0,\"829\":0,\"830\":0,\"831\":1,\"832\":0,\"833\":0,\"834\":0,\"835\":1,\"836\":0,\"837\":0,\"838\":0,\"839\":0,\"840\":0,\"841\":0,\"842\":0,\"843\":0,\"844\":0,\"845\":0,\"846\":2,\"847\":0,\"848\":1,\"849\":0,\"850\":2,\"851\":0,\"852\":1,\"853\":1,\"854\":0,\"855\":1,\"856\":1,\"857\":0,\"858\":3,\"859\":0,\"860\":0,\"861\":0,\"862\":0,\"863\":2,\"864\":0,\"865\":0,\"866\":0,\"867\":0,\"868\":0,\"869\":1,\"870\":0,\"871\":1,\"872\":0,\"873\":0,\"874\":0,\"875\":0,\"876\":0,\"877\":0,\"878\":0,\"879\":1,\"880\":1,\"881\":0,\"882\":0,\"883\":0,\"884\":0,\"885\":5,\"886\":0,\"887\":0,\"888\":2,\"889\":0,\"890\":0},\"Ticket\":{\"0\":\"A\\\\/5 21171\",\"1\":\"PC 17599\",\"2\":\"STON\\\\/O2. 3101282\",\"3\":\"113803\",\"4\":\"373450\",\"5\":\"330877\",\"6\":\"17463\",\"7\":\"349909\",\"8\":\"347742\",\"9\":\"237736\",\"10\":\"PP 9549\",\"11\":\"113783\",\"12\":\"A\\\\/5. 2151\",\"13\":\"347082\",\"14\":\"350406\",\"15\":\"248706\",\"16\":\"382652\",\"17\":\"244373\",\"18\":\"345763\",\"19\":\"2649\",\"20\":\"239865\",\"21\":\"248698\",\"22\":\"330923\",\"23\":\"113788\",\"24\":\"349909\",\"25\":\"347077\",\"26\":\"2631\",\"27\":\"19950\",\"28\":\"330959\",\"29\":\"349216\",\"30\":\"PC 17601\",\"31\":\"PC 17569\",\"32\":\"335677\",\"33\":\"C.A. 24579\",\"34\":\"PC 17604\",\"35\":\"113789\",\"36\":\"2677\",\"37\":\"A.\\\\/5. 2152\",\"38\":\"345764\",\"39\":\"2651\",\"40\":\"7546\",\"41\":\"11668\",\"42\":\"349253\",\"43\":\"SC\\\\/Paris 2123\",\"44\":\"330958\",\"45\":\"S.C.\\\\/A.4. 23567\",\"46\":\"370371\",\"47\":\"14311\",\"48\":\"2662\",\"49\":\"349237\",\"50\":\"3101295\",\"51\":\"A\\\\/4. 39886\",\"52\":\"PC 17572\",\"53\":\"2926\",\"54\":\"113509\",\"55\":\"19947\",\"56\":\"C.A. 31026\",\"57\":\"2697\",\"58\":\"C.A. 34651\",\"59\":\"CA 2144\",\"60\":\"2669\",\"61\":\"113572\",\"62\":\"36973\",\"63\":\"347088\",\"64\":\"PC 17605\",\"65\":\"2661\",\"66\":\"C.A. 29395\",\"67\":\"S.P. 3464\",\"68\":\"3101281\",\"69\":\"315151\",\"70\":\"C.A. 33111\",\"71\":\"CA 2144\",\"72\":\"S.O.C. 14879\",\"73\":\"2680\",\"74\":\"1601\",\"75\":\"348123\",\"76\":\"349208\",\"77\":\"374746\",\"78\":\"248738\",\"79\":\"364516\",\"80\":\"345767\",\"81\":\"345779\",\"82\":\"330932\",\"83\":\"113059\",\"84\":\"SO\\\\/C 14885\",\"85\":\"3101278\",\"86\":\"W.\\\\/C. 6608\",\"87\":\"SOTON\\\\/OQ 392086\",\"88\":\"19950\",\"89\":\"343275\",\"90\":\"343276\",\"91\":\"347466\",\"92\":\"W.E.P. 5734\",\"93\":\"C.A. 2315\",\"94\":\"364500\",\"95\":\"374910\",\"96\":\"PC 17754\",\"97\":\"PC 17759\",\"98\":\"231919\",\"99\":\"244367\",\"100\":\"349245\",\"101\":\"349215\",\"102\":\"35281\",\"103\":\"7540\",\"104\":\"3101276\",\"105\":\"349207\",\"106\":\"343120\",\"107\":\"312991\",\"108\":\"349249\",\"109\":\"371110\",\"110\":\"110465\",\"111\":\"2665\",\"112\":\"324669\",\"113\":\"4136\",\"114\":\"2627\",\"115\":\"STON\\\\/O 2. 3101294\",\"116\":\"370369\",\"117\":\"11668\",\"118\":\"PC 17558\",\"119\":\"347082\",\"120\":\"S.O.C. 14879\",\"121\":\"A4. 54510\",\"122\":\"237736\",\"123\":\"27267\",\"124\":\"35281\",\"125\":\"2651\",\"126\":\"370372\",\"127\":\"C 17369\",\"128\":\"2668\",\"129\":\"347061\",\"130\":\"349241\",\"131\":\"SOTON\\\\/O.Q. 3101307\",\"132\":\"A\\\\/5. 3337\",\"133\":\"228414\",\"134\":\"C.A. 29178\",\"135\":\"SC\\\\/PARIS 2133\",\"136\":\"11752\",\"137\":\"113803\",\"138\":\"7534\",\"139\":\"PC 17593\",\"140\":\"2678\",\"141\":\"347081\",\"142\":\"STON\\\\/O2. 3101279\",\"143\":\"365222\",\"144\":\"231945\",\"145\":\"C.A. 33112\",\"146\":\"350043\",\"147\":\"W.\\\\/C. 6608\",\"148\":\"230080\",\"149\":\"244310\",\"150\":\"S.O.P. 1166\",\"151\":\"113776\",\"152\":\"A.5. 11206\",\"153\":\"A\\\\/5. 851\",\"154\":\"Fa 265302\",\"155\":\"PC 17597\",\"156\":\"35851\",\"157\":\"SOTON\\\\/OQ 392090\",\"158\":\"315037\",\"159\":\"CA. 2343\",\"160\":\"371362\",\"161\":\"C.A. 33595\",\"162\":\"347068\",\"163\":\"315093\",\"164\":\"3101295\",\"165\":\"363291\",\"166\":\"113505\",\"167\":\"347088\",\"168\":\"PC 17318\",\"169\":\"1601\",\"170\":\"111240\",\"171\":\"382652\",\"172\":\"347742\",\"173\":\"STON\\\\/O 2. 3101280\",\"174\":\"17764\",\"175\":\"350404\",\"176\":\"4133\",\"177\":\"PC 17595\",\"178\":\"250653\",\"179\":\"LINE\",\"180\":\"CA. 2343\",\"181\":\"SC\\\\/PARIS 2131\",\"182\":\"347077\",\"183\":\"230136\",\"184\":\"315153\",\"185\":\"113767\",\"186\":\"370365\",\"187\":\"111428\",\"188\":\"364849\",\"189\":\"349247\",\"190\":\"234604\",\"191\":\"28424\",\"192\":\"350046\",\"193\":\"230080\",\"194\":\"PC 17610\",\"195\":\"PC 17569\",\"196\":\"368703\",\"197\":\"4579\",\"198\":\"370370\",\"199\":\"248747\",\"200\":\"345770\",\"201\":\"CA. 2343\",\"202\":\"3101264\",\"203\":\"2628\",\"204\":\"A\\\\/5 3540\",\"205\":\"347054\",\"206\":\"3101278\",\"207\":\"2699\",\"208\":\"367231\",\"209\":\"112277\",\"210\":\"SOTON\\\\/O.Q. 3101311\",\"211\":\"F.C.C. 13528\",\"212\":\"A\\\\/5 21174\",\"213\":\"250646\",\"214\":\"367229\",\"215\":\"35273\",\"216\":\"STON\\\\/O2. 3101283\",\"217\":\"243847\",\"218\":\"11813\",\"219\":\"W\\\\/C 14208\",\"220\":\"SOTON\\\\/OQ 392089\",\"221\":\"220367\",\"222\":\"21440\",\"223\":\"349234\",\"224\":\"19943\",\"225\":\"PP 4348\",\"226\":\"SW\\\\/PP 751\",\"227\":\"A\\\\/5 21173\",\"228\":\"236171\",\"229\":\"4133\",\"230\":\"36973\",\"231\":\"347067\",\"232\":\"237442\",\"233\":\"347077\",\"234\":\"C.A. 29566\",\"235\":\"W.\\\\/C. 6609\",\"236\":\"26707\",\"237\":\"C.A. 31921\",\"238\":\"28665\",\"239\":\"SCO\\\\/W 1585\",\"240\":\"2665\",\"241\":\"367230\",\"242\":\"W.\\\\/C. 14263\",\"243\":\"STON\\\\/O 2. 3101275\",\"244\":\"2694\",\"245\":\"19928\",\"246\":\"347071\",\"247\":\"250649\",\"248\":\"11751\",\"249\":\"244252\",\"250\":\"362316\",\"251\":\"347054\",\"252\":\"113514\",\"253\":\"A\\\\/5. 3336\",\"254\":\"370129\",\"255\":\"2650\",\"256\":\"PC 17585\",\"257\":\"110152\",\"258\":\"PC 17755\",\"259\":\"230433\",\"260\":\"384461\",\"261\":\"347077\",\"262\":\"110413\",\"263\":\"112059\",\"264\":\"382649\",\"265\":\"C.A. 17248\",\"266\":\"3101295\",\"267\":\"347083\",\"268\":\"PC 17582\",\"269\":\"PC 17760\",\"270\":\"113798\",\"271\":\"LINE\",\"272\":\"250644\",\"273\":\"PC 17596\",\"274\":\"370375\",\"275\":\"13502\",\"276\":\"347073\",\"277\":\"239853\",\"278\":\"382652\",\"279\":\"C.A. 2673\",\"280\":\"336439\",\"281\":\"347464\",\"282\":\"345778\",\"283\":\"A\\\\/5. 10482\",\"284\":\"113056\",\"285\":\"349239\",\"286\":\"345774\",\"287\":\"349206\",\"288\":\"237798\",\"289\":\"370373\",\"290\":\"19877\",\"291\":\"11967\",\"292\":\"SC\\\\/Paris 2163\",\"293\":\"349236\",\"294\":\"349233\",\"295\":\"PC 17612\",\"296\":\"2693\",\"297\":\"113781\",\"298\":\"19988\",\"299\":\"PC 17558\",\"300\":\"9234\",\"301\":\"367226\",\"302\":\"LINE\",\"303\":\"226593\",\"304\":\"A\\\\/5 2466\",\"305\":\"113781\",\"306\":\"17421\",\"307\":\"PC 17758\",\"308\":\"P\\\\/PP 3381\",\"309\":\"PC 17485\",\"310\":\"11767\",\"311\":\"PC 17608\",\"312\":\"250651\",\"313\":\"349243\",\"314\":\"F.C.C. 13529\",\"315\":\"347470\",\"316\":\"244367\",\"317\":\"29011\",\"318\":\"36928\",\"319\":\"16966\",\"320\":\"A\\\\/5 21172\",\"321\":\"349219\",\"322\":\"234818\",\"323\":\"248738\",\"324\":\"CA. 2343\",\"325\":\"PC 17760\",\"326\":\"345364\",\"327\":\"28551\",\"328\":\"363291\",\"329\":\"111361\",\"330\":\"367226\",\"331\":\"113043\",\"332\":\"PC 17582\",\"333\":\"345764\",\"334\":\"PC 17611\",\"335\":\"349225\",\"336\":\"113776\",\"337\":\"16966\",\"338\":\"7598\",\"339\":\"113784\",\"340\":\"230080\",\"341\":\"19950\",\"342\":\"248740\",\"343\":\"244361\",\"344\":\"229236\",\"345\":\"248733\",\"346\":\"31418\",\"347\":\"386525\",\"348\":\"C.A. 37671\",\"349\":\"315088\",\"350\":\"7267\",\"351\":\"113510\",\"352\":\"2695\",\"353\":\"349237\",\"354\":\"2647\",\"355\":\"345783\",\"356\":\"113505\",\"357\":\"237671\",\"358\":\"330931\",\"359\":\"330980\",\"360\":\"347088\",\"361\":\"SC\\\\/PARIS 2167\",\"362\":\"2691\",\"363\":\"SOTON\\\\/O.Q. 3101310\",\"364\":\"370365\",\"365\":\"C 7076\",\"366\":\"110813\",\"367\":\"2626\",\"368\":\"14313\",\"369\":\"PC 17477\",\"370\":\"11765\",\"371\":\"3101267\",\"372\":\"323951\",\"373\":\"PC 17760\",\"374\":\"349909\",\"375\":\"PC 17604\",\"376\":\"C 7077\",\"377\":\"113503\",\"378\":\"2648\",\"379\":\"347069\",\"380\":\"PC 17757\",\"381\":\"2653\",\"382\":\"STON\\\\/O 2. 3101293\",\"383\":\"113789\",\"384\":\"349227\",\"385\":\"S.O.C. 14879\",\"386\":\"CA 2144\",\"387\":\"27849\",\"388\":\"367655\",\"389\":\"SC 1748\",\"390\":\"113760\",\"391\":\"350034\",\"392\":\"3101277\",\"393\":\"35273\",\"394\":\"PP 9549\",\"395\":\"350052\",\"396\":\"350407\",\"397\":\"28403\",\"398\":\"244278\",\"399\":\"240929\",\"400\":\"STON\\\\/O 2. 3101289\",\"401\":\"341826\",\"402\":\"4137\",\"403\":\"STON\\\\/O2. 3101279\",\"404\":\"315096\",\"405\":\"28664\",\"406\":\"347064\",\"407\":\"29106\",\"408\":\"312992\",\"409\":\"4133\",\"410\":\"349222\",\"411\":\"394140\",\"412\":\"19928\",\"413\":\"239853\",\"414\":\"STON\\\\/O 2. 3101269\",\"415\":\"343095\",\"416\":\"28220\",\"417\":\"250652\",\"418\":\"28228\",\"419\":\"345773\",\"420\":\"349254\",\"421\":\"A\\\\/5. 13032\",\"422\":\"315082\",\"423\":\"347080\",\"424\":\"370129\",\"425\":\"A\\\\/4. 34244\",\"426\":\"2003\",\"427\":\"250655\",\"428\":\"364851\",\"429\":\"SOTON\\\\/O.Q. 392078\",\"430\":\"110564\",\"431\":\"376564\",\"432\":\"SC\\\\/AH 3085\",\"433\":\"STON\\\\/O 2. 3101274\",\"434\":\"13507\",\"435\":\"113760\",\"436\":\"W.\\\\/C. 6608\",\"437\":\"29106\",\"438\":\"19950\",\"439\":\"C.A. 18723\",\"440\":\"F.C.C. 13529\",\"441\":\"345769\",\"442\":\"347076\",\"443\":\"230434\",\"444\":\"65306\",\"445\":\"33638\",\"446\":\"250644\",\"447\":\"113794\",\"448\":\"2666\",\"449\":\"113786\",\"450\":\"C.A. 34651\",\"451\":\"65303\",\"452\":\"113051\",\"453\":\"17453\",\"454\":\"A\\\\/5 2817\",\"455\":\"349240\",\"456\":\"13509\",\"457\":\"17464\",\"458\":\"F.C.C. 13531\",\"459\":\"371060\",\"460\":\"19952\",\"461\":\"364506\",\"462\":\"111320\",\"463\":\"234360\",\"464\":\"A\\\\/S 2816\",\"465\":\"SOTON\\\\/O.Q. 3101306\",\"466\":\"239853\",\"467\":\"113792\",\"468\":\"36209\",\"469\":\"2666\",\"470\":\"323592\",\"471\":\"315089\",\"472\":\"C.A. 34651\",\"473\":\"SC\\\\/AH Basle 541\",\"474\":\"7553\",\"475\":\"110465\",\"476\":\"31027\",\"477\":\"3460\",\"478\":\"350060\",\"479\":\"3101298\",\"480\":\"CA 2144\",\"481\":\"239854\",\"482\":\"A\\\\/5 3594\",\"483\":\"4134\",\"484\":\"11967\",\"485\":\"4133\",\"486\":\"19943\",\"487\":\"11771\",\"488\":\"A.5. 18509\",\"489\":\"C.A. 37671\",\"490\":\"65304\",\"491\":\"SOTON\\\\/OQ 3101317\",\"492\":\"113787\",\"493\":\"PC 17609\",\"494\":\"A\\\\/4 45380\",\"495\":\"2627\",\"496\":\"36947\",\"497\":\"C.A. 6212\",\"498\":\"113781\",\"499\":\"350035\",\"500\":\"315086\",\"501\":\"364846\",\"502\":\"330909\",\"503\":\"4135\",\"504\":\"110152\",\"505\":\"PC 17758\",\"506\":\"26360\",\"507\":\"111427\",\"508\":\"C 4001\",\"509\":\"1601\",\"510\":\"382651\",\"511\":\"SOTON\\\\/OQ 3101316\",\"512\":\"PC 17473\",\"513\":\"PC 17603\",\"514\":\"349209\",\"515\":\"36967\",\"516\":\"C.A. 34260\",\"517\":\"371110\",\"518\":\"226875\",\"519\":\"349242\",\"520\":\"12749\",\"521\":\"349252\",\"522\":\"2624\",\"523\":\"111361\",\"524\":\"2700\",\"525\":\"367232\",\"526\":\"W.\\\\/C. 14258\",\"527\":\"PC 17483\",\"528\":\"3101296\",\"529\":\"29104\",\"530\":\"26360\",\"531\":\"2641\",\"532\":\"2690\",\"533\":\"2668\",\"534\":\"315084\",\"535\":\"F.C.C. 13529\",\"536\":\"113050\",\"537\":\"PC 17761\",\"538\":\"364498\",\"539\":\"13568\",\"540\":\"WE\\\\/P 5735\",\"541\":\"347082\",\"542\":\"347082\",\"543\":\"2908\",\"544\":\"PC 17761\",\"545\":\"693\",\"546\":\"2908\",\"547\":\"SC\\\\/PARIS 2146\",\"548\":\"363291\",\"549\":\"C.A. 33112\",\"550\":\"17421\",\"551\":\"244358\",\"552\":\"330979\",\"553\":\"2620\",\"554\":\"347085\",\"555\":\"113807\",\"556\":\"11755\",\"557\":\"PC 17757\",\"558\":\"110413\",\"559\":\"345572\",\"560\":\"372622\",\"561\":\"349251\",\"562\":\"218629\",\"563\":\"SOTON\\\\/OQ 392082\",\"564\":\"SOTON\\\\/O.Q. 392087\",\"565\":\"A\\\\/4 48871\",\"566\":\"349205\",\"567\":\"349909\",\"568\":\"2686\",\"569\":\"350417\",\"570\":\"S.W.\\\\/PP 752\",\"571\":\"11769\",\"572\":\"PC 17474\",\"573\":\"14312\",\"574\":\"A\\\\/4. 20589\",\"575\":\"358585\",\"576\":\"243880\",\"577\":\"13507\",\"578\":\"2689\",\"579\":\"STON\\\\/O 2. 3101286\",\"580\":\"237789\",\"581\":\"17421\",\"582\":\"28403\",\"583\":\"13049\",\"584\":\"3411\",\"585\":\"110413\",\"586\":\"237565\",\"587\":\"13567\",\"588\":\"14973\",\"589\":\"A.\\\\/5. 3235\",\"590\":\"STON\\\\/O 2. 3101273\",\"591\":\"36947\",\"592\":\"A\\\\/5 3902\",\"593\":\"364848\",\"594\":\"SC\\\\/AH 29037\",\"595\":\"345773\",\"596\":\"248727\",\"597\":\"LINE\",\"598\":\"2664\",\"599\":\"PC 17485\",\"600\":\"243847\",\"601\":\"349214\",\"602\":\"113796\",\"603\":\"364511\",\"604\":\"111426\",\"605\":\"349910\",\"606\":\"349246\",\"607\":\"113804\",\"608\":\"SC\\\\/Paris 2123\",\"609\":\"PC 17582\",\"610\":\"347082\",\"611\":\"SOTON\\\\/O.Q. 3101305\",\"612\":\"367230\",\"613\":\"370377\",\"614\":\"364512\",\"615\":\"220845\",\"616\":\"347080\",\"617\":\"A\\\\/5. 3336\",\"618\":\"230136\",\"619\":\"31028\",\"620\":\"2659\",\"621\":\"11753\",\"622\":\"2653\",\"623\":\"350029\",\"624\":\"54636\",\"625\":\"36963\",\"626\":\"219533\",\"627\":\"13502\",\"628\":\"349224\",\"629\":\"334912\",\"630\":\"27042\",\"631\":\"347743\",\"632\":\"13214\",\"633\":\"112052\",\"634\":\"347088\",\"635\":\"237668\",\"636\":\"STON\\\\/O 2. 3101292\",\"637\":\"C.A. 31921\",\"638\":\"3101295\",\"639\":\"376564\",\"640\":\"350050\",\"641\":\"PC 17477\",\"642\":\"347088\",\"643\":\"1601\",\"644\":\"2666\",\"645\":\"PC 17572\",\"646\":\"349231\",\"647\":\"13213\",\"648\":\"S.O.\\\\/P.P. 751\",\"649\":\"CA. 2314\",\"650\":\"349221\",\"651\":\"231919\",\"652\":\"8475\",\"653\":\"330919\",\"654\":\"365226\",\"655\":\"S.O.C. 14879\",\"656\":\"349223\",\"657\":\"364849\",\"658\":\"29751\",\"659\":\"35273\",\"660\":\"PC 17611\",\"661\":\"2623\",\"662\":\"5727\",\"663\":\"349210\",\"664\":\"STON\\\\/O 2. 3101285\",\"665\":\"S.O.C. 14879\",\"666\":\"234686\",\"667\":\"312993\",\"668\":\"A\\\\/5 3536\",\"669\":\"19996\",\"670\":\"29750\",\"671\":\"F.C. 12750\",\"672\":\"C.A. 24580\",\"673\":\"244270\",\"674\":\"239856\",\"675\":\"349912\",\"676\":\"342826\",\"677\":\"4138\",\"678\":\"CA 2144\",\"679\":\"PC 17755\",\"680\":\"330935\",\"681\":\"PC 17572\",\"682\":\"6563\",\"683\":\"CA 2144\",\"684\":\"29750\",\"685\":\"SC\\\\/Paris 2123\",\"686\":\"3101295\",\"687\":\"349228\",\"688\":\"350036\",\"689\":\"24160\",\"690\":\"17474\",\"691\":\"349256\",\"692\":\"1601\",\"693\":\"2672\",\"694\":\"113800\",\"695\":\"248731\",\"696\":\"363592\",\"697\":\"35852\",\"698\":\"17421\",\"699\":\"348121\",\"700\":\"PC 17757\",\"701\":\"PC 17475\",\"702\":\"2691\",\"703\":\"36864\",\"704\":\"350025\",\"705\":\"250655\",\"706\":\"223596\",\"707\":\"PC 17476\",\"708\":\"113781\",\"709\":\"2661\",\"710\":\"PC 17482\",\"711\":\"113028\",\"712\":\"19996\",\"713\":\"7545\",\"714\":\"250647\",\"715\":\"348124\",\"716\":\"PC 17757\",\"717\":\"34218\",\"718\":\"36568\",\"719\":\"347062\",\"720\":\"248727\",\"721\":\"350048\",\"722\":\"12233\",\"723\":\"250643\",\"724\":\"113806\",\"725\":\"315094\",\"726\":\"31027\",\"727\":\"36866\",\"728\":\"236853\",\"729\":\"STON\\\\/O2. 3101271\",\"730\":\"24160\",\"731\":\"2699\",\"732\":\"239855\",\"733\":\"28425\",\"734\":\"233639\",\"735\":\"54636\",\"736\":\"W.\\\\/C. 6608\",\"737\":\"PC 17755\",\"738\":\"349201\",\"739\":\"349218\",\"740\":\"16988\",\"741\":\"19877\",\"742\":\"PC 17608\",\"743\":\"376566\",\"744\":\"STON\\\\/O 2. 3101288\",\"745\":\"WE\\\\/P 5735\",\"746\":\"C.A. 2673\",\"747\":\"250648\",\"748\":\"113773\",\"749\":\"335097\",\"750\":\"29103\",\"751\":\"392096\",\"752\":\"345780\",\"753\":\"349204\",\"754\":\"220845\",\"755\":\"250649\",\"756\":\"350042\",\"757\":\"29108\",\"758\":\"363294\",\"759\":\"110152\",\"760\":\"358585\",\"761\":\"SOTON\\\\/O2 3101272\",\"762\":\"2663\",\"763\":\"113760\",\"764\":\"347074\",\"765\":\"13502\",\"766\":\"112379\",\"767\":\"364850\",\"768\":\"371110\",\"769\":\"8471\",\"770\":\"345781\",\"771\":\"350047\",\"772\":\"S.O.\\\\/P.P. 3\",\"773\":\"2674\",\"774\":\"29105\",\"775\":\"347078\",\"776\":\"383121\",\"777\":\"364516\",\"778\":\"36865\",\"779\":\"24160\",\"780\":\"2687\",\"781\":\"17474\",\"782\":\"113501\",\"783\":\"W.\\\\/C. 6607\",\"784\":\"SOTON\\\\/O.Q. 3101312\",\"785\":\"374887\",\"786\":\"3101265\",\"787\":\"382652\",\"788\":\"C.A. 2315\",\"789\":\"PC 17593\",\"790\":\"12460\",\"791\":\"239865\",\"792\":\"CA. 2343\",\"793\":\"PC 17600\",\"794\":\"349203\",\"795\":\"28213\",\"796\":\"17465\",\"797\":\"349244\",\"798\":\"2685\",\"799\":\"345773\",\"800\":\"250647\",\"801\":\"C.A. 31921\",\"802\":\"113760\",\"803\":\"2625\",\"804\":\"347089\",\"805\":\"347063\",\"806\":\"112050\",\"807\":\"347087\",\"808\":\"248723\",\"809\":\"113806\",\"810\":\"3474\",\"811\":\"A\\\\/4 48871\",\"812\":\"28206\",\"813\":\"347082\",\"814\":\"364499\",\"815\":\"112058\",\"816\":\"STON\\\\/O2. 3101290\",\"817\":\"S.C.\\\\/PARIS 2079\",\"818\":\"C 7075\",\"819\":\"347088\",\"820\":\"12749\",\"821\":\"315098\",\"822\":\"19972\",\"823\":\"392096\",\"824\":\"3101295\",\"825\":\"368323\",\"826\":\"1601\",\"827\":\"S.C.\\\\/PARIS 2079\",\"828\":\"367228\",\"829\":\"113572\",\"830\":\"2659\",\"831\":\"29106\",\"832\":\"2671\",\"833\":\"347468\",\"834\":\"2223\",\"835\":\"PC 17756\",\"836\":\"315097\",\"837\":\"392092\",\"838\":\"1601\",\"839\":\"11774\",\"840\":\"SOTON\\\\/O2 3101287\",\"841\":\"S.O.\\\\/P.P. 3\",\"842\":\"113798\",\"843\":\"2683\",\"844\":\"315090\",\"845\":\"C.A. 5547\",\"846\":\"CA. 2343\",\"847\":\"349213\",\"848\":\"248727\",\"849\":\"17453\",\"850\":\"347082\",\"851\":\"347060\",\"852\":\"2678\",\"853\":\"PC 17592\",\"854\":\"244252\",\"855\":\"392091\",\"856\":\"36928\",\"857\":\"113055\",\"858\":\"2666\",\"859\":\"2629\",\"860\":\"350026\",\"861\":\"28134\",\"862\":\"17466\",\"863\":\"CA. 2343\",\"864\":\"233866\",\"865\":\"236852\",\"866\":\"SC\\\\/PARIS 2149\",\"867\":\"PC 17590\",\"868\":\"345777\",\"869\":\"347742\",\"870\":\"349248\",\"871\":\"11751\",\"872\":\"695\",\"873\":\"345765\",\"874\":\"P\\\\/PP 3381\",\"875\":\"2667\",\"876\":\"7534\",\"877\":\"349212\",\"878\":\"349217\",\"879\":\"11767\",\"880\":\"230433\",\"881\":\"349257\",\"882\":\"7552\",\"883\":\"C.A.\\\\/SOTON 34068\",\"884\":\"SOTON\\\\/OQ 392076\",\"885\":\"382652\",\"886\":\"211536\",\"887\":\"112053\",\"888\":\"W.\\\\/C. 6607\",\"889\":\"111369\",\"890\":\"370376\"},\"Fare\":{\"0\":7.25,\"1\":71.2833,\"2\":7.925,\"3\":53.1,\"4\":8.05,\"5\":8.4583,\"6\":51.8625,\"7\":21.075,\"8\":11.1333,\"9\":30.0708,\"10\":16.7,\"11\":26.55,\"12\":8.05,\"13\":31.275,\"14\":7.8542,\"15\":16.0,\"16\":29.125,\"17\":13.0,\"18\":18.0,\"19\":7.225,\"20\":26.0,\"21\":13.0,\"22\":8.0292,\"23\":35.5,\"24\":21.075,\"25\":31.3875,\"26\":7.225,\"27\":263.0,\"28\":7.8792,\"29\":7.8958,\"30\":27.7208,\"31\":146.5208,\"32\":7.75,\"33\":10.5,\"34\":82.1708,\"35\":52.0,\"36\":7.2292,\"37\":8.05,\"38\":18.0,\"39\":11.2417,\"40\":9.475,\"41\":21.0,\"42\":7.8958,\"43\":41.5792,\"44\":7.8792,\"45\":8.05,\"46\":15.5,\"47\":7.75,\"48\":21.6792,\"49\":17.8,\"50\":39.6875,\"51\":7.8,\"52\":76.7292,\"53\":26.0,\"54\":61.9792,\"55\":35.5,\"56\":10.5,\"57\":7.2292,\"58\":27.75,\"59\":46.9,\"60\":7.2292,\"61\":80.0,\"62\":83.475,\"63\":27.9,\"64\":27.7208,\"65\":15.2458,\"66\":10.5,\"67\":8.1583,\"68\":7.925,\"69\":8.6625,\"70\":10.5,\"71\":46.9,\"72\":73.5,\"73\":14.4542,\"74\":56.4958,\"75\":7.65,\"76\":7.8958,\"77\":8.05,\"78\":29.0,\"79\":12.475,\"80\":9.0,\"81\":9.5,\"82\":7.7875,\"83\":47.1,\"84\":10.5,\"85\":15.85,\"86\":34.375,\"87\":8.05,\"88\":263.0,\"89\":8.05,\"90\":8.05,\"91\":7.8542,\"92\":61.175,\"93\":20.575,\"94\":7.25,\"95\":8.05,\"96\":34.6542,\"97\":63.3583,\"98\":23.0,\"99\":26.0,\"100\":7.8958,\"101\":7.8958,\"102\":77.2875,\"103\":8.6542,\"104\":7.925,\"105\":7.8958,\"106\":7.65,\"107\":7.775,\"108\":7.8958,\"109\":24.15,\"110\":52.0,\"111\":14.4542,\"112\":8.05,\"113\":9.825,\"114\":14.4583,\"115\":7.925,\"116\":7.75,\"117\":21.0,\"118\":247.5208,\"119\":31.275,\"120\":73.5,\"121\":8.05,\"122\":30.0708,\"123\":13.0,\"124\":77.2875,\"125\":11.2417,\"126\":7.75,\"127\":7.1417,\"128\":22.3583,\"129\":6.975,\"130\":7.8958,\"131\":7.05,\"132\":14.5,\"133\":26.0,\"134\":13.0,\"135\":15.0458,\"136\":26.2833,\"137\":53.1,\"138\":9.2167,\"139\":79.2,\"140\":15.2458,\"141\":7.75,\"142\":15.85,\"143\":6.75,\"144\":11.5,\"145\":36.75,\"146\":7.7958,\"147\":34.375,\"148\":26.0,\"149\":13.0,\"150\":12.525,\"151\":66.6,\"152\":8.05,\"153\":14.5,\"154\":7.3125,\"155\":61.3792,\"156\":7.7333,\"157\":8.05,\"158\":8.6625,\"159\":69.55,\"160\":16.1,\"161\":15.75,\"162\":7.775,\"163\":8.6625,\"164\":39.6875,\"165\":20.525,\"166\":55.0,\"167\":27.9,\"168\":25.925,\"169\":56.4958,\"170\":33.5,\"171\":29.125,\"172\":11.1333,\"173\":7.925,\"174\":30.6958,\"175\":7.8542,\"176\":25.4667,\"177\":28.7125,\"178\":13.0,\"179\":0.0,\"180\":69.55,\"181\":15.05,\"182\":31.3875,\"183\":39.0,\"184\":22.025,\"185\":50.0,\"186\":15.5,\"187\":26.55,\"188\":15.5,\"189\":7.8958,\"190\":13.0,\"191\":13.0,\"192\":7.8542,\"193\":26.0,\"194\":27.7208,\"195\":146.5208,\"196\":7.75,\"197\":8.4042,\"198\":7.75,\"199\":13.0,\"200\":9.5,\"201\":69.55,\"202\":6.4958,\"203\":7.225,\"204\":8.05,\"205\":10.4625,\"206\":15.85,\"207\":18.7875,\"208\":7.75,\"209\":31.0,\"210\":7.05,\"211\":21.0,\"212\":7.25,\"213\":13.0,\"214\":7.75,\"215\":113.275,\"216\":7.925,\"217\":27.0,\"218\":76.2917,\"219\":10.5,\"220\":8.05,\"221\":13.0,\"222\":8.05,\"223\":7.8958,\"224\":90.0,\"225\":9.35,\"226\":10.5,\"227\":7.25,\"228\":13.0,\"229\":25.4667,\"230\":83.475,\"231\":7.775,\"232\":13.5,\"233\":31.3875,\"234\":10.5,\"235\":7.55,\"236\":26.0,\"237\":26.25,\"238\":10.5,\"239\":12.275,\"240\":14.4542,\"241\":15.5,\"242\":10.5,\"243\":7.125,\"244\":7.225,\"245\":90.0,\"246\":7.775,\"247\":14.5,\"248\":52.5542,\"249\":26.0,\"250\":7.25,\"251\":10.4625,\"252\":26.55,\"253\":16.1,\"254\":20.2125,\"255\":15.2458,\"256\":79.2,\"257\":86.5,\"258\":512.3292,\"259\":26.0,\"260\":7.75,\"261\":31.3875,\"262\":79.65,\"263\":0.0,\"264\":7.75,\"265\":10.5,\"266\":39.6875,\"267\":7.775,\"268\":153.4625,\"269\":135.6333,\"270\":31.0,\"271\":0.0,\"272\":19.5,\"273\":29.7,\"274\":7.75,\"275\":77.9583,\"276\":7.75,\"277\":0.0,\"278\":29.125,\"279\":20.25,\"280\":7.75,\"281\":7.8542,\"282\":9.5,\"283\":8.05,\"284\":26.0,\"285\":8.6625,\"286\":9.5,\"287\":7.8958,\"288\":13.0,\"289\":7.75,\"290\":78.85,\"291\":91.0792,\"292\":12.875,\"293\":8.85,\"294\":7.8958,\"295\":27.7208,\"296\":7.2292,\"297\":151.55,\"298\":30.5,\"299\":247.5208,\"300\":7.75,\"301\":23.25,\"302\":0.0,\"303\":12.35,\"304\":8.05,\"305\":151.55,\"306\":110.8833,\"307\":108.9,\"308\":24.0,\"309\":56.9292,\"310\":83.1583,\"311\":262.375,\"312\":26.0,\"313\":7.8958,\"314\":26.25,\"315\":7.8542,\"316\":26.0,\"317\":14.0,\"318\":164.8667,\"319\":134.5,\"320\":7.25,\"321\":7.8958,\"322\":12.35,\"323\":29.0,\"324\":69.55,\"325\":135.6333,\"326\":6.2375,\"327\":13.0,\"328\":20.525,\"329\":57.9792,\"330\":23.25,\"331\":28.5,\"332\":153.4625,\"333\":18.0,\"334\":133.65,\"335\":7.8958,\"336\":66.6,\"337\":134.5,\"338\":8.05,\"339\":35.5,\"340\":26.0,\"341\":263.0,\"342\":13.0,\"343\":13.0,\"344\":13.0,\"345\":13.0,\"346\":13.0,\"347\":16.1,\"348\":15.9,\"349\":8.6625,\"350\":9.225,\"351\":35.0,\"352\":7.2292,\"353\":17.8,\"354\":7.225,\"355\":9.5,\"356\":55.0,\"357\":13.0,\"358\":7.8792,\"359\":7.8792,\"360\":27.9,\"361\":27.7208,\"362\":14.4542,\"363\":7.05,\"364\":15.5,\"365\":7.25,\"366\":75.25,\"367\":7.2292,\"368\":7.75,\"369\":69.3,\"370\":55.4417,\"371\":6.4958,\"372\":8.05,\"373\":135.6333,\"374\":21.075,\"375\":82.1708,\"376\":7.25,\"377\":211.5,\"378\":4.0125,\"379\":7.775,\"380\":227.525,\"381\":15.7417,\"382\":7.925,\"383\":52.0,\"384\":7.8958,\"385\":73.5,\"386\":46.9,\"387\":13.0,\"388\":7.7292,\"389\":12.0,\"390\":120.0,\"391\":7.7958,\"392\":7.925,\"393\":113.275,\"394\":16.7,\"395\":7.7958,\"396\":7.8542,\"397\":26.0,\"398\":10.5,\"399\":12.65,\"400\":7.925,\"401\":8.05,\"402\":9.825,\"403\":15.85,\"404\":8.6625,\"405\":21.0,\"406\":7.75,\"407\":18.75,\"408\":7.775,\"409\":25.4667,\"410\":7.8958,\"411\":6.8583,\"412\":90.0,\"413\":0.0,\"414\":7.925,\"415\":8.05,\"416\":32.5,\"417\":13.0,\"418\":13.0,\"419\":24.15,\"420\":7.8958,\"421\":7.7333,\"422\":7.875,\"423\":14.4,\"424\":20.2125,\"425\":7.25,\"426\":26.0,\"427\":26.0,\"428\":7.75,\"429\":8.05,\"430\":26.55,\"431\":16.1,\"432\":26.0,\"433\":7.125,\"434\":55.9,\"435\":120.0,\"436\":34.375,\"437\":18.75,\"438\":263.0,\"439\":10.5,\"440\":26.25,\"441\":9.5,\"442\":7.775,\"443\":13.0,\"444\":8.1125,\"445\":81.8583,\"446\":19.5,\"447\":26.55,\"448\":19.2583,\"449\":30.5,\"450\":27.75,\"451\":19.9667,\"452\":27.75,\"453\":89.1042,\"454\":8.05,\"455\":7.8958,\"456\":26.55,\"457\":51.8625,\"458\":10.5,\"459\":7.75,\"460\":26.55,\"461\":8.05,\"462\":38.5,\"463\":13.0,\"464\":8.05,\"465\":7.05,\"466\":0.0,\"467\":26.55,\"468\":7.725,\"469\":19.2583,\"470\":7.25,\"471\":8.6625,\"472\":27.75,\"473\":13.7917,\"474\":9.8375,\"475\":52.0,\"476\":21.0,\"477\":7.0458,\"478\":7.5208,\"479\":12.2875,\"480\":46.9,\"481\":0.0,\"482\":8.05,\"483\":9.5875,\"484\":91.0792,\"485\":25.4667,\"486\":90.0,\"487\":29.7,\"488\":8.05,\"489\":15.9,\"490\":19.9667,\"491\":7.25,\"492\":30.5,\"493\":49.5042,\"494\":8.05,\"495\":14.4583,\"496\":78.2667,\"497\":15.1,\"498\":151.55,\"499\":7.7958,\"500\":8.6625,\"501\":7.75,\"502\":7.6292,\"503\":9.5875,\"504\":86.5,\"505\":108.9,\"506\":26.0,\"507\":26.55,\"508\":22.525,\"509\":56.4958,\"510\":7.75,\"511\":8.05,\"512\":26.2875,\"513\":59.4,\"514\":7.4958,\"515\":34.0208,\"516\":10.5,\"517\":24.15,\"518\":26.0,\"519\":7.8958,\"520\":93.5,\"521\":7.8958,\"522\":7.225,\"523\":57.9792,\"524\":7.2292,\"525\":7.75,\"526\":10.5,\"527\":221.7792,\"528\":7.925,\"529\":11.5,\"530\":26.0,\"531\":7.2292,\"532\":7.2292,\"533\":22.3583,\"534\":8.6625,\"535\":26.25,\"536\":26.55,\"537\":106.425,\"538\":14.5,\"539\":49.5,\"540\":71.0,\"541\":31.275,\"542\":31.275,\"543\":26.0,\"544\":106.425,\"545\":26.0,\"546\":26.0,\"547\":13.8625,\"548\":20.525,\"549\":36.75,\"550\":110.8833,\"551\":26.0,\"552\":7.8292,\"553\":7.225,\"554\":7.775,\"555\":26.55,\"556\":39.6,\"557\":227.525,\"558\":79.65,\"559\":17.4,\"560\":7.75,\"561\":7.8958,\"562\":13.5,\"563\":8.05,\"564\":8.05,\"565\":24.15,\"566\":7.8958,\"567\":21.075,\"568\":7.2292,\"569\":7.8542,\"570\":10.5,\"571\":51.4792,\"572\":26.3875,\"573\":7.75,\"574\":8.05,\"575\":14.5,\"576\":13.0,\"577\":55.9,\"578\":14.4583,\"579\":7.925,\"580\":30.0,\"581\":110.8833,\"582\":26.0,\"583\":40.125,\"584\":8.7125,\"585\":79.65,\"586\":15.0,\"587\":79.2,\"588\":8.05,\"589\":8.05,\"590\":7.125,\"591\":78.2667,\"592\":7.25,\"593\":7.75,\"594\":26.0,\"595\":24.15,\"596\":33.0,\"597\":0.0,\"598\":7.225,\"599\":56.9292,\"600\":27.0,\"601\":7.8958,\"602\":42.4,\"603\":8.05,\"604\":26.55,\"605\":15.55,\"606\":7.8958,\"607\":30.5,\"608\":41.5792,\"609\":153.4625,\"610\":31.275,\"611\":7.05,\"612\":15.5,\"613\":7.75,\"614\":8.05,\"615\":65.0,\"616\":14.4,\"617\":16.1,\"618\":39.0,\"619\":10.5,\"620\":14.4542,\"621\":52.5542,\"622\":15.7417,\"623\":7.8542,\"624\":16.1,\"625\":32.3208,\"626\":12.35,\"627\":77.9583,\"628\":7.8958,\"629\":7.7333,\"630\":30.0,\"631\":7.0542,\"632\":30.5,\"633\":0.0,\"634\":27.9,\"635\":13.0,\"636\":7.925,\"637\":26.25,\"638\":39.6875,\"639\":16.1,\"640\":7.8542,\"641\":69.3,\"642\":27.9,\"643\":56.4958,\"644\":19.2583,\"645\":76.7292,\"646\":7.8958,\"647\":35.5,\"648\":7.55,\"649\":7.55,\"650\":7.8958,\"651\":23.0,\"652\":8.4333,\"653\":7.8292,\"654\":6.75,\"655\":73.5,\"656\":7.8958,\"657\":15.5,\"658\":13.0,\"659\":113.275,\"660\":133.65,\"661\":7.225,\"662\":25.5875,\"663\":7.4958,\"664\":7.925,\"665\":73.5,\"666\":13.0,\"667\":7.775,\"668\":8.05,\"669\":52.0,\"670\":39.0,\"671\":52.0,\"672\":10.5,\"673\":13.0,\"674\":0.0,\"675\":7.775,\"676\":8.05,\"677\":9.8417,\"678\":46.9,\"679\":512.3292,\"680\":8.1375,\"681\":76.7292,\"682\":9.225,\"683\":46.9,\"684\":39.0,\"685\":41.5792,\"686\":39.6875,\"687\":10.1708,\"688\":7.7958,\"689\":211.3375,\"690\":57.0,\"691\":13.4167,\"692\":56.4958,\"693\":7.225,\"694\":26.55,\"695\":13.5,\"696\":8.05,\"697\":7.7333,\"698\":110.8833,\"699\":7.65,\"700\":227.525,\"701\":26.2875,\"702\":14.4542,\"703\":7.7417,\"704\":7.8542,\"705\":26.0,\"706\":13.5,\"707\":26.2875,\"708\":151.55,\"709\":15.2458,\"710\":49.5042,\"711\":26.55,\"712\":52.0,\"713\":9.4833,\"714\":13.0,\"715\":7.65,\"716\":227.525,\"717\":10.5,\"718\":15.5,\"719\":7.775,\"720\":33.0,\"721\":7.0542,\"722\":13.0,\"723\":13.0,\"724\":53.1,\"725\":8.6625,\"726\":21.0,\"727\":7.7375,\"728\":26.0,\"729\":7.925,\"730\":211.3375,\"731\":18.7875,\"732\":0.0,\"733\":13.0,\"734\":13.0,\"735\":16.1,\"736\":34.375,\"737\":512.3292,\"738\":7.8958,\"739\":7.8958,\"740\":30.0,\"741\":78.85,\"742\":262.375,\"743\":16.1,\"744\":7.925,\"745\":71.0,\"746\":20.25,\"747\":13.0,\"748\":53.1,\"749\":7.75,\"750\":23.0,\"751\":12.475,\"752\":9.5,\"753\":7.8958,\"754\":65.0,\"755\":14.5,\"756\":7.7958,\"757\":11.5,\"758\":8.05,\"759\":86.5,\"760\":14.5,\"761\":7.125,\"762\":7.2292,\"763\":120.0,\"764\":7.775,\"765\":77.9583,\"766\":39.6,\"767\":7.75,\"768\":24.15,\"769\":8.3625,\"770\":9.5,\"771\":7.8542,\"772\":10.5,\"773\":7.225,\"774\":23.0,\"775\":7.75,\"776\":7.75,\"777\":12.475,\"778\":7.7375,\"779\":211.3375,\"780\":7.2292,\"781\":57.0,\"782\":30.0,\"783\":23.45,\"784\":7.05,\"785\":7.25,\"786\":7.4958,\"787\":29.125,\"788\":20.575,\"789\":79.2,\"790\":7.75,\"791\":26.0,\"792\":69.55,\"793\":30.6958,\"794\":7.8958,\"795\":13.0,\"796\":25.9292,\"797\":8.6833,\"798\":7.2292,\"799\":24.15,\"800\":13.0,\"801\":26.25,\"802\":120.0,\"803\":8.5167,\"804\":6.975,\"805\":7.775,\"806\":0.0,\"807\":7.775,\"808\":13.0,\"809\":53.1,\"810\":7.8875,\"811\":24.15,\"812\":10.5,\"813\":31.275,\"814\":8.05,\"815\":0.0,\"816\":7.925,\"817\":37.0042,\"818\":6.45,\"819\":27.9,\"820\":93.5,\"821\":8.6625,\"822\":0.0,\"823\":12.475,\"824\":39.6875,\"825\":6.95,\"826\":56.4958,\"827\":37.0042,\"828\":7.75,\"829\":80.0,\"830\":14.4542,\"831\":18.75,\"832\":7.2292,\"833\":7.8542,\"834\":8.3,\"835\":83.1583,\"836\":8.6625,\"837\":8.05,\"838\":56.4958,\"839\":29.7,\"840\":7.925,\"841\":10.5,\"842\":31.0,\"843\":6.4375,\"844\":8.6625,\"845\":7.55,\"846\":69.55,\"847\":7.8958,\"848\":33.0,\"849\":89.1042,\"850\":31.275,\"851\":7.775,\"852\":15.2458,\"853\":39.4,\"854\":26.0,\"855\":9.35,\"856\":164.8667,\"857\":26.55,\"858\":19.2583,\"859\":7.2292,\"860\":14.1083,\"861\":11.5,\"862\":25.9292,\"863\":69.55,\"864\":13.0,\"865\":13.0,\"866\":13.8583,\"867\":50.4958,\"868\":9.5,\"869\":11.1333,\"870\":7.8958,\"871\":52.5542,\"872\":5.0,\"873\":9.0,\"874\":24.0,\"875\":7.225,\"876\":9.8458,\"877\":7.8958,\"878\":7.8958,\"879\":83.1583,\"880\":26.0,\"881\":7.8958,\"882\":10.5167,\"883\":10.5,\"884\":7.05,\"885\":29.125,\"886\":13.0,\"887\":30.0,\"888\":23.45,\"889\":30.0,\"890\":7.75},\"Cabin\":{\"0\":null,\"1\":\"C85\",\"2\":null,\"3\":\"C123\",\"4\":null,\"5\":null,\"6\":\"E46\",\"7\":null,\"8\":null,\"9\":null,\"10\":\"G6\",\"11\":\"C103\",\"12\":null,\"13\":null,\"14\":null,\"15\":null,\"16\":null,\"17\":null,\"18\":null,\"19\":null,\"20\":null,\"21\":\"D56\",\"22\":null,\"23\":\"A6\",\"24\":null,\"25\":null,\"26\":null,\"27\":\"C23 C25 C27\",\"28\":null,\"29\":null,\"30\":null,\"31\":\"B78\",\"32\":null,\"33\":null,\"34\":null,\"35\":null,\"36\":null,\"37\":null,\"38\":null,\"39\":null,\"40\":null,\"41\":null,\"42\":null,\"43\":null,\"44\":null,\"45\":null,\"46\":null,\"47\":null,\"48\":null,\"49\":null,\"50\":null,\"51\":null,\"52\":\"D33\",\"53\":null,\"54\":\"B30\",\"55\":\"C52\",\"56\":null,\"57\":null,\"58\":null,\"59\":null,\"60\":null,\"61\":\"B28\",\"62\":\"C83\",\"63\":null,\"64\":null,\"65\":null,\"66\":\"F33\",\"67\":null,\"68\":null,\"69\":null,\"70\":null,\"71\":null,\"72\":null,\"73\":null,\"74\":null,\"75\":\"F G73\",\"76\":null,\"77\":null,\"78\":null,\"79\":null,\"80\":null,\"81\":null,\"82\":null,\"83\":null,\"84\":null,\"85\":null,\"86\":null,\"87\":null,\"88\":\"C23 C25 C27\",\"89\":null,\"90\":null,\"91\":null,\"92\":\"E31\",\"93\":null,\"94\":null,\"95\":null,\"96\":\"A5\",\"97\":\"D10 D12\",\"98\":null,\"99\":null,\"100\":null,\"101\":null,\"102\":\"D26\",\"103\":null,\"104\":null,\"105\":null,\"106\":null,\"107\":null,\"108\":null,\"109\":null,\"110\":\"C110\",\"111\":null,\"112\":null,\"113\":null,\"114\":null,\"115\":null,\"116\":null,\"117\":null,\"118\":\"B58 B60\",\"119\":null,\"120\":null,\"121\":null,\"122\":null,\"123\":\"E101\",\"124\":\"D26\",\"125\":null,\"126\":null,\"127\":null,\"128\":\"F E69\",\"129\":null,\"130\":null,\"131\":null,\"132\":null,\"133\":null,\"134\":null,\"135\":null,\"136\":\"D47\",\"137\":\"C123\",\"138\":null,\"139\":\"B86\",\"140\":null,\"141\":null,\"142\":null,\"143\":null,\"144\":null,\"145\":null,\"146\":null,\"147\":null,\"148\":\"F2\",\"149\":null,\"150\":null,\"151\":\"C2\",\"152\":null,\"153\":null,\"154\":null,\"155\":null,\"156\":null,\"157\":null,\"158\":null,\"159\":null,\"160\":null,\"161\":null,\"162\":null,\"163\":null,\"164\":null,\"165\":null,\"166\":\"E33\",\"167\":null,\"168\":null,\"169\":null,\"170\":\"B19\",\"171\":null,\"172\":null,\"173\":null,\"174\":\"A7\",\"175\":null,\"176\":null,\"177\":\"C49\",\"178\":null,\"179\":null,\"180\":null,\"181\":null,\"182\":null,\"183\":\"F4\",\"184\":null,\"185\":\"A32\",\"186\":null,\"187\":null,\"188\":null,\"189\":null,\"190\":null,\"191\":null,\"192\":null,\"193\":\"F2\",\"194\":\"B4\",\"195\":\"B80\",\"196\":null,\"197\":null,\"198\":null,\"199\":null,\"200\":null,\"201\":null,\"202\":null,\"203\":null,\"204\":null,\"205\":\"G6\",\"206\":null,\"207\":null,\"208\":null,\"209\":\"A31\",\"210\":null,\"211\":null,\"212\":null,\"213\":null,\"214\":null,\"215\":\"D36\",\"216\":null,\"217\":null,\"218\":\"D15\",\"219\":null,\"220\":null,\"221\":null,\"222\":null,\"223\":null,\"224\":\"C93\",\"225\":null,\"226\":null,\"227\":null,\"228\":null,\"229\":null,\"230\":\"C83\",\"231\":null,\"232\":null,\"233\":null,\"234\":null,\"235\":null,\"236\":null,\"237\":null,\"238\":null,\"239\":null,\"240\":null,\"241\":null,\"242\":null,\"243\":null,\"244\":null,\"245\":\"C78\",\"246\":null,\"247\":null,\"248\":\"D35\",\"249\":null,\"250\":null,\"251\":\"G6\",\"252\":\"C87\",\"253\":null,\"254\":null,\"255\":null,\"256\":null,\"257\":\"B77\",\"258\":null,\"259\":null,\"260\":null,\"261\":null,\"262\":\"E67\",\"263\":\"B94\",\"264\":null,\"265\":null,\"266\":null,\"267\":null,\"268\":\"C125\",\"269\":\"C99\",\"270\":null,\"271\":null,\"272\":null,\"273\":\"C118\",\"274\":null,\"275\":\"D7\",\"276\":null,\"277\":null,\"278\":null,\"279\":null,\"280\":null,\"281\":null,\"282\":null,\"283\":null,\"284\":\"A19\",\"285\":null,\"286\":null,\"287\":null,\"288\":null,\"289\":null,\"290\":null,\"291\":\"B49\",\"292\":\"D\",\"293\":null,\"294\":null,\"295\":null,\"296\":null,\"297\":\"C22 C26\",\"298\":\"C106\",\"299\":\"B58 B60\",\"300\":null,\"301\":null,\"302\":null,\"303\":\"E101\",\"304\":null,\"305\":\"C22 C26\",\"306\":null,\"307\":\"C65\",\"308\":null,\"309\":\"E36\",\"310\":\"C54\",\"311\":\"B57 B59 B63 B66\",\"312\":null,\"313\":null,\"314\":null,\"315\":null,\"316\":null,\"317\":null,\"318\":\"C7\",\"319\":\"E34\",\"320\":null,\"321\":null,\"322\":null,\"323\":null,\"324\":null,\"325\":\"C32\",\"326\":null,\"327\":\"D\",\"328\":null,\"329\":\"B18\",\"330\":null,\"331\":\"C124\",\"332\":\"C91\",\"333\":null,\"334\":null,\"335\":null,\"336\":\"C2\",\"337\":\"E40\",\"338\":null,\"339\":\"T\",\"340\":\"F2\",\"341\":\"C23 C25 C27\",\"342\":null,\"343\":null,\"344\":null,\"345\":\"F33\",\"346\":null,\"347\":null,\"348\":null,\"349\":null,\"350\":null,\"351\":\"C128\",\"352\":null,\"353\":null,\"354\":null,\"355\":null,\"356\":\"E33\",\"357\":null,\"358\":null,\"359\":null,\"360\":null,\"361\":null,\"362\":null,\"363\":null,\"364\":null,\"365\":null,\"366\":\"D37\",\"367\":null,\"368\":null,\"369\":\"B35\",\"370\":\"E50\",\"371\":null,\"372\":null,\"373\":null,\"374\":null,\"375\":null,\"376\":null,\"377\":\"C82\",\"378\":null,\"379\":null,\"380\":null,\"381\":null,\"382\":null,\"383\":null,\"384\":null,\"385\":null,\"386\":null,\"387\":null,\"388\":null,\"389\":null,\"390\":\"B96 B98\",\"391\":null,\"392\":null,\"393\":\"D36\",\"394\":\"G6\",\"395\":null,\"396\":null,\"397\":null,\"398\":null,\"399\":null,\"400\":null,\"401\":null,\"402\":null,\"403\":null,\"404\":null,\"405\":null,\"406\":null,\"407\":null,\"408\":null,\"409\":null,\"410\":null,\"411\":null,\"412\":\"C78\",\"413\":null,\"414\":null,\"415\":null,\"416\":null,\"417\":null,\"418\":null,\"419\":null,\"420\":null,\"421\":null,\"422\":null,\"423\":null,\"424\":null,\"425\":null,\"426\":null,\"427\":null,\"428\":null,\"429\":\"E10\",\"430\":\"C52\",\"431\":null,\"432\":null,\"433\":null,\"434\":\"E44\",\"435\":\"B96 B98\",\"436\":null,\"437\":null,\"438\":\"C23 C25 C27\",\"439\":null,\"440\":null,\"441\":null,\"442\":null,\"443\":null,\"444\":null,\"445\":\"A34\",\"446\":null,\"447\":null,\"448\":null,\"449\":\"C104\",\"450\":null,\"451\":null,\"452\":\"C111\",\"453\":\"C92\",\"454\":null,\"455\":null,\"456\":\"E38\",\"457\":\"D21\",\"458\":null,\"459\":null,\"460\":\"E12\",\"461\":null,\"462\":\"E63\",\"463\":null,\"464\":null,\"465\":null,\"466\":null,\"467\":null,\"468\":null,\"469\":null,\"470\":null,\"471\":null,\"472\":null,\"473\":\"D\",\"474\":null,\"475\":\"A14\",\"476\":null,\"477\":null,\"478\":null,\"479\":null,\"480\":null,\"481\":null,\"482\":null,\"483\":null,\"484\":\"B49\",\"485\":null,\"486\":\"C93\",\"487\":\"B37\",\"488\":null,\"489\":null,\"490\":null,\"491\":null,\"492\":\"C30\",\"493\":null,\"494\":null,\"495\":null,\"496\":\"D20\",\"497\":null,\"498\":\"C22 C26\",\"499\":null,\"500\":null,\"501\":null,\"502\":null,\"503\":null,\"504\":\"B79\",\"505\":\"C65\",\"506\":null,\"507\":null,\"508\":null,\"509\":null,\"510\":null,\"511\":null,\"512\":\"E25\",\"513\":null,\"514\":null,\"515\":\"D46\",\"516\":\"F33\",\"517\":null,\"518\":null,\"519\":null,\"520\":\"B73\",\"521\":null,\"522\":null,\"523\":\"B18\",\"524\":null,\"525\":null,\"526\":null,\"527\":\"C95\",\"528\":null,\"529\":null,\"530\":null,\"531\":null,\"532\":null,\"533\":null,\"534\":null,\"535\":null,\"536\":\"B38\",\"537\":null,\"538\":null,\"539\":\"B39\",\"540\":\"B22\",\"541\":null,\"542\":null,\"543\":null,\"544\":\"C86\",\"545\":null,\"546\":null,\"547\":null,\"548\":null,\"549\":null,\"550\":\"C70\",\"551\":null,\"552\":null,\"553\":null,\"554\":null,\"555\":null,\"556\":\"A16\",\"557\":null,\"558\":\"E67\",\"559\":null,\"560\":null,\"561\":null,\"562\":null,\"563\":null,\"564\":null,\"565\":null,\"566\":null,\"567\":null,\"568\":null,\"569\":null,\"570\":null,\"571\":\"C101\",\"572\":\"E25\",\"573\":null,\"574\":null,\"575\":null,\"576\":null,\"577\":\"E44\",\"578\":null,\"579\":null,\"580\":null,\"581\":\"C68\",\"582\":null,\"583\":\"A10\",\"584\":null,\"585\":\"E68\",\"586\":null,\"587\":\"B41\",\"588\":null,\"589\":null,\"590\":null,\"591\":\"D20\",\"592\":null,\"593\":null,\"594\":null,\"595\":null,\"596\":null,\"597\":null,\"598\":null,\"599\":\"A20\",\"600\":null,\"601\":null,\"602\":null,\"603\":null,\"604\":null,\"605\":null,\"606\":null,\"607\":null,\"608\":null,\"609\":\"C125\",\"610\":null,\"611\":null,\"612\":null,\"613\":null,\"614\":null,\"615\":null,\"616\":null,\"617\":null,\"618\":\"F4\",\"619\":null,\"620\":null,\"621\":\"D19\",\"622\":null,\"623\":null,\"624\":null,\"625\":\"D50\",\"626\":null,\"627\":\"D9\",\"628\":null,\"629\":null,\"630\":\"A23\",\"631\":null,\"632\":\"B50\",\"633\":null,\"634\":null,\"635\":null,\"636\":null,\"637\":null,\"638\":null,\"639\":null,\"640\":null,\"641\":\"B35\",\"642\":null,\"643\":null,\"644\":null,\"645\":\"D33\",\"646\":null,\"647\":\"A26\",\"648\":null,\"649\":null,\"650\":null,\"651\":null,\"652\":null,\"653\":null,\"654\":null,\"655\":null,\"656\":null,\"657\":null,\"658\":null,\"659\":\"D48\",\"660\":null,\"661\":null,\"662\":\"E58\",\"663\":null,\"664\":null,\"665\":null,\"666\":null,\"667\":null,\"668\":null,\"669\":\"C126\",\"670\":null,\"671\":\"B71\",\"672\":null,\"673\":null,\"674\":null,\"675\":null,\"676\":null,\"677\":null,\"678\":null,\"679\":\"B51 B53 B55\",\"680\":null,\"681\":\"D49\",\"682\":null,\"683\":null,\"684\":null,\"685\":null,\"686\":null,\"687\":null,\"688\":null,\"689\":\"B5\",\"690\":\"B20\",\"691\":null,\"692\":null,\"693\":null,\"694\":null,\"695\":null,\"696\":null,\"697\":null,\"698\":\"C68\",\"699\":\"F G63\",\"700\":\"C62 C64\",\"701\":\"E24\",\"702\":null,\"703\":null,\"704\":null,\"705\":null,\"706\":null,\"707\":\"E24\",\"708\":null,\"709\":null,\"710\":\"C90\",\"711\":\"C124\",\"712\":\"C126\",\"713\":null,\"714\":null,\"715\":\"F G73\",\"716\":\"C45\",\"717\":\"E101\",\"718\":null,\"719\":null,\"720\":null,\"721\":null,\"722\":null,\"723\":null,\"724\":\"E8\",\"725\":null,\"726\":null,\"727\":null,\"728\":null,\"729\":null,\"730\":\"B5\",\"731\":null,\"732\":null,\"733\":null,\"734\":null,\"735\":null,\"736\":null,\"737\":\"B101\",\"738\":null,\"739\":null,\"740\":\"D45\",\"741\":\"C46\",\"742\":\"B57 B59 B63 B66\",\"743\":null,\"744\":null,\"745\":\"B22\",\"746\":null,\"747\":null,\"748\":\"D30\",\"749\":null,\"750\":null,\"751\":\"E121\",\"752\":null,\"753\":null,\"754\":null,\"755\":null,\"756\":null,\"757\":null,\"758\":null,\"759\":\"B77\",\"760\":null,\"761\":null,\"762\":null,\"763\":\"B96 B98\",\"764\":null,\"765\":\"D11\",\"766\":null,\"767\":null,\"768\":null,\"769\":null,\"770\":null,\"771\":null,\"772\":\"E77\",\"773\":null,\"774\":null,\"775\":null,\"776\":\"F38\",\"777\":null,\"778\":null,\"779\":\"B3\",\"780\":null,\"781\":\"B20\",\"782\":\"D6\",\"783\":null,\"784\":null,\"785\":null,\"786\":null,\"787\":null,\"788\":null,\"789\":\"B82 B84\",\"790\":null,\"791\":null,\"792\":null,\"793\":null,\"794\":null,\"795\":null,\"796\":\"D17\",\"797\":null,\"798\":null,\"799\":null,\"800\":null,\"801\":null,\"802\":\"B96 B98\",\"803\":null,\"804\":null,\"805\":null,\"806\":\"A36\",\"807\":null,\"808\":null,\"809\":\"E8\",\"810\":null,\"811\":null,\"812\":null,\"813\":null,\"814\":null,\"815\":\"B102\",\"816\":null,\"817\":null,\"818\":null,\"819\":null,\"820\":\"B69\",\"821\":null,\"822\":null,\"823\":\"E121\",\"824\":null,\"825\":null,\"826\":null,\"827\":null,\"828\":null,\"829\":\"B28\",\"830\":null,\"831\":null,\"832\":null,\"833\":null,\"834\":null,\"835\":\"E49\",\"836\":null,\"837\":null,\"838\":null,\"839\":\"C47\",\"840\":null,\"841\":null,\"842\":null,\"843\":null,\"844\":null,\"845\":null,\"846\":null,\"847\":null,\"848\":null,\"849\":\"C92\",\"850\":null,\"851\":null,\"852\":null,\"853\":\"D28\",\"854\":null,\"855\":null,\"856\":null,\"857\":\"E17\",\"858\":null,\"859\":null,\"860\":null,\"861\":null,\"862\":\"D17\",\"863\":null,\"864\":null,\"865\":null,\"866\":null,\"867\":\"A24\",\"868\":null,\"869\":null,\"870\":null,\"871\":\"D35\",\"872\":\"B51 B53 B55\",\"873\":null,\"874\":null,\"875\":null,\"876\":null,\"877\":null,\"878\":null,\"879\":\"C50\",\"880\":null,\"881\":null,\"882\":null,\"883\":null,\"884\":null,\"885\":null,\"886\":null,\"887\":\"B42\",\"888\":null,\"889\":\"C148\",\"890\":null},\"Embarked\":{\"0\":\"S\",\"1\":\"C\",\"2\":\"S\",\"3\":\"S\",\"4\":\"S\",\"5\":\"Q\",\"6\":\"S\",\"7\":\"S\",\"8\":\"S\",\"9\":\"C\",\"10\":\"S\",\"11\":\"S\",\"12\":\"S\",\"13\":\"S\",\"14\":\"S\",\"15\":\"S\",\"16\":\"Q\",\"17\":\"S\",\"18\":\"S\",\"19\":\"C\",\"20\":\"S\",\"21\":\"S\",\"22\":\"Q\",\"23\":\"S\",\"24\":\"S\",\"25\":\"S\",\"26\":\"C\",\"27\":\"S\",\"28\":\"Q\",\"29\":\"S\",\"30\":\"C\",\"31\":\"C\",\"32\":\"Q\",\"33\":\"S\",\"34\":\"C\",\"35\":\"S\",\"36\":\"C\",\"37\":\"S\",\"38\":\"S\",\"39\":\"C\",\"40\":\"S\",\"41\":\"S\",\"42\":\"C\",\"43\":\"C\",\"44\":\"Q\",\"45\":\"S\",\"46\":\"Q\",\"47\":\"Q\",\"48\":\"C\",\"49\":\"S\",\"50\":\"S\",\"51\":\"S\",\"52\":\"C\",\"53\":\"S\",\"54\":\"C\",\"55\":\"S\",\"56\":\"S\",\"57\":\"C\",\"58\":\"S\",\"59\":\"S\",\"60\":\"C\",\"61\":null,\"62\":\"S\",\"63\":\"S\",\"64\":\"C\",\"65\":\"C\",\"66\":\"S\",\"67\":\"S\",\"68\":\"S\",\"69\":\"S\",\"70\":\"S\",\"71\":\"S\",\"72\":\"S\",\"73\":\"C\",\"74\":\"S\",\"75\":\"S\",\"76\":\"S\",\"77\":\"S\",\"78\":\"S\",\"79\":\"S\",\"80\":\"S\",\"81\":\"S\",\"82\":\"Q\",\"83\":\"S\",\"84\":\"S\",\"85\":\"S\",\"86\":\"S\",\"87\":\"S\",\"88\":\"S\",\"89\":\"S\",\"90\":\"S\",\"91\":\"S\",\"92\":\"S\",\"93\":\"S\",\"94\":\"S\",\"95\":\"S\",\"96\":\"C\",\"97\":\"C\",\"98\":\"S\",\"99\":\"S\",\"100\":\"S\",\"101\":\"S\",\"102\":\"S\",\"103\":\"S\",\"104\":\"S\",\"105\":\"S\",\"106\":\"S\",\"107\":\"S\",\"108\":\"S\",\"109\":\"Q\",\"110\":\"S\",\"111\":\"C\",\"112\":\"S\",\"113\":\"S\",\"114\":\"C\",\"115\":\"S\",\"116\":\"Q\",\"117\":\"S\",\"118\":\"C\",\"119\":\"S\",\"120\":\"S\",\"121\":\"S\",\"122\":\"C\",\"123\":\"S\",\"124\":\"S\",\"125\":\"C\",\"126\":\"Q\",\"127\":\"S\",\"128\":\"C\",\"129\":\"S\",\"130\":\"C\",\"131\":\"S\",\"132\":\"S\",\"133\":\"S\",\"134\":\"S\",\"135\":\"C\",\"136\":\"S\",\"137\":\"S\",\"138\":\"S\",\"139\":\"C\",\"140\":\"C\",\"141\":\"S\",\"142\":\"S\",\"143\":\"Q\",\"144\":\"S\",\"145\":\"S\",\"146\":\"S\",\"147\":\"S\",\"148\":\"S\",\"149\":\"S\",\"150\":\"S\",\"151\":\"S\",\"152\":\"S\",\"153\":\"S\",\"154\":\"S\",\"155\":\"C\",\"156\":\"Q\",\"157\":\"S\",\"158\":\"S\",\"159\":\"S\",\"160\":\"S\",\"161\":\"S\",\"162\":\"S\",\"163\":\"S\",\"164\":\"S\",\"165\":\"S\",\"166\":\"S\",\"167\":\"S\",\"168\":\"S\",\"169\":\"S\",\"170\":\"S\",\"171\":\"Q\",\"172\":\"S\",\"173\":\"S\",\"174\":\"C\",\"175\":\"S\",\"176\":\"S\",\"177\":\"C\",\"178\":\"S\",\"179\":\"S\",\"180\":\"S\",\"181\":\"C\",\"182\":\"S\",\"183\":\"S\",\"184\":\"S\",\"185\":\"S\",\"186\":\"Q\",\"187\":\"S\",\"188\":\"Q\",\"189\":\"S\",\"190\":\"S\",\"191\":\"S\",\"192\":\"S\",\"193\":\"S\",\"194\":\"C\",\"195\":\"C\",\"196\":\"Q\",\"197\":\"S\",\"198\":\"Q\",\"199\":\"S\",\"200\":\"S\",\"201\":\"S\",\"202\":\"S\",\"203\":\"C\",\"204\":\"S\",\"205\":\"S\",\"206\":\"S\",\"207\":\"C\",\"208\":\"Q\",\"209\":\"C\",\"210\":\"S\",\"211\":\"S\",\"212\":\"S\",\"213\":\"S\",\"214\":\"Q\",\"215\":\"C\",\"216\":\"S\",\"217\":\"S\",\"218\":\"C\",\"219\":\"S\",\"220\":\"S\",\"221\":\"S\",\"222\":\"S\",\"223\":\"S\",\"224\":\"S\",\"225\":\"S\",\"226\":\"S\",\"227\":\"S\",\"228\":\"S\",\"229\":\"S\",\"230\":\"S\",\"231\":\"S\",\"232\":\"S\",\"233\":\"S\",\"234\":\"S\",\"235\":\"S\",\"236\":\"S\",\"237\":\"S\",\"238\":\"S\",\"239\":\"S\",\"240\":\"C\",\"241\":\"Q\",\"242\":\"S\",\"243\":\"S\",\"244\":\"C\",\"245\":\"Q\",\"246\":\"S\",\"247\":\"S\",\"248\":\"S\",\"249\":\"S\",\"250\":\"S\",\"251\":\"S\",\"252\":\"S\",\"253\":\"S\",\"254\":\"S\",\"255\":\"C\",\"256\":\"C\",\"257\":\"S\",\"258\":\"C\",\"259\":\"S\",\"260\":\"Q\",\"261\":\"S\",\"262\":\"S\",\"263\":\"S\",\"264\":\"Q\",\"265\":\"S\",\"266\":\"S\",\"267\":\"S\",\"268\":\"S\",\"269\":\"S\",\"270\":\"S\",\"271\":\"S\",\"272\":\"S\",\"273\":\"C\",\"274\":\"Q\",\"275\":\"S\",\"276\":\"S\",\"277\":\"S\",\"278\":\"Q\",\"279\":\"S\",\"280\":\"Q\",\"281\":\"S\",\"282\":\"S\",\"283\":\"S\",\"284\":\"S\",\"285\":\"C\",\"286\":\"S\",\"287\":\"S\",\"288\":\"S\",\"289\":\"Q\",\"290\":\"S\",\"291\":\"C\",\"292\":\"C\",\"293\":\"S\",\"294\":\"S\",\"295\":\"C\",\"296\":\"C\",\"297\":\"S\",\"298\":\"S\",\"299\":\"C\",\"300\":\"Q\",\"301\":\"Q\",\"302\":\"S\",\"303\":\"Q\",\"304\":\"S\",\"305\":\"S\",\"306\":\"C\",\"307\":\"C\",\"308\":\"C\",\"309\":\"C\",\"310\":\"C\",\"311\":\"C\",\"312\":\"S\",\"313\":\"S\",\"314\":\"S\",\"315\":\"S\",\"316\":\"S\",\"317\":\"S\",\"318\":\"S\",\"319\":\"C\",\"320\":\"S\",\"321\":\"S\",\"322\":\"Q\",\"323\":\"S\",\"324\":\"S\",\"325\":\"C\",\"326\":\"S\",\"327\":\"S\",\"328\":\"S\",\"329\":\"C\",\"330\":\"Q\",\"331\":\"S\",\"332\":\"S\",\"333\":\"S\",\"334\":\"S\",\"335\":\"S\",\"336\":\"S\",\"337\":\"C\",\"338\":\"S\",\"339\":\"S\",\"340\":\"S\",\"341\":\"S\",\"342\":\"S\",\"343\":\"S\",\"344\":\"S\",\"345\":\"S\",\"346\":\"S\",\"347\":\"S\",\"348\":\"S\",\"349\":\"S\",\"350\":\"S\",\"351\":\"S\",\"352\":\"C\",\"353\":\"S\",\"354\":\"C\",\"355\":\"S\",\"356\":\"S\",\"357\":\"S\",\"358\":\"Q\",\"359\":\"Q\",\"360\":\"S\",\"361\":\"C\",\"362\":\"C\",\"363\":\"S\",\"364\":\"Q\",\"365\":\"S\",\"366\":\"C\",\"367\":\"C\",\"368\":\"Q\",\"369\":\"C\",\"370\":\"C\",\"371\":\"S\",\"372\":\"S\",\"373\":\"C\",\"374\":\"S\",\"375\":\"C\",\"376\":\"S\",\"377\":\"C\",\"378\":\"C\",\"379\":\"S\",\"380\":\"C\",\"381\":\"C\",\"382\":\"S\",\"383\":\"S\",\"384\":\"S\",\"385\":\"S\",\"386\":\"S\",\"387\":\"S\",\"388\":\"Q\",\"389\":\"C\",\"390\":\"S\",\"391\":\"S\",\"392\":\"S\",\"393\":\"C\",\"394\":\"S\",\"395\":\"S\",\"396\":\"S\",\"397\":\"S\",\"398\":\"S\",\"399\":\"S\",\"400\":\"S\",\"401\":\"S\",\"402\":\"S\",\"403\":\"S\",\"404\":\"S\",\"405\":\"S\",\"406\":\"S\",\"407\":\"S\",\"408\":\"S\",\"409\":\"S\",\"410\":\"S\",\"411\":\"Q\",\"412\":\"Q\",\"413\":\"S\",\"414\":\"S\",\"415\":\"S\",\"416\":\"S\",\"417\":\"S\",\"418\":\"S\",\"419\":\"S\",\"420\":\"C\",\"421\":\"Q\",\"422\":\"S\",\"423\":\"S\",\"424\":\"S\",\"425\":\"S\",\"426\":\"S\",\"427\":\"S\",\"428\":\"Q\",\"429\":\"S\",\"430\":\"S\",\"431\":\"S\",\"432\":\"S\",\"433\":\"S\",\"434\":\"S\",\"435\":\"S\",\"436\":\"S\",\"437\":\"S\",\"438\":\"S\",\"439\":\"S\",\"440\":\"S\",\"441\":\"S\",\"442\":\"S\",\"443\":\"S\",\"444\":\"S\",\"445\":\"S\",\"446\":\"S\",\"447\":\"S\",\"448\":\"C\",\"449\":\"S\",\"450\":\"S\",\"451\":\"S\",\"452\":\"C\",\"453\":\"C\",\"454\":\"S\",\"455\":\"C\",\"456\":\"S\",\"457\":\"S\",\"458\":\"S\",\"459\":\"Q\",\"460\":\"S\",\"461\":\"S\",\"462\":\"S\",\"463\":\"S\",\"464\":\"S\",\"465\":\"S\",\"466\":\"S\",\"467\":\"S\",\"468\":\"Q\",\"469\":\"C\",\"470\":\"S\",\"471\":\"S\",\"472\":\"S\",\"473\":\"C\",\"474\":\"S\",\"475\":\"S\",\"476\":\"S\",\"477\":\"S\",\"478\":\"S\",\"479\":\"S\",\"480\":\"S\",\"481\":\"S\",\"482\":\"S\",\"483\":\"S\",\"484\":\"C\",\"485\":\"S\",\"486\":\"S\",\"487\":\"C\",\"488\":\"S\",\"489\":\"S\",\"490\":\"S\",\"491\":\"S\",\"492\":\"S\",\"493\":\"C\",\"494\":\"S\",\"495\":\"C\",\"496\":\"C\",\"497\":\"S\",\"498\":\"S\",\"499\":\"S\",\"500\":\"S\",\"501\":\"Q\",\"502\":\"Q\",\"503\":\"S\",\"504\":\"S\",\"505\":\"C\",\"506\":\"S\",\"507\":\"S\",\"508\":\"S\",\"509\":\"S\",\"510\":\"Q\",\"511\":\"S\",\"512\":\"S\",\"513\":\"C\",\"514\":\"S\",\"515\":\"S\",\"516\":\"S\",\"517\":\"Q\",\"518\":\"S\",\"519\":\"S\",\"520\":\"S\",\"521\":\"S\",\"522\":\"C\",\"523\":\"C\",\"524\":\"C\",\"525\":\"Q\",\"526\":\"S\",\"527\":\"S\",\"528\":\"S\",\"529\":\"S\",\"530\":\"S\",\"531\":\"C\",\"532\":\"C\",\"533\":\"C\",\"534\":\"S\",\"535\":\"S\",\"536\":\"S\",\"537\":\"C\",\"538\":\"S\",\"539\":\"C\",\"540\":\"S\",\"541\":\"S\",\"542\":\"S\",\"543\":\"S\",\"544\":\"C\",\"545\":\"S\",\"546\":\"S\",\"547\":\"C\",\"548\":\"S\",\"549\":\"S\",\"550\":\"C\",\"551\":\"S\",\"552\":\"Q\",\"553\":\"C\",\"554\":\"S\",\"555\":\"S\",\"556\":\"C\",\"557\":\"C\",\"558\":\"S\",\"559\":\"S\",\"560\":\"Q\",\"561\":\"S\",\"562\":\"S\",\"563\":\"S\",\"564\":\"S\",\"565\":\"S\",\"566\":\"S\",\"567\":\"S\",\"568\":\"C\",\"569\":\"S\",\"570\":\"S\",\"571\":\"S\",\"572\":\"S\",\"573\":\"Q\",\"574\":\"S\",\"575\":\"S\",\"576\":\"S\",\"577\":\"S\",\"578\":\"C\",\"579\":\"S\",\"580\":\"S\",\"581\":\"C\",\"582\":\"S\",\"583\":\"C\",\"584\":\"C\",\"585\":\"S\",\"586\":\"S\",\"587\":\"C\",\"588\":\"S\",\"589\":\"S\",\"590\":\"S\",\"591\":\"C\",\"592\":\"S\",\"593\":\"Q\",\"594\":\"S\",\"595\":\"S\",\"596\":\"S\",\"597\":\"S\",\"598\":\"C\",\"599\":\"C\",\"600\":\"S\",\"601\":\"S\",\"602\":\"S\",\"603\":\"S\",\"604\":\"C\",\"605\":\"S\",\"606\":\"S\",\"607\":\"S\",\"608\":\"C\",\"609\":\"S\",\"610\":\"S\",\"611\":\"S\",\"612\":\"Q\",\"613\":\"Q\",\"614\":\"S\",\"615\":\"S\",\"616\":\"S\",\"617\":\"S\",\"618\":\"S\",\"619\":\"S\",\"620\":\"C\",\"621\":\"S\",\"622\":\"C\",\"623\":\"S\",\"624\":\"S\",\"625\":\"S\",\"626\":\"Q\",\"627\":\"S\",\"628\":\"S\",\"629\":\"Q\",\"630\":\"S\",\"631\":\"S\",\"632\":\"C\",\"633\":\"S\",\"634\":\"S\",\"635\":\"S\",\"636\":\"S\",\"637\":\"S\",\"638\":\"S\",\"639\":\"S\",\"640\":\"S\",\"641\":\"C\",\"642\":\"S\",\"643\":\"S\",\"644\":\"C\",\"645\":\"C\",\"646\":\"S\",\"647\":\"C\",\"648\":\"S\",\"649\":\"S\",\"650\":\"S\",\"651\":\"S\",\"652\":\"S\",\"653\":\"Q\",\"654\":\"Q\",\"655\":\"S\",\"656\":\"S\",\"657\":\"Q\",\"658\":\"S\",\"659\":\"C\",\"660\":\"S\",\"661\":\"C\",\"662\":\"S\",\"663\":\"S\",\"664\":\"S\",\"665\":\"S\",\"666\":\"S\",\"667\":\"S\",\"668\":\"S\",\"669\":\"S\",\"670\":\"S\",\"671\":\"S\",\"672\":\"S\",\"673\":\"S\",\"674\":\"S\",\"675\":\"S\",\"676\":\"S\",\"677\":\"S\",\"678\":\"S\",\"679\":\"C\",\"680\":\"Q\",\"681\":\"C\",\"682\":\"S\",\"683\":\"S\",\"684\":\"S\",\"685\":\"C\",\"686\":\"S\",\"687\":\"S\",\"688\":\"S\",\"689\":\"S\",\"690\":\"S\",\"691\":\"C\",\"692\":\"S\",\"693\":\"C\",\"694\":\"S\",\"695\":\"S\",\"696\":\"S\",\"697\":\"Q\",\"698\":\"C\",\"699\":\"S\",\"700\":\"C\",\"701\":\"S\",\"702\":\"C\",\"703\":\"Q\",\"704\":\"S\",\"705\":\"S\",\"706\":\"S\",\"707\":\"S\",\"708\":\"S\",\"709\":\"C\",\"710\":\"C\",\"711\":\"S\",\"712\":\"S\",\"713\":\"S\",\"714\":\"S\",\"715\":\"S\",\"716\":\"C\",\"717\":\"S\",\"718\":\"Q\",\"719\":\"S\",\"720\":\"S\",\"721\":\"S\",\"722\":\"S\",\"723\":\"S\",\"724\":\"S\",\"725\":\"S\",\"726\":\"S\",\"727\":\"Q\",\"728\":\"S\",\"729\":\"S\",\"730\":\"S\",\"731\":\"C\",\"732\":\"S\",\"733\":\"S\",\"734\":\"S\",\"735\":\"S\",\"736\":\"S\",\"737\":\"C\",\"738\":\"S\",\"739\":\"S\",\"740\":\"S\",\"741\":\"S\",\"742\":\"C\",\"743\":\"S\",\"744\":\"S\",\"745\":\"S\",\"746\":\"S\",\"747\":\"S\",\"748\":\"S\",\"749\":\"Q\",\"750\":\"S\",\"751\":\"S\",\"752\":\"S\",\"753\":\"S\",\"754\":\"S\",\"755\":\"S\",\"756\":\"S\",\"757\":\"S\",\"758\":\"S\",\"759\":\"S\",\"760\":\"S\",\"761\":\"S\",\"762\":\"C\",\"763\":\"S\",\"764\":\"S\",\"765\":\"S\",\"766\":\"C\",\"767\":\"Q\",\"768\":\"Q\",\"769\":\"S\",\"770\":\"S\",\"771\":\"S\",\"772\":\"S\",\"773\":\"C\",\"774\":\"S\",\"775\":\"S\",\"776\":\"Q\",\"777\":\"S\",\"778\":\"Q\",\"779\":\"S\",\"780\":\"C\",\"781\":\"S\",\"782\":\"S\",\"783\":\"S\",\"784\":\"S\",\"785\":\"S\",\"786\":\"S\",\"787\":\"Q\",\"788\":\"S\",\"789\":\"C\",\"790\":\"Q\",\"791\":\"S\",\"792\":\"S\",\"793\":\"C\",\"794\":\"S\",\"795\":\"S\",\"796\":\"S\",\"797\":\"S\",\"798\":\"C\",\"799\":\"S\",\"800\":\"S\",\"801\":\"S\",\"802\":\"S\",\"803\":\"C\",\"804\":\"S\",\"805\":\"S\",\"806\":\"S\",\"807\":\"S\",\"808\":\"S\",\"809\":\"S\",\"810\":\"S\",\"811\":\"S\",\"812\":\"S\",\"813\":\"S\",\"814\":\"S\",\"815\":\"S\",\"816\":\"S\",\"817\":\"C\",\"818\":\"S\",\"819\":\"S\",\"820\":\"S\",\"821\":\"S\",\"822\":\"S\",\"823\":\"S\",\"824\":\"S\",\"825\":\"Q\",\"826\":\"S\",\"827\":\"C\",\"828\":\"Q\",\"829\":null,\"830\":\"C\",\"831\":\"S\",\"832\":\"C\",\"833\":\"S\",\"834\":\"S\",\"835\":\"C\",\"836\":\"S\",\"837\":\"S\",\"838\":\"S\",\"839\":\"C\",\"840\":\"S\",\"841\":\"S\",\"842\":\"C\",\"843\":\"C\",\"844\":\"S\",\"845\":\"S\",\"846\":\"S\",\"847\":\"C\",\"848\":\"S\",\"849\":\"C\",\"850\":\"S\",\"851\":\"S\",\"852\":\"C\",\"853\":\"S\",\"854\":\"S\",\"855\":\"S\",\"856\":\"S\",\"857\":\"S\",\"858\":\"C\",\"859\":\"C\",\"860\":\"S\",\"861\":\"S\",\"862\":\"S\",\"863\":\"S\",\"864\":\"S\",\"865\":\"S\",\"866\":\"C\",\"867\":\"S\",\"868\":\"S\",\"869\":\"S\",\"870\":\"S\",\"871\":\"S\",\"872\":\"S\",\"873\":\"S\",\"874\":\"C\",\"875\":\"C\",\"876\":\"S\",\"877\":\"S\",\"878\":\"S\",\"879\":\"C\",\"880\":\"S\",\"881\":\"S\",\"882\":\"S\",\"883\":\"S\",\"884\":\"S\",\"885\":\"Q\",\"886\":\"S\",\"887\":\"S\",\"888\":\"S\",\"889\":\"C\",\"890\":\"Q\"}}'"
      ]
     },
     "execution_count": 152,
     "metadata": {},
     "output_type": "execute_result"
    }
   ],
   "source": [
    "data.to_json()"
   ]
  },
  {
   "cell_type": "code",
   "execution_count": 153,
   "metadata": {},
   "outputs": [
    {
     "data": {
      "text/plain": [
       "['Braund, Mr. Owen Harris',\n",
       " 'Cumings, Mrs. John Bradley (Florence Briggs Thayer)',\n",
       " 'Heikkinen, Miss. Laina',\n",
       " 'Futrelle, Mrs. Jacques Heath (Lily May Peel)',\n",
       " 'Allen, Mr. William Henry',\n",
       " 'Moran, Mr. James',\n",
       " 'McCarthy, Mr. Timothy J',\n",
       " 'Palsson, Master. Gosta Leonard',\n",
       " 'Johnson, Mrs. Oscar W (Elisabeth Vilhelmina Berg)',\n",
       " 'Nasser, Mrs. Nicholas (Adele Achem)',\n",
       " 'Sandstrom, Miss. Marguerite Rut',\n",
       " 'Bonnell, Miss. Elizabeth',\n",
       " 'Saundercock, Mr. William Henry',\n",
       " 'Andersson, Mr. Anders Johan',\n",
       " 'Vestrom, Miss. Hulda Amanda Adolfina',\n",
       " 'Hewlett, Mrs. (Mary D Kingcome) ',\n",
       " 'Rice, Master. Eugene',\n",
       " 'Williams, Mr. Charles Eugene',\n",
       " 'Vander Planke, Mrs. Julius (Emelia Maria Vandemoortele)',\n",
       " 'Masselmani, Mrs. Fatima',\n",
       " 'Fynney, Mr. Joseph J',\n",
       " 'Beesley, Mr. Lawrence',\n",
       " 'McGowan, Miss. Anna \"Annie\"',\n",
       " 'Sloper, Mr. William Thompson',\n",
       " 'Palsson, Miss. Torborg Danira',\n",
       " 'Asplund, Mrs. Carl Oscar (Selma Augusta Emilia Johansson)',\n",
       " 'Emir, Mr. Farred Chehab',\n",
       " 'Fortune, Mr. Charles Alexander',\n",
       " 'O\\'Dwyer, Miss. Ellen \"Nellie\"',\n",
       " 'Todoroff, Mr. Lalio',\n",
       " 'Uruchurtu, Don. Manuel E',\n",
       " 'Spencer, Mrs. William Augustus (Marie Eugenie)',\n",
       " 'Glynn, Miss. Mary Agatha',\n",
       " 'Wheadon, Mr. Edward H',\n",
       " 'Meyer, Mr. Edgar Joseph',\n",
       " 'Holverson, Mr. Alexander Oskar',\n",
       " 'Mamee, Mr. Hanna',\n",
       " 'Cann, Mr. Ernest Charles',\n",
       " 'Vander Planke, Miss. Augusta Maria',\n",
       " 'Nicola-Yarred, Miss. Jamila',\n",
       " 'Ahlin, Mrs. Johan (Johanna Persdotter Larsson)',\n",
       " 'Turpin, Mrs. William John Robert (Dorothy Ann Wonnacott)',\n",
       " 'Kraeff, Mr. Theodor',\n",
       " 'Laroche, Miss. Simonne Marie Anne Andree',\n",
       " 'Devaney, Miss. Margaret Delia',\n",
       " 'Rogers, Mr. William John',\n",
       " 'Lennon, Mr. Denis',\n",
       " \"O'Driscoll, Miss. Bridget\",\n",
       " 'Samaan, Mr. Youssef',\n",
       " 'Arnold-Franchi, Mrs. Josef (Josefine Franchi)',\n",
       " 'Panula, Master. Juha Niilo',\n",
       " 'Nosworthy, Mr. Richard Cater',\n",
       " 'Harper, Mrs. Henry Sleeper (Myna Haxtun)',\n",
       " 'Faunthorpe, Mrs. Lizzie (Elizabeth Anne Wilkinson)',\n",
       " 'Ostby, Mr. Engelhart Cornelius',\n",
       " 'Woolner, Mr. Hugh',\n",
       " 'Rugg, Miss. Emily',\n",
       " 'Novel, Mr. Mansouer',\n",
       " 'West, Miss. Constance Mirium',\n",
       " 'Goodwin, Master. William Frederick',\n",
       " 'Sirayanian, Mr. Orsen',\n",
       " 'Icard, Miss. Amelie',\n",
       " 'Harris, Mr. Henry Birkhardt',\n",
       " 'Skoog, Master. Harald',\n",
       " 'Stewart, Mr. Albert A',\n",
       " 'Moubarek, Master. Gerios',\n",
       " 'Nye, Mrs. (Elizabeth Ramell)',\n",
       " 'Crease, Mr. Ernest James',\n",
       " 'Andersson, Miss. Erna Alexandra',\n",
       " 'Kink, Mr. Vincenz',\n",
       " 'Jenkin, Mr. Stephen Curnow',\n",
       " 'Goodwin, Miss. Lillian Amy',\n",
       " 'Hood, Mr. Ambrose Jr',\n",
       " 'Chronopoulos, Mr. Apostolos',\n",
       " 'Bing, Mr. Lee',\n",
       " 'Moen, Mr. Sigurd Hansen',\n",
       " 'Staneff, Mr. Ivan',\n",
       " 'Moutal, Mr. Rahamin Haim',\n",
       " 'Caldwell, Master. Alden Gates',\n",
       " 'Dowdell, Miss. Elizabeth',\n",
       " 'Waelens, Mr. Achille',\n",
       " 'Sheerlinck, Mr. Jan Baptist',\n",
       " 'McDermott, Miss. Brigdet Delia',\n",
       " 'Carrau, Mr. Francisco M',\n",
       " 'Ilett, Miss. Bertha',\n",
       " 'Backstrom, Mrs. Karl Alfred (Maria Mathilda Gustafsson)',\n",
       " 'Ford, Mr. William Neal',\n",
       " 'Slocovski, Mr. Selman Francis',\n",
       " 'Fortune, Miss. Mabel Helen',\n",
       " 'Celotti, Mr. Francesco',\n",
       " 'Christmann, Mr. Emil',\n",
       " 'Andreasson, Mr. Paul Edvin',\n",
       " 'Chaffee, Mr. Herbert Fuller',\n",
       " 'Dean, Mr. Bertram Frank',\n",
       " 'Coxon, Mr. Daniel',\n",
       " 'Shorney, Mr. Charles Joseph',\n",
       " 'Goldschmidt, Mr. George B',\n",
       " 'Greenfield, Mr. William Bertram',\n",
       " 'Doling, Mrs. John T (Ada Julia Bone)',\n",
       " 'Kantor, Mr. Sinai',\n",
       " 'Petranec, Miss. Matilda',\n",
       " 'Petroff, Mr. Pastcho (\"Pentcho\")',\n",
       " 'White, Mr. Richard Frasar',\n",
       " 'Johansson, Mr. Gustaf Joel',\n",
       " 'Gustafsson, Mr. Anders Vilhelm',\n",
       " 'Mionoff, Mr. Stoytcho',\n",
       " 'Salkjelsvik, Miss. Anna Kristine',\n",
       " 'Moss, Mr. Albert Johan',\n",
       " 'Rekic, Mr. Tido',\n",
       " 'Moran, Miss. Bertha',\n",
       " 'Porter, Mr. Walter Chamberlain',\n",
       " 'Zabour, Miss. Hileni',\n",
       " 'Barton, Mr. David John',\n",
       " 'Jussila, Miss. Katriina',\n",
       " 'Attalah, Miss. Malake',\n",
       " 'Pekoniemi, Mr. Edvard',\n",
       " 'Connors, Mr. Patrick',\n",
       " 'Turpin, Mr. William John Robert',\n",
       " 'Baxter, Mr. Quigg Edmond',\n",
       " 'Andersson, Miss. Ellis Anna Maria',\n",
       " 'Hickman, Mr. Stanley George',\n",
       " 'Moore, Mr. Leonard Charles',\n",
       " 'Nasser, Mr. Nicholas',\n",
       " 'Webber, Miss. Susan',\n",
       " 'White, Mr. Percival Wayland',\n",
       " 'Nicola-Yarred, Master. Elias',\n",
       " 'McMahon, Mr. Martin',\n",
       " 'Madsen, Mr. Fridtjof Arne',\n",
       " 'Peter, Miss. Anna',\n",
       " 'Ekstrom, Mr. Johan',\n",
       " 'Drazenoic, Mr. Jozef',\n",
       " 'Coelho, Mr. Domingos Fernandeo',\n",
       " 'Robins, Mrs. Alexander A (Grace Charity Laury)',\n",
       " 'Weisz, Mrs. Leopold (Mathilde Francoise Pede)',\n",
       " 'Sobey, Mr. Samuel James Hayden',\n",
       " 'Richard, Mr. Emile',\n",
       " 'Newsom, Miss. Helen Monypeny',\n",
       " 'Futrelle, Mr. Jacques Heath',\n",
       " 'Osen, Mr. Olaf Elon',\n",
       " 'Giglio, Mr. Victor',\n",
       " 'Boulos, Mrs. Joseph (Sultana)',\n",
       " 'Nysten, Miss. Anna Sofia',\n",
       " 'Hakkarainen, Mrs. Pekka Pietari (Elin Matilda Dolck)',\n",
       " 'Burke, Mr. Jeremiah',\n",
       " 'Andrew, Mr. Edgardo Samuel',\n",
       " 'Nicholls, Mr. Joseph Charles',\n",
       " 'Andersson, Mr. August Edvard (\"Wennerstrom\")',\n",
       " 'Ford, Miss. Robina Maggie \"Ruby\"',\n",
       " 'Navratil, Mr. Michel (\"Louis M Hoffman\")',\n",
       " 'Byles, Rev. Thomas Roussel Davids',\n",
       " 'Bateman, Rev. Robert James',\n",
       " 'Pears, Mrs. Thomas (Edith Wearne)',\n",
       " 'Meo, Mr. Alfonzo',\n",
       " 'van Billiard, Mr. Austin Blyler',\n",
       " 'Olsen, Mr. Ole Martin',\n",
       " 'Williams, Mr. Charles Duane',\n",
       " 'Gilnagh, Miss. Katherine \"Katie\"',\n",
       " 'Corn, Mr. Harry',\n",
       " 'Smiljanic, Mr. Mile',\n",
       " 'Sage, Master. Thomas Henry',\n",
       " 'Cribb, Mr. John Hatfield',\n",
       " 'Watt, Mrs. James (Elizabeth \"Bessie\" Inglis Milne)',\n",
       " 'Bengtsson, Mr. John Viktor',\n",
       " 'Calic, Mr. Jovo',\n",
       " 'Panula, Master. Eino Viljami',\n",
       " 'Goldsmith, Master. Frank John William \"Frankie\"',\n",
       " 'Chibnall, Mrs. (Edith Martha Bowerman)',\n",
       " 'Skoog, Mrs. William (Anna Bernhardina Karlsson)',\n",
       " 'Baumann, Mr. John D',\n",
       " 'Ling, Mr. Lee',\n",
       " 'Van der hoef, Mr. Wyckoff',\n",
       " 'Rice, Master. Arthur',\n",
       " 'Johnson, Miss. Eleanor Ileen',\n",
       " 'Sivola, Mr. Antti Wilhelm',\n",
       " 'Smith, Mr. James Clinch',\n",
       " 'Klasen, Mr. Klas Albin',\n",
       " 'Lefebre, Master. Henry Forbes',\n",
       " 'Isham, Miss. Ann Elizabeth',\n",
       " 'Hale, Mr. Reginald',\n",
       " 'Leonard, Mr. Lionel',\n",
       " 'Sage, Miss. Constance Gladys',\n",
       " 'Pernot, Mr. Rene',\n",
       " 'Asplund, Master. Clarence Gustaf Hugo',\n",
       " 'Becker, Master. Richard F',\n",
       " 'Kink-Heilmann, Miss. Luise Gretchen',\n",
       " 'Rood, Mr. Hugh Roscoe',\n",
       " 'O\\'Brien, Mrs. Thomas (Johanna \"Hannah\" Godfrey)',\n",
       " 'Romaine, Mr. Charles Hallace (\"Mr C Rolmane\")',\n",
       " 'Bourke, Mr. John',\n",
       " 'Turcin, Mr. Stjepan',\n",
       " 'Pinsky, Mrs. (Rosa)',\n",
       " 'Carbines, Mr. William',\n",
       " 'Andersen-Jensen, Miss. Carla Christine Nielsine',\n",
       " 'Navratil, Master. Michel M',\n",
       " 'Brown, Mrs. James Joseph (Margaret Tobin)',\n",
       " 'Lurette, Miss. Elise',\n",
       " 'Mernagh, Mr. Robert',\n",
       " 'Olsen, Mr. Karl Siegwart Andreas',\n",
       " 'Madigan, Miss. Margaret \"Maggie\"',\n",
       " 'Yrois, Miss. Henriette (\"Mrs Harbeck\")',\n",
       " 'Vande Walle, Mr. Nestor Cyriel',\n",
       " 'Sage, Mr. Frederick',\n",
       " 'Johanson, Mr. Jakob Alfred',\n",
       " 'Youseff, Mr. Gerious',\n",
       " 'Cohen, Mr. Gurshon \"Gus\"',\n",
       " 'Strom, Miss. Telma Matilda',\n",
       " 'Backstrom, Mr. Karl Alfred',\n",
       " 'Albimona, Mr. Nassef Cassem',\n",
       " 'Carr, Miss. Helen \"Ellen\"',\n",
       " 'Blank, Mr. Henry',\n",
       " 'Ali, Mr. Ahmed',\n",
       " 'Cameron, Miss. Clear Annie',\n",
       " 'Perkin, Mr. John Henry',\n",
       " 'Givard, Mr. Hans Kristensen',\n",
       " 'Kiernan, Mr. Philip',\n",
       " 'Newell, Miss. Madeleine',\n",
       " 'Honkanen, Miss. Eliina',\n",
       " 'Jacobsohn, Mr. Sidney Samuel',\n",
       " 'Bazzani, Miss. Albina',\n",
       " 'Harris, Mr. Walter',\n",
       " 'Sunderland, Mr. Victor Francis',\n",
       " 'Bracken, Mr. James H',\n",
       " 'Green, Mr. George Henry',\n",
       " 'Nenkoff, Mr. Christo',\n",
       " 'Hoyt, Mr. Frederick Maxfield',\n",
       " 'Berglund, Mr. Karl Ivar Sven',\n",
       " 'Mellors, Mr. William John',\n",
       " 'Lovell, Mr. John Hall (\"Henry\")',\n",
       " 'Fahlstrom, Mr. Arne Jonas',\n",
       " 'Lefebre, Miss. Mathilde',\n",
       " 'Harris, Mrs. Henry Birkhardt (Irene Wallach)',\n",
       " 'Larsson, Mr. Bengt Edvin',\n",
       " 'Sjostedt, Mr. Ernst Adolf',\n",
       " 'Asplund, Miss. Lillian Gertrud',\n",
       " 'Leyson, Mr. Robert William Norman',\n",
       " 'Harknett, Miss. Alice Phoebe',\n",
       " 'Hold, Mr. Stephen',\n",
       " 'Collyer, Miss. Marjorie \"Lottie\"',\n",
       " 'Pengelly, Mr. Frederick William',\n",
       " 'Hunt, Mr. George Henry',\n",
       " 'Zabour, Miss. Thamine',\n",
       " 'Murphy, Miss. Katherine \"Kate\"',\n",
       " 'Coleridge, Mr. Reginald Charles',\n",
       " 'Maenpaa, Mr. Matti Alexanteri',\n",
       " 'Attalah, Mr. Sleiman',\n",
       " 'Minahan, Dr. William Edward',\n",
       " 'Lindahl, Miss. Agda Thorilda Viktoria',\n",
       " 'Hamalainen, Mrs. William (Anna)',\n",
       " 'Beckwith, Mr. Richard Leonard',\n",
       " 'Carter, Rev. Ernest Courtenay',\n",
       " 'Reed, Mr. James George',\n",
       " 'Strom, Mrs. Wilhelm (Elna Matilda Persson)',\n",
       " 'Stead, Mr. William Thomas',\n",
       " 'Lobb, Mr. William Arthur',\n",
       " 'Rosblom, Mrs. Viktor (Helena Wilhelmina)',\n",
       " 'Touma, Mrs. Darwis (Hanne Youssef Razi)',\n",
       " 'Thorne, Mrs. Gertrude Maybelle',\n",
       " 'Cherry, Miss. Gladys',\n",
       " 'Ward, Miss. Anna',\n",
       " 'Parrish, Mrs. (Lutie Davis)',\n",
       " 'Smith, Mr. Thomas',\n",
       " 'Asplund, Master. Edvin Rojj Felix',\n",
       " 'Taussig, Mr. Emil',\n",
       " 'Harrison, Mr. William',\n",
       " 'Henry, Miss. Delia',\n",
       " 'Reeves, Mr. David',\n",
       " 'Panula, Mr. Ernesti Arvid',\n",
       " 'Persson, Mr. Ernst Ulrik',\n",
       " 'Graham, Mrs. William Thompson (Edith Junkins)',\n",
       " 'Bissette, Miss. Amelia',\n",
       " 'Cairns, Mr. Alexander',\n",
       " 'Tornquist, Mr. William Henry',\n",
       " 'Mellinger, Mrs. (Elizabeth Anne Maidment)',\n",
       " 'Natsch, Mr. Charles H',\n",
       " 'Healy, Miss. Hanora \"Nora\"',\n",
       " 'Andrews, Miss. Kornelia Theodosia',\n",
       " 'Lindblom, Miss. Augusta Charlotta',\n",
       " 'Parkes, Mr. Francis \"Frank\"',\n",
       " 'Rice, Master. Eric',\n",
       " 'Abbott, Mrs. Stanton (Rosa Hunt)',\n",
       " 'Duane, Mr. Frank',\n",
       " 'Olsson, Mr. Nils Johan Goransson',\n",
       " 'de Pelsmaeker, Mr. Alfons',\n",
       " 'Dorking, Mr. Edward Arthur',\n",
       " 'Smith, Mr. Richard William',\n",
       " 'Stankovic, Mr. Ivan',\n",
       " 'de Mulder, Mr. Theodore',\n",
       " 'Naidenoff, Mr. Penko',\n",
       " 'Hosono, Mr. Masabumi',\n",
       " 'Connolly, Miss. Kate',\n",
       " 'Barber, Miss. Ellen \"Nellie\"',\n",
       " 'Bishop, Mrs. Dickinson H (Helen Walton)',\n",
       " 'Levy, Mr. Rene Jacques',\n",
       " 'Haas, Miss. Aloisia',\n",
       " 'Mineff, Mr. Ivan',\n",
       " 'Lewy, Mr. Ervin G',\n",
       " 'Hanna, Mr. Mansour',\n",
       " 'Allison, Miss. Helen Loraine',\n",
       " 'Saalfeld, Mr. Adolphe',\n",
       " 'Baxter, Mrs. James (Helene DeLaudeniere Chaput)',\n",
       " 'Kelly, Miss. Anna Katherine \"Annie Kate\"',\n",
       " 'McCoy, Mr. Bernard',\n",
       " 'Johnson, Mr. William Cahoone Jr',\n",
       " 'Keane, Miss. Nora A',\n",
       " 'Williams, Mr. Howard Hugh \"Harry\"',\n",
       " 'Allison, Master. Hudson Trevor',\n",
       " 'Fleming, Miss. Margaret',\n",
       " 'Penasco y Castellana, Mrs. Victor de Satode (Maria Josefa Perez de Soto y Vallejo)',\n",
       " 'Abelson, Mr. Samuel',\n",
       " 'Francatelli, Miss. Laura Mabel',\n",
       " 'Hays, Miss. Margaret Bechstein',\n",
       " 'Ryerson, Miss. Emily Borie',\n",
       " 'Lahtinen, Mrs. William (Anna Sylfven)',\n",
       " 'Hendekovic, Mr. Ignjac',\n",
       " 'Hart, Mr. Benjamin',\n",
       " 'Nilsson, Miss. Helmina Josefina',\n",
       " 'Kantor, Mrs. Sinai (Miriam Sternin)',\n",
       " 'Moraweck, Dr. Ernest',\n",
       " 'Wick, Miss. Mary Natalie',\n",
       " 'Spedden, Mrs. Frederic Oakley (Margaretta Corning Stone)',\n",
       " 'Dennis, Mr. Samuel',\n",
       " 'Danoff, Mr. Yoto',\n",
       " 'Slayter, Miss. Hilda Mary',\n",
       " 'Caldwell, Mrs. Albert Francis (Sylvia Mae Harbaugh)',\n",
       " 'Sage, Mr. George John Jr',\n",
       " 'Young, Miss. Marie Grice',\n",
       " 'Nysveen, Mr. Johan Hansen',\n",
       " 'Ball, Mrs. (Ada E Hall)',\n",
       " 'Goldsmith, Mrs. Frank John (Emily Alice Brown)',\n",
       " 'Hippach, Miss. Jean Gertrude',\n",
       " 'McCoy, Miss. Agnes',\n",
       " 'Partner, Mr. Austen',\n",
       " 'Graham, Mr. George Edward',\n",
       " 'Vander Planke, Mr. Leo Edmondus',\n",
       " 'Frauenthal, Mrs. Henry William (Clara Heinsheimer)',\n",
       " 'Denkoff, Mr. Mitto',\n",
       " 'Pears, Mr. Thomas Clinton',\n",
       " 'Burns, Miss. Elizabeth Margaret',\n",
       " 'Dahl, Mr. Karl Edwart',\n",
       " 'Blackwell, Mr. Stephen Weart',\n",
       " 'Navratil, Master. Edmond Roger',\n",
       " 'Fortune, Miss. Alice Elizabeth',\n",
       " 'Collander, Mr. Erik Gustaf',\n",
       " 'Sedgwick, Mr. Charles Frederick Waddington',\n",
       " 'Fox, Mr. Stanley Hubert',\n",
       " 'Brown, Miss. Amelia \"Mildred\"',\n",
       " 'Smith, Miss. Marion Elsie',\n",
       " 'Davison, Mrs. Thomas Henry (Mary E Finck)',\n",
       " 'Coutts, Master. William Loch \"William\"',\n",
       " 'Dimic, Mr. Jovan',\n",
       " 'Odahl, Mr. Nils Martin',\n",
       " 'Williams-Lambert, Mr. Fletcher Fellows',\n",
       " 'Elias, Mr. Tannous',\n",
       " 'Arnold-Franchi, Mr. Josef',\n",
       " 'Yousif, Mr. Wazli',\n",
       " 'Vanden Steen, Mr. Leo Peter',\n",
       " 'Bowerman, Miss. Elsie Edith',\n",
       " 'Funk, Miss. Annie Clemmer',\n",
       " 'McGovern, Miss. Mary',\n",
       " 'Mockler, Miss. Helen Mary \"Ellie\"',\n",
       " 'Skoog, Mr. Wilhelm',\n",
       " 'del Carlo, Mr. Sebastiano',\n",
       " 'Barbara, Mrs. (Catherine David)',\n",
       " 'Asim, Mr. Adola',\n",
       " \"O'Brien, Mr. Thomas\",\n",
       " 'Adahl, Mr. Mauritz Nils Martin',\n",
       " 'Warren, Mrs. Frank Manley (Anna Sophia Atkinson)',\n",
       " 'Moussa, Mrs. (Mantoura Boulos)',\n",
       " 'Jermyn, Miss. Annie',\n",
       " 'Aubart, Mme. Leontine Pauline',\n",
       " 'Harder, Mr. George Achilles',\n",
       " 'Wiklund, Mr. Jakob Alfred',\n",
       " 'Beavan, Mr. William Thomas',\n",
       " 'Ringhini, Mr. Sante',\n",
       " 'Palsson, Miss. Stina Viola',\n",
       " 'Meyer, Mrs. Edgar Joseph (Leila Saks)',\n",
       " 'Landergren, Miss. Aurora Adelia',\n",
       " 'Widener, Mr. Harry Elkins',\n",
       " 'Betros, Mr. Tannous',\n",
       " 'Gustafsson, Mr. Karl Gideon',\n",
       " 'Bidois, Miss. Rosalie',\n",
       " 'Nakid, Miss. Maria (\"Mary\")',\n",
       " 'Tikkanen, Mr. Juho',\n",
       " 'Holverson, Mrs. Alexander Oskar (Mary Aline Towner)',\n",
       " 'Plotcharsky, Mr. Vasil',\n",
       " 'Davies, Mr. Charles Henry',\n",
       " 'Goodwin, Master. Sidney Leonard',\n",
       " 'Buss, Miss. Kate',\n",
       " 'Sadlier, Mr. Matthew',\n",
       " 'Lehmann, Miss. Bertha',\n",
       " 'Carter, Mr. William Ernest',\n",
       " 'Jansson, Mr. Carl Olof',\n",
       " 'Gustafsson, Mr. Johan Birger',\n",
       " 'Newell, Miss. Marjorie',\n",
       " 'Sandstrom, Mrs. Hjalmar (Agnes Charlotta Bengtsson)',\n",
       " 'Johansson, Mr. Erik',\n",
       " 'Olsson, Miss. Elina',\n",
       " 'McKane, Mr. Peter David',\n",
       " 'Pain, Dr. Alfred',\n",
       " 'Trout, Mrs. William H (Jessie L)',\n",
       " 'Niskanen, Mr. Juha',\n",
       " 'Adams, Mr. John',\n",
       " 'Jussila, Miss. Mari Aina',\n",
       " 'Hakkarainen, Mr. Pekka Pietari',\n",
       " 'Oreskovic, Miss. Marija',\n",
       " 'Gale, Mr. Shadrach',\n",
       " 'Widegren, Mr. Carl/Charles Peter',\n",
       " 'Richards, Master. William Rowe',\n",
       " 'Birkeland, Mr. Hans Martin Monsen',\n",
       " 'Lefebre, Miss. Ida',\n",
       " 'Sdycoff, Mr. Todor',\n",
       " 'Hart, Mr. Henry',\n",
       " 'Minahan, Miss. Daisy E',\n",
       " 'Cunningham, Mr. Alfred Fleming',\n",
       " 'Sundman, Mr. Johan Julian',\n",
       " 'Meek, Mrs. Thomas (Annie Louise Rowley)',\n",
       " 'Drew, Mrs. James Vivian (Lulu Thorne Christian)',\n",
       " 'Silven, Miss. Lyyli Karoliina',\n",
       " 'Matthews, Mr. William John',\n",
       " 'Van Impe, Miss. Catharina',\n",
       " 'Gheorgheff, Mr. Stanio',\n",
       " 'Charters, Mr. David',\n",
       " 'Zimmerman, Mr. Leo',\n",
       " 'Danbom, Mrs. Ernst Gilbert (Anna Sigrid Maria Brogren)',\n",
       " 'Rosblom, Mr. Viktor Richard',\n",
       " 'Wiseman, Mr. Phillippe',\n",
       " 'Clarke, Mrs. Charles V (Ada Maria Winfield)',\n",
       " 'Phillips, Miss. Kate Florence (\"Mrs Kate Louise Phillips Marshall\")',\n",
       " 'Flynn, Mr. James',\n",
       " 'Pickard, Mr. Berk (Berk Trembisky)',\n",
       " 'Bjornstrom-Steffansson, Mr. Mauritz Hakan',\n",
       " 'Thorneycroft, Mrs. Percival (Florence Kate White)',\n",
       " 'Louch, Mrs. Charles Alexander (Alice Adelaide Slow)',\n",
       " 'Kallio, Mr. Nikolai Erland',\n",
       " 'Silvey, Mr. William Baird',\n",
       " 'Carter, Miss. Lucile Polk',\n",
       " 'Ford, Miss. Doolina Margaret \"Daisy\"',\n",
       " 'Richards, Mrs. Sidney (Emily Hocking)',\n",
       " 'Fortune, Mr. Mark',\n",
       " 'Kvillner, Mr. Johan Henrik Johannesson',\n",
       " 'Hart, Mrs. Benjamin (Esther Ada Bloomfield)',\n",
       " 'Hampe, Mr. Leon',\n",
       " 'Petterson, Mr. Johan Emil',\n",
       " 'Reynaldo, Ms. Encarnacion',\n",
       " 'Johannesen-Bratthammer, Mr. Bernt',\n",
       " 'Dodge, Master. Washington',\n",
       " 'Mellinger, Miss. Madeleine Violet',\n",
       " 'Seward, Mr. Frederic Kimber',\n",
       " 'Baclini, Miss. Marie Catherine',\n",
       " 'Peuchen, Major. Arthur Godfrey',\n",
       " 'West, Mr. Edwy Arthur',\n",
       " 'Hagland, Mr. Ingvald Olai Olsen',\n",
       " 'Foreman, Mr. Benjamin Laventall',\n",
       " 'Goldenberg, Mr. Samuel L',\n",
       " 'Peduzzi, Mr. Joseph',\n",
       " 'Jalsevac, Mr. Ivan',\n",
       " 'Millet, Mr. Francis Davis',\n",
       " 'Kenyon, Mrs. Frederick R (Marion)',\n",
       " 'Toomey, Miss. Ellen',\n",
       " \"O'Connor, Mr. Maurice\",\n",
       " 'Anderson, Mr. Harry',\n",
       " 'Morley, Mr. William',\n",
       " 'Gee, Mr. Arthur H',\n",
       " 'Milling, Mr. Jacob Christian',\n",
       " 'Maisner, Mr. Simon',\n",
       " 'Goncalves, Mr. Manuel Estanslas',\n",
       " 'Campbell, Mr. William',\n",
       " 'Smart, Mr. John Montgomery',\n",
       " 'Scanlan, Mr. James',\n",
       " 'Baclini, Miss. Helene Barbara',\n",
       " 'Keefe, Mr. Arthur',\n",
       " 'Cacic, Mr. Luka',\n",
       " 'West, Mrs. Edwy Arthur (Ada Mary Worth)',\n",
       " 'Jerwan, Mrs. Amin S (Marie Marthe Thuillard)',\n",
       " 'Strandberg, Miss. Ida Sofia',\n",
       " 'Clifford, Mr. George Quincy',\n",
       " 'Renouf, Mr. Peter Henry',\n",
       " 'Braund, Mr. Lewis Richard',\n",
       " 'Karlsson, Mr. Nils August',\n",
       " 'Hirvonen, Miss. Hildur E',\n",
       " 'Goodwin, Master. Harold Victor',\n",
       " 'Frost, Mr. Anthony Wood \"Archie\"',\n",
       " 'Rouse, Mr. Richard Henry',\n",
       " 'Turkula, Mrs. (Hedwig)',\n",
       " 'Bishop, Mr. Dickinson H',\n",
       " 'Lefebre, Miss. Jeannie',\n",
       " 'Hoyt, Mrs. Frederick Maxfield (Jane Anne Forby)',\n",
       " 'Kent, Mr. Edward Austin',\n",
       " 'Somerton, Mr. Francis William',\n",
       " 'Coutts, Master. Eden Leslie \"Neville\"',\n",
       " 'Hagland, Mr. Konrad Mathias Reiersen',\n",
       " 'Windelov, Mr. Einar',\n",
       " 'Molson, Mr. Harry Markland',\n",
       " 'Artagaveytia, Mr. Ramon',\n",
       " 'Stanley, Mr. Edward Roland',\n",
       " 'Yousseff, Mr. Gerious',\n",
       " 'Eustis, Miss. Elizabeth Mussey',\n",
       " 'Shellard, Mr. Frederick William',\n",
       " 'Allison, Mrs. Hudson J C (Bessie Waldo Daniels)',\n",
       " 'Svensson, Mr. Olof',\n",
       " 'Calic, Mr. Petar',\n",
       " 'Canavan, Miss. Mary',\n",
       " \"O'Sullivan, Miss. Bridget Mary\",\n",
       " 'Laitinen, Miss. Kristina Sofia',\n",
       " 'Maioni, Miss. Roberta',\n",
       " 'Penasco y Castellana, Mr. Victor de Satode',\n",
       " 'Quick, Mrs. Frederick Charles (Jane Richards)',\n",
       " 'Bradley, Mr. George (\"George Arthur Brayton\")',\n",
       " 'Olsen, Mr. Henry Margido',\n",
       " 'Lang, Mr. Fang',\n",
       " 'Daly, Mr. Eugene Patrick',\n",
       " 'Webber, Mr. James',\n",
       " 'McGough, Mr. James Robert',\n",
       " 'Rothschild, Mrs. Martin (Elizabeth L. Barrett)',\n",
       " 'Coleff, Mr. Satio',\n",
       " 'Walker, Mr. William Anderson',\n",
       " 'Lemore, Mrs. (Amelia Milley)',\n",
       " 'Ryan, Mr. Patrick',\n",
       " 'Angle, Mrs. William A (Florence \"Mary\" Agnes Hughes)',\n",
       " 'Pavlovic, Mr. Stefo',\n",
       " 'Perreault, Miss. Anne',\n",
       " 'Vovk, Mr. Janko',\n",
       " 'Lahoud, Mr. Sarkis',\n",
       " 'Hippach, Mrs. Louis Albert (Ida Sophia Fischer)',\n",
       " 'Kassem, Mr. Fared',\n",
       " 'Farrell, Mr. James',\n",
       " 'Ridsdale, Miss. Lucy',\n",
       " 'Farthing, Mr. John',\n",
       " 'Salonen, Mr. Johan Werner',\n",
       " 'Hocking, Mr. Richard George',\n",
       " 'Quick, Miss. Phyllis May',\n",
       " 'Toufik, Mr. Nakli',\n",
       " 'Elias, Mr. Joseph Jr',\n",
       " 'Peter, Mrs. Catherine (Catherine Rizk)',\n",
       " 'Cacic, Miss. Marija',\n",
       " 'Hart, Miss. Eva Miriam',\n",
       " 'Butt, Major. Archibald Willingham',\n",
       " 'LeRoy, Miss. Bertha',\n",
       " 'Risien, Mr. Samuel Beard',\n",
       " 'Frolicher, Miss. Hedwig Margaritha',\n",
       " 'Crosby, Miss. Harriet R',\n",
       " 'Andersson, Miss. Ingeborg Constanzia',\n",
       " 'Andersson, Miss. Sigrid Elisabeth',\n",
       " 'Beane, Mr. Edward',\n",
       " 'Douglas, Mr. Walter Donald',\n",
       " 'Nicholson, Mr. Arthur Ernest',\n",
       " 'Beane, Mrs. Edward (Ethel Clarke)',\n",
       " 'Padro y Manent, Mr. Julian',\n",
       " 'Goldsmith, Mr. Frank John',\n",
       " 'Davies, Master. John Morgan Jr',\n",
       " 'Thayer, Mr. John Borland Jr',\n",
       " 'Sharp, Mr. Percival James R',\n",
       " \"O'Brien, Mr. Timothy\",\n",
       " 'Leeni, Mr. Fahim (\"Philip Zenni\")',\n",
       " 'Ohman, Miss. Velin',\n",
       " 'Wright, Mr. George',\n",
       " 'Duff Gordon, Lady. (Lucille Christiana Sutherland) (\"Mrs Morgan\")',\n",
       " 'Robbins, Mr. Victor',\n",
       " 'Taussig, Mrs. Emil (Tillie Mandelbaum)',\n",
       " 'de Messemaeker, Mrs. Guillaume Joseph (Emma)',\n",
       " 'Morrow, Mr. Thomas Rowan',\n",
       " 'Sivic, Mr. Husein',\n",
       " 'Norman, Mr. Robert Douglas',\n",
       " 'Simmons, Mr. John',\n",
       " 'Meanwell, Miss. (Marion Ogden)',\n",
       " 'Davies, Mr. Alfred J',\n",
       " 'Stoytcheff, Mr. Ilia',\n",
       " 'Palsson, Mrs. Nils (Alma Cornelia Berglund)',\n",
       " 'Doharr, Mr. Tannous',\n",
       " 'Jonsson, Mr. Carl',\n",
       " 'Harris, Mr. George',\n",
       " 'Appleton, Mrs. Edward Dale (Charlotte Lamson)',\n",
       " 'Flynn, Mr. John Irwin (\"Irving\")',\n",
       " 'Kelly, Miss. Mary',\n",
       " 'Rush, Mr. Alfred George John',\n",
       " 'Patchett, Mr. George',\n",
       " 'Garside, Miss. Ethel',\n",
       " 'Silvey, Mrs. William Baird (Alice Munger)',\n",
       " 'Caram, Mrs. Joseph (Maria Elias)',\n",
       " 'Jussila, Mr. Eiriik',\n",
       " 'Christy, Miss. Julie Rachel',\n",
       " 'Thayer, Mrs. John Borland (Marian Longstreth Morris)',\n",
       " 'Downton, Mr. William James',\n",
       " 'Ross, Mr. John Hugo',\n",
       " 'Paulner, Mr. Uscher',\n",
       " 'Taussig, Miss. Ruth',\n",
       " 'Jarvis, Mr. John Denzil',\n",
       " 'Frolicher-Stehli, Mr. Maxmillian',\n",
       " 'Gilinski, Mr. Eliezer',\n",
       " 'Murdlin, Mr. Joseph',\n",
       " 'Rintamaki, Mr. Matti',\n",
       " 'Stephenson, Mrs. Walter Bertram (Martha Eustis)',\n",
       " 'Elsbury, Mr. William James',\n",
       " 'Bourke, Miss. Mary',\n",
       " 'Chapman, Mr. John Henry',\n",
       " 'Van Impe, Mr. Jean Baptiste',\n",
       " 'Leitch, Miss. Jessie Wills',\n",
       " 'Johnson, Mr. Alfred',\n",
       " 'Boulos, Mr. Hanna',\n",
       " 'Duff Gordon, Sir. Cosmo Edmund (\"Mr Morgan\")',\n",
       " 'Jacobsohn, Mrs. Sidney Samuel (Amy Frances Christy)',\n",
       " 'Slabenoff, Mr. Petco',\n",
       " 'Harrington, Mr. Charles H',\n",
       " 'Torber, Mr. Ernst William',\n",
       " 'Homer, Mr. Harry (\"Mr E Haven\")',\n",
       " 'Lindell, Mr. Edvard Bengtsson',\n",
       " 'Karaic, Mr. Milan',\n",
       " 'Daniel, Mr. Robert Williams',\n",
       " 'Laroche, Mrs. Joseph (Juliette Marie Louise Lafargue)',\n",
       " 'Shutes, Miss. Elizabeth W',\n",
       " 'Andersson, Mrs. Anders Johan (Alfrida Konstantia Brogren)',\n",
       " 'Jardin, Mr. Jose Neto',\n",
       " 'Murphy, Miss. Margaret Jane',\n",
       " 'Horgan, Mr. John',\n",
       " 'Brocklebank, Mr. William Alfred',\n",
       " 'Herman, Miss. Alice',\n",
       " 'Danbom, Mr. Ernst Gilbert',\n",
       " 'Lobb, Mrs. William Arthur (Cordelia K Stanlick)',\n",
       " 'Becker, Miss. Marion Louise',\n",
       " 'Gavey, Mr. Lawrence',\n",
       " 'Yasbeck, Mr. Antoni',\n",
       " 'Kimball, Mr. Edwin Nelson Jr',\n",
       " 'Nakid, Mr. Sahid',\n",
       " 'Hansen, Mr. Henry Damsgaard',\n",
       " 'Bowen, Mr. David John \"Dai\"',\n",
       " 'Sutton, Mr. Frederick',\n",
       " 'Kirkland, Rev. Charles Leonard',\n",
       " 'Longley, Miss. Gretchen Fiske',\n",
       " 'Bostandyeff, Mr. Guentcho',\n",
       " \"O'Connell, Mr. Patrick D\",\n",
       " 'Barkworth, Mr. Algernon Henry Wilson',\n",
       " 'Lundahl, Mr. Johan Svensson',\n",
       " 'Stahelin-Maeglin, Dr. Max',\n",
       " 'Parr, Mr. William Henry Marsh',\n",
       " 'Skoog, Miss. Mabel',\n",
       " 'Davis, Miss. Mary',\n",
       " 'Leinonen, Mr. Antti Gustaf',\n",
       " 'Collyer, Mr. Harvey',\n",
       " 'Panula, Mrs. Juha (Maria Emilia Ojala)',\n",
       " 'Thorneycroft, Mr. Percival',\n",
       " 'Jensen, Mr. Hans Peder',\n",
       " 'Sagesser, Mlle. Emma',\n",
       " 'Skoog, Miss. Margit Elizabeth',\n",
       " 'Foo, Mr. Choong',\n",
       " 'Baclini, Miss. Eugenie',\n",
       " 'Harper, Mr. Henry Sleeper',\n",
       " 'Cor, Mr. Liudevit',\n",
       " 'Simonius-Blumer, Col. Oberst Alfons',\n",
       " 'Willey, Mr. Edward',\n",
       " 'Stanley, Miss. Amy Zillah Elsie',\n",
       " 'Mitkoff, Mr. Mito',\n",
       " 'Doling, Miss. Elsie',\n",
       " 'Kalvik, Mr. Johannes Halvorsen',\n",
       " 'O\\'Leary, Miss. Hanora \"Norah\"',\n",
       " 'Hegarty, Miss. Hanora \"Nora\"',\n",
       " 'Hickman, Mr. Leonard Mark',\n",
       " 'Radeff, Mr. Alexander',\n",
       " 'Bourke, Mrs. John (Catherine)',\n",
       " 'Eitemiller, Mr. George Floyd',\n",
       " 'Newell, Mr. Arthur Webster',\n",
       " 'Frauenthal, Dr. Henry William',\n",
       " 'Badt, Mr. Mohamed',\n",
       " 'Colley, Mr. Edward Pomeroy',\n",
       " 'Coleff, Mr. Peju',\n",
       " 'Lindqvist, Mr. Eino William',\n",
       " 'Hickman, Mr. Lewis',\n",
       " 'Butler, Mr. Reginald Fenton',\n",
       " 'Rommetvedt, Mr. Knud Paust',\n",
       " 'Cook, Mr. Jacob',\n",
       " 'Taylor, Mrs. Elmer Zebley (Juliet Cummins Wright)',\n",
       " 'Brown, Mrs. Thomas William Solomon (Elizabeth Catherine Ford)',\n",
       " 'Davidson, Mr. Thornton',\n",
       " 'Mitchell, Mr. Henry Michael',\n",
       " 'Wilhelms, Mr. Charles',\n",
       " 'Watson, Mr. Ennis Hastings',\n",
       " 'Edvardsson, Mr. Gustaf Hjalmar',\n",
       " 'Sawyer, Mr. Frederick Charles',\n",
       " 'Turja, Miss. Anna Sofia',\n",
       " 'Goodwin, Mrs. Frederick (Augusta Tyler)',\n",
       " 'Cardeza, Mr. Thomas Drake Martinez',\n",
       " 'Peters, Miss. Katie',\n",
       " 'Hassab, Mr. Hammad',\n",
       " 'Olsvigen, Mr. Thor Anderson',\n",
       " 'Goodwin, Mr. Charles Edward',\n",
       " 'Brown, Mr. Thomas William Solomon',\n",
       " 'Laroche, Mr. Joseph Philippe Lemercier',\n",
       " 'Panula, Mr. Jaako Arnold',\n",
       " 'Dakic, Mr. Branko',\n",
       " 'Fischer, Mr. Eberhard Thelander',\n",
       " 'Madill, Miss. Georgette Alexandra',\n",
       " 'Dick, Mr. Albert Adrian',\n",
       " 'Karun, Miss. Manca',\n",
       " 'Lam, Mr. Ali',\n",
       " 'Saad, Mr. Khalil',\n",
       " 'Weir, Col. John',\n",
       " 'Chapman, Mr. Charles Henry',\n",
       " 'Kelly, Mr. James',\n",
       " 'Mullens, Miss. Katherine \"Katie\"',\n",
       " 'Thayer, Mr. John Borland',\n",
       " 'Humblen, Mr. Adolf Mathias Nicolai Olsen',\n",
       " 'Astor, Mrs. John Jacob (Madeleine Talmadge Force)',\n",
       " 'Silverthorne, Mr. Spencer Victor',\n",
       " 'Barbara, Miss. Saiide',\n",
       " 'Gallagher, Mr. Martin',\n",
       " 'Hansen, Mr. Henrik Juul',\n",
       " 'Morley, Mr. Henry Samuel (\"Mr Henry Marshall\")',\n",
       " 'Kelly, Mrs. Florence \"Fannie\"',\n",
       " 'Calderhead, Mr. Edward Pennington',\n",
       " 'Cleaver, Miss. Alice',\n",
       " 'Moubarek, Master. Halim Gonios (\"William George\")',\n",
       " 'Mayne, Mlle. Berthe Antonine (\"Mrs de Villiers\")',\n",
       " 'Klaber, Mr. Herman',\n",
       " 'Taylor, Mr. Elmer Zebley',\n",
       " 'Larsson, Mr. August Viktor',\n",
       " 'Greenberg, Mr. Samuel',\n",
       " 'Soholt, Mr. Peter Andreas Lauritz Andersen',\n",
       " 'Endres, Miss. Caroline Louise',\n",
       " 'Troutt, Miss. Edwina Celia \"Winnie\"',\n",
       " 'McEvoy, Mr. Michael',\n",
       " 'Johnson, Mr. Malkolm Joackim',\n",
       " 'Harper, Miss. Annie Jessie \"Nina\"',\n",
       " 'Jensen, Mr. Svend Lauritz',\n",
       " 'Gillespie, Mr. William Henry',\n",
       " 'Hodges, Mr. Henry Price',\n",
       " 'Chambers, Mr. Norman Campbell',\n",
       " 'Oreskovic, Mr. Luka',\n",
       " 'Renouf, Mrs. Peter Henry (Lillian Jefferys)',\n",
       " 'Mannion, Miss. Margareth',\n",
       " 'Bryhl, Mr. Kurt Arnold Gottfrid',\n",
       " 'Ilmakangas, Miss. Pieta Sofia',\n",
       " 'Allen, Miss. Elisabeth Walton',\n",
       " 'Hassan, Mr. Houssein G N',\n",
       " 'Knight, Mr. Robert J',\n",
       " 'Berriman, Mr. William John',\n",
       " 'Troupiansky, Mr. Moses Aaron',\n",
       " 'Williams, Mr. Leslie',\n",
       " 'Ford, Mrs. Edward (Margaret Ann Watson)',\n",
       " 'Lesurer, Mr. Gustave J',\n",
       " 'Ivanoff, Mr. Kanio',\n",
       " 'Nankoff, Mr. Minko',\n",
       " 'Hawksford, Mr. Walter James',\n",
       " 'Cavendish, Mr. Tyrell William',\n",
       " 'Ryerson, Miss. Susan Parker \"Suzette\"',\n",
       " 'McNamee, Mr. Neal',\n",
       " 'Stranden, Mr. Juho',\n",
       " 'Crosby, Capt. Edward Gifford',\n",
       " 'Abbott, Mr. Rossmore Edward',\n",
       " 'Sinkkonen, Miss. Anna',\n",
       " 'Marvin, Mr. Daniel Warner',\n",
       " 'Connaghton, Mr. Michael',\n",
       " 'Wells, Miss. Joan',\n",
       " 'Moor, Master. Meier',\n",
       " 'Vande Velde, Mr. Johannes Joseph',\n",
       " 'Jonkoff, Mr. Lalio',\n",
       " 'Herman, Mrs. Samuel (Jane Laver)',\n",
       " 'Hamalainen, Master. Viljo',\n",
       " 'Carlsson, Mr. August Sigfrid',\n",
       " 'Bailey, Mr. Percy Andrew',\n",
       " 'Theobald, Mr. Thomas Leonard',\n",
       " 'Rothes, the Countess. of (Lucy Noel Martha Dyer-Edwards)',\n",
       " 'Garfirth, Mr. John',\n",
       " 'Nirva, Mr. Iisakki Antino Aijo',\n",
       " 'Barah, Mr. Hanna Assi',\n",
       " 'Carter, Mrs. William Ernest (Lucile Polk)',\n",
       " 'Eklund, Mr. Hans Linus',\n",
       " 'Hogeboom, Mrs. John C (Anna Andrews)',\n",
       " 'Brewe, Dr. Arthur Jackson',\n",
       " 'Mangan, Miss. Mary',\n",
       " 'Moran, Mr. Daniel J',\n",
       " 'Gronnestad, Mr. Daniel Danielsen',\n",
       " 'Lievens, Mr. Rene Aime',\n",
       " 'Jensen, Mr. Niels Peder',\n",
       " 'Mack, Mrs. (Mary)',\n",
       " 'Elias, Mr. Dibo',\n",
       " 'Hocking, Mrs. Elizabeth (Eliza Needs)',\n",
       " 'Myhrman, Mr. Pehr Fabian Oliver Malkolm',\n",
       " 'Tobin, Mr. Roger',\n",
       " 'Emanuel, Miss. Virginia Ethel',\n",
       " 'Kilgannon, Mr. Thomas J',\n",
       " 'Robert, Mrs. Edward Scott (Elisabeth Walton McMillan)',\n",
       " 'Ayoub, Miss. Banoura',\n",
       " 'Dick, Mrs. Albert Adrian (Vera Gillespie)',\n",
       " 'Long, Mr. Milton Clyde',\n",
       " 'Johnston, Mr. Andrew G',\n",
       " 'Ali, Mr. William',\n",
       " 'Harmer, Mr. Abraham (David Lishin)',\n",
       " 'Sjoblom, Miss. Anna Sofia',\n",
       " 'Rice, Master. George Hugh',\n",
       " 'Dean, Master. Bertram Vere',\n",
       " 'Guggenheim, Mr. Benjamin',\n",
       " 'Keane, Mr. Andrew \"Andy\"',\n",
       " 'Gaskell, Mr. Alfred',\n",
       " 'Sage, Miss. Stella Anna',\n",
       " 'Hoyt, Mr. William Fisher',\n",
       " 'Dantcheff, Mr. Ristiu',\n",
       " 'Otter, Mr. Richard',\n",
       " 'Leader, Dr. Alice (Farnham)',\n",
       " 'Osman, Mrs. Mara',\n",
       " 'Ibrahim Shawah, Mr. Yousseff',\n",
       " 'Van Impe, Mrs. Jean Baptiste (Rosalie Paula Govaert)',\n",
       " 'Ponesell, Mr. Martin',\n",
       " 'Collyer, Mrs. Harvey (Charlotte Annie Tate)',\n",
       " 'Carter, Master. William Thornton II',\n",
       " 'Thomas, Master. Assad Alexander',\n",
       " 'Hedman, Mr. Oskar Arvid',\n",
       " 'Johansson, Mr. Karl Johan',\n",
       " 'Andrews, Mr. Thomas Jr',\n",
       " 'Pettersson, Miss. Ellen Natalia',\n",
       " 'Meyer, Mr. August',\n",
       " 'Chambers, Mrs. Norman Campbell (Bertha Griggs)',\n",
       " 'Alexander, Mr. William',\n",
       " 'Lester, Mr. James',\n",
       " 'Slemen, Mr. Richard James',\n",
       " 'Andersson, Miss. Ebba Iris Alfrida',\n",
       " 'Tomlin, Mr. Ernest Portage',\n",
       " 'Fry, Mr. Richard',\n",
       " 'Heininen, Miss. Wendla Maria',\n",
       " 'Mallet, Mr. Albert',\n",
       " 'Holm, Mr. John Fredrik Alexander',\n",
       " 'Skoog, Master. Karl Thorsten',\n",
       " 'Hays, Mrs. Charles Melville (Clara Jennings Gregg)',\n",
       " 'Lulic, Mr. Nikola',\n",
       " 'Reuchlin, Jonkheer. John George',\n",
       " 'Moor, Mrs. (Beila)',\n",
       " 'Panula, Master. Urho Abraham',\n",
       " 'Flynn, Mr. John',\n",
       " 'Lam, Mr. Len',\n",
       " 'Mallet, Master. Andre',\n",
       " 'McCormack, Mr. Thomas Joseph',\n",
       " 'Stone, Mrs. George Nelson (Martha Evelyn)',\n",
       " 'Yasbeck, Mrs. Antoni (Selini Alexander)',\n",
       " 'Richards, Master. George Sibley',\n",
       " 'Saad, Mr. Amin',\n",
       " 'Augustsson, Mr. Albert',\n",
       " 'Allum, Mr. Owen George',\n",
       " 'Compton, Miss. Sara Rebecca',\n",
       " 'Pasic, Mr. Jakob',\n",
       " 'Sirota, Mr. Maurice',\n",
       " 'Chip, Mr. Chang',\n",
       " 'Marechal, Mr. Pierre',\n",
       " 'Alhomaki, Mr. Ilmari Rudolf',\n",
       " 'Mudd, Mr. Thomas Charles',\n",
       " 'Serepeca, Miss. Augusta',\n",
       " 'Lemberopolous, Mr. Peter L',\n",
       " 'Culumovic, Mr. Jeso',\n",
       " 'Abbing, Mr. Anthony',\n",
       " 'Sage, Mr. Douglas Bullen',\n",
       " 'Markoff, Mr. Marin',\n",
       " 'Harper, Rev. John',\n",
       " 'Goldenberg, Mrs. Samuel L (Edwiga Grabowska)',\n",
       " 'Andersson, Master. Sigvard Harald Elias',\n",
       " 'Svensson, Mr. Johan',\n",
       " 'Boulos, Miss. Nourelain',\n",
       " 'Lines, Miss. Mary Conover',\n",
       " 'Carter, Mrs. Ernest Courtenay (Lilian Hughes)',\n",
       " 'Aks, Mrs. Sam (Leah Rosen)',\n",
       " 'Wick, Mrs. George Dennick (Mary Hitchcock)',\n",
       " 'Daly, Mr. Peter Denis ',\n",
       " 'Baclini, Mrs. Solomon (Latifa Qurban)',\n",
       " 'Razi, Mr. Raihed',\n",
       " 'Hansen, Mr. Claus Peter',\n",
       " 'Giles, Mr. Frederick Edward',\n",
       " 'Swift, Mrs. Frederick Joel (Margaret Welles Barron)',\n",
       " 'Sage, Miss. Dorothy Edith \"Dolly\"',\n",
       " 'Gill, Mr. John William',\n",
       " 'Bystrom, Mrs. (Karolina)',\n",
       " 'Duran y More, Miss. Asuncion',\n",
       " 'Roebling, Mr. Washington Augustus II',\n",
       " 'van Melkebeke, Mr. Philemon',\n",
       " 'Johnson, Master. Harold Theodor',\n",
       " 'Balkic, Mr. Cerin',\n",
       " 'Beckwith, Mrs. Richard Leonard (Sallie Monypeny)',\n",
       " 'Carlsson, Mr. Frans Olof',\n",
       " 'Vander Cruyssen, Mr. Victor',\n",
       " 'Abelson, Mrs. Samuel (Hannah Wizosky)',\n",
       " 'Najib, Miss. Adele Kiamie \"Jane\"',\n",
       " 'Gustafsson, Mr. Alfred Ossian',\n",
       " 'Petroff, Mr. Nedelio',\n",
       " 'Laleff, Mr. Kristo',\n",
       " 'Potter, Mrs. Thomas Jr (Lily Alexenia Wilson)',\n",
       " 'Shelley, Mrs. William (Imanita Parrish Hall)',\n",
       " 'Markun, Mr. Johann',\n",
       " 'Dahlberg, Miss. Gerda Ulrika',\n",
       " 'Banfield, Mr. Frederick James',\n",
       " 'Sutehall, Mr. Henry Jr',\n",
       " 'Rice, Mrs. William (Margaret Norton)',\n",
       " 'Montvila, Rev. Juozas',\n",
       " 'Graham, Miss. Margaret Edith',\n",
       " 'Johnston, Miss. Catherine Helen \"Carrie\"',\n",
       " 'Behr, Mr. Karl Howell',\n",
       " 'Dooley, Mr. Patrick']"
      ]
     },
     "execution_count": 153,
     "metadata": {},
     "output_type": "execute_result"
    }
   ],
   "source": [
    "data['Name'].tolist()"
   ]
  },
  {
   "cell_type": "markdown",
   "metadata": {},
   "source": [
    "### Podemos executar rotinas semelhantes ou iguais ao numpy:"
   ]
  },
  {
   "cell_type": "code",
   "execution_count": 154,
   "metadata": {},
   "outputs": [
    {
     "data": {
      "text/html": [
       "<div>\n",
       "<style scoped>\n",
       "    .dataframe tbody tr th:only-of-type {\n",
       "        vertical-align: middle;\n",
       "    }\n",
       "\n",
       "    .dataframe tbody tr th {\n",
       "        vertical-align: top;\n",
       "    }\n",
       "\n",
       "    .dataframe thead th {\n",
       "        text-align: right;\n",
       "    }\n",
       "</style>\n",
       "<table border=\"1\" class=\"dataframe\">\n",
       "  <thead>\n",
       "    <tr style=\"text-align: right;\">\n",
       "      <th></th>\n",
       "      <th>0</th>\n",
       "      <th>1</th>\n",
       "      <th>2</th>\n",
       "      <th>3</th>\n",
       "      <th>4</th>\n",
       "      <th>5</th>\n",
       "      <th>6</th>\n",
       "      <th>7</th>\n",
       "      <th>8</th>\n",
       "      <th>9</th>\n",
       "      <th>...</th>\n",
       "      <th>881</th>\n",
       "      <th>882</th>\n",
       "      <th>883</th>\n",
       "      <th>884</th>\n",
       "      <th>885</th>\n",
       "      <th>886</th>\n",
       "      <th>887</th>\n",
       "      <th>888</th>\n",
       "      <th>889</th>\n",
       "      <th>890</th>\n",
       "    </tr>\n",
       "  </thead>\n",
       "  <tbody>\n",
       "    <tr>\n",
       "      <th>PassengerId</th>\n",
       "      <td>1</td>\n",
       "      <td>2</td>\n",
       "      <td>3</td>\n",
       "      <td>4</td>\n",
       "      <td>5</td>\n",
       "      <td>6</td>\n",
       "      <td>7</td>\n",
       "      <td>8</td>\n",
       "      <td>9</td>\n",
       "      <td>10</td>\n",
       "      <td>...</td>\n",
       "      <td>882</td>\n",
       "      <td>883</td>\n",
       "      <td>884</td>\n",
       "      <td>885</td>\n",
       "      <td>886</td>\n",
       "      <td>887</td>\n",
       "      <td>888</td>\n",
       "      <td>889</td>\n",
       "      <td>890</td>\n",
       "      <td>891</td>\n",
       "    </tr>\n",
       "    <tr>\n",
       "      <th>Survived</th>\n",
       "      <td>0</td>\n",
       "      <td>1</td>\n",
       "      <td>1</td>\n",
       "      <td>1</td>\n",
       "      <td>0</td>\n",
       "      <td>0</td>\n",
       "      <td>0</td>\n",
       "      <td>0</td>\n",
       "      <td>1</td>\n",
       "      <td>1</td>\n",
       "      <td>...</td>\n",
       "      <td>0</td>\n",
       "      <td>0</td>\n",
       "      <td>0</td>\n",
       "      <td>0</td>\n",
       "      <td>0</td>\n",
       "      <td>0</td>\n",
       "      <td>1</td>\n",
       "      <td>0</td>\n",
       "      <td>1</td>\n",
       "      <td>0</td>\n",
       "    </tr>\n",
       "    <tr>\n",
       "      <th>Pclass</th>\n",
       "      <td>3</td>\n",
       "      <td>1</td>\n",
       "      <td>3</td>\n",
       "      <td>1</td>\n",
       "      <td>3</td>\n",
       "      <td>3</td>\n",
       "      <td>1</td>\n",
       "      <td>3</td>\n",
       "      <td>3</td>\n",
       "      <td>2</td>\n",
       "      <td>...</td>\n",
       "      <td>3</td>\n",
       "      <td>3</td>\n",
       "      <td>2</td>\n",
       "      <td>3</td>\n",
       "      <td>3</td>\n",
       "      <td>2</td>\n",
       "      <td>1</td>\n",
       "      <td>3</td>\n",
       "      <td>1</td>\n",
       "      <td>3</td>\n",
       "    </tr>\n",
       "    <tr>\n",
       "      <th>Name</th>\n",
       "      <td>Braund, Mr. Owen Harris</td>\n",
       "      <td>Cumings, Mrs. John Bradley (Florence Briggs Th...</td>\n",
       "      <td>Heikkinen, Miss. Laina</td>\n",
       "      <td>Futrelle, Mrs. Jacques Heath (Lily May Peel)</td>\n",
       "      <td>Allen, Mr. William Henry</td>\n",
       "      <td>Moran, Mr. James</td>\n",
       "      <td>McCarthy, Mr. Timothy J</td>\n",
       "      <td>Palsson, Master. Gosta Leonard</td>\n",
       "      <td>Johnson, Mrs. Oscar W (Elisabeth Vilhelmina Berg)</td>\n",
       "      <td>Nasser, Mrs. Nicholas (Adele Achem)</td>\n",
       "      <td>...</td>\n",
       "      <td>Markun, Mr. Johann</td>\n",
       "      <td>Dahlberg, Miss. Gerda Ulrika</td>\n",
       "      <td>Banfield, Mr. Frederick James</td>\n",
       "      <td>Sutehall, Mr. Henry Jr</td>\n",
       "      <td>Rice, Mrs. William (Margaret Norton)</td>\n",
       "      <td>Montvila, Rev. Juozas</td>\n",
       "      <td>Graham, Miss. Margaret Edith</td>\n",
       "      <td>Johnston, Miss. Catherine Helen \"Carrie\"</td>\n",
       "      <td>Behr, Mr. Karl Howell</td>\n",
       "      <td>Dooley, Mr. Patrick</td>\n",
       "    </tr>\n",
       "    <tr>\n",
       "      <th>Sex</th>\n",
       "      <td>male</td>\n",
       "      <td>female</td>\n",
       "      <td>female</td>\n",
       "      <td>female</td>\n",
       "      <td>male</td>\n",
       "      <td>male</td>\n",
       "      <td>male</td>\n",
       "      <td>male</td>\n",
       "      <td>female</td>\n",
       "      <td>female</td>\n",
       "      <td>...</td>\n",
       "      <td>male</td>\n",
       "      <td>female</td>\n",
       "      <td>male</td>\n",
       "      <td>male</td>\n",
       "      <td>female</td>\n",
       "      <td>male</td>\n",
       "      <td>female</td>\n",
       "      <td>female</td>\n",
       "      <td>male</td>\n",
       "      <td>male</td>\n",
       "    </tr>\n",
       "    <tr>\n",
       "      <th>Age</th>\n",
       "      <td>22</td>\n",
       "      <td>38</td>\n",
       "      <td>26</td>\n",
       "      <td>35</td>\n",
       "      <td>35</td>\n",
       "      <td>NaN</td>\n",
       "      <td>54</td>\n",
       "      <td>2</td>\n",
       "      <td>27</td>\n",
       "      <td>14</td>\n",
       "      <td>...</td>\n",
       "      <td>33</td>\n",
       "      <td>22</td>\n",
       "      <td>28</td>\n",
       "      <td>25</td>\n",
       "      <td>39</td>\n",
       "      <td>27</td>\n",
       "      <td>19</td>\n",
       "      <td>NaN</td>\n",
       "      <td>26</td>\n",
       "      <td>32</td>\n",
       "    </tr>\n",
       "    <tr>\n",
       "      <th>SibSp</th>\n",
       "      <td>1</td>\n",
       "      <td>1</td>\n",
       "      <td>0</td>\n",
       "      <td>1</td>\n",
       "      <td>0</td>\n",
       "      <td>0</td>\n",
       "      <td>0</td>\n",
       "      <td>3</td>\n",
       "      <td>0</td>\n",
       "      <td>1</td>\n",
       "      <td>...</td>\n",
       "      <td>0</td>\n",
       "      <td>0</td>\n",
       "      <td>0</td>\n",
       "      <td>0</td>\n",
       "      <td>0</td>\n",
       "      <td>0</td>\n",
       "      <td>0</td>\n",
       "      <td>1</td>\n",
       "      <td>0</td>\n",
       "      <td>0</td>\n",
       "    </tr>\n",
       "    <tr>\n",
       "      <th>Parch</th>\n",
       "      <td>0</td>\n",
       "      <td>0</td>\n",
       "      <td>0</td>\n",
       "      <td>0</td>\n",
       "      <td>0</td>\n",
       "      <td>0</td>\n",
       "      <td>0</td>\n",
       "      <td>1</td>\n",
       "      <td>2</td>\n",
       "      <td>0</td>\n",
       "      <td>...</td>\n",
       "      <td>0</td>\n",
       "      <td>0</td>\n",
       "      <td>0</td>\n",
       "      <td>0</td>\n",
       "      <td>5</td>\n",
       "      <td>0</td>\n",
       "      <td>0</td>\n",
       "      <td>2</td>\n",
       "      <td>0</td>\n",
       "      <td>0</td>\n",
       "    </tr>\n",
       "    <tr>\n",
       "      <th>Ticket</th>\n",
       "      <td>A/5 21171</td>\n",
       "      <td>PC 17599</td>\n",
       "      <td>STON/O2. 3101282</td>\n",
       "      <td>113803</td>\n",
       "      <td>373450</td>\n",
       "      <td>330877</td>\n",
       "      <td>17463</td>\n",
       "      <td>349909</td>\n",
       "      <td>347742</td>\n",
       "      <td>237736</td>\n",
       "      <td>...</td>\n",
       "      <td>349257</td>\n",
       "      <td>7552</td>\n",
       "      <td>C.A./SOTON 34068</td>\n",
       "      <td>SOTON/OQ 392076</td>\n",
       "      <td>382652</td>\n",
       "      <td>211536</td>\n",
       "      <td>112053</td>\n",
       "      <td>W./C. 6607</td>\n",
       "      <td>111369</td>\n",
       "      <td>370376</td>\n",
       "    </tr>\n",
       "    <tr>\n",
       "      <th>Fare</th>\n",
       "      <td>7.25</td>\n",
       "      <td>71.2833</td>\n",
       "      <td>7.925</td>\n",
       "      <td>53.1</td>\n",
       "      <td>8.05</td>\n",
       "      <td>8.4583</td>\n",
       "      <td>51.8625</td>\n",
       "      <td>21.075</td>\n",
       "      <td>11.1333</td>\n",
       "      <td>30.0708</td>\n",
       "      <td>...</td>\n",
       "      <td>7.8958</td>\n",
       "      <td>10.5167</td>\n",
       "      <td>10.5</td>\n",
       "      <td>7.05</td>\n",
       "      <td>29.125</td>\n",
       "      <td>13</td>\n",
       "      <td>30</td>\n",
       "      <td>23.45</td>\n",
       "      <td>30</td>\n",
       "      <td>7.75</td>\n",
       "    </tr>\n",
       "    <tr>\n",
       "      <th>Cabin</th>\n",
       "      <td>NaN</td>\n",
       "      <td>C85</td>\n",
       "      <td>NaN</td>\n",
       "      <td>C123</td>\n",
       "      <td>NaN</td>\n",
       "      <td>NaN</td>\n",
       "      <td>E46</td>\n",
       "      <td>NaN</td>\n",
       "      <td>NaN</td>\n",
       "      <td>NaN</td>\n",
       "      <td>...</td>\n",
       "      <td>NaN</td>\n",
       "      <td>NaN</td>\n",
       "      <td>NaN</td>\n",
       "      <td>NaN</td>\n",
       "      <td>NaN</td>\n",
       "      <td>NaN</td>\n",
       "      <td>B42</td>\n",
       "      <td>NaN</td>\n",
       "      <td>C148</td>\n",
       "      <td>NaN</td>\n",
       "    </tr>\n",
       "    <tr>\n",
       "      <th>Embarked</th>\n",
       "      <td>S</td>\n",
       "      <td>C</td>\n",
       "      <td>S</td>\n",
       "      <td>S</td>\n",
       "      <td>S</td>\n",
       "      <td>Q</td>\n",
       "      <td>S</td>\n",
       "      <td>S</td>\n",
       "      <td>S</td>\n",
       "      <td>C</td>\n",
       "      <td>...</td>\n",
       "      <td>S</td>\n",
       "      <td>S</td>\n",
       "      <td>S</td>\n",
       "      <td>S</td>\n",
       "      <td>Q</td>\n",
       "      <td>S</td>\n",
       "      <td>S</td>\n",
       "      <td>S</td>\n",
       "      <td>C</td>\n",
       "      <td>Q</td>\n",
       "    </tr>\n",
       "  </tbody>\n",
       "</table>\n",
       "<p>12 rows × 891 columns</p>\n",
       "</div>"
      ],
      "text/plain": [
       "                                 0    \\\n",
       "PassengerId                        1   \n",
       "Survived                           0   \n",
       "Pclass                             3   \n",
       "Name         Braund, Mr. Owen Harris   \n",
       "Sex                             male   \n",
       "Age                               22   \n",
       "SibSp                              1   \n",
       "Parch                              0   \n",
       "Ticket                     A/5 21171   \n",
       "Fare                            7.25   \n",
       "Cabin                            NaN   \n",
       "Embarked                           S   \n",
       "\n",
       "                                                           1    \\\n",
       "PassengerId                                                  2   \n",
       "Survived                                                     1   \n",
       "Pclass                                                       1   \n",
       "Name         Cumings, Mrs. John Bradley (Florence Briggs Th...   \n",
       "Sex                                                     female   \n",
       "Age                                                         38   \n",
       "SibSp                                                        1   \n",
       "Parch                                                        0   \n",
       "Ticket                                                PC 17599   \n",
       "Fare                                                   71.2833   \n",
       "Cabin                                                      C85   \n",
       "Embarked                                                     C   \n",
       "\n",
       "                                2    \\\n",
       "PassengerId                       3   \n",
       "Survived                          1   \n",
       "Pclass                            3   \n",
       "Name         Heikkinen, Miss. Laina   \n",
       "Sex                          female   \n",
       "Age                              26   \n",
       "SibSp                             0   \n",
       "Parch                             0   \n",
       "Ticket             STON/O2. 3101282   \n",
       "Fare                          7.925   \n",
       "Cabin                           NaN   \n",
       "Embarked                          S   \n",
       "\n",
       "                                                      3    \\\n",
       "PassengerId                                             4   \n",
       "Survived                                                1   \n",
       "Pclass                                                  1   \n",
       "Name         Futrelle, Mrs. Jacques Heath (Lily May Peel)   \n",
       "Sex                                                female   \n",
       "Age                                                    35   \n",
       "SibSp                                                   1   \n",
       "Parch                                                   0   \n",
       "Ticket                                             113803   \n",
       "Fare                                                 53.1   \n",
       "Cabin                                                C123   \n",
       "Embarked                                                S   \n",
       "\n",
       "                                  4                 5    \\\n",
       "PassengerId                         5                 6   \n",
       "Survived                            0                 0   \n",
       "Pclass                              3                 3   \n",
       "Name         Allen, Mr. William Henry  Moran, Mr. James   \n",
       "Sex                              male              male   \n",
       "Age                                35               NaN   \n",
       "SibSp                               0                 0   \n",
       "Parch                               0                 0   \n",
       "Ticket                         373450            330877   \n",
       "Fare                             8.05            8.4583   \n",
       "Cabin                             NaN               NaN   \n",
       "Embarked                            S                 Q   \n",
       "\n",
       "                                 6                               7    \\\n",
       "PassengerId                        7                               8   \n",
       "Survived                           0                               0   \n",
       "Pclass                             1                               3   \n",
       "Name         McCarthy, Mr. Timothy J  Palsson, Master. Gosta Leonard   \n",
       "Sex                             male                            male   \n",
       "Age                               54                               2   \n",
       "SibSp                              0                               3   \n",
       "Parch                              0                               1   \n",
       "Ticket                         17463                          349909   \n",
       "Fare                         51.8625                          21.075   \n",
       "Cabin                            E46                             NaN   \n",
       "Embarked                           S                               S   \n",
       "\n",
       "                                                           8    \\\n",
       "PassengerId                                                  9   \n",
       "Survived                                                     1   \n",
       "Pclass                                                       3   \n",
       "Name         Johnson, Mrs. Oscar W (Elisabeth Vilhelmina Berg)   \n",
       "Sex                                                     female   \n",
       "Age                                                         27   \n",
       "SibSp                                                        0   \n",
       "Parch                                                        2   \n",
       "Ticket                                                  347742   \n",
       "Fare                                                   11.1333   \n",
       "Cabin                                                      NaN   \n",
       "Embarked                                                     S   \n",
       "\n",
       "                                             9    ...                 881  \\\n",
       "PassengerId                                   10  ...                 882   \n",
       "Survived                                       1  ...                   0   \n",
       "Pclass                                         2  ...                   3   \n",
       "Name         Nasser, Mrs. Nicholas (Adele Achem)  ...  Markun, Mr. Johann   \n",
       "Sex                                       female  ...                male   \n",
       "Age                                           14  ...                  33   \n",
       "SibSp                                          1  ...                   0   \n",
       "Parch                                          0  ...                   0   \n",
       "Ticket                                    237736  ...              349257   \n",
       "Fare                                     30.0708  ...              7.8958   \n",
       "Cabin                                        NaN  ...                 NaN   \n",
       "Embarked                                       C  ...                   S   \n",
       "\n",
       "                                      882                            883  \\\n",
       "PassengerId                           883                            884   \n",
       "Survived                                0                              0   \n",
       "Pclass                                  3                              2   \n",
       "Name         Dahlberg, Miss. Gerda Ulrika  Banfield, Mr. Frederick James   \n",
       "Sex                                female                           male   \n",
       "Age                                    22                             28   \n",
       "SibSp                                   0                              0   \n",
       "Parch                                   0                              0   \n",
       "Ticket                               7552               C.A./SOTON 34068   \n",
       "Fare                              10.5167                           10.5   \n",
       "Cabin                                 NaN                            NaN   \n",
       "Embarked                                S                              S   \n",
       "\n",
       "                                884                                   885  \\\n",
       "PassengerId                     885                                   886   \n",
       "Survived                          0                                     0   \n",
       "Pclass                            3                                     3   \n",
       "Name         Sutehall, Mr. Henry Jr  Rice, Mrs. William (Margaret Norton)   \n",
       "Sex                            male                                female   \n",
       "Age                              25                                    39   \n",
       "SibSp                             0                                     0   \n",
       "Parch                             0                                     5   \n",
       "Ticket              SOTON/OQ 392076                                382652   \n",
       "Fare                           7.05                                29.125   \n",
       "Cabin                           NaN                                   NaN   \n",
       "Embarked                          S                                     Q   \n",
       "\n",
       "                               886                           887  \\\n",
       "PassengerId                    887                           888   \n",
       "Survived                         0                             1   \n",
       "Pclass                           2                             1   \n",
       "Name         Montvila, Rev. Juozas  Graham, Miss. Margaret Edith   \n",
       "Sex                           male                        female   \n",
       "Age                             27                            19   \n",
       "SibSp                            0                             0   \n",
       "Parch                            0                             0   \n",
       "Ticket                      211536                        112053   \n",
       "Fare                            13                            30   \n",
       "Cabin                          NaN                           B42   \n",
       "Embarked                         S                             S   \n",
       "\n",
       "                                                  888                    889  \\\n",
       "PassengerId                                       889                    890   \n",
       "Survived                                            0                      1   \n",
       "Pclass                                              3                      1   \n",
       "Name         Johnston, Miss. Catherine Helen \"Carrie\"  Behr, Mr. Karl Howell   \n",
       "Sex                                            female                   male   \n",
       "Age                                               NaN                     26   \n",
       "SibSp                                               1                      0   \n",
       "Parch                                               2                      0   \n",
       "Ticket                                     W./C. 6607                 111369   \n",
       "Fare                                            23.45                     30   \n",
       "Cabin                                             NaN                   C148   \n",
       "Embarked                                            S                      C   \n",
       "\n",
       "                             890  \n",
       "PassengerId                  891  \n",
       "Survived                       0  \n",
       "Pclass                         3  \n",
       "Name         Dooley, Mr. Patrick  \n",
       "Sex                         male  \n",
       "Age                           32  \n",
       "SibSp                          0  \n",
       "Parch                          0  \n",
       "Ticket                    370376  \n",
       "Fare                        7.75  \n",
       "Cabin                        NaN  \n",
       "Embarked                       Q  \n",
       "\n",
       "[12 rows x 891 columns]"
      ]
     },
     "execution_count": 154,
     "metadata": {},
     "output_type": "execute_result"
    }
   ],
   "source": [
    "data.T"
   ]
  },
  {
   "cell_type": "markdown",
   "metadata": {},
   "source": [
    "## para salvar, as rotinas já estão dentro do proprio objeto dataframe:"
   ]
  },
  {
   "cell_type": "code",
   "execution_count": 155,
   "metadata": {},
   "outputs": [],
   "source": [
    "data.to_csv('titanic.csv',sep=',')"
   ]
  },
  {
   "cell_type": "code",
   "execution_count": 157,
   "metadata": {},
   "outputs": [
    {
     "name": "stdout",
     "output_type": "stream",
     "text": [
      "total 1832\r\n",
      "   0 drwxr-xr-x  10 walter  staff   320B Sep 28 11:46 \u001b[34m.\u001b[m\u001b[m\r\n",
      "   0 drwx------@ 33 walter  staff   1.0K Sep 27 22:38 \u001b[34m..\u001b[m\u001b[m\r\n",
      "  16 -rw-r--r--@  1 walter  staff   6.0K Sep 27 23:03 .DS_Store\r\n",
      "   0 drwxr-xr-x   4 walter  staff   128B Sep 28 10:21 \u001b[34m.ipynb_checkpoints\u001b[m\u001b[m\r\n",
      " 440 -rw-r--r--@  1 walter  staff   217K Sep 27 18:31 2020-Anaconda-Updated-AE-Datasheet_June2020.pdf\r\n",
      "1168 -rw-r--r--@  1 walter  staff   582K Sep 28 11:46 Aula 01- Crash Course Pandas.ipynb\r\n",
      "   8 -rw-r--r--   1 walter  staff   1.6K Sep 28 10:29 Untitled.ipynb\r\n",
      "   0 drwxr-xr-x@  5 walter  staff   160B Sep 27 22:39 \u001b[34mtitanic\u001b[m\u001b[m\r\n",
      " 128 -rw-r--r--@  1 walter  staff    64K Sep 28 11:48 titanic.csv\r\n",
      "  72 -rw-r--r--@  1 walter  staff    34K Sep 27 22:38 titanic.zip\r\n"
     ]
    }
   ],
   "source": [
    "!ls -hlas"
   ]
  },
  {
   "cell_type": "markdown",
   "metadata": {},
   "source": [
    "# O que fazer nesta semana:\n",
    "\n",
    "- Escolha um conjunto de dados, seja no Kaggle, seja seu próprio. Em caso de não possuir, podem fazer cadastro no Kaggle (se não fizeram) e obter os dados do Titanic (muito usado para aprendizado)\n",
    "\n",
    "- Importe o seu conjunto de dados, faça novamente o que viu nesta aula e explore as outras colunas por filtros que você tenha em mente sobre conjunto de dados analisado. \n",
    "\n",
    "\n",
    "## Na próxima aula, iremos trabalhar sobre rotinas de transformação deste conjunto de dados."
   ]
  },
  {
   "cell_type": "code",
   "execution_count": null,
   "metadata": {},
   "outputs": [],
   "source": []
  }
 ],
 "metadata": {
  "kernelspec": {
   "display_name": "Python 3",
   "language": "python",
   "name": "python3"
  },
  "language_info": {
   "codemirror_mode": {
    "name": "ipython",
    "version": 3
   },
   "file_extension": ".py",
   "mimetype": "text/x-python",
   "name": "python",
   "nbconvert_exporter": "python",
   "pygments_lexer": "ipython3",
   "version": "3.8.3"
  },
  "varInspector": {
   "cols": {
    "lenName": 16,
    "lenType": 16,
    "lenVar": 40
   },
   "kernels_config": {
    "python": {
     "delete_cmd_postfix": "",
     "delete_cmd_prefix": "del ",
     "library": "var_list.py",
     "varRefreshCmd": "print(var_dic_list())"
    },
    "r": {
     "delete_cmd_postfix": ") ",
     "delete_cmd_prefix": "rm(",
     "library": "var_list.r",
     "varRefreshCmd": "cat(var_dic_list()) "
    }
   },
   "position": {
    "height": "255px",
    "left": "1105px",
    "right": "20px",
    "top": "120px",
    "width": "315px"
   },
   "types_to_exclude": [
    "module",
    "function",
    "builtin_function_or_method",
    "instance",
    "_Feature"
   ],
   "window_display": false
  }
 },
 "nbformat": 4,
 "nbformat_minor": 4
}
